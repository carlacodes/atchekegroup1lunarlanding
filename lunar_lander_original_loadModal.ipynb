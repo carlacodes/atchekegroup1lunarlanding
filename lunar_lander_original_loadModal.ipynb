{
  "cells": [
    {
      "cell_type": "markdown",
      "metadata": {
        "id": "view-in-github",
        "colab_type": "text"
      },
      "source": [
        "<a href=\"https://colab.research.google.com/github/carlacodes/atchekegroup1lunarlanding/blob/Methyl/lunar_lander_original_loadModal.ipynb\" target=\"_parent\"><img src=\"https://colab.research.google.com/assets/colab-badge.svg\" alt=\"Open In Colab\"/></a>"
      ]
    },
    {
      "cell_type": "markdown",
      "metadata": {
        "id": "dYJyU3kOrmmu"
      },
      "source": [
        "### **Make sure you already have the model file in the same fold**"
      ]
    },
    {
      "cell_type": "markdown",
      "metadata": {
        "execution": {},
        "id": "Zfay58-vNjUm"
      },
      "source": [
        "---\n",
        "# Setup"
      ]
    },
    {
      "cell_type": "code",
      "execution_count": 1,
      "metadata": {
        "id": "ch1wvBeZNjUn",
        "tags": [],
        "colab": {
          "base_uri": "https://localhost:8080/"
        },
        "outputId": "6ad12e31-8757-4fac-bf6f-679e6def3b13"
      },
      "outputs": [
        {
          "output_type": "stream",
          "name": "stdout",
          "text": [
            "\u001b[K     |████████████████████████████████| 177 kB 5.4 MB/s \n",
            "\u001b[K     |████████████████████████████████| 1.6 MB 55.2 MB/s \n",
            "\u001b[K     |████████████████████████████████| 1.5 MB 39.3 MB/s \n",
            "\u001b[K     |████████████████████████████████| 1.1 MB 51.6 MB/s \n",
            "\u001b[?25h  Installing build dependencies ... \u001b[?25l\u001b[?25hdone\n",
            "  Getting requirements to build wheel ... \u001b[?25l\u001b[?25hdone\n",
            "    Preparing wheel metadata ... \u001b[?25l\u001b[?25hdone\n",
            "  Building wheel for gym (setup.py) ... \u001b[?25l\u001b[?25hdone\n",
            "  Building wheel for AutoROM.accept-rom-license (PEP 517) ... \u001b[?25l\u001b[?25hdone\n",
            "\u001b[K     |████████████████████████████████| 448 kB 5.3 MB/s \n",
            "\u001b[?25h"
          ]
        }
      ],
      "source": [
        "# @title Install dependencies\n",
        "!sudo apt-get update > /dev/null 2>&1\n",
        "!sudo apt-get install -y xvfb python-opengl ffmpeg > /dev/null 2>&1\n",
        "!pip install rarfile --quiet\n",
        "!pip install stable-baselines3[extra] ale-py==0.7.4 --quiet\n",
        "!pip install box2d-py --quiet\n",
        "!pip install gym pyvirtualdisplay --quiet\n",
        "!pip install pyglet --quiet"
      ]
    },
    {
      "cell_type": "code",
      "execution_count": 2,
      "metadata": {
        "id": "KxbqNNB5NjUp",
        "tags": []
      },
      "outputs": [],
      "source": [
        "# Imports\n",
        "import io\n",
        "import os\n",
        "import glob\n",
        "import torch\n",
        "import base64\n",
        "import stable_baselines3\n",
        "\n",
        "import numpy as np\n",
        "import matplotlib.pyplot as plt\n",
        "\n",
        "from stable_baselines3 import DQN\n",
        "from stable_baselines3.common.results_plotter import ts2xy, load_results\n",
        "from stable_baselines3.common.callbacks import EvalCallback\n",
        "from stable_baselines3.common.env_util import make_atari_env\n",
        "\n",
        "import gym\n",
        "from gym import spaces\n",
        "from gym.wrappers import Monitor"
      ]
    },
    {
      "cell_type": "code",
      "execution_count": 3,
      "metadata": {
        "cellView": "form",
        "id": "547J6GiXNjUq",
        "tags": []
      },
      "outputs": [],
      "source": [
        "# @title Plotting/Video functions\n",
        "from IPython.display import HTML\n",
        "from pyvirtualdisplay import Display\n",
        "from IPython import display as ipythondisplay\n",
        "\n",
        "display = Display(visible=0, size=(1400, 900))\n",
        "display.start()\n",
        "\n",
        "\"\"\"\n",
        "Utility functions to enable video recording of gym environment\n",
        "and displaying it.\n",
        "To enable video, just do \"env = wrap_env(env)\"\"\n",
        "\"\"\"\n",
        "\n",
        "def show_video():\n",
        "  mp4list = glob.glob('video/*.mp4')\n",
        "  if len(mp4list) > 0:\n",
        "    mp4 = mp4list[0]\n",
        "    video = io.open(mp4, 'r+b').read()\n",
        "    encoded = base64.b64encode(video)\n",
        "    ipythondisplay.display(HTML(data='''<video alt=\"test\" autoplay\n",
        "                loop controls style=\"height: 400px;\">\n",
        "                <source src=\"data:video/mp4;base64,{0}\" type=\"video/mp4\" />\n",
        "             </video>'''.format(encoded.decode('ascii'))))\n",
        "  else:\n",
        "    print(\"Could not find video\")\n",
        "\n",
        "\n",
        "def wrap_env(env):\n",
        "  env = Monitor(env, './video', force=True)\n",
        "  return env"
      ]
    },
    {
      "cell_type": "markdown",
      "metadata": {
        "execution": {},
        "id": "MsRWWxmoNjUu"
      },
      "source": [
        "---\n",
        "# Basic DQN Implementation\n"
      ]
    },
    {
      "cell_type": "markdown",
      "metadata": {
        "execution": {},
        "id": "KUxsB51DNjUw"
      },
      "source": [
        "Now, let us set some hyperparameters for our algorithm. This is the only part you would play around with, to solve the first part of the project. "
      ]
    },
    {
      "cell_type": "code",
      "execution_count": 4,
      "metadata": {
        "id": "INLPvBQVNjUx",
        "tags": []
      },
      "outputs": [],
      "source": [
        "nn_layers = [64,64] #This is the configuration of your neural network. Currently, we have two layers, each consisting of 64 neurons.\n",
        "                    #If you want three layers with 64 neurons each, set the value to [64,64,64] and so on.\n",
        "\n",
        "learning_rate = 0.001 #This is the step-size with which the gradient descent is carried out.\n",
        "                      #Tip: Use smaller step-sizes for larger networks."
      ]
    },
    {
      "cell_type": "markdown",
      "metadata": {
        "execution": {},
        "id": "os_eiIebNjUy"
      },
      "source": [
        "Now, let us setup our model and the DQN algorithm. "
      ]
    },
    {
      "cell_type": "code",
      "execution_count": 5,
      "metadata": {
        "id": "svGfm1ZMNjUz",
        "tags": []
      },
      "outputs": [],
      "source": [
        "log_dir = \"/tmp/gym/\"\n",
        "os.makedirs(log_dir, exist_ok=True)\n",
        "\n",
        "# Create environment\n",
        "env = gym.make('LunarLander-v2')\n",
        "#You can also load other environments like cartpole, MountainCar, Acrobot. Refer to https://gym.openai.com/docs/ for descriptions.\n",
        "#For example, if you would like to load Cartpole, just replace the above statement with \"env = gym.make('CartPole-v1')\".\n",
        "\n",
        "env = stable_baselines3.common.monitor.Monitor(env, log_dir )\n",
        "\n",
        "callback = EvalCallback(env,log_path = log_dir, deterministic=True) #For evaluating the performance of the agent periodically and logging the results.\n",
        "policy_kwargs = dict(activation_fn=torch.nn.ReLU,\n",
        "                     net_arch=nn_layers)\n",
        "\n",
        "model = DQN.load('dqn_1.pth', env = env)\n",
        "\n",
        "# You can also experiment with other RL algorithms like A2C, PPO, DDPG etc. Refer to  https://stable-baselines3.readthedocs.io/en/master/guide/examples.html\n",
        "#for documentation. For example, if you would like to run DDPG, just replace \"DQN\" above with \"DDPG\"."
      ]
    },
    {
      "cell_type": "markdown",
      "metadata": {
        "execution": {},
        "id": "j2U7Lf0dNjUz"
      },
      "source": [
        "Before we train the model, let us look at an instance of Lunar Lander **before training**.  \n",
        "\n",
        "**Note:** The following code for rendering the video is taken from https://colab.research.google.com/github/jeffheaton/t81_558_deep_learning/blob/master/t81_558_class_12_01_ai_gym.ipynb#scrollTo=T9RpF49oOsZj"
      ]
    },
    {
      "cell_type": "code",
      "execution_count": 6,
      "metadata": {
        "id": "Fq_JGajJNjU0",
        "outputId": "78ba29c6-aeeb-4bb2-fbea-abe0c5c03937",
        "tags": [],
        "colab": {
          "base_uri": "https://localhost:8080/",
          "height": 421
        }
      },
      "outputs": [
        {
          "output_type": "display_data",
          "data": {
            "text/plain": [
              "<IPython.core.display.HTML object>"
            ],
            "text/html": [
              "<video alt=\"test\" autoplay\n",
              "                loop controls style=\"height: 400px;\">\n",
              "                <source src=\"data:video/mp4;base64,AAAAIGZ0eXBpc29tAAACAGlzb21pc28yYXZjMW1wNDEAAAAIZnJlZQAAP4ttZGF0AAACrgYF//+q3EXpvebZSLeWLNgg2SPu73gyNjQgLSBjb3JlIDE1MiByMjg1NCBlOWE1OTAzIC0gSC4yNjQvTVBFRy00IEFWQyBjb2RlYyAtIENvcHlsZWZ0IDIwMDMtMjAxNyAtIGh0dHA6Ly93d3cudmlkZW9sYW4ub3JnL3gyNjQuaHRtbCAtIG9wdGlvbnM6IGNhYmFjPTEgcmVmPTMgZGVibG9jaz0xOjA6MCBhbmFseXNlPTB4MzoweDExMyBtZT1oZXggc3VibWU9NyBwc3k9MSBwc3lfcmQ9MS4wMDowLjAwIG1peGVkX3JlZj0xIG1lX3JhbmdlPTE2IGNocm9tYV9tZT0xIHRyZWxsaXM9MSA4eDhkY3Q9MSBjcW09MCBkZWFkem9uZT0yMSwxMSBmYXN0X3Bza2lwPTEgY2hyb21hX3FwX29mZnNldD0tMiB0aHJlYWRzPTMgbG9va2FoZWFkX3RocmVhZHM9MSBzbGljZWRfdGhyZWFkcz0wIG5yPTAgZGVjaW1hdGU9MSBpbnRlcmxhY2VkPTAgYmx1cmF5X2NvbXBhdD0wIGNvbnN0cmFpbmVkX2ludHJhPTAgYmZyYW1lcz0zIGJfcHlyYW1pZD0yIGJfYWRhcHQ9MSBiX2JpYXM9MCBkaXJlY3Q9MSB3ZWlnaHRiPTEgb3Blbl9nb3A9MCB3ZWlnaHRwPTIga2V5aW50PTI1MCBrZXlpbnRfbWluPTI1IHNjZW5lY3V0PTQwIGludHJhX3JlZnJlc2g9MCByY19sb29rYWhlYWQ9NDAgcmM9Y3JmIG1idHJlZT0xIGNyZj0yMy4wIHFjb21wPTAuNjAgcXBtaW49MCBxcG1heD02OSBxcHN0ZXA9NCBpcF9yYXRpbz0xLjQwIGFxPTE6MS4wMACAAAAHnGWIhAAz//727L4FNhTIUJcRLMXaSnA+KqSAgHc02r/DxT6sALbNSHbECevkgnuOrvEq6cFnpRLCqBdEmVc2slhn8NsBA7WJlRXXEgYdvHvMV/3R/MAGTkQPoi8RrUb77fX/hhjp8FS4XWtLCS5PG3Nul1vqegFZWpIrk/EOU9lPnSevwMEvccY3hDMLt5BTCOh5otVMXxVLLlv/seEYqpBlG9On+bMVHfwOS12rs7wGB5HK+P1QJ5zMmamNgzaftKCEcISfxzsN0x2Iet5G6NFoKWNm4ckD2VEvkKHOJOipHbLz3SRwfW21qA7HfYd7/u+kewaythjp95YOompZRSDRAAADAAADAEgGgfJR4L0SPWnnobQQgACjBaS4TDKigitDmEcHsN4co3SHF0BvALOz0LedBQscP9NqLaAuglBHlmmMk4C2s7EuK72nOcHjqcJ+dB1gXwxUnenxFTeK+lJGaSGrwfWUy905YLSnEFZEVVQita4psGLLFQEjcrcT2JhPVupWT+mJd852651ucWdcLPCRVAVS3qhQc10q0HXvQsbBs5BYL2apvzY8x6hcyfLCQ/We2jaKED0eg+pQu6BzxYiMgsoDi81czFz8VXHRh2X36StLjTlb9NXhlaMiLRPJRateEAemzYylxMqnatrRKREB8VzrIUA/xUISg63d3zqdwqBpwkIXNDxEY9uwSyAmZOmA20/0CZ98zCHJUC6AoQONM4TbfOSiArzx9SfpCfBkNFJhLF7Vj6I1wM0V1npAzmo3K5T3dcAQbGIUeG8ViO5nEQGxQ2PsmwRhKhmrqnY/MzorK6AQ1cU4mSpZNEZ0G8eeOjbRZTP/V8rd2OgLRA+8rkzH1LvX/cKWKGf4Gj5q8os4ZnT3hcgBHfyfgISRn2XhtBNCy/5+tcAUoQ9Pyi57XarS0I0zJ9P0nZyGorCzJaf29tuSGVrGjSceLdgUgK+fmrjBKVJ48Ms+zJcMzcEeljZ5FG4+tGh01z8Dc7Bar7JrR8neLkXTdCmV658GXxaxWLVt+V0dGjwYSO3i9Pddf4D0BE6tNfQNnXssYjiHG3pWS1hhglQAselID6UDjPvVej3yETCJPMdMGQ8UXyCH+gEa97vo14bKnCHCXJcvXh3zRZCJtqzfNWyYheopIiJcy+Am52X8hRvjDq5AacmlFb2SLEozpRsGfuACg8KLZFXNlSzIH7Nh9uCcKGq8Anu6dwJS4Vk10fw/3BU/x/NEz9d6KTny7/uScnYW9DWJ/3e1bJY3y8fsrnLbYjmQD5iA7Rr435v9WP5+Z/oSZnizc+9RxPVcOaN2zcPf0UCyvHNUGPSkU5rrEUYF/Ye4UHn13iDMC1BEnfj2mIt0YDklVSQdCFKvIcR+m98mnPFW2XDoE0YS4gMJsQwALiGbM9+EEg8ap5EAzSiKcFuMKAnkgrZ+0PfVlC01Baqv1uej3nDxdG1DbOUp/jaGEY8uC8Se16U8x8sa09sZH2Ek59xiS1mx+MFkgrELv6p/AOMQU25NGn9oTrC4cU6M/UG/5kTOr976qwWg0bi3lIP/Q5TuUY5PiH7iV/A91am2sU70vlXue5kFyYFGlNUbwbUkTdu+SoPbxxjD1JcAAsK8x6U+nFujYsRD0qL4wZtFPAcEstO6FYo8kcyqYHWKhw52jBxuGRQl+qUxrJskJZb7hgRkEFtUGEzYM7+D4eXJf/SXRT4d+CzQoGO7ZJk5NEkB6Xbnynjm284tFiz+MAWoYyphgbum9iQtpLR8sgyZunqN2wM7fhtp1xGsU30iCrOLIIboUfq5UAmF0Br3o+h+vo56DeGIpkX/jNYuvajd1ffhcZ2P///2m0KPo4BJOGYcy0gWqRbnmyM0toIKj4TEJpWMw8GBivLEBKZXkSIjgrFlFuqrI3FTbQUVhy83dL8ayUvSuY2//BdXQxOtsMEN6JKXy4fLCNQh6p6AlDmlFOKet3UIkjAqiN2QsI6n7OfJuIk/5t+mSxRAJFBeoAW8cDLnYVnn19OrhL9MsY+VtuMjnz5UE2uQ4seJI2S4KGAoSTR2LlCrAVxuN5VFSJ9mgqkb+xh57paRu0d8+T2lxEoFwPy9ZArg/zyKUyuQA8nmuvS30TIkNvxkVPvp0wUKwThObjnlInApMLP7oMlJuxJ6+CYBoQ7M5wRqKM1UnSHYk9cIuKu7NSDnkyacuf0ozwUFTCJ2UQooYcv3XZ9SENpJ39xM/n9KBCKwm1AzzWfSg1EEmAvMQQDlzSYXBt+s4K/xiDBN3dUfHhlLdNdEQhsMA5OWRkKo7ZoTZLiyduhAqong6Brs9szuo6IQ4pjuLiGVTtxYErxy49pjfYe58Z7tcmgs68Hud53jCYDNfN81zpLYe7knc6EvLOGKMDbcW5SHFT7LVtuVDehqOIsAAAr9b9oF5VtpHmAZ4lfAANRcvhSr2Uab/wUzrEa3r22Tw4UKi6EiWDUJg+wCcAtsn3Ee9pmPv2ZvTOm/jJmWSsJwE5rWcL520Lj9fagAGgAAGmkn+jtRivQaj5dLeVvmGeG0A8FSDwNPv1973S92uVQGJ2TxTOqXjibMx1boihnqynupoAAcgAAAZ0EAAAEgQZokbEM//p4tun+izu3ByxgAhtDB5e1h9KcKVkGu4k5VfA3Uaj4dcFfeTuD3jm+XljvRQkL2ssbnHta4RJzVUvVcem+FJsSmmCMAAAMAH8CrXUaJjhEE/t22pVLOk+hM7W5yt8Lro0XSKo6TejGEfa4hlgDO369CnNx1oEua2WAQh3RUZbIOXxJ6LlMSBSDAbiaIsjY0N2BbjfICr8zW83mTrZgMGbcZPwImDAckEELLFC+ezNVDlN5cF19Dio6o2cjMqOjOdj0gNiIb2FSG4k/bqBCKvLM61+2Gk8HuNBQZqzp4rSfRou5IR80SvbDePF8+mUJyl0wmjh95FZKp9W8S5YNSYNOy0qm19BOWp20NkQN45okh/dbT+5vubZ3gAAAAWUGeQniEfw9pY5ATuyys3D0eQCGlxA92xV4as2kCoct8i4OwjD+YocgAIKxha+ue78XxxzcnAe7E2YazKNGTMmlK1CSPp+AUT5efBpBA/n9TtCsHQL7a4UCBAAAARwGeYXRH/xSk6WGSVy/h3UuUXbTvLQz7O5oNBtAAWS5V4ZoBCB0hY8nuHnagX/k8X9dL11hyxuF8WjOPMcEgVlduDfAIADTcAAAASgGeY2pH/xT9WS5YCh4p0qgATJJkq5NpkinXUigbGwT2UHnkgAKxgmfnQdy6yxS7VMWMaKU8wCF2tDmiXKOVC/Va3OIdzqn8AAK3AAAAs0GaaEmoQWiZTAhn//6eIvmyWMAJ6ycAEN4X3mTcGO0vTfqLfBQYmR0z0jAF657c3fSRTjhPeLn8nStWjoo3ha9RvbdVDprEUlDHU58i0nuYJf3QAAADAE3j8erLpDAox6WArGflj/7vu1qVeLFoQSxpYxnYuTNTmM6wfMrkQLWZUz6mf8N14X+rv9igiRjcobF6l07FhJQ6Erki0lTbgfyv3PQzyhWg6H+Rs/APGiFOwMttAAAAUkGehkURLCP/DPmmFaIXw5ZisY1XHJkipACSCatTsyILF86IZCfF3nsh7AAftK+SnIcfkCBo7CopqWLMxrVVUmisRjyz7Wj1ikK85Dxs3hmE0kEAAAAyAZ6ldEf/Ejg4Zr3daCzLKKF+N8wQAO0orbn3OpY/0txO3S463OvqA6jtQRdIZDinfRcAAAA9AZ6nakf/EwOplwRvHM2517PKnbUcISacwAH65hh3v2O6BwIBmoAVTiYVseyVENJCeO3HZpXmAmSSD6AD0gAAAMRBmqxJqEFsmUwIX//+jMXSuqrT0VjgA4OHI6ix10zGeoLQmnisUNrw98nqCe2XE+0sEyWTSqKh8OW46tc5qbfw39YI7GHxctaSivd5yrAvkbCwcvq+GhbcqroS9rgeUVskX7jlaDe79LYVL0KcLgAAAwAQC5vRu/BK5FqJOY2byobqcf2cqwPfLMgBoTFvV07STvu2qaI5B/8gMPN0x4Ak5N4E7yeyQ2tONzaIg29jWLdO2j/TkqETX9PGd3JZxeA+0CZgAAAAVEGeykUVLCP/DdHMTRocHq34oAr0QWm5xgBXP4mGeE5T/9I7ABLzxwwQM76fTnWl53jaIWAAhhy9V+2LhEy4xr8wPFSogAkK0Hk6P9lrsCHxcSAD8wAAADIBnul0R/8S+sfeCHY1NtmKHmYF7kSr37PUfH6/AyHLG8AAupTIvRt5fptno9KUxphQwAAAAEoBnutqR/8S6QNrpsKrf+43PIJdtqa5sAAtfFDE1NVst61p2FgAWqEqSKr3y+DSfvY6vjRV8v0aNt0ViSWCy8x1wN3iI2/CNGOJuAAAAOlBmvBJqEFsmUwIX//+jMamX8PRsimz6boAih+MffFnZ4Wktl/3HjszGoYFg83usZy26/Bs6ld0lC/beY/aVt/1lpSzr1DJIMkwA0Fgs0V83PYqi/xAiF3gCXl/XZwlVX099KOmk1Xlkmy2ecWPgAAG2fVh17n6XjfJljOEOnc4JbkIrJq4UbF8f9X33sfPAs/M7LNoTnVNaL/w1rhjhF938RCGCwIbMcimErXH0TZzKauSG8AkgaTBsW/pc977tqmcf+aDb4ND2e+0Iy1HV8M+l6HdHXdjbq2suZLGN/a7WS9FUnGdObQHHQAAAHBBnw5FFSwj/w3wj36JMwIk1CNJTi3twVgAOMsUPpsScJMOUZbYWLswm6SADDDYqCpoyBe1epB0veH1NPpVthW/5SIJQwYTFJqHAWx8+MPHABR/ddfCfwYfjqfWFR9fPATulku/I4srSgZX6I/ygByxAAAASQGfLXRH/xMHs5B/l6i5KGGc83V3e+eG+rWGFSaHOACSASyyqeSmMspBoru0kGtWc2WAC1t8/xP2mmk8EzVySDOISyUphzyqQcEAAABIAZ8vakf/ExPO/B0L29T7W6LnNSE4BRVsubuM1Jo+Arn2FvpAT+AByIWlImEHL/7bsAAbEwTABObPmGdN9P1A6qr/e4dFgREXAAABY0GbNEmoQWyZTAhf//6Mxp8dOo8VwANrgOA9ACuJ/s9z5dn/5Bs5PEfZzT/KycoI0UYxMLAYt7n9ZR4X6F6D8GWflThsTdYQnkI4pWXRJpSXI5JNPKBNSKvNeu6yMipIEy1yjG25b+p3EuyWDfDG88Wl6K62hJre/6i/XGZ/HmWNbIRXjxCUmzFUatSE90yTEGQ8qg/ZMNYe6ER0AK1osf1/y8mqXTAngnLIAAANMO1rPrDuxJoBYNfP9gOVOZA72Moe6eW1HQW+vflnQ/mNmskyAdOIw9w2Ts3mLXOG4S3/ED78aTxVHQJenwLt8dcdnVHctce28SFktXIsYdCeQ/1J4kxeLwqb2//qDTcId7QcIkfsurWFPhUZpDvdtqWEupeOPif4G6eY8/s62v9FNiPN0q5WNClcRFBv0aE8EhcR4NASsu+brWSqDat9y6lWUs67ZI7p6lNcLIv8Ck0hopUAY0AAAAB7QZ9SRRUsI/8NszsAkAAlR4NsbwyAS+yUxoPNlxxAJ+pK8zprv1mCQFl5uPCH9eXhuoTHKIHvbdCTzLOEg7J4m/kOViCYu7p6CGbDgcXh7fu8gZRwOAEmvvD9AB2tx7HXIWNLouPkw0qD7qggpMBqAhAS+vgXDqwTdRCxAAAAVwGfcXRH/xdlAgCXTf0epE7f12sa0403rUzVTVoWGtiTr0qiaTWFVg61hfarVywEVao3bute+sG+feXVr4k0b48StveClLqJAAb0QBtPh4Xh3K/almeDmgAAAHkBn3NqR/8VVk0gB9h1Wmz411QHZGDHsgggLLAPYy0BAibG8XgQ/uByREWYwGZx/36wW2faGBRoeIvoUCtnkBSrbs3w8DC0x4+8BR8LxfDYqDWSB1FirOl80on9uTt5EgAONAjkc09jmullQ0fJORDTXkVuTNCrikLAAAABGEGbdkmoQWyZTBRML//+jMTQJhQCO9QALrJhfSQi7cNXaOJlGR/UNi1mwlUxylGS0E43vEHdk2PS+WKvJ8HW8/3wxIrCOHRlXYFYHBzR6f4P1IowAdFN91apVAAAAwKyk6p480nXo02RNUMtJWMvBLzpM0ESc7r/EhS32wUZzF0OzAcgtPPpbswjIK83ptIGmbY8/zHRXC0hwTLx2VjqD0L1nnhvMfZ/jB61mYIyj9BOvLYoGANmO79x77tqmnrp1mQr+TSLyVbMJSlERPnKoy5tO1588ls2fWmHKh3oKMh5k3tLo4W3kPNqiypYvemaHu9ouI6gQeDd7QlUFk14Nb0dRfpoQSJNQpLqyTyaOMJFHpjAyUWUBB0AAACpAZ+Vakf/FAJW44WnxgBGVhetbvndKl0e19iMrnL9IbGfFJbSAgwwG/DhNyksCcACmcSbxtTLTpBm0D4Ie9Gjf9OU2AWULuL2FwQHgbcgwVa3tog/I9WZQgsXOHJ846p6cBf7mrWstV3gbxPBFmuJ8QfophZFTGUVYiSllvw7jV32TCVSepsLp2k/RvIN9jwPAFb185S2Rrzs6kRARM8ww0KhzBeBwwBDwAAAARpBm5lJ4QpSZTAhf/6Mxr3tTBo6D/Asz+1HWG4TgIiPRp033yixa/1b/uex2L+jcHkorKEpwq262CHe/LJJ7ci9eKaGRQKd0SziZf75EI485z6uz9ugBguacERr1BXoNwLveA81I08GFlSKF5NQDDP67fXIw5zHqDoXeosLC1TkMxgXfQPcsX5rHW9Hwl7XE7oLBUQ4999Q1jdIrVgHApGa5ZI/5l9ag1pPA9Hx+WwoabQdVUZN2SjE5oYOLDgmX7WEvnEDFBLSsa+W9EHBZWh0qAjKs2YPK5UXQgG5lXo6lRolIM/MzqKDyDf7WcKJbashQMbIirAojF2zhIBlbR/rE8jY3oh5p0XY4dSV/zeaS5jILUaJXUkAHpEAAAC3QZ+3RTRMI/8Pr69gAtnPFB4oZ96QGYSLFLXSC3mLhAIqdsOiKF3zrGaW8m15qeBLCSkO6VCiv6kCeBJWR1+d0KdCnJMLxDbyR+1mm/9hcwGZi/RRA93kSKleVHC3LBIGJaE4HkPfxa26QgFFencmLxmIscPDKTuwn4kjVounEgF8FXLzmhtdG6l5MGqialE9+S/mcPGlWLVkCfKbZzLejEABKCS7ngaHJVhTNXEJizvw4NUkwIeBAAAAjgGf2GpH/xPz07RDZQsjKiNUAJXOX8G/JqRDQ4GrSw/mqrn6gZ6ngBGdmVdDLxNrJPlNV0UHSDyt9iqqyjL/tvk4Iq4Nz8ujCjMWaYlVMKmSg9oB3fGQ1A6rC8b7tg4Xoncc/0uIW8Hp+iFlUE2yMkAeONl3N/LLSeiymUqAhf4A1W2ADjxYVeMwz9uAhYAAAAENQZvbSahBaJlMFPDP/p4ZNp/q0fEcro0CE+n+YLRmIQA2PToGEOf0Y9N+9EeQWAfagrVyTwcQIOAACeN5oLiifzVKfIP78N1mdYpgAYIdF6Rva7wEe7C+0Cuo2bfWO0fDtNUvce6pMw21df1RqQEnTkDAypvL0GETP5jFY+ges97tqmtFTbhprn8Kg/NJ/aEMLeaN/rNX9Id3X6pakoYeQOHSg6+eqKKuD1wQIyRV+vcl5rJ3Nb6BJvenwmsXP3S69jcS2JOETQGwnAc15tnx7JAVYXoe134E8Kt1OYRFu9d6TVN6LBgnrHw41tvam25yOLumVmrAlx+a3KerfRlKuMuLzVGjgaX8HaRkD0kAAAC2AZ/6akf/EAiqO2Tc/SIJPFrAAC4qjmmu1cvg9s56EhN5GPLhL2AOQko5fVxLOoRXH3BILAW1zzYg+NnzBnJHjc53vsh5CLRrU3HuDLl72jgoTWHK99lCh8pAotfK7P9JyKcxj00JYbMPrnlKwcNQvyQpWI/WFlRcR+RvLofVKdsjAWarAnAu9fiA+R2fkCSh4VGNiHuFzGGx+k+Y8qWb2gP0ATWQuGkyYliNP/Ff4AKoGTMAEvAAAAFTQZv/SeEKUmUwIX/+jLN1TV0q+C2CKfpTt/CCwAA2et5vaBvXGHXMoHEgKQjoc8z97T+ysbomEHNOyGhCMVU0T+Aj+n/cJNz6ucVY4EVyIHTlR5MFcYHqNT3Qdv+das8nbWSnF7RKycwgVn97tqmbXtuvnszWKVzZJli93T5xdM+xdTtIojLepI17ddZVi/tbLxAy/Jiwm6i9BZjG9zNmAz4vVaSRdGvutU+9frRa+1hc9N+4wS7o36IGx6wh9nhKv8mW2uLI2mTA3ZupQ+zOR4Q8ej3M4ZfZ/DZXMv7VyymqfNlYC7A0ktsJ7z0cU7uaEWszGSAbuht9YYEBdbxe3dDhzLzXSWR1/gzHnxVt2lJIcsUD/2n+GINjvoRj8Ti2VQKlOT8j2cgMnA1fbA3Ia8k/2KFpT8dd3V9tP3zqjpSMc5DUKv+fK8FO+EuuxgxC9A45AAAAz0GeHUU0TCP/CaxO3IDX2kANtMru8J+P/RKzDWLt3IwOVvnyWvWo7T2qjDY/H4CcchYypXpETa8SqEFluBl/ownbXSyB0bedFEOtJFTpkadpY3w0FISji/6IdxvoH+qn5hATH7R+YQx1gzUtHiqrSyQmvItcKCVVH0deo4fGzcvnUAMObiKTKn8GunKenGSDSnHxXdTOip39QtmIdm8knLmRmXC7t2pCpZXeaaA082ftvgfuXX1eHJtR84IMeZJuslWGFnl1KZqPzxf+TeAOOQAAAJgBnjx0R/8NrFaxnboARhOS3OfKS31hvTb+d76tPqe3aL71SENrNArknVR8PAIrSwSzNbZ1njl1kCLE5Z/CYRvDRwo6QVd36zQ9fiJ/oXYQ5VIOJzgjFipwingIlPIF5S5Fde2bJiL7O/5cV8w7vmQcktWeUlDm+ApflRPWBpjIj2AFpaIZ1K2wDOLAzrRRm5iykcuhJgBxwAAAAIcBnj5qR/8Mxm/m8AVvi6gIQBZRUsyeC7tA3FuNUaF4OV44oDs1UAv2wH8JWK49yFGP0o9gJr7U1D3vDX2hF8nv7liP/XUsbcqkYam2xEQSCHkxa5xJ5/b+5uEiIaoNVd3dcsk3aYtKfiMXD906hX1jBlrwXsn1f9LyWgSCCgS+lZd52N8AAb0AAAEpQZojSahBaJlMCF///oywB4e924jf+lxK0wCggAnb0C0vrVt6zfQX/tvb2TZ9IfgWshlIOaZYGRVXAuQ/KNa/s91w2/4NflpyK+woF21oJZ6UsNu8tDlQjmjSmHydtg9o1ZT1TTrM/gzxQilwFDNZ/kHLewhB1OC0krSaMCwTwekkQKmaJJXlCxqoJUD4w/kRNM/nwy4sMRZ52nPPuA38hY3tE+CVewCtHX9QNqoqgVYU7pzjMPfZZRIuzG2agaGLqv3Kx/XfHx250YjasWIX0wdgZyLXam7HXIXF0Avxs7y08ciz20Sj3XC9KKZEX3LUAH6dFUNUjWa91JDHqZ6Vmn9HyqAmx88YMY/qjCJ9RzCTzU6gnoXzdf3P7rj63pE/qg+5Ep/tKCghAAAAuEGeQUURLCP/Ahr/2OVsjoAWxJXmt6hfDAvRVFqw8QYMeK1sT3VvUYdZiTZB6plV8gY8oqzfyEBtfW3IDcGmUYSCVZnsQIKaqQhEiHX1dZmkE3JjevvX97r4sLJAjRVvHWaJKFw23AmfijwW0a2VYtA6AKDjYnJp4JqsPOz03hfmymRgNkHyxZQ9zVNFxWBDc22Umtn/wzM7y/4NtSAbqZrJjpos3mCwWv71pooxB+UL5YatkzYAQ8AAAACnAZ5gdEf/A1uBdPSYAAtblDVOTNGna/9ppwreDEouwZAY70bBQ62TggBedgGQe26JzItqsZhDLwywqmAWtcGQzHW1SaBo0lhG75GyVweFcPpXUUf4YPNzDWVFttdNRt6T6Z7KmV1scNS7bOKqvCHTDjgN6ZYDpCX01KqEOojU+fnEKi11VaL27vCaxAd1x1S5AyA5rFdPU43mxQZfLAJ2ZBCI5iHEARMAAACoAZ5iakf/A0fePEMv0w7XAAcGhDgay32yXxV0C2Nw1PJwdwZOfjPmusQu+scWmWs8TlydDUiKipw4nIeiVJPblcMXhByQbbgTxoXU0x02nXUKeYVjKL3pvExVNuSYjZ8AJ+YioRJ7ZJqOpxmqIYnfXKJ2BsoJPjoQR+HJ5xRq6Keq4WNRkXszsoun6fDs5YDRsBwLUcMG3UErCMajtmA6+hGtmE5MgB8wAAAA+kGaZkmoQWyZTAhf//6MsAaNfO0UAD+J1TytH+wJBG+vPAHKNKEySd4J2dUeSSQda6bo0GuU0hZBHl/LVQPBrCRBs/ozveOwu9zCVx741bE34B2MxVfmHqseaV5uP0MN2JNrSgnbTntWouWkJByr4mYiu4jVhoZ5rDWk1Aa9NGZPiAnaSpvgO3sJcapQ3m8Iirm7YrRByITCwJeGNIjaRzr8DQDLhiaES2SESBnUorB0pAOCzjYzGbNDJ5s+GjaDemxvSpNv3n6Nua1PyToYi62Te8/sW93nbJMiLk6JhBaSp9h/iIjfumEcsr0OCLQwBmu3MBscFwF4uIEAAACsQZ6ERRUsI/8B8baZ5Gmc1nRoCLxJbUUNACWw/1Yw/6YRDHH0I2E4BzkidJZ/byCm4h24OPEL5muR4/Pw7MX81Rz2BQbk6tAiK7NRAZ17Rhd3bUoV6GKlqLHw5s0/Rc77GCC/aUR754Dqg13ebtEZJpeF3U7fDnUXvpn3B1ukriJl9pEzwpDPjvfQO0EYwm7FZ8vJxxhcix6PzV4ofAbUSBVeWTZNpFd7uPAI+QAAALABnqVqR/8DISgkwFzUn0dwGXPz6MAFs6FVbx2WSSuanpwM4TxJUnXb9dIUpMz9lB7+nM7ssm/RCoWReHA4YJapjwvLOgSNN0RGIgzdAX23UNUcc1uuVdK5Bkq+h03RLzRGgpETcTmZdUKNkNJ1mCZkHB2uAr18YA1VzZXOaqhqqfVKSlXg09cSNlbc3o4+CydoS8Ud6hH/7eg4XfyZVF7oiR4m2C6zzynXQWcPRgCHgQAAAQBBmqlJqEFsmUwIX//+jLAGn7mep2HeoBArrgJ29469tb2Qh8ekAHZMeesxSjG41n6ZSw05DiVJTTxdZBEJ979raCJUef2+eUvBuV9miGNaYm4QT/jH7kqSNOQcMK9GO2POYzRoPxkryZBu0AHoSIapT/F3biGuZYzxXZe90s1rKKDAUbWmnVeMwZPyfteqr31JvqUuEbZggu+IVVPHYLYOJcsPJrVvWLVerEhg4FaHhBl2v4Bkg8oz7pazjBrJiLTTPYYk7yz08neR1EOeMQfj7+Atp5uvRmWxllO0fUDWPfvrWXcaG2UUXjlDqXMtF5JTugc0hkmBrfP6niKhrz6RAAAA4kGex0UVLCP/AfD+lO4lOMztwY/k/0exTwAkg2KTChCklu6HUF2+pGZkgn1RiyrZ+zXIaQ6v6diClDpxtHXfuUeXEoCHuuFBjSunBsu5TgPFCwv2GQZ4GE6pmDmmrx0K34b5ql7E05c9BePxXe2YFO0X88Ee3pJYx2ZpUlwyhoQGwmZeGXlE/VkpMsuWHCI7NhtpTv1JluAS5WVk314yJIpOYfAdH/2/MwQblmCSELIZ2BW1y74uk/CNDIg+EKOlVvmowYd7BTdT0GEU2czI1D1opcC9PLQpry+nv6pw5NYA34AAAACpAZ7oakf/AXTMJzSAqAJr2oQ5sbNQmTQkQyH7MQpPvq/xX/J408WyNs8V8pMwkU1chiXNokVnVR0XtYYO7yz49c1Wb7n2Sz/SIsztqkH7iieBQDFttf1DYVa3V3R3iBTTEEH/KDwLthfE7BCkNEHuAgpI02o+BmuT0qdEkowrYHLDdzIhQKrhsp4m42AJSjQEYEwWLnZSIAVgZfc73hQtLvbIYVW4w4BcQAAAAQZBmuxJqEFsmUwIX//+jLAA5PrZwSPAC6j043BZqfDZ8Sw2WA1F363AADKEe3O5/EjXJm2YtueHi5xqFgd8Y1HMriRKKIRHz9dGJ1WDgLD/t9LQ01h+dxcqeIsBgFnx7RX+6aJSC1HbODEZuGPcyPWqtOpQ/YvswgsEt5a1M1qtsLq0usXTqO3qYbeHVNQ5scdye7DStNJGsrkqupMREDGBrbBlu1LZyWYg7YGMjYmgvCqqsJi1+jC+sTsGaPQEexG9+OB2AhlpVs5J/C2HT+A8R/IGjLE3utUcWc4jzq/UNcfsLnOsf3C0rjN7rZ+9ndVpk1vmsV7aw+311jveVxGn99rqnXbNAAAAuEGfCkUVLCP/AOhuFKBHQOJXAWFS1kNAAuLXrZWBUf2KpZjcbLrJY1Q9GpyFUnGWK/RxAYI9cU7ht0IkSJnrIMxcdsHvfKfV2Os8som0DnMw6FF7hPs7CCmApFuQXj7n1t8BEOiSmU8j3J3SMODFaemvDjBmadETaUgAmOUCT5TVODMhxvyTGMym0Mgq//cRsFPh+/+6eKZiepwJlroDgrStkOzuzJdOgSRuE41LppUqQMUBNQoAqYAAAACjAZ8rakf/AXTMJeRnqG/AABx6koaf6MkqzONmEh0ta075R++fuOyml8diUYjTfJ5mVUBGwTfiBlAuIWo08K0L8HhdC8a+Dr1U4LpfHgMugPBB3HdrzW57hxdrm7tJfhgwuMhemNUPdq5e7gAMJ6GTX8Be3m1WVH36MP1EE/p9m8fVM4TzM/z0i6yQlfSnNMVlRp0AKI/KJf+R0vJSnvZELOwEvAAAASlBmy9JqEFsmUwIV//+OEADY+pF26dKWnsHJPjNYlxXHiAc707OIci+Rqt8loy0Yn9f+uIeN0C7Iq2LQ5OC7lHcKOdsyYdnm8QI2a2o3kiqXy5wQy1DsIK3hB5u91wsH4DqmqcxSQQwX63wgZqkz5PVgxu7lPnrrL8jBc/4rxjEdro4zS1xrNr/o9zq2tYN00oZAdozE0jmqvhUcXn+UZp0ZBNqVBdb0jprCf7PX9pwce9xWTCGo+CD44ZxB4a2qTShXsOxuRapMcpXSMysiTATufTUJu3+GmnjvqAJESAbMt10yPd+/y4+YJ/j0hCXj3k/Hhoe0kx43c5JfPT/8MX+GqnD//5cEUIlpPGCRq+2+k0Sfj1wOuh0f+kgu+sIzbcyA+Vveh7K6SEAAAClQZ9NRRUsI/8A6G4UoEdA3Vcn+U/AA1JPnSYuno4aENgqfO1opQYv6oEUYeKNHqG3V/UmFOPdi+6H3GouUTz9+JaHw3L2BX+PZJTsbzT/KT0GUGvhA4JA91FXjlqiY/WSfG5U/wkZWQoPYsQiWpa+R67g4hxf3erZlWUwprAS6/TFnaczi9JxQa8oigjp3jRIyVV7+pJ8vr1AeCmWQtaZNzm9QFTBAAAAugGfbmpH/wF0zCXkWn1AI/IjZY1U3jpHAABViNw9Aa5WlOk7Alefvroa+aD1kgakDvPZhYyAb6Rj5ZcENB2Z4M1o19pk8KZ0HQaVwdbA5ZhzGssltCMhNd+6Tld5gVSJ9mGKVhsNqNO6Zse1+NGXnGtPSliAq2hU6spPBHpWDTaS7MyUD3y3ifVk6+YZe9uwZpWSQbaCBeCdaW5XfTLty4KRmJZqmfz1o/dNxThX2sAlqoZ133aSDOQBdwAAANZBm3FJqEFsmUwUTCv//jhAAHy3/pbawjMg74FjSGPwugCHjAV2Gg69p03XAmfduoaMJGCWY7Owa0ROG925Q0ftDY0GBZCbaCm0j/5enxxRtyc1TG9n30ynEtxL9QHJUIA6LHOSlOnpiPTEkDxC5Db8vji9gsfrwp+O85S3K6I7g2Ihdv6ZnukrewTU5kGsE0KExu4rfsSdngko3oEiuXNms43pe0UviWKFm3f9BDVhXg9Zv62JIvU/RF53hsiff5QUQs6p9TaOHY8r0Rubsp/tFdrxhjoQAAAAwAGfkGpH/wF1ICjJtgmBoW1wXsC40ngALD2IWDF6hfzQ2vSbtnQs685gIACOWrPNEFpBZqQ/I5S16dPUsmJEmybi7j4AIbDPjbvBKn6Cw/VKDvPbB9A2NZYkt0uUoQXxtjHkSc3ewZ55Vr0J9bHZzpv190vdZOWdidMS78hHkhRVX2/rnPKoq3NwXNdVmQEhFiru2yyB10sMsRcgBYvMycpFzyZIM7dNodRJ2d6odbS93BaJQ+hNkRZR4MXid7wBlQAAARZBm5NJ4QpSZTBSwr/+OEAAefVXAsinAAnWeqgv4DZq9mZwnqJ0+cX9OgqwmKAqcdpBm7LKcZR+EeSB2tBmbklczzuMHvwadn06cJdjIrjKKpZDA+6C8RqcYcCWD9tfiyraApeJM8m0vcP4P8tz7oo3YyUQlLOQHCAxLHUFEJVteKruITy1wNFRSoR8RLzdjtdFXd9RCldSCI06P6EDpi8ySXKp+6+t8v3bwKp0Cy1CLUb0uV9kNM+BWGPMBnycpSBZX3duz90/EUn2yxDKB864J9yQZZz4H6eJv4ZqlUVQA0YrsJt674QZ07Q8qBNIKCAE5EG6snxhPdz9XWsbOWno2Ko9eoaT6g0i/RNcujs1nYSn85ZTZwAAAJ4Bn7JqR/8AEFjUUlNr4H4pN1hcRgAAAwEtQLwqrShQLfwLD8aY4R4DnFVzYtIsHPoFKMOvQ3BkEiuBi9rb9wYMf7Imv5mzZU/sdPbhzmQGeEZvHfzGohnrv9/OhsreLirajrtmFlgoWel0IbXN6762J701MAIEzhry0bSZV6dJm/9GPIhfINP37JqDTkAYrfDTetFHBTs14WmboX9j4AAAANZBm7RJ4Q6JlMCFf/44QAB5/UhmuWTm96wAfubAxCJIgWi0S1Xx1LcGcd1O/KZkHDFYWhYvxog4dDDs5nbo9VowwxnHGc3keyMQKpvZX64uhZ7P1TGxRh9/7/mRpgkbwkM/AJkNokwdNO7enc6yjn/69IDGfan4xia8z32L+x9KLPUiGtlXNFq/71IrcabCLGIeusI6W5qPa2WJnQwqXM7jqmHPcIVH9GhmP6rePN6BTqCl3q0mYISqNtTUDICYDNgQteqsjjqPjh7coLx8fb4RrJFBTE+kAAAA2kGb1UnhDyZTAhX//jhAAHc9SJa2GHr4FjhMAH7qb6L+A2avZmcJ6idPnGQNlSRKYYLzIDmW524aefcKpeEQhwy9dtm3HMtr65upQ+BUx1Kt9Sj4F2ADLSG5lppbuT9jXybrAq6OYWWpv5YKcYeI6lfNbD9spp23JfxqHNQuHGjgd9oPM1wEwFzV8jrbkKNFeJMBX5Dv2V6SDnufj94ts6yoEdz5BUaxmdFIi/nfeVhSIR9QrlCNyA3tFUboTCTIdvE8OdadA0VuiIwbuZ2oucDmQ6o6Qdel9HTBAAAA6EGb9knhDyZTAhf//oywAAwXrdc5VIAANM6MCC4M+RNrVaGGcASLoVhyRFGhqW58cgZJrmSqSUJA3544TBa+f3N+OG0FaACl7veqGg5PrOhBSjrPIgxg6co+AVrQI5I6IhNb2UoiYKDFj/H1Vpc+A6maAgD/CqAZilJLUD7NJ1oqatdEtc+lVVfN7osL2CkcRtSGZfkI1eDGWY+DrF0qeaZeshN36r+5MAp2FIvyrUqIlxM540WbGzT0ge39TZMilh28vGzxN4B2bBC/gfD+yY753bVTQf9zvtWwl/AC2wME0QcbugVLus4AAAEeQZoYSeEPJlMFETwv//6MsAALx8dU29tI+SIETgAdkZtTWuWjYMVle2egYvJsuu4eU/I7RF6JF/mpvtPPfeoug/Mzv22z7vtTo6DNt/3H5PdFWvz0sCJ+l/EDccpW/BUgHYFrBRTucr+DR3OhI6M1o6urYARr/vnooRFjgTYk3UyG8dLIa45obPV5aWQyUXDzKpIhGuR/HZLOZILHVhEdw4XHhSDPCov8NsqPmZ3d9kMHes2kRCJmOOtv405w6jKZ8KcxKNwIi83dfYPFhXvMBIihLbDcYkM92xwtSRU8Lxvf6XioVbe+h43dNyXIW1bp6b0OBDyu6wc03rMx91n5u2+95nx1rLzu07mgwelbk9za/IqteQQae3V0d5c6SQAAAK0BnjdqR/8AD496q50vMd599COzD09SWAAXQKQebrOtL8S0JllyBpc+61FiPYyZoJehdo42w9RQImlVep6A/VxWOYtZYpPm6CTShFQkrB5iTMXwcc2Dq1t/U+8ATiKA8uXRD1LBgyQzODEPVb6/vm3IOPIDmkIqUWzCXMOn5GkndtZt5cPuyraj3hlmXw0Wp+7kG+PorY+ZX4eStgzX0ztESDUtOvboQCba2CDbKQAAANBBmjpJ4Q8mUwU8L//+jLAABGfic8JVXwM30AOPbUY8EP25jbd6fF272JaedpEol8nBQ0ga3f38la3FCPlC3NpIV/vStX/88nM0iWlGdh9kTpjvWTDllRysDmdczWgbWOd9p8kPl2BzeIHg2B7jc3MonEIH3vQsEPzcLG7Jd3w7i+7bDvw5Xl9DA3w+aSmWbGxbCwblQjiGyHXwEShRwDZktY+IcwbjO40JfyKma5HniyaSn8nSx0yiPBPDIi2DP181b/3MG1Swn/ZA6oqND4PAAAAAugGeWWpH/wACO1eYAWslqrG5dTJb2qewxvZdPJpk3U+wWyNXH8SYC3LquMTWpPr1AtsNBP3vE7vnQWdgz5qEkpzOQfsBC7xygb4DCH8r/UbWbmIFSYBMrkwZDYbJMQSH6Modlk8C4P7pKiXCwmIGwBeIJJwpyx1ux87Fm+42PgrUOORdVd54eLURGFD0+wqwUGBN3b/8ovDABPBvlUQ/AXRyADZ9MQ9IL8DoWDfV8uavAQ9H18JrzlApIQAAAPNBml1J4Q8mUwIX//6MsAABtPW7c+Ms++vg6DCSACIPTu24Iw/ritBU3arPQLwRpjBGByRVVlZNCz1/r2LkJsOBTPmG+ex8EcyoN+kpD/s0t5BcBcMXMS5T91kBYFtcI0W90ADjaJDBXnDTlOIbeKbzp37ih00b9/tItW52vVjpDLtwo2pZkpuTeA33a/5FpPq22S85XZSADx8oDuSfD7piHQ3QXdc5Zuvh5TgF3RuFKoXvPnaxvYjDJHJsaegtzSagCVHrzXrc+J2DoXIkGQ3b/3bBOnNupEDjG3wYsdntUSYBfU7CE/4wPGBY1KFUz6HFhgQAAACsQZ57RRE8I/8A1f3lsTWgihBYFVOgBx7EIFIhdUGZqDTrPBRpdR7dG2vvgioWW+HYaPXQ8L+ZbddyDsGMp6BEDkAYFr4XWZwCMWG5SQyRnEaQVVnzHMKi7N1sDSyyddepiuWMJhf8zODapED8RY53hGTXYqhOsCF0plqqM4FJiY1JbYZKgzLnvAJKgvM+EIYkiCCaLS1S4zokJ28ttJIjYeDFmF1xnBHdBMA/wQAAAJEBnpxqR/8AANf7aOmdlCaVo0tlv0IwAlqssu7Atp3zD4Qhb/b+f8+yEj+6h5ww/ScueyraVNOtU0z4fHUSdz5laIqKNonPMAT25FDq32Xa6+tUvOktyqmjvW4VrdBu9XV90l9CWHp0gwldPjjYlC4EF2TZ0y63JzPR4waKHsXUErSwA6hPsAIjaluYBCHtYgVtAAAAvEGan0moQWiZTBTwv/6MsAAAoXuaGtBmQAX+2ox4JCfauzBvJ23sWnmBN+BbD2W5Y/93arrSg1jcSnljti4WmtRNwDKj7WNwvnn0g69pMlts45fLJyk3Fda+t6ZYqyMkBe9H7bgwbTuDlpQeDgkm1TgsLHPuCoE3EvBVvn+PEklhRKwLmWJvyk6qdu8AJ1xzsq8D3DAuIvCdcBEj2UO/zN+lzn3dKHa01aHx5WIjkLnqRxamMQahjcgv6mhAAAAAnQGevmpH/wFaIH9oyraVJMOfFgA49E4x1VdzSVzXemN6MacgWj6ypyforuQ9FA04Tm8qtZyCvElLpVadIE6KnQ8jQ59X/6RyE7R8ZjgnPDmJDkRBYmiDBFCUMrCAU+Vt3derlFT2i9WyMU2bm2RpZdjUZ4lJOwYzJcyKNXe0O5O5T5vPEQBsq6wPmTu0EAhUT30VDV+vnlnCjswANSAAAADNQZqhSeEKUmUwUsL//oywAAA9XrdufGWmLkqFNsi51/CpOADcQTzrxeDE06WYANUAL6dWicKztL/4t7WtNkjogGpz8REA6+qRvWs/uSfIzP/wAazwPenBCDRIQfjwqlM5xjmED/MWdXPTW6MmZV5ozS9uShC+B1Dz0woh3D3TCGTlkEuq7D5vA1hj79020ibS+D8XGoCKMu37uWyMFEgCle0/7WESO/QzqzH+E2zj9xdAA3wkIHPoCgP3l9xJt62ahntH+ifzku1M7iZjQQAAAK0BnsBqR/8AAB8MF379MAGveQHNQuIDxfixDuu6RR/o7T6oiwDQB1K/DBzbvs/7hH1i61umNtNg8cSgiK/V7b69hduB5rmhv36+fpVvCgNLsFc4DhmnQetgkcb0O+pPf2+p2cKJ4qCLt4c0BVmSdCIA/xr/bRut4UvFavlSvSnkK3Qvd57+Y6sjUUgm9JjV3O+Qy+dFFUg6BWJQiyVnEmkJ9ACbbHXvVgwzaHYCigAAAS1BmsVJ4Q6JlMCE//3xAAADAFPybbHZ+B/+ukQ/Ht0IasBYOEVfTxfQA3sEMfN4OG9FXhEqlhedYcgGobuHQ8r9QvPz/fV8v8lpkszSOdNjLRAjXGWvrh4ip74Gj1yL0W9JIBvOP/UuxrJ5i+OTj8lQ06IT0H5JZJsFl71JDoFRZH9lU72gvEmO37S2rnnsuF13Bl6ro9GC4qQKjWXzd+E4PgT40tvD2Ww/Pn4a7tMfPsu8nEjboJEpJe1uUHxjMO9zqq5Kn7kdpC1KBGkfOAOd7wm2Yv6FRnxM3ywuvlHH6Zfcd8gGh4jgdaiR7baJRCKW1orFBBJFDmg5AVenrqHEfbkkXAOlQNrF8ULO7q4zOnNribB6nLgUCa89+mFc9BHHq/Lx3I+20c2pHZtTAAABC0Ge40UVPCP/ANX95bAGSOziKtu1MAAkrPRykKMPVort6AUIrysKXvPRTvpOusjvsbwyBHi+ut7wnpHh8P191MWce6E/YEKTARhBZC4va8mfvEuya2XA12rF5hieOzaOcLD5tJy3dwM5DA4LGgTrlrO2G2Bz6h/iYjqHWhU4YvseETXaF8CGmDES9BFV+XfMSodPn99zoFA+mU6Orso4/Ix2+li/NLuZK5lJ7Qo21UfrTCJr+iOjsgtD1b/NCJlJ+Cd54tx0IYTP3C0+nzrC9cO1UsTpcZWHMBeJmh521vs0WQ18zQfpHgTf7t94wLOBa255KTAZyaxOoqw1lc6OCcqWSWXDC3A8F8gb0AAAAL0BnwJ0R/8AAAutVAAhHaT/vbRZocMIU6U0Q+5G2DSzxPvxdCr+qKARZJCBoF2edMGm16LYZ/5O97mBX83ABMDWx12kGaYJlOGXhfXrx+y1TER8E7VOIffqKMv4gpiYgaodcg0NJG71c/6IRhM7qhjxSo/JfBRVHNuj3lOFpB+hbJpWPcepBC1MTgy8SEty4I4TZfjy/ZSaCTuzZ1LW32ErrKecoZziPDgjp8eCt1RFFA2sfiCx5esCYoooJeEAAADRAZ8Eakf/AAAEViGLuQ3kf9XwBCGU6D1l8GqCYHOgKak1XeHR5ZmcztRd0LG+1gL9RiXz8pyrDlqUoLMMMonJg8zARH9PHKY8pvuVHGvoD3h8vLJR3Eu0dqtR3rupAIJgqxgJNNibyBgiwu7LHDdtzR8rno4vxjyLQGW9D/0PQR5H4WKxQlfKUCT0A7+FljHlokuPhx8551kW1X0YBornAgjweZgQPeFCTmXwm64cgw2tvbygHukrQzsCYf2nMLa0CCLXfUwnCOjhamYKmSmdNM0AAAFgQZsHSahBaJlMFPH//IQAAAMAuu2UFxFkgAFh5yrdm4TiQwFl3aBuNLpOoSjJb2yHWWFLKP1gryxMnSGc77MTeQmwxzG+mMquiBClQC4bEgohr4PWrT8Hakqk8jW9m8SM4avtRQDVSTP9Gpdv0f1dO4dyD0zTsqyWe67RzL4dA+UFBDb6A7+vB2zaJC87mWJ6wDUfnZFDglbsUpJ/AnCAo+qkB1PIxFglB2wFgMyWYS8OKy0cESaAsQSsWerQ8FJUHdXYE11FmtlKzZMZ2lUEoLGYkN+OftBS5YYONoA67tExJH/tRBcdcv/yNkhqJq9658xqSHIWYg25M+r1/PMub1Y541JZ8C66xjZg/zZ/dwqBhdXmPoN9dm1K28dLjMuwAImgWBttJ10JRATV+qhagcVUPdOe6DzfHwRU6//JMCCYgOM+hJl2vzm+ULfkla6JllpME2dNDdiK7ssNWuJW0QAAAO0BnyZqR/8BWiB/YUMqikYDzGZqtyADpF3x1sgWnRzod3Ep0DrJTXGATb9dKwQr1xjRAwmInJrOugCXB011XY5RkrM9MVHgUl2Ij270WIPJa+WCytULK7X170IBVnMZky5hHBlC0ofPB5HkQDTqXDhfnHwBd22JKt9ThmDUDOPNH+0EY8wbw38KYczS7rrBYWft8pZ+iWp9w0K+TuVpoUcHiykKYz0HtC2A5Bn/6SxeoK2PuVTswu4Bc8e4LcJCfRPRaKztRyTzSvy0h6mShdPHvrh0yDxKTRnbLwipbT517EmhqCX1zak8idyAxYEAAAYzbW9vdgAAAGxtdmhkAAAAAAAAAAAAAAAAAAAD6AAABaAAAQAAAQAAAAAAAAAAAAAAAAEAAAAAAAAAAAAAAAAAAAABAAAAAAAAAAAAAAAAAABAAAAAAAAAAAAAAAAAAAAAAAAAAAAAAAAAAAAAAAAAAgAABV10cmFrAAAAXHRraGQAAAADAAAAAAAAAAAAAAABAAAAAAAABaAAAAAAAAAAAAAAAAAAAAAAAAEAAAAAAAAAAAAAAAAAAAABAAAAAAAAAAAAAAAAAABAAAAAAlgAAAGQAAAAAAAkZWR0cwAAABxlbHN0AAAAAAAAAAEAAAWgAAACAAABAAAAAATVbWRpYQAAACBtZGhkAAAAAAAAAAAAAAAAAAAyAAAASABVxAAAAAAALWhkbHIAAAAAAAAAAHZpZGUAAAAAAAAAAAAAAABWaWRlb0hhbmRsZXIAAAAEgG1pbmYAAAAUdm1oZAAAAAEAAAAAAAAAAAAAACRkaW5mAAAAHGRyZWYAAAAAAAAAAQAAAAx1cmwgAAAAAQAABEBzdGJsAAAAmHN0c2QAAAAAAAAAAQAAAIhhdmMxAAAAAAAAAAEAAAAAAAAAAAAAAAAAAAAAAlgBkABIAAAASAAAAAAAAAABAAAAAAAAAAAAAAAAAAAAAAAAAAAAAAAAAAAAAAAAAAAAGP//AAAAMmF2Y0MBZAAf/+EAGWdkAB+s2UCYM+XhAAADAAEAAAMAZA8YMZYBAAZo6+PLIsAAAAAYc3R0cwAAAAAAAAABAAAASAAAAQAAAAAUc3RzcwAAAAAAAAABAAAAAQAAAhBjdHRzAAAAAAAAAEAAAAABAAACAAAAAAEAAAUAAAAAAQAAAgAAAAABAAAAAAAAAAEAAAEAAAAAAQAABQAAAAABAAACAAAAAAEAAAAAAAAAAQAAAQAAAAABAAAFAAAAAAEAAAIAAAAAAQAAAAAAAAABAAABAAAAAAEAAAUAAAAAAQAAAgAAAAABAAAAAAAAAAEAAAEAAAAAAQAABQAAAAABAAACAAAAAAEAAAAAAAAAAQAAAQAAAAABAAADAAAAAAEAAAEAAAAAAQAABAAAAAACAAABAAAAAAEAAAMAAAAAAQAAAQAAAAABAAAFAAAAAAEAAAIAAAAAAQAAAAAAAAABAAABAAAAAAEAAAUAAAAAAQAAAgAAAAABAAAAAAAAAAEAAAEAAAAAAQAABAAAAAACAAABAAAAAAEAAAQAAAAAAgAAAQAAAAABAAAEAAAAAAIAAAEAAAAAAQAABAAAAAACAAABAAAAAAEAAAMAAAAAAQAAAQAAAAABAAADAAAAAAEAAAEAAAAAAwAAAgAAAAABAAADAAAAAAEAAAEAAAAAAQAAAwAAAAABAAABAAAAAAEAAAQAAAAAAgAAAQAAAAABAAADAAAAAAEAAAEAAAAAAQAAAwAAAAABAAABAAAAAAEAAAUAAAAAAQAAAgAAAAABAAAAAAAAAAEAAAEAAAAAAQAAAwAAAAABAAABAAAAABxzdHNjAAAAAAAAAAEAAAABAAAASAAAAAEAAAE0c3RzegAAAAAAAAAAAAAASAAAClIAAAEkAAAAXQAAAEsAAABOAAAAtwAAAFYAAAA2AAAAQQAAAMgAAABYAAAANgAAAE4AAADtAAAAdAAAAE0AAABMAAABZwAAAH8AAABbAAAAfQAAARwAAACtAAABHgAAALsAAACSAAABEQAAALoAAAFXAAAA0wAAAJwAAACLAAABLQAAALwAAACrAAAArAAAAP4AAACwAAAAtAAAAQQAAADmAAAArQAAAQoAAAC8AAAApwAAAS0AAACpAAAAvgAAANoAAADEAAABGgAAAKIAAADaAAAA3gAAAOwAAAEiAAAAsQAAANQAAAC+AAAA9wAAALAAAACVAAAAwAAAAKEAAADRAAAAsQAAATEAAAEPAAAAwQAAANUAAAFkAAAA8QAAABRzdGNvAAAAAAAAAAEAAAAwAAAAYnVkdGEAAABabWV0YQAAAAAAAAAhaGRscgAAAAAAAAAAbWRpcmFwcGwAAAAAAAAAAAAAAAAtaWxzdAAAACWpdG9vAAAAHWRhdGEAAAABAAAAAExhdmY1Ny44My4xMDA=\" type=\"video/mp4\" />\n",
              "             </video>"
            ]
          },
          "metadata": {}
        }
      ],
      "source": [
        "test_env = wrap_env(gym.make(\"LunarLander-v2\"))\n",
        "observation = test_env.reset()\n",
        "total_reward = 0\n",
        "while True:\n",
        "  test_env.render()\n",
        "  action, states = model.predict(observation, deterministic=True)\n",
        "  observation, reward, done, info = test_env.step(action)\n",
        "  total_reward += reward\n",
        "  if done:\n",
        "    break;\n",
        "\n",
        "# print(total_reward)\n",
        "test_env.close()\n",
        "show_video()"
      ]
    },
    {
      "cell_type": "markdown",
      "metadata": {
        "execution": {},
        "id": "-_syuOq4NjU1"
      },
      "source": [
        "From the video above, we see that the lander has crashed! \n",
        "It is now the time for training! \n"
      ]
    },
    {
      "cell_type": "code",
      "execution_count": 7,
      "metadata": {
        "id": "8WdjZFRlNjU2",
        "outputId": "7e42b96c-337e-4a0c-fba2-56e7ff38c16e",
        "tags": [],
        "colab": {
          "base_uri": "https://localhost:8080/"
        }
      },
      "outputs": [
        {
          "output_type": "stream",
          "name": "stdout",
          "text": [
            "Eval num_timesteps=10000, episode_reward=-547.90 +/- 115.87\n",
            "Episode length: 64.00 +/- 10.73\n",
            "New best mean reward!\n",
            "Eval num_timesteps=20000, episode_reward=-594.79 +/- 204.23\n",
            "Episode length: 69.00 +/- 10.12\n",
            "Eval num_timesteps=30000, episode_reward=-676.98 +/- 202.71\n",
            "Episode length: 68.80 +/- 11.36\n",
            "Eval num_timesteps=40000, episode_reward=-575.53 +/- 179.08\n",
            "Episode length: 70.00 +/- 12.44\n",
            "Eval num_timesteps=50000, episode_reward=-544.25 +/- 144.44\n",
            "Episode length: 67.40 +/- 7.17\n",
            "New best mean reward!\n",
            "Eval num_timesteps=60000, episode_reward=-500.90 +/- 29.59\n",
            "Episode length: 60.00 +/- 5.18\n",
            "New best mean reward!\n",
            "Eval num_timesteps=70000, episode_reward=-555.97 +/- 97.54\n",
            "Episode length: 65.20 +/- 7.03\n",
            "Eval num_timesteps=80000, episode_reward=-595.05 +/- 131.49\n",
            "Episode length: 69.60 +/- 9.85\n",
            "Eval num_timesteps=90000, episode_reward=-584.79 +/- 124.58\n",
            "Episode length: 64.00 +/- 7.67\n",
            "Eval num_timesteps=100000, episode_reward=-552.49 +/- 144.08\n",
            "Episode length: 65.60 +/- 7.96\n"
          ]
        },
        {
          "output_type": "execute_result",
          "data": {
            "text/plain": [
              "<stable_baselines3.dqn.dqn.DQN at 0x7f09bced7fd0>"
            ]
          },
          "metadata": {},
          "execution_count": 7
        }
      ],
      "source": [
        "model.learn(total_timesteps=100000, log_interval=10, callback=callback)\n",
        "# The performance of the training will be printed every 10 episodes. Change it to 1, if you wish to\n",
        "# view the performance at every training episode."
      ]
    },
    {
      "cell_type": "code",
      "execution_count": 8,
      "metadata": {
        "id": "xLuSBIiCNjU3",
        "outputId": "2512977c-6f16-48e1-c171-89202fee3d70",
        "tags": [],
        "colab": {
          "base_uri": "https://localhost:8080/",
          "height": 421
        }
      },
      "outputs": [
        {
          "output_type": "display_data",
          "data": {
            "text/plain": [
              "<IPython.core.display.HTML object>"
            ],
            "text/html": [
              "<video alt=\"test\" autoplay\n",
              "                loop controls style=\"height: 400px;\">\n",
              "                <source src=\"data:video/mp4;base64,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\" type=\"video/mp4\" />\n",
              "             </video>"
            ]
          },
          "metadata": {}
        }
      ],
      "source": [
        "env = wrap_env(gym.make(\"LunarLander-v2\"))\n",
        "observation = env.reset()\n",
        "while True:\n",
        "  env.render()\n",
        "  action, _states = model.predict(observation, deterministic=True)\n",
        "  observation, reward, done, info = env.step(action)\n",
        "  if done:\n",
        "    break;\n",
        "\n",
        "env.close()\n",
        "show_video()"
      ]
    },
    {
      "cell_type": "code",
      "execution_count": 9,
      "metadata": {
        "id": "MoVT-dsDNjU4",
        "outputId": "0ab2461d-eea0-40ca-b406-83b65136294f",
        "tags": [],
        "colab": {
          "base_uri": "https://localhost:8080/",
          "height": 300
        }
      },
      "outputs": [
        {
          "output_type": "execute_result",
          "data": {
            "text/plain": [
              "Text(0, 0.5, 'Episode Rewards')"
            ]
          },
          "metadata": {},
          "execution_count": 9
        },
        {
          "output_type": "display_data",
          "data": {
            "text/plain": [
              "<Figure size 432x288 with 1 Axes>"
            ],
            "image/png": "[encoded data removed]"
          },
          "metadata": {
            "needs_background": "light"
          }
        }
      ],
      "source": [
        "x, y = ts2xy(load_results(log_dir), 'timesteps')  # Organising the logged results in to a clean format for plotting.\n",
        "plt.plot(x,y)\n",
        "plt.ylim([-300, 300])\n",
        "plt.xlabel('Timesteps')\n",
        "plt.ylabel('Episode Rewards')"
      ]
    },
    {
      "cell_type": "code",
      "execution_count": null,
      "metadata": {
        "id": "JzNmOorNrmm2"
      },
      "outputs": [],
      "source": [
        ""
      ]
    }
  ],
  "metadata": {
    "accelerator": "GPU",
    "colab": {
      "collapsed_sections": [],
      "name": "lunar_lander_original_loadModal.ipynb",
      "provenance": [],
      "include_colab_link": true
    },
    "gpuClass": "standard",
    "kernel": {
      "display_name": "Python 3",
      "language": "python",
      "name": "python3"
    },
    "kernelspec": {
      "display_name": "Python 3 (ipykernel)",
      "language": "python",
      "name": "python3"
    },
    "language_info": {
      "codemirror_mode": {
        "name": "ipython",
        "version": 3
      },
      "file_extension": ".py",
      "mimetype": "text/x-python",
      "name": "python",
      "nbconvert_exporter": "python",
      "pygments_lexer": "ipython3",
      "version": "3.9.12"
    }
  },
  "nbformat": 4,
  "nbformat_minor": 0
}