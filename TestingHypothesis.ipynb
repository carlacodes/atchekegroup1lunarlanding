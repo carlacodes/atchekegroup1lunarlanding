{
  "cells": [
    {
      "cell_type": "markdown",
      "metadata": {
        "id": "view-in-github",
        "colab_type": "text"
      },
      "source": [
        "<a href=\"https://colab.research.google.com/github/carlacodes/atchekegroup1lunarlanding/blob/hasan/lunar_lander_group1_atcheke.ipynb\" target=\"_parent\"><img src=\"https://colab.research.google.com/assets/colab-badge.svg\" alt=\"Open In Colab\"/></a>"
      ]
    },
    {
      "cell_type": "markdown",
      "metadata": {
        "execution": {},
        "id": "rKjkh_KgobbF"
      },
      "source": [
        "# Performance Analysis of DQN Algorithm on the Lunar Lander task\n",
        "\n",
        "**By Neuromatch Academy**\n",
        "\n",
        "__Content creators:__ Raghuram Bharadwaj Diddigi, Geraud Nangue Tasse, Yamil Vidal, Sanjukta Krishnagopal, Sara Rajaee\n",
        "\n",
        "__Content editors:__ Spiros Chavlis"
      ]
    },
    {
      "cell_type": "markdown",
      "metadata": {
        "execution": {},
        "id": "iDR5t137obbP"
      },
      "source": [
        "<p align='center'><img src='https://github.com/NeuromatchAcademy/widgets/blob/master/sponsors.png?raw=True'/></p>"
      ]
    },
    {
      "cell_type": "markdown",
      "metadata": {
        "execution": {},
        "id": "brZ9ZJQzobbR"
      },
      "source": [
        "---\n",
        "# Objective\n",
        "\n",
        "In this project, the objective is to analyze the performance of the Deep Q-Learning algorithm on an exciting task- Lunar Lander. Before we describe the task, let us focus on two keywords here - analysis and performance. What exactly do we mean by these keywords in the context of Reinforcement Learning (RL)?"
      ]
    },
    {
      "cell_type": "markdown",
      "metadata": {
        "execution": {},
        "id": "wpX-jA7GobbT"
      },
      "source": [
        "---\n",
        "# Setup"
      ]
    },
    {
      "cell_type": "code",
      "execution_count": 1,
      "metadata": {
        "execution": {},
        "id": "9EanvrrhobbU",
        "colab": {
          "base_uri": "https://localhost:8080/"
        },
        "outputId": "bd654c81-cd19-4a4c-f849-c4910cd47c69"
      },
      "outputs": [
        {
          "output_type": "stream",
          "name": "stdout",
          "text": [
            "\u001b[K     |████████████████████████████████| 177 kB 4.3 MB/s \n",
            "\u001b[K     |████████████████████████████████| 1.6 MB 39.7 MB/s \n",
            "\u001b[K     |████████████████████████████████| 1.5 MB 42.4 MB/s \n",
            "\u001b[K     |████████████████████████████████| 1.1 MB 38.8 MB/s \n",
            "\u001b[?25h  Installing build dependencies ... \u001b[?25l\u001b[?25hdone\n",
            "  Getting requirements to build wheel ... \u001b[?25l\u001b[?25hdone\n",
            "    Preparing wheel metadata ... \u001b[?25l\u001b[?25hdone\n",
            "  Building wheel for gym (setup.py) ... \u001b[?25l\u001b[?25hdone\n",
            "  Building wheel for AutoROM.accept-rom-license (PEP 517) ... \u001b[?25l\u001b[?25hdone\n",
            "\u001b[K     |████████████████████████████████| 448 kB 4.2 MB/s \n",
            "\u001b[?25h"
          ]
        }
      ],
      "source": [
        "# @title Install dependencies\n",
        "!sudo apt-get update > /dev/null 2>&1\n",
        "!sudo apt-get install -y xvfb python-opengl ffmpeg > /dev/null 2>&1\n",
        "!pip install rarfile --quiet\n",
        "!pip install stable-baselines3[extra] ale-py==0.7.4 --quiet\n",
        "!pip install box2d-py --quiet\n",
        "!pip install gym pyvirtualdisplay --quiet"
      ]
    },
    {
      "cell_type": "code",
      "execution_count": 2,
      "metadata": {
        "execution": {},
        "id": "pE3qZJLcobbW"
      },
      "outputs": [],
      "source": [
        "# Imports\n",
        "import io\n",
        "import os\n",
        "import glob\n",
        "import torch\n",
        "import base64\n",
        "import stable_baselines3\n",
        "\n",
        "import numpy as np\n",
        "import matplotlib.pyplot as plt\n",
        "\n",
        "from stable_baselines3 import DQN\n",
        "from stable_baselines3.common.results_plotter import ts2xy, load_results\n",
        "from stable_baselines3.common.callbacks import EvalCallback\n",
        "from stable_baselines3.common.env_util import make_atari_env\n",
        "\n",
        "import gym\n",
        "from gym import spaces\n",
        "from gym.wrappers import Monitor,RecordVideo"
      ]
    },
    {
      "cell_type": "code",
      "source": [
        "print(gym.__version__)"
      ],
      "metadata": {
        "colab": {
          "base_uri": "https://localhost:8080/"
        },
        "id": "gPoZnSTGFvEp",
        "outputId": "2a245bfe-869e-40bb-e6bc-0740642e59b2"
      },
      "execution_count": 3,
      "outputs": [
        {
          "output_type": "stream",
          "name": "stdout",
          "text": [
            "0.21.0\n"
          ]
        }
      ]
    },
    {
      "cell_type": "code",
      "execution_count": 4,
      "metadata": {
        "execution": {},
        "id": "fp1bUnClobbY"
      },
      "outputs": [],
      "source": [
        "# @title Plotting/Video functions\n",
        "from IPython.display import HTML\n",
        "from pyvirtualdisplay import Display\n",
        "from IPython import display as ipythondisplay\n",
        "\n",
        "display = Display(visible=0, size=(1400, 900))\n",
        "display.start()\n",
        "\n",
        "\"\"\"\n",
        "Utility functions to enable video recording of gym environment\n",
        "and displaying it.\n",
        "To enable video, just do \"env = wrap_env(env)\"\"\n",
        "\"\"\"\n",
        "\n",
        "def show_video():\n",
        "  mp4list = glob.glob('video/*.mp4')\n",
        "  if len(mp4list) > 0:\n",
        "    mp4 = mp4list[0]\n",
        "    video = io.open(mp4, 'r+b').read()\n",
        "    encoded = base64.b64encode(video)\n",
        "    ipythondisplay.display(HTML(data='''<video alt=\"test\" autoplay\n",
        "                loop controls style=\"height: 400px;\">\n",
        "                <source src=\"data:video/mp4;base64,{0}\" type=\"video/mp4\" />\n",
        "             </video>'''.format(encoded.decode('ascii'))))\n",
        "  else:\n",
        "    print(\"Could not find video\")\n",
        "\n",
        "\n",
        "def wrap_env(env):\n",
        "  env = Monitor(env, './video', force=True)\n",
        "  # env = RecordVideo(env, './video')\n",
        "  return env"
      ]
    },
    {
      "cell_type": "markdown",
      "metadata": {
        "execution": {},
        "id": "psfdqUCmobba"
      },
      "source": [
        "---\n",
        "# Introduction\n",
        "\n",
        "In a standard RL setting, an agent learns optimal behavior from an environment through a feedback mechanism to maximize a given objective. Many algorithms have been proposed in the RL literature that an agent can apply to learn the optimal behavior. One such popular algorithm is the Deep Q-Network (DQN). This algorithm makes use of deep neural networks to compute optimal actions. In this project, your goal is to understand the effect of the number of neural network layers on the algorithm's performance. The performance of the algorithm can be evaluated through two metrics - Speed and Stability. \n",
        "\n",
        "**Speed:** How fast the algorithm reaches the maximum possible reward. \n",
        "\n",
        "**Stability** In some applications (especially when online learning is involved), along with speed, stability of the algorithm, i.e., minimal fluctuations in performance, is equally important. \n",
        "\n",
        "In this project, you should investigate the following question:\n",
        "\n",
        "**What is the impact of number of neural network layers on speed and stability of the algorithm?**\n",
        "\n",
        "You do not have to write the DQN code from scratch. We have provided a basic implementation of the DQN algorithm. You only have to tune the hyperparameters (neural network size, learning rate, etc), observe the performance, and analyze. More details on this are provided below. \n",
        "\n",
        "Now, let us discuss the RL task we have chosen, i.e., Lunar Lander. This task consists of the lander and a landing pad marked by two flags. The episode starts with the lander moving downwards due to gravity. The objective is to land safely using different engines available on the lander with zero speed on the landing pad as quickly and fuel efficient as possible. Reward for moving from the top of the screen and landing on landing pad with zero speed is between 100 to 140 points. Each leg ground contact yields a reward of 10 points. Firing main engine leads to a reward of -0.3 points in each frame. Firing the side engine leads to a reward of -0.03 points in each frame. An additional reward of -100 or +100 points is received if the lander crashes or comes to rest respectively which also leads to end of the episode. \n",
        "\n",
        "The input state of the Lunar Lander consists of following components:\n",
        "\n",
        "  1. Horizontal Position\n",
        "  2. Vertical Position\n",
        "  3. Horizontal Velocity\n",
        "  4. Vertical Velocity\n",
        "  5. Angle\n",
        "  6. Angular Velocity\n",
        "  7. Left Leg Contact\n",
        "  8. Right Leg Contact\n",
        "\n",
        "The actions of the agents are:\n",
        "  1. Do Nothing\n",
        "  2. Fire Main Engine\n",
        "  3. Fire Left Engine\n",
        "  4. Fire Right Engine\n",
        "\n",
        "\n",
        "<img src=\"https://raw.githubusercontent.com/NeuromatchAcademy/course-content-dl/main/projects/static/lunar_lander.png\">"
      ]
    },
    {
      "cell_type": "markdown",
      "metadata": {
        "execution": {},
        "id": "fGCTNteSobbd"
      },
      "source": [
        "---\n",
        "# Basic DQN Implementation\n",
        "\n",
        "We will now implement the DQN algorithm using the existing code base. We encourage you to understand this example and re-use it in an application/project of your choice! "
      ]
    },
    {
      "cell_type": "markdown",
      "metadata": {
        "execution": {},
        "id": "sEG8U0Pmobbf"
      },
      "source": [
        "Now, let us set some hyperparameters for our algorithm. This is the only part you would play around with, to solve the first part of the project. "
      ]
    },
    {
      "cell_type": "markdown",
      "source": [
        "## Tuning hyperparameters"
      ],
      "metadata": {
        "id": "XgNuDz2mrq0g"
      }
    },
    {
      "cell_type": "markdown",
      "source": [
        "ref: \n",
        "\n",
        "1.   template https://github.com/AI4Finance-Foundation/FinRL/blob/master/tutorials/4-Optimization/FinRL_HyperparameterTuning_using_Optuna_basic.ipynb\n",
        "\n",
        "2.   tutorial (combined with template): https://medium.com/analytics-vidhya/hyperparameter-tuning-using-optuna-for-finrl-8a49506d2741\n",
        "\n",
        "3.  set parameter function: https://github.com/DLR-RM/rl-baselines3-zoo/blob/master/utils/hyperparams_opt.py\n",
        "\n",
        "4.   callback function: https://github.com/DLR-RM/rl-baselines3-zoo/blob/master/utils/callbacks.py#L10\n",
        "\n",
        "\n",
        "\n"
      ],
      "metadata": {
        "id": "6RQ_bAC6KlAU"
      }
    },
    {
      "cell_type": "code",
      "source": [
        "!pip3 install optuna --quiet"
      ],
      "metadata": {
        "id": "qSg7t4EJx9Pp",
        "colab": {
          "base_uri": "https://localhost:8080/"
        },
        "outputId": "5ba9b602-e7da-4baf-f4d5-d908e4017e37"
      },
      "execution_count": 5,
      "outputs": [
        {
          "output_type": "stream",
          "name": "stdout",
          "text": [
            "\u001b[K     |████████████████████████████████| 308 kB 4.2 MB/s \n",
            "\u001b[K     |████████████████████████████████| 209 kB 51.9 MB/s \n",
            "\u001b[K     |████████████████████████████████| 81 kB 9.7 MB/s \n",
            "\u001b[K     |████████████████████████████████| 78 kB 7.8 MB/s \n",
            "\u001b[K     |████████████████████████████████| 112 kB 58.0 MB/s \n",
            "\u001b[K     |████████████████████████████████| 147 kB 60.9 MB/s \n",
            "\u001b[K     |████████████████████████████████| 49 kB 6.1 MB/s \n",
            "\u001b[?25h  Building wheel for pyperclip (setup.py) ... \u001b[?25l\u001b[?25hdone\n"
          ]
        }
      ]
    },
    {
      "cell_type": "code",
      "source": [
        "import optuna\n",
        "\n",
        "from IPython.display import clear_output\n",
        "import sys"
      ],
      "metadata": {
        "id": "CHT0LZ0WyERZ"
      },
      "execution_count": 6,
      "outputs": []
    },
    {
      "cell_type": "markdown",
      "source": [
        "### define search space"
      ],
      "metadata": {
        "id": "i_gZFwkKtj5T"
      }
    },
    {
      "cell_type": "code",
      "source": [
        "def sample_dqn_params(trial: optuna.Trial):\n",
        "    \"\"\"\n",
        "    Sampler for DQN hyperparams.\n",
        "    :param trial:\n",
        "    :return:\n",
        "    \"\"\"\n",
        "    learning_rate = trial.suggest_loguniform(\"learning_rate\", 1e-5, 1e-2)\n",
        "\n",
        "    net_arch = trial.suggest_categorical(\"net_arch\", [\"two\", \"three\"]) #, \"two_big\"\n",
        "    net_arch = {\"two\": [64, 64], \"three\": [64, 64, 64]}[net_arch] #, \"two_big\": [256, 256]\n",
        "\n",
        "    hyperparams = {\n",
        "        \"learning_rate\": learning_rate,#\n",
        "        \"policy_kwargs\": dict(activation_fn=torch.nn.ReLU, net_arch=net_arch),\n",
        "        \"batch_size\": 1,  #for simplicity, we are not doing batch update.\n",
        "        \"buffer_size\": 1, #size of experience of replay buffer. Set to 1 as batch update is not done\n",
        "        \"learning_starts\": 1, #learning starts immediately!\n",
        "        \"gamma\": 0.99, #discount facto. range is between 0 and 1.\n",
        "        \"tau\": 1,  #the soft update coefficient for updating the target network\n",
        "        \"target_update_interval\": 1, #update the target network immediately.\n",
        "        \"train_freq\": (1,\"step\"), #train the network at every step.\n",
        "        \"max_grad_norm\": 10, #the maximum value for the gradient clipping\n",
        "        \"exploration_initial_eps\": 1, #initial value of random action probability\n",
        "        \"exploration_fraction\": 0.5, #fraction of entire training period over which the exploration rate is reduced\n",
        "        \"gradient_steps\": 1, #number of gradient steps\n",
        "        \"seed\": 1, #seed for the pseudo random generators\n",
        "        \"verbose\": 0\n",
        "    }\n",
        "    return hyperparams"
      ],
      "metadata": {
        "id": "mWhSf_qjk8T4"
      },
      "execution_count": null,
      "outputs": []
    },
    {
      "cell_type": "markdown",
      "source": [
        "### define callback"
      ],
      "metadata": {
        "id": "fFyJprz6tp7_"
      }
    },
    {
      "cell_type": "code",
      "source": [
        "class LoggingCallback:\n",
        "    def __init__(self,threshold,trial_number,patience):\n",
        "      '''\n",
        "      threshold: int tolerance for increase in reward\n",
        "      trial_number: int Prune after minimum number of trials\n",
        "      patience: int patience for the threshold\n",
        "      '''\n",
        "      self.threshold = threshold\n",
        "      self.trial_number  = trial_number\n",
        "      self.patience = patience\n",
        "      self.cb_list = [] #Trials list for which threshold is reached\n",
        "    def __call__(self,study:optuna.study, frozen_trial:optuna.Trial):\n",
        "      #Setting the best value in the current trial\n",
        "      study.set_user_attr(\"previous_best_value\", study.best_value)\n",
        "      \n",
        "      #Checking if the minimum number of trials have pass\n",
        "      if frozen_trial.number >self.trial_number:\n",
        "          previous_best_value = study.user_attrs.get(\"previous_best_value\",None)\n",
        "          #Checking if the previous and current objective values have the same sign\n",
        "          if previous_best_value * study.best_value >=0:\n",
        "              #Checking for the threshold condition\n",
        "              if abs(previous_best_value-study.best_value) < self.threshold: \n",
        "                  self.cb_list.append(frozen_trial.number)\n",
        "                  #If threshold is achieved for the patience amount of time\n",
        "                  if len(self.cb_list)>self.patience:\n",
        "                      print('The study stops now...')\n",
        "                      print('With number',frozen_trial.number ,'and value ',frozen_trial.value)\n",
        "                      print('The previous and current best values are {} and {} respectively'\n",
        "                              .format(previous_best_value, study.best_value))\n",
        "                      study.stop()"
      ],
      "metadata": {
        "id": "Q4FKnTdKttOu"
      },
      "execution_count": null,
      "outputs": []
    },
    {
      "cell_type": "markdown",
      "source": [
        "### define objective"
      ],
      "metadata": {
        "id": "B1qV393bpoTO"
      }
    },
    {
      "cell_type": "code",
      "source": [
        "log_dir = \"models\"\n",
        "os.makedirs(log_dir,exist_ok=True) \n",
        "\n",
        "def objective(trial:optuna.Trial):\n",
        "\n",
        "  # Create environment\n",
        "  env = gym.make('LunarLander-v2')\n",
        "  env = stable_baselines3.common.monitor.Monitor(env, log_dir)\n",
        "\n",
        "  #Trial will suggest a set of hyperparamters from the specified range\n",
        "  hyperparameters = sample_dqn_params(trial)\n",
        "  model_dqn = DQN(\"MlpPolicy\", env, **hyperparameters) #Set verbose to 1 to observe training logs. We encourage you to set the verbose to 1.\n",
        "\n",
        "  # define learning steps\n",
        "  trained_dqn = model_dqn.learn(total_timesteps=1, log_interval=10)#100000 , callback=callback\n",
        "  # save model\n",
        "  trained_dqn.save('models/dqn_{}.pth'.format(trial.number)) \n",
        "\n",
        "  x, y = ts2xy(load_results(log_dir), 'episodes') # timesteps\n",
        "  # clear_output(wait=True)\n",
        "  #For the given hyperparamters, determine reward\n",
        "  reward = sum(y)\n",
        "  return reward\n",
        "\n",
        "#Create a study object and specify the direction as 'maximize'\n",
        "#As you want to maximize reward\n",
        "#Pruner stops not promising iterations\n",
        "#Use a pruner, else you will get error related to divergence of model\n",
        "#You can also use Multivariate samplere\n",
        "#sampler = optuna.samplers.TPESampler(multivarite=True,seed=42)\n",
        "sampler = optuna.samplers.TPESampler(seed=42)\n",
        "study = optuna.create_study(study_name=\"dqn_study\",direction='maximize',\n",
        "                            sampler = sampler, pruner=optuna.pruners.HyperbandPruner())\n",
        "\n",
        "logging_callback = LoggingCallback(threshold=10, patience=30, trial_number=5)\n",
        "#You can increase the n_trials for a better search space scanning\n",
        "study.optimize(objective, n_trials=4, catch=(ValueError,),callbacks=[logging_callback])"
      ],
      "metadata": {
        "id": "2s-bjWndt_a6",
        "colab": {
          "base_uri": "https://localhost:8080/"
        },
        "outputId": "4a5678ae-684c-487f-da4a-25b63443aab5"
      },
      "execution_count": null,
      "outputs": [
        {
          "output_type": "stream",
          "name": "stderr",
          "text": [
            "\u001b[32m[I 2022-07-22 08:35:24,721]\u001b[0m A new study created in memory with name: dqn_study\u001b[0m\n",
            "\u001b[32m[I 2022-07-22 08:35:27,212]\u001b[0m Trial 0 finished with value: 0.0 and parameters: {'learning_rate': 0.0001329291894316216, 'net_arch': 'two'}. Best is trial 0 with value: 0.0.\u001b[0m\n",
            "\u001b[32m[I 2022-07-22 08:35:27,262]\u001b[0m Trial 1 finished with value: 0.0 and parameters: {'learning_rate': 0.0006251373574521745, 'net_arch': 'two'}. Best is trial 0 with value: 0.0.\u001b[0m\n",
            "\u001b[32m[I 2022-07-22 08:35:27,311]\u001b[0m Trial 2 finished with value: 0.0 and parameters: {'learning_rate': 1.493656855461762e-05, 'net_arch': 'two'}. Best is trial 0 with value: 0.0.\u001b[0m\n",
            "\u001b[32m[I 2022-07-22 08:35:27,367]\u001b[0m Trial 3 finished with value: 0.0 and parameters: {'learning_rate': 0.001331121608073689, 'net_arch': 'three'}. Best is trial 0 with value: 0.0.\u001b[0m\n"
          ]
        }
      ]
    },
    {
      "cell_type": "markdown",
      "source": [
        "### get the best model"
      ],
      "metadata": {
        "id": "tf91UWqvzR6Y"
      }
    },
    {
      "cell_type": "code",
      "source": [
        "#Get the best hyperparamters\n",
        "print('Hyperparameters after tuning',study.best_params)"
      ],
      "metadata": {
        "colab": {
          "base_uri": "https://localhost:8080/"
        },
        "id": "CcDma0wSy02u",
        "outputId": "68d7a764-66c8-444d-c3b0-289c6ee00483"
      },
      "execution_count": null,
      "outputs": [
        {
          "output_type": "stream",
          "name": "stdout",
          "text": [
            "Hyperparameters after tuning {'learning_rate': 0.0001329291894316216, 'net_arch': 'two'}\n"
          ]
        }
      ]
    },
    {
      "cell_type": "code",
      "source": [
        "study.best_trial"
      ],
      "metadata": {
        "colab": {
          "base_uri": "https://localhost:8080/"
        },
        "id": "yqou4GOlzWMh",
        "outputId": "af63b514-9589-4686-b264-acb47bb618f8"
      },
      "execution_count": null,
      "outputs": [
        {
          "output_type": "execute_result",
          "data": {
            "text/plain": [
              "FrozenTrial(number=0, values=[0.0], datetime_start=datetime.datetime(2022, 7, 22, 8, 35, 24, 738095), datetime_complete=datetime.datetime(2022, 7, 22, 8, 35, 27, 211750), params={'learning_rate': 0.0001329291894316216, 'net_arch': 'two'}, distributions={'learning_rate': LogUniformDistribution(high=0.01, low=1e-05), 'net_arch': CategoricalDistribution(choices=('two', 'three'))}, user_attrs={}, system_attrs={}, intermediate_values={}, trial_id=0, state=TrialState.COMPLETE, value=None)"
            ]
          },
          "metadata": {},
          "execution_count": 10
        }
      ]
    },
    {
      "cell_type": "markdown",
      "source": [
        "## Template"
      ],
      "metadata": {
        "id": "mObWM9TLp2lj"
      }
    },
    {
      "cell_type": "code",
      "execution_count": null,
      "metadata": {
        "execution": {},
        "id": "vJm_qzWkobbg"
      },
      "outputs": [],
      "source": [
        "nn_layers = [64,64] #This is the configuration of your neural network. Currently, we have two layers, each consisting of 64 neurons.\n",
        "                    #If you want three layers with 64 neurons each, set the value to [64,64,64] and so on.\n",
        "\n",
        "learning_rate = 0.001 #This is the step-size with which the gradient descent is carried out.\n",
        "                      #Tip: Use smaller step-sizes for larger networks."
      ]
    },
    {
      "cell_type": "markdown",
      "metadata": {
        "execution": {},
        "id": "-9bGzUVPobbh"
      },
      "source": [
        "Now, let us setup our model and the DQN algorithm. "
      ]
    },
    {
      "cell_type": "code",
      "execution_count": null,
      "metadata": {
        "execution": {},
        "id": "1dN91ycLobbh"
      },
      "outputs": [],
      "source": [
        "log_dir = \"/tmp/gym/\"\n",
        "os.makedirs(log_dir, exist_ok=True)\n",
        "\n",
        "# Create environment\n",
        "env = gym.make('LunarLander-v3')\n",
        "#You can also load other environments like cartpole, MountainCar, Acrobot. Refer to https://gym.openai.com/docs/ for descriptions.\n",
        "#For example, if you would like to load Cartpole, just replace the above statement with \"env = gym.make('CartPole-v1')\".\n",
        "\n",
        "env = stable_baselines3.common.monitor.Monitor(env, log_dir )\n",
        "\n",
        "callback = EvalCallback(env,log_path = log_dir, deterministic=True) #For evaluating the performance of the agent periodically and logging the results.\n",
        "\n",
        "policy_kwargs = dict(activation_fn=torch.nn.ReLU,\n",
        "                     net_arch=nn_layers)\n",
        "model = DQN(\"MlpPolicy\", env, policy_kwargs = policy_kwargs,\n",
        "            learning_rate=learning_rate,\n",
        "            batch_size=1,  #for simplicity, we are not doing batch update.\n",
        "            buffer_size=1, #size of experience of replay buffer. Set to 1 as batch update is not done\n",
        "            learning_starts=1, #learning starts immediately!\n",
        "            gamma=0.99, #discount facto. range is between 0 and 1.\n",
        "            tau = 1,  #the soft update coefficient for updating the target network\n",
        "            target_update_interval=1, #update the target network immediately.\n",
        "            train_freq=(1,\"step\"), #train the network at every step.\n",
        "            max_grad_norm = 10, #the maximum value for the gradient clipping\n",
        "            exploration_initial_eps = 1, #initial value of random action probability\n",
        "            exploration_fraction = 0.5, #fraction of entire training period over which the exploration rate is reduced\n",
        "            gradient_steps = 1, #number of gradient steps\n",
        "            seed = 1, #seed for the pseudo random generators\n",
        "            verbose=0) #Set verbose to 1 to observe training logs. We encourage you to set the verbose to 1.\n",
        "\n",
        "# You can also experiment with other RL algorithms like A2C, PPO, DDPG etc. Refer to  https://stable-baselines3.readthedocs.io/en/master/guide/examples.html\n",
        "#for documentation. For example, if you would like to run DDPG, just replace \"DQN\" above with \"DDPG\"."
      ]
    },
    {
      "cell_type": "markdown",
      "metadata": {
        "execution": {},
        "id": "0-7OLtdpobbi"
      },
      "source": [
        "Before we train the model, let us look at an instance of Lunar Lander **before training**.  \n",
        "\n",
        "**Note:** The following code for rendering the video is taken from https://colab.research.google.com/github/jeffheaton/t81_558_deep_learning/blob/master/t81_558_class_12_01_ai_gym.ipynb#scrollTo=T9RpF49oOsZj"
      ]
    },
    {
      "cell_type": "code",
      "execution_count": null,
      "metadata": {
        "execution": {},
        "id": "8nEQvdE7obbj",
        "outputId": "1a069bb5-4930-4874-acc2-7d630e09d625",
        "colab": {
          "base_uri": "https://localhost:8080/",
          "height": 421
        }
      },
      "outputs": [
        {
          "output_type": "display_data",
          "data": {
            "text/plain": [
              "<IPython.core.display.HTML object>"
            ],
            "text/html": [
              "<video alt=\"test\" autoplay\n",
              "                loop controls style=\"height: 400px;\">\n",
              "                <source src=\"data:video/mp4;base64,AAAAIGZ0eXBpc29tAAACAGlzb21pc28yYXZjMW1wNDEAAAAIZnJlZQAAPThtZGF0AAACrgYF//+q3EXpvebZSLeWLNgg2SPu73gyNjQgLSBjb3JlIDE1MiByMjg1NCBlOWE1OTAzIC0gSC4yNjQvTVBFRy00IEFWQyBjb2RlYyAtIENvcHlsZWZ0IDIwMDMtMjAxNyAtIGh0dHA6Ly93d3cudmlkZW9sYW4ub3JnL3gyNjQuaHRtbCAtIG9wdGlvbnM6IGNhYmFjPTEgcmVmPTMgZGVibG9jaz0xOjA6MCBhbmFseXNlPTB4MzoweDExMyBtZT1oZXggc3VibWU9NyBwc3k9MSBwc3lfcmQ9MS4wMDowLjAwIG1peGVkX3JlZj0xIG1lX3JhbmdlPTE2IGNocm9tYV9tZT0xIHRyZWxsaXM9MSA4eDhkY3Q9MSBjcW09MCBkZWFkem9uZT0yMSwxMSBmYXN0X3Bza2lwPTEgY2hyb21hX3FwX29mZnNldD0tMiB0aHJlYWRzPTMgbG9va2FoZWFkX3RocmVhZHM9MSBzbGljZWRfdGhyZWFkcz0wIG5yPTAgZGVjaW1hdGU9MSBpbnRlcmxhY2VkPTAgYmx1cmF5X2NvbXBhdD0wIGNvbnN0cmFpbmVkX2ludHJhPTAgYmZyYW1lcz0zIGJfcHlyYW1pZD0yIGJfYWRhcHQ9MSBiX2JpYXM9MCBkaXJlY3Q9MSB3ZWlnaHRiPTEgb3Blbl9nb3A9MCB3ZWlnaHRwPTIga2V5aW50PTI1MCBrZXlpbnRfbWluPTI1IHNjZW5lY3V0PTQwIGludHJhX3JlZnJlc2g9MCByY19sb29rYWhlYWQ9NDAgcmM9Y3JmIG1idHJlZT0xIGNyZj0yMy4wIHFjb21wPTAuNjAgcXBtaW49MCBxcG1heD02OSBxcHN0ZXA9NCBpcF9yYXRpbz0xLjQwIGFxPTE6MS4wMACAAAAGgWWIhAAv//72rvzLK3R+lS4dWXuzUfLoSXL9iDB9lNeHnOl4Aj8IZoKpFD9qys9umHofIZGknxgEiV4U4kyGt3gQQd9HxgtSVqbdNi4vptIOJEdxbQJffvWOntDyWwz/ID+e+TxCy2xLGyJcLRC8+sIJ+EyQYPMYZgmdTEc6AXhUMXoup90Snp6Peg2h+rqKv+3jycwDQEx8hLSl8AT+k213bFI1WTrW99ICARm7T9IaKUFxbspW5o7Ep+GompYMbZFoYJbyVJmJz1NFG2L13SJL3wKgA3LSD/t46gn6y0W/wNgAAAMAABYgiX1I2I18yBg0hWwWh0eYHe4JX/kNyGYIBz+ILASxQwAADPA6Aqsr5LAngcocoggrpAx5EIIKVQswNrDqOcxTgpJV3GSNi88qml2KEVKp1vDijCy2FLwXTjY4GRs6Gk2bWAnJXADSUxx0SX0lib6JA0gNdAwred3XZiBNHP/CRr0vYh/gdwnyuLZskT2JhPVunJV9CJszAOlF7MfRngU4s/TcjR2tfcfjdVjYP8Zm8eCStvPUuDFh0p3yViH/NnWcNgwlnA+wmPn71KF3QNsgki/eNS2FkOnNc/FT8Vs1Ez/SAM7N5iJR5Y1WluLTMsOprk/ZeUAi4unsfVHv4Dmu6DJJ92dh2qSoQlB0h552MfqgNFEhC5oLhzRlqMfQTMnTAUbODSsEfMwdpUt3oCg/VA9C/760kP/YQWE0r0qx6RpsPB2zOL/4ta4UAB+2XBO+74a5T3db61uHyfTBKO7gilIcQ6E499iwixywky6p2PzM6JTfgENXFOJkMVJYjOg2PgYW7wFGF0SelZf9y4AKG8OTPf+pd6/7gyiwz/A0fNTmCK6oNwv8a4BUO0YAi4fNNdLzlhCCgQc2kJwfy0T9q844mbrPJiyMAAOPgxRyWuLpNv4T3ZIFOdBdOQ9siSfLRObcLEu4umkHogQmAv0flPWkdh4MaF0cAOv+qCKiB/oTFjbT/vmNQX+rNsCJQU/Uha/r6oa560unydpRCzQhYYUUl99YIOWZ0ikfOluJpUt+5TmmO7V/CH4So1WTDqIauY8qkpF7b3U7XxPt5i8qAGK+0f7kjeMhDBdECWluXWy2IpyqCoP7p/gEI7o2ADYXpe13LE6iwgZuqyXo9Ssu5kdy/NJ/cFNtR3gseNmMTjkhegss9kUrdVu3fvc67RZrDFqMBNQEDlYsdLnjHEYIWwa9EwPowmdCkhUWDIPdAtam7eyAmT/xOGn8RJGiOkRrsQC/86pATANFtYP7tSYmLuVFQlSzDndYidSjjcW3ghDzb5gtszTmtqwgWJefSXiPy9Y8lTpjuFmnanZzTVFt7lCsUwFiBMSRGaD3RwbbkhZifFjoPIldLtBG9eah8pAanVMky7rSAoyHxXJdKLTBgMBOSusbKFmA7p7WLbzH5zchp7SfRinq3C9xfaNNiqq8I6cJZWphOnfhhnQqw5V82g9hdMJpbYKXp7BQZMlYSv38iPb32srW69gT/xqh76IR+yS2wzWqLyW1Alke8f197sk8clA1BfqN+jNXmcaLK4lkbqaLyfV4KET+MRo7t5H0zL8i27t/5tLX6NJ3wBpCDAGRHSE2R/bomP5UjdMkIrbnbC68bf5STBSLKWFr5reJ+8t/Jg2UpSViC0meiwAy1kh3OmbZSIPhUzDNQPAPhe/CmusqKoFWDDpijFfp6K369WOvrixe4w3uMzpuq70DV9sVQAeDA0wdiTH9wT4///0II/1xBoqTsf2VVgPLRL4uHQ3WLzNtFgfFJ3syCYCtXL1TImQAIg4GJLjiVmrM9Iq4jdu8O50fl23Z/Cjf3YeGaYooplK6h1x3Fpr7H4uC3Vzeo+fNM22sI3jI6ac8T3Gcp86JTzPaEcK/fSx3QRYe1qxXWN3x/1+TG1uYqOnoJ2wyIT4S0HlYIWY2UV9yIKVR19xeD8IrsyHUkowt0H9NqRk2sOnU+dxCS+Nz0muG9tB1gj31jW91om6ftz4v4Nc2fLz1L9sD3KnPGpBNIZY/HQjt7bNSeDCXzr+djaRtnMDkTHcF7N0N4fQYrgFZgcKUAcA93XhtzczXCMuybxqtqqurvpywdn5QebTOTdE6Hkfs8F66mU3g/mpS44HFoX5e7rz5SQqcquTg9AVw0j0ta0z7vv9NywbQH0XS58Jy4d0aIUZlrrT5nc6gAvybVreMAAADAAAEzQAAAVpBmiRsQv/+jM/PgX51PKMgA+L//+weQda9knuBFmxZr7G7D1Cfrt0q0I+KS0eyTs4whO8CEPRz+u6vzYfyrBemnDuWNDzZe8urt7gD1Gv1Qear/Fwt7DM+WpHPYAfskgKAAAADAHlWQk8XS3lY0VPZbzoBZ4gG7PY8rjJsSC2U1D/Y2Ve+7WpVpUB+ccRAQGldB+vX/kiN7cWjpf7bfALwlrNG2nYy29YpIAOoWRgz7y0kaf5bg1yXY6Ob96rGD/cc+Zr7g8tUXoNK1jGx2ZjkZCqcXnvOvXA6xCttREB7SXLD1wu2VovKbD/C0uOEu+d1ICaO3vy+CWWFXmQo/MuwGyGgb+m1UXR6EdbJf4v5dYwaf3fPHUHzdUG9cix4u3/vWd4RJQIQJz8KD8s+fOhGdte/RRnwashd8p4876KBZm3zcIVbclyKPg+7vMMtMRV6JMQ53eD+OQAEAAAAZUGeQniEfw9tLk0RMG4pbhE/rAAXB42sCybzt08HOeDxjU16H8R4Ap/o4tI2i12B7h+1HsU19cR9t+UR6bcqbMwbrl0OVGRHEdDg6P+dbZUBC+rLPVpyuJiZMM7jxhsvpOppGDVhAAAAZwGeYXRH/xTwEGFQ8yB+Zu+2ssAEyvjPCjzxcEHPGHUiG1WxgAlC3CU9HHDLvva5MgAbILyRH1s/t9mPQCmHs9bWJACoAAFeL+YCHaa+q+bo/gc+RM5hCsbRy7PSldTw3Ob3M1AgakAAAABxAZ5jakf/FQWia8krRii7ROKAEo44YZdZ/O3K+7N4KKuZIATGC8QeL29mHALdLqDyfA9oHVmBsYduwkaBa2wAjETvC20IMH78X1d1GeA5lBGoN+6iyzXCUxj7tEqtGItPEfqX4VMOlZaZ6GUyuYWiCHkAAAEFQZpoSahBaJlMCF///ozTM3+ihEPKzg5ABZF/tjSp8pOO/SEO+z27Ue/j3dbilbQLIJSEIkOxYDsWCThqApGS1DlhoAAAAwDemwmZ6KDqbNxRJTkHHvOQekzp8dRFbeOVo6WfZlg0geIVQPhXs/VUcnI+pfCejGqbhVO1yIyZuGFPVbX3kN977talbd4bqg+ta0PGZRqv+pfh/xnVrxG1fa5xEoa+EZbIYEnJIgkVphF7lRrX/TJNalnnUWFsSxsogo9/yEXpBBgbjwnLTPjh0enPVRZKKhmp3K+CJByeOIgLawMMH/eaXcfaDCwZcz21XSD6jB5Vo/Ndr0LYzPtdOWrKwILTAAAAgkGehkURLCP/D2zZCcgE1NwQkLc+o1gYp4N8z6YnGzuIGXavivF24mACOAl4r5BSmMm6ggeOBNbL0lykvlpjtYqlMJHsqPxm69aay5q6xC69gASF7pIB00mPYUsGcVL05yXD2BAK2SXVqPrIDUMUSx1Tqfgj6uO4fe50C84zgMXAf4EAAABVAZ6ldEf/FKakG16JSJLF+BAAnWhxVOqN79cLmR8gy5sWr2y+Jc/YmTs1PwACQWIYIxHqQvH9ZGGKMRW5IbrbXzf7TXUe2jEjdxbqjN6sf/Njt7QGVQAAAFcBnqdqR/8VBOJ+vpVTzz4zKoBrvraUTFspTcqDcWqGwI7a2p29GpG5vswA00mS3nWFzSzexF+S5gHP8AuCImO1OFUnBjohnjl2+/9ce++mkDIqtRrILaAAAAE+QZqqSahBbJlMFEwv//6Mw/kll6yZKC1Wp6fAAEP+8a7PkXX1IkxLrpAVw8U6vzniYPvyrU4kMuKzSq1YeHMR6hVnZTr/c19SWqQqpj0POcJhRMYeVEohXPuC7Ss0TSL+gQ7pFvediIvJgqYQfpAO4RAgnN6gYuYEAAAJusZvPtrqjeMuap0Rv+upmY2Pze8wZqY6yMU4CZHJTF81SkKTdWHVq7hKDNnHEKJYMvE+NcBVGf2U+QZZUOb9LA4xWatk6MuvHvkWygGCMzP3u2qZsdmE9hXzlr5YxdOgUCIDmlAuxEpnE50HKtxH4uXLlAHvdax//3w3RGiyfTCYeKJxsW891AYMpKZ/jZfrFQSgR5w6W8u1b1vK+99gTqmW14AgQ8lTy4qrgEFQTohqCdgLCDLVhcDMEWswlf5kCCtgAAAAbQGeyWpH/xMD/hT8VKvRkWDEr7u34AbZQkTEWYTLBnKjgXN+K848RBg+WJrC/Uakz8hSwuXx8gBEL2/KqJyqLR7Niho318JP8yX+ic4XNIpBlyKknvAipTTXzbmfH5YnAPEgOBOy30uhXQ481lUAAAFIQZrMSeEKUmUwUsL//ozD9QTiY4YVcc9LM4AJR4NVzJvCuEel29u7bcq1LEJQEeP0am+of+ckyKTlr5yb3Nzx+42m5DHOs6s7ERJWJN2MJ6D6xbCOV1kDa4z54TXmvqdkuMZx+/kFGsHOaZLmB7SXAOSbdgOE7lXAElkMRjsun/Rvz3h/gwGDbeOeSHTbX6yi6qnVNxQoD1HWqeET6j1Eu3LkmBmyKR+sr5zXy7DKimE+pIMI42xyMQUg5fiFOEj5GKQnRjl+RXfXyeGBgymI/vpy9Y7ODIgiYM+6jIBcwrqqdEm9xk3Fvly5tET4AkEDP0JW4L4z0GDvnV+QifM0KtJjSXZuexl49ERbis3wIS6gdfnBwqUJdJHO72gcys0SUpTBaPcmLbO2xuAL/ikeN/JvZzqXofl1zixeOPV9eF2tPCsP98AXcAAAAJQBnutqR/8TA/5RRt3qFl0X+KQFW0hAAJwYfzu5aMQWgVwIQD9ivAaBEyZrPvhXVuqlyR4gGxEMThcUmWOCBm3OH1jk8CkrRfhWzaU2wOiHWkaq2A38t/Ov8TsRtzq4NSr0atnafxoww2rKBDziYBfy+9aiDjpuuc+oq5gARyfLa4r2EGEKadhR0ywd2S6eyVxb3UFlAAABTkGa70nhDomUwIX//ozGumzOVZVqAZVgK1q2kD67EZv8p4Rp6l+SgO7cRqMtcLWe9FnPRw1VU8vNkwxIKfPJj6CKe5nKugQRPYRP1FpNIWl1iZeG6uvjwZYGPr/5fG0Zjvzye/Njb7rJn+rzLhwAAAMAJUb8o/qIvwerBVkG/6JtVGfi9WjO7kE1L0r2uTF2Z6p1X8JlIA5P3egSm9isYayM8mNzcUyl6KI/2G1S/vfmjt0ooafWaK6Cvw2af/JfXZ77talnEma5gN4vVBgK+1S6o9kaASKgih/7rm3bxS1hXZFAWIsFIjlrqYOBBHDvG+Y5m9c1DhG5iOhq3l4pqCDZkJSycJatU+OiTeDyzvD7KFpnkHt3hgAXvkW38StzSloXeeHiuK9saPTZE/q8vp8YXO0m79r8731JrvMnkejHvsi/dJsMBMLS60GyQhcAAACqQZ8NRRU8I/8N/C4ISBgVbSRbZLTaOONIAEqPjKC4O6iYJxR7CgWXALVUmIKaqhIZt5N1EfAWns9WDA+289xvMNQ3Fxc7qNrvOMrgy4PfI8Vlo7fNF3SxwoOzTYvh+gyYmBFq05qXPcAsCLmprGfl7j918mssshmrxIM+N/I1i2lCjCKr0KQPvcP3qV+oz0/joY+ZwAEmLrgNucd4U4MgGeWBayw7zimGJmEAAACZAZ8uakf/ExmAoxq+5BO5D0vhwALoKPevIJTql3xMLff1nSuJGxVwDDj30kwDos0FreCYDsgXqO4dsz2KrEWgglow7XgMcDvhmGb86bUNBKWDhD3DkSA65/rV3pSWMqA4Yuf2n5jGP0FZQ+OT9Ib9uxJHGQVHAfNXTZSoxeiRgAH5GfxCfzXtm8Uu7xyz0WP9R8DB1/Lf7CThAAABIUGbMEmoQWiZTAhf//6MxqZfxuflmSkBSEa0XAByubgRqv9vNBWDkC8TtS8AZTpXg7FnOmVAOB5dmBaTt2BNRrQXtHVpS5jz1uXxeWVn1n1Ca73L43Q0UFCUTQQ/aCxV5gA64AAAMuvOuKcReuLekV4KCOi53anicreZVLn8YeE2n/6cc9rNU92JjIQ+a77tqmgDY6WcHEqkRXhlhFYBNFpGOPsVExB/dwRzDbUMs4DCnhXZ95rR15f5EEV3s6yTu1fAdBI0v2l1NM7A3DPP8pU8zgzMgjKOVrjZtHAZ3UBC5ZYxduS+rLG+niBVLoGca9UECHhLsTUgmDNeWPemkoKI5W7ciAd81yAAu4XLFei5y7REV4vFyboYpT3eYcFABMwAAAFEQZtTSeEKUmUwIX/+jLmAfhd4plUYY4AJ00hPvJWEjmhD+FKVlxW33SxpoDVYo2dA/JgARxtGQS+cPwT8k23nS7dVsDwvEnsn8OuevgcIvIGvR+6F2SdDYllmc4gDIt/36KsV7i8ATksuciBHUdqSXJrLC7rzeCp0CUIG5mMlM8oeBFTNlWmndliNGnnXXfQVbGOuzpqZmPm5KYiazlctykQ4m6aOvQFxDVqTkjBZwEcl8WKeY2gHJqY+kbzBzrhJyRdHH2si6JwibJ6y4FMfL/Vef25op8NVYVyiyXrYPfPn6q/HYt5jrVIZ2eJ5HQzb2kVoLbHaZHQRM/dBSZUyho2jKYdnqQszo5UgHL5l7wy9pBZ23nDGIwjy97B3IS+gQ+LCNLV2kem5+ef4GpurzKcK1SJesNl64Hc2B24359b47dZQAAAAo0GfcUU0TCP/C2zl0n4AFgkrCplbMK7JduHju+PJQHq6L7kGIrvW03syVnGhl2XiSQy4S4MEXBRIbgh37qAjU258z6rzq3gvXD+fX5a8ZB1R9jF9qrNoziOQMFmGwA6XddH0x4EBxgFZzJR9wLvG3vUd+InJtjGIyy3hnDsQCcDjg68HTC/mb9gyrZcspKPz9PaeQAHG0eaBC9ozTO92ZiW3V4EAAACPAZ+Sakf/D9qhMRg6AEYQqpCV/iWgOIwOXxOPbByfhYNssD7DBkvVjmOrHYsc3gPXnQiFKsDRht+BPwJJwM0b4ceXJsBwUqwHHrSaPXtpvcilvftyOYeaI9VZLwyunvNVZZ6YgDgA11PZhRLh91xGbqMGfH3x7o+19lMeuZPPAA/h5BYqmHKTi17JDuFwi7gAAAF1QZuXSahBaJlMCF///oy6ran3DLwB0ypQr4fJXOWAD0jaNILOb/BJHhE+SLG4KkcnJvfgpAa75MzVtGxzLnUmf4jLbIihDhATPZSjqFmSqTyPN+RU3VHK9v4fiNgpbszlxxglNUZ1Sx1UUftsmkEsAiZLHe8tXxh5prGlSDeYnhOeCRBttp+kA9xP40Aa1XVV+TpE7ZjuwaTJLUSiJNjecxEHF1E5SRGt5kGX70e6y73H8U6345B64PNEePLdjslNWEC+vRt/ERUGxXrA+rgCuLhEJ+OueyS6oTBkkm8a2yPgsRpkQkfhm2CCoxQxXSuASRDk8lDFER1gD7CvVe6TDYbsN/Wy0sIfamNb0gURzzI35d2mahhkhEQP1dzBFAYYmarYIapeddBNc2jR4cRjbpRH47HBh2Ps/NqpAp8pARL3y8Bvyq8J0Wi5X2zrgsMO1PSH2aACmhOlQWZIVhxW1nVX0Xr/tBsMnjqOaWOIP645cvTQgAAAAMZBn7VFESwj/wysOshiruN5RkCgMfnC3xxZmAC4jMCSq9ZmxD1D2XeHxEpp/MufXhG+CIc12H9GcTudj+bkrogu4qGXxJlPS1BUa2PY7I0IC+BiQh0enr4WKsmUuOhHAm8fU1oF1XQCBY6G4phCxImp7OCzHQMiORp7VtvZPWPD7MU9fnfkbktS6kizrcTOKBHZZVCUuJvZp6uWvRbWRFfvGAt7OJ1Cq2IxTfOUmGyaZUqnde25CmJwB2b213vXnqLkIwY9KpEAAACYAZ/UdEf/EX1YlngE0g0FBCBo4DMnFuzErKgfyMBREKccUMw9/qO+uzvIgWlBt+k3jFZyaYoJHMw7CDZZhO052CWrAzFWNZzkipDFVMqA5AV68QjRXASiAY0M8yaqVVYLKR8CVmo2XFngNd8kp13I5JwBa60RwzaEYV8lLcM4wWV8BRlbBYN2HAPACO59NuBaw1lMSLMNMWAAAACkAZ/Wakf/EZt2HAgRUZ/AFac3VLYjBWqWQQIfxw7JIUiPqbv9O/7wXyY5VmD5t4dOIQiSpOewrOM6VGmfarXfFJvYGeqXM6CAgBLn5vIEoq6a86RDxMo2iQWqfdplZ3uTdWHX+b7b/BRpk2bJ+G2A6C/tej3qM3xlAN1KzEluRoOiLFmZ4zwh7eqdGsVEWc7DgpYEZCYjv0oxv54AvpviONkXC4EAAAERQZvZSahBbJlMFEwv//6MsAgnO2ImwBEx357T+f+qKgI29H+j6U0oX+9KDzZV/JgQH1uhJYb8M8aQz/NEMUwIoxZ62VLUn3//f2OFdBcp73u9EPWnzb5NQGSh7+zz63KitLaul5XoiOgIzOBj6KTCtzyJQ0pLLzV1t1OqwHp5m3B8eKrh2vNJTSfteQNZ9TABvNHEG2o94ARrrFa5vP5EBUGtq0o1tZWDWAK1okZePb3801z6+UeeXGuQ2KtLb7p6fHqreuKk/1C3PW91AwpsavT3RJR2fHS5j+9/q71GsyA8TwVaEzy2epCUl8SaYT9Os/Ux+ej+weo/ac0Ung5KJounFWfFmR7ilREjz9dj+NSBAAAAiAGf+GpH/xAIxNhSQ0bRw6ndAqRTaxObCxN2ABaH4LC8TBlyJpfBZjHqYV55+KwE3fJVZ+bn4HRxOGIpM8P4BO3faCGn02m1EtHuF6p9gojt3sk9C2/cZzsfLoj1cSEBWIqZ5sU0UE0eA7bFG4meoqrsOvTbgu6ko21EYuwepb4BIh62nVu8KkAAAAFrQZv9SeEKUmUwIX/+jLAILNO54scfJESoAASyKIB+6KfsA+FOE+8vD6yqG3ev66mnW+QtjZYh2a2p7PzDVqQ3czJHNYaNwt6Z3zo81t9rsQ7fCrPwt5L4B4HxmBqSE41ivuZTl/SUyrE3ms/ThMtG7wjCxR6Dhy/j6QAXcG+QA92+lQe7UOz/7jqhu/an82bhkE9RvaoqzqcwXll8cJc2OEIHCEMl4fq9eGkfPTKeLmERCCwE2mq3kmYC6iwnpPm8rYjyt1vlS5xp1nf1vwZHmF1dW1LWu2SvZVw1hVuZlTNdP+KyveKKEEnWPJqtrtGte72I9VpegrWXoJsDz0zSs+brDuTQ1u4tpUnnQDfa4OaLB/w8rhvc03QFd0lFyBCC3KAMwO2iTY5rbwWTdM6zHPOf+BLGu8wwCDR+rAUnobM2IJWbvyMVIDxKN1XhlCEMfI+LmDFdHP5ycpvPhb9TQgefUlvMSItf5AHrAAAA8EGeG0U0TCP/C6bSAC1lxpm7lT9/+wjKVc71uTpV/OezoUWdTJpGTG6d5MAB2TA+tHkP+i0gUycC7Alt4JzRh1kUXaBtMgyfrzzj56N33H7wHGZhitrj/Sf34AcWjOAM4KcTvvJPOv2KF+c/sryiHQ+8Uk7ypDGa+Q+HezVjpYyxWU5UjDJe3e8dYugAcxizJvrHYYIUFbgTBqBGhCbhKO4yxD2R1JkcRQzE9jRM9sHtXzt1z3RI24vYUJMaQyRO84vq68fsYEtzdVntgJHlE+PSIfeDuxrI/5FLk9d9gZPNaluj6+hBBv8qAVUk6bu2gAAAAIwBnjp0R/8QJC7NkM5qGEYaS7t05AAKsWFlblv2gx5tyrU1b5T3saILcksc9FrQ9Ck+f5/1Pxu1U8X7+5l+cDU0uY04TKRzoh7K88HhFvcUeKqEhV9GFGLutnAi8Kj1Qk2stAyEjCTMvexEQwHJSzHG2aWbFlKUmxmY7Z8db07FP3AJz/iAKLD2LXW2YQAAAHoBnjxqR/8QCPjvuuJnxaJKHgj+JzCsi7Yevg2BqCXuzQrTMPu/8AAEczO1mYuveAldYd6+9kWlaDUq73rg7DNYJTEhd56caa3Yq9Nf96oweO3YucWoJrqw0cutJ0h9cKYMs0aVJBCG1g+3Nzkbsc/tEwT0QwZxKNMOWQAAAStBmj9JqEFomUwU8K/+OEAdvyRc2rGe37nVbAAZ7jpM68NmF2KaQIUw4bvtM77slYiiRPsh/kZgXJxCOPOnPUd0qaTuASokzs4xdwwNRvWjrHWVyatx8jQ7TnkWkbLDQHfc6ZqgxBq3qV637Dq9kp33j/RA96dlItKpcDDe0j1iIG4Gv4hE8Uh4zhur7jQct26qjANF26TmYRjDWwpArZbOmUYrDeco/vQOj+cRb6ALYSM/2Fs9mLyrTplTv81FlkoVC62BhSYTLoU2gVJKzrD32IbkkMwS6kaZ2MubNZcKaaEulGRE2j5XZDIo8Q12AthYLnCYQKwLL9Jbc6MLt7t2Q7nexBbRR07iClNxTBHYn3/yVJ74bcuSI70tsVAWLY8afsdD8kPb9+jTUgAAAJABnl5qR/8NwETUUqBdNDjV85Q9TeIC9KGVqQmLG8ALWqfjDfaxd81SqLmtOeatjkEbiWqFf7p6ZqtcHrsXrJvBDAbq35lwMeHO/AjZUNT6yKXVTH5+2YRBL0DQVJ/i+9zAeL58Fou4IvvfS0MxsDlBiMXUEs3kAiFWeiBCUzZwyq/uWTyJC04xAYBbzEEgUEAAAAFHQZpCSeEKUmUwIV/+OEAKP9DhT5NmFFQCurgA2gVUqd8gyc3M9O3iqa3kWn+Lj+2HXgoEI9yqPaHwzqLBYCaSB/Oeym4+2khVu2sqsZYufVRpCc/IGjTF3ferkkQ90sbuche5+TqIwt5wsthrjvAvRCa3rQGSzCfv6UV0oIE+sLglQhpuf07n0Y5xkKvmmTl8+KYx814FAKYy/oneD8HX1UHLqOU5eeq4YSXtGoqzt7Bl6eXYFBjk0aFuLtTsnpvvqy2GXmjMS8Qed0tphDX6CZFTRsT71wC2Hry+JR6zwGWfYT3ZDCg2Gkpjxm8YAuEcq7nofdma/JXlBjwC8v9O9A0SSoU7jZ3SFiqhWItJbUb5S+5e5661jG738vQq4LtH8C+2ZOMUZFTdJTgHxXBNoBHIaa2uotMiILALcZAJT3FkfXM3y3LHAAAA1EGeYEU0TCP/CbcjJlwwM9mSADjNtDaJy7BNtT1Uh811UrJahR/0j3b5kP/5Pc2diHzbIHhnxMSm3/eOO0hCbNWJ65V2Uut+gQwM0GBeYH1Jh6RF1LTSpdpPvNFhckS+ZB0+qOFK54bgbUOxVJlOBl2U6DYEF6xiOrMPZOJ88wIUt3l7ylqdObAtO0fs9XElBGzz/JIjOmy7A6sAAlYqjKnT3FrDE/MWouvG3JzhbIM4PKxBIKfd3B9XryLHkfY9qrxBlS0WrJtKKsQRoeCpgB0PP/GfAAAAowGegWpH/w23Srw7ocW8HwAIqrK1CCOyWo1844WaanK1Q1R91FGsGUWZGGT34baPmZ/CD80T9FD7OOlgMFDUs0Utx2LcliNgRJyOu9w8kXGFj4pChWL+73Jn6H7rJfa8XYdGoa2c+1JEi6S1PDDgBVDJQyoL4w7cRaldGxxL2gq2lv46ovhlmBQV2Z7Q3mV+iamPXdsgkg1I8taI6uA5N0AADAkAAAD3QZqDSahBaJlMCFf//jhACndERHiAEjtbRT1c5vg7duV0mR6bnx1BmYe6K6E1yyEVTKkx7u7XKv4Dt0U8LT2MyAi4m/ff2TZsYndv9dL+708IQuL+BXKbLYYQbcOlfkdCq90Fg/wdqUCOkYJLhqgRQao1VO06FfE7R5unPgHmAwUHxzhr2m12Rs1KukPkK+B/DCHvfI7SgrMqe94PHtA2uDc9a41J/md4nXqjGmjhkBQEwCyWxjmHxyXfywf9Aqc60AUEvVciAAqQr5T5CDUXglu+YOGOwqR1C1I21HljMjCduoZCQw45QqhC3mDS0JiZh9ebK5SDMAAAAPxBmqRJ4QpSZTAhX/44QB6xAlm+1tRQI49sOTaAD+YtULzBU+nyJ3HeWBU7mcPADTT5yXYWYd1i8MmD1unEPwml8pgsYmy+wY8MHBy/Y8cOO35iTz6yWqEvX3DjIZBHVWqLOzXQ5j8nOnUb69Sqtz4ByjVlORpQ5vl6wjr2cFdUvvZiaeumGxuYKLQy3ZUNWSutnX9jZOV61ADzHX9YZRqXbqnT+f/8Dsg8CBTKPbfb+ZqEtY2upslqUdaVJugpg4UvwKyuYSQRhDe2zz3ySdpnNW9yp2QFrmtLJJwx+G3L/SXczySjB+y60+V4u6amDB9vLQ+Txffuncx1uOEAAAEXQZrGSeEOiZTBTRMK//44QAPl8kXv1tHpAhds0AJoCU1+ZqcnD+/HfRr+xg+2/pHWl08IdHBNylOkegjPACjUWE5M9nnbhx+aLFHSTyDKVcIGx0/3wioAfHmCns0MA205SssVM8DGKpZWs6lHCa4HtWC50WROUQYymVCCwKfJo1085ICKP36AKu4kJPnKN+2b1RKuNujuI+i0p5CdObSEy8FU1UGoRRS1wLdvvWP2TpfvjGuzZxUC20s4chgs3zcUHFQN/AHId/U7Xvrri+tcUy+lUJDrVsSjVdN8XVT0D0T/o1YqBXGpCd+zGniIcul0d75bklgmkffNCzDNvMKsKYXn89ndKRAuOBmUALL0B6Lh/bOlbTiZAAAAqgGe5WpH/wCHV2oAQhlhVc+jr3y7bg0oz9OFJoO9tNPMUxR0fF837obB9BvM/YIzU7iwGPKqO4IryqBtnz20S6vEx1SJBCidFjsFf00a54R+mAPEaP/oSR6hmgrK0VWem+vdxHa4nRb2iJuR6wu7ZZsICHG/FSwf6ofqaCBYK8Zf6NeJoA8zCOuUDSjyMEMN/hIXvmY8VbwJnHGiduPiDv2iZAE8KgxqmNSBAAAA5kGa50nhDyZTAhX//jhAAYc9etLgACWheGZAHimA+sNw5mquX8nugIWxmGtyht5VH1Etz2Zqj5Bmh7MXJvu18hpFm2t3MJjyzSup8BB2PdTbJJ7hL9Qk7/GWh1J/F/4kSAIF4kl2lTo5+ukCunLniyZMhpeFNz5cAlBJKnhUZx2iAkgi43YEjvZJY7+W8p75wAG7bemY2uLdMIbi9+ZWa95n4ly+9AOxir5G+IqelDTafOMf9p8iGEMZeMv5oDxZvPZeryYApD5H6uqkzYtrMS7Umu0Oa7AbccpLa0IFb4xv3wv6e9WfAAABUUGbCUnhDyZTBRE8K//+OEABifUi9+//+/YAPWkxhQIR/pRWjyIfl1VpubmaO8XCWWF6Pg7aO5K0fajycrGKPE/AkvVz+SHBOEPx264s09UV6tA9BRtKOgpUWmz+XNS/dkGk7tSGNNOPePAymYmm+xZkPJ8HtPj82NXV32RpbdfZGM94wnONMp0FqQKvqgTMHFTHcfWTuHkuKdbN4g+jRKcVQkLW8e70d63ZnHUNpL6k0oe5bfTAvCsXiZ3DLo/sj9pnnMmlYuUgWp/+45HIWE3VVx3haOTJHthwy2GMB3Mms7j5VxtskeFkto8sIbT5+vYwFkSw4YNUwDFpdrM+cmkGPzFXNb6Y+t0NsFI8AM/ZP5r+Tu/CtIYzoDEiLGrom7lRcDD3E4sH3m/lhZMFcgGjKoh4i0RsC45p0RbHfjzGhJqZnC38R3l3yjv/Bp4mYkgAAAC3AZ8oakf/ADTvkwByhSf91MrOcCWTIE0AU30rFqBGri33dKuwT4mTUK0nWiAXpWIoCkV5cppWvWv5pe/xA/yIJKCSfWS/JDpjL6Emz/b36tkE2rtXPuSXhIPWYl/mniDs8TFw20pmlpMnqyfT0znNc/LyNN9BiLSfyk0IVWJsVrSBE023MXGseYFpX2MFc/9KN15I/yPfLIYM9pZROlBtCoi5U5B9McwbroQeMRNyLEDlbVhxDpqQAAABCkGbKknhDyZTAhX//jhAAJaneXL2FJ8AB+6mexlT2iqLfH2fxoIsTJYQNezAIGfahl9qPeZvo83YJe9BJFmDpbG0Veb8xTDhVuMS5EUetYDfzHv4QcoBDRPzYgOMESv1ZjQS1H5ATbcpk0ZO1Dpw3IrVZniPn73p0oM7NB8rlqK6d9ppNNs1HdT4/adNosrblqMiTOKD8Hic0ztxPAvl7x6/lfJ6jMiAE/Ukls9tCJ6mesvomf6CMIKMVgX7Iy2/q+EpiwnF47918ykm/eGSI5KksqMnms4fU0l0ParvsglEqavh9/3w299rlXpQXEcZ8hBAWVb23vTV4Art3lz4uQGsq9EcbbsYQExxAAABJEGbS0nhDyZTAhf//oywAA7+tOPTTkmwAXQZtTWuWjg4ZQ+XsDLdWD3WguVXpjp72Bg27Ls2crYeuGD6oMfQ6EVoezV5zaAfcOy/6CvWFtr5DZ8BDtTD/gp6hUt8Ah3L2jCGomyOYdyi1SgH0hrua+CtKV5HjilRFgZj3epfvmcAI0cb7OXZq2G4OJovkKnzw3RhShf/jKmGIb3FqM0Xnaz7C4YoyhBa1+nCvnOji0muaV0BEyreStV+Fbss4APZ5qLkv0On9PcuS7g/1ITc47kQKofSDW9GicZgTOjUjVrsg57J4OeTh0tePTvkzpZZf7sa/sXHkdILvCC2P1j1BFWPoMa74zhERp9eTfgy5KJGNLVoeAQuLP06O/aLIWOGTw3R8nwAAAFIQZttSeEPJlMFETwv//6MsAAPPzJ1uy/C8RAER/1y0PwRKzpzE92h8m8KQJ9LgAOt6fITLwDCCtATbNXdrpUpD2xfe9Bcne/0R8F03Nhh+kHqSrX17TlE5KOn81rX4Fb4DRslQM7pmcIEKqsp3oDoeGH6U0nEMAGKPRbE5QZhJjYpxf/u8vjzAgLJJWQeRbioIIQ2Oopo7TC/5VBRZT+rCZ/I2+ODgNYbvR8bcwJiMQaCs0GEImhkfLjYJfQkvY/5xjWIaTtA9Ls1NO4qu7Ahydpl06dyWOF0/lK6CcH557PxnM/1s9qlW4lSdD+Q7nkWlk+EpXC06ZSIIxO0cyJki1cAYYjvcFKl+AnFtwwR+CqMm0h8Vgx4JMJ+LgvEdXx+I+0ErrvQhbE2/oS8W3PR2mY3oGE3eW5pOqLyDSh+JU1kuLapr13dYAAAAJsBn4xqR/8AB8X5yilGJAAgtaZ1oNrFXrfYk3kw/VmJ8e4M/A0634NgA1Jdd5gV0tUvShYohscLh0369c/mAUJsdvdiRc/3RVI05T0+qwxLbt02/NdvH8mIwQBJqgQNwnQdvmK8VZqLAotWTWL57iiuoTsjIk+08cdpvLWP/vS62k6G22GFTAYNtx1adh4vYLUizpHePiiveQCXgQAAAYxBm5FJ4Q8mUwIX//6MsAAPV63bnxloHFvWUt2+c9CmcXgBCcMJicha71EWpW0lUzvyqdF/3aalZV5lZWavpaxavTDMy5vaY8kZ7KNj4IvypSuVpzy9plmgMXN4xNcXWcGyTYWkxYdIJnuVzqivZt0vC0Wx4e3mRrAGkal/O4hTXDA4bVITc0ZzuQf/6AxM3IlKlEwTRb0J++8PRadpIjwWfJJXeWrZnKWtshR1hGpzkIfBx7Fb1OdV3Ans/XlZNNC59XrjO/YdGYdJD7YZ2TDimN0thb06siBTax9NePnseFB714cuUaAUOSVAxgI2aUIiFoXP9Qeb/6v5Q1aY/48wm4AbdaQI7a1iFCPQdx2ej0d7XZ57mkYYg1KI8uacC9CumItSbjOV6TGtzNIAdi5I7WjwvfqcvhhSYFt4plQKXzrNEARFmyyj9nV0vtEtNQAem6ZFg2ox1ogQWhREGS11KYsksRMG/6Lpm33QRpKpoo48zams2+n2EMGtjhwGZDAUPX4FSupIq6AA6YEAAAEVQZ+vRRE8I/8ABPlKzeVwVNaCRgAr4OAmulBsOM5kE7QvoamwecqhMIaVv2uUvfikZjgpZveq0U/vc9bPyfV0dgBA9rsh+bhDQm++WjeVjnPzo+ilDwDOIWqzMTEjzus4cQCxLL+gM1zGjykqPF9dgLN3PxpGvrOdfK4Lq+DrNU45v1wZUVSLUFMzfrKxIzlvAFCq5rmqdAD7bciLAdQSy7EYU2LlxG1Awp/o10Q2XPKerH3TJvIuRKAZASUkb7ASGQBAmIIr+6AZyI0A228jNO9kgEwiIXBrWZXVfCCksKhIPKpQsuKdNU3yV93kKv/6ymDBJXsg8Wn4BkcXEuQvvkbnsHVkQJ/vV+Wi89dRm4Ipoz7mpQAAALoBn850R/8AB8IfZ/ZoWQM+gACKnD6NTKoxb1LxI/Z8WqF+++LG41707ctpMVhUdI9wl8svzw8LO+650Bhm3bvxq910TXVrPSRZIscQTzUbxg079vKeLrtnar4KUMocNCmOXKOZPsnoWArxcNQCoDxDLYTcdpidnFN0U8Rno3OfLqVZBjo+WzNsDeScSCvuQTRql0FBulxOENs2cA22ol6nsKoXXTyECPSuYkKHwCQuOuFRpNkIgQ2/QQcAAADRAZ/Qakf/AAEdke7JANksQApGst+7QkS6NsswwT8purBo+mG1sITtO4weQTTTb1CXUi20j2R7B3lG7ZvRgt8arhrQQufuwqc8h81mfw8aCoDJ71u4OQZAJ8xBH6luzh8eozshcY1zOm3Wvplexz27OyDuHnjJFrODfT0sX7LzawJV+DDdw/yOXTFJEwmSpCXluV/0WZFMIbSo2l3/Wph9V9SmDlHAkxBxUby3w5vGZ4e/N+5S5DiZtxYyCYE+fsdczLchlTnTmNuxvMfGwEwWZdwAAAG7QZvVSahBaJlMCFf//jhAAANP6kXbpyl50u0HA7PUN1hBpv/cX3AA1P8e6NXhVHwEe6EQw+WoJTzya9gBEyMDlg0XPXBu1DZNUbrKb/py9B2yQ9Kcgn5qo3s2SfUjIml7nx81FAJ+Sbo+Y9kG/1SbnmUTnU6SoY/VHtFoMQfAouCZFtswpvIuqcwRghVGNt/vXk8AzDAKM6MjheDDbO7vV4HVuUPRGK8mRueJTWBRgF2/7rw9JT1/3mRw7lG8VujCF+w3p2MxoMmBC2ewT2BMmx1C6QqXjdF4iAsqQD17faCV/Zs8dX6uiWp5xLh3QdM9M3P+3QJXYIbCvgte8mYaDEsNwh6oc9U4c+Uc+caNniVj9z5gNt65r516LnOHfH3SNQRsk4pZk6U9RRETU9Z0yT4rt3xZzhC6eNMKE4xkYjVIT2W5wpe+aITMu7W9fsh37KuXL8j1kPUcqxy28uBI3Mln6IT5IjusdT8sZOz/tOVwD+Qv8aRClU0xcqbIus2HupBCVVzWc/qxOnopNEdX8qDSTFawQDswxo2sj+88YQvtq4lApwUmbU7o+DnmIIb5p/DhBWqcg+V04mEAAAFLQZ/zRREsI/8AAEVg6cSVoKBpoAA0oRkcRJdBISopJL6QREQcbjLh2zlGcY+PZJDPq7gAj+7yKIWL3DPG3hSwajwWOqK3VXzA9ocAfEVZTY93wubE1Jb/6MTcZntOD+HxvyqO30WI7ZKMYC/eSYdsecQ6kCIAUSL9PcSxyXMEou9H/dCfr/szuPnic3xGx9MwPRbP9u+3YZEIIc8nom4CJnbCU5uY9LuCTKcSdBRTyu1mJrQXKN4j//eJ0MA34kaCT68sgpLxrH0UpZcXAdTKzz0gDMMIyy0/+rFpx2TF4IX6rktXzdg/M4XWdk9wU/VQ6GeaxJETco7eG4TRfKaYRs2DpxZ/6FsXIY3tysGFMRBMIbQGjOthEpeKEsWMJ1H+G2L0hbc9c0ug6wthNOtJHUynktb6/Kjf4/D4nVfyKE5OUi+RI6QWsESDgAAAAKsBnhJ0R/8AAG5xPtxxyrAAVi+UgAOzw+QfeICZqnA+/7S5QLtsHzrh1ouR//JpVSvFs5+w1/U1wtaX+yvls7hLQKUiAPJGjcN0I0uwdyNgi80XEE71mtFdLl/EEa9m4G7CEKEKvCWb82t4eJZeUaa57gNCCkf1ssKsBcdhQ7I28754N4P2I3H5ub9YSlT7K0JV+PZfc9Lbz2byUnaOfrp9nZA23fFNRng4B0wAAADIAZ4Uakf/AABppPU5fDDlQAHSLnfJnkt3J9clFOR4j60BP3hx8rtJjI1nnMI4qscqIE374OWCDvNHMzzAwAywIzZ7n8BjwlcYGVpHzoKt/pjjhAGKDQSC4qGtXSI6QYVof9/iL2v0fxo/xia/PlkTDAVMBndOAW0W1mFsgshfpyEPAs+exnLUcDcNR0xTxaDsTInqHrcBe9NGR+SYdO3BKB2EOuRdWoU2NmWrRuuCmGi/iQ6MVCMPNSW4+sePPa9O+w7cBkE68jEAAAEfQZoWSahBbJlMCFf//jhAAANj6ke7VYoCrT4Lzvs5syaDx/Pu6wAO3cb9g6jwm6oa/ELyJGY5tQlXeQ91K8WKqT3VADbE47D9nIP1+EBFV1oOIX1x1rEvxQ72FDX3JuiX/OS7FXceMogVofczThB8OlR7X9GjRKqUoC7hzFgB5BAp0lgPkwlSfYjelm2tIu54qn7wssXojQaFzYhDBvrcodLT+b2YJgQkFKRd+RAh5FmsWlMJ7ODIYCwTqAnavpd08loT0EU2c/0DrNr1Psw1Yo97eIeLT+uN4xYs2KSpvXvLYjJ4d+Bmn+EZ6BpaUtW1Z9C5tidd49E1Y0XbdK1l83MB16m3QzlQIhxBP8hlfbmNUnTzjK05F2oxiIWzkHAAAAFfQZo5SeEKUmUwI//8hAAAAwBk/RS2z+/qvfiJi0hyBO7PAC4n7RjtePaYieWuO9O6dbI+ujx7tP0UorrP01zZZ107XxdRASyVt2oT/PDQux0HZ5wIIbe0MjoxFGxAIzLiYeEVdVNphB29bD9FYXhLdTTS1PS2Sdmu8fvbz9eyIKuqNRCPcEnIUwOngc/ued1cRsV2UYs8A33qDt52iMnvo81w2rII96WvckLKdYmHs7Eo2oz3evVDla+s1y9y7TAwqC9Zo+5XiYLgUUcBdffmSIisLeNBNil6g4P3q4ufE/xNtyV5B6yXc6GIeoLFyy3x9jErB7wk9Gi3FgL00sG0tuPgtKLWtzREKR6cGARqX5FRahBexkeAz7zR0rDO5f7u79Qyl/O18hJRmc734Alg2Q0qhs/awogUVlHW2jBRBHvSfv3Lgtv0TIggagaCeL8EXhHMrcg+EOi2l63w+C6ZAAAA9UGeV0U0TCP/AABBgpr6ALryR8OatLwYoWtfEJ5FAEOjzu1AuVMJBtiDSyjpGyln01nNWi4kwnDGT1QOCiTI4hk8DngzQmK7pSiTs6lOY7JIsbqJeNbTpsvX7+jMmEQrjwe0XRr6dFAeCFZbQKCrL4UEer1qP/2xhjrYqiPrweEGOs0sX9k10jQWQiCnRxop5nqiZcOUwHQOB3CRspmUrzNQi07bkoYvEbsv4EmrzVy9XY9GnbuuzlrNZu1nDkST1JpY96+AgIdyyPqFcqHkXxT7R/vll++xLqy5u/oTmfv7WQkgF5r8EX38v3kGVt1Lq/k+7APTAAAA5wGeeGpH/wAAaaTxP2EnpfgC+YuCZUtXR5sHN+AAV0Uc7IOQGcGzUFqyWivIU60NeUbZ55tiLf/uPDeNKM0qKcHfv63L4YPBmfqDOswITFP90p+e63dcer7z/ZFv1HR85ZEGpw5oIjyj1D4MUO7oGK9bnNQ0/03VWJWv6yCmqLFBSBOSO0VEXbgR/WL1epyU4PEvrx16o6g5dkDHH6AwE77H0qmwtb9MrZnYGgowXPYHFiZWp0hjQTdlNJolPZsaxJcEA0ASEAhewV3mdOtDA0n20nELDljeo4MMUGfadneEnVyRQFwJOAAABZttb292AAAAbG12aGQAAAAAAAAAAAAAAAAAAAPoAAAEiAABAAABAAAAAAAAAAAAAAAAAQAAAAAAAAAAAAAAAAAAAAEAAAAAAAAAAAAAAAAAAEAAAAAAAAAAAAAAAAAAAAAAAAAAAAAAAAAAAAAAAAACAAAExXRyYWsAAABcdGtoZAAAAAMAAAAAAAAAAAAAAAEAAAAAAAAEiAAAAAAAAAAAAAAAAAAAAAAAAQAAAAAAAAAAAAAAAAAAAAEAAAAAAAAAAAAAAAAAAEAAAAACWAAAAZAAAAAAACRlZHRzAAAAHGVsc3QAAAAAAAAAAQAABIgAAAIAAAEAAAAABD1tZGlhAAAAIG1kaGQAAAAAAAAAAAAAAAAAADIAAAA6AFXEAAAAAAAtaGRscgAAAAAAAAAAdmlkZQAAAAAAAAAAAAAAAFZpZGVvSGFuZGxlcgAAAAPobWluZgAAABR2bWhkAAAAAQAAAAAAAAAAAAAAJGRpbmYAAAAcZHJlZgAAAAAAAAABAAAADHVybCAAAAABAAADqHN0YmwAAACYc3RzZAAAAAAAAAABAAAAiGF2YzEAAAAAAAAAAQAAAAAAAAAAAAAAAAAAAAACWAGQAEgAAABIAAAAAAAAAAEAAAAAAAAAAAAAAAAAAAAAAAAAAAAAAAAAAAAAAAAAAAAY//8AAAAyYXZjQwFkAB//4QAZZ2QAH6zZQJgz5eEAAAMAAQAAAwBkDxgxlgEABmjr48siwAAAABhzdHRzAAAAAAAAAAEAAAA6AAABAAAAABRzdHNzAAAAAAAAAAEAAAABAAABsGN0dHMAAAAAAAAANAAAAAEAAAIAAAAAAQAABQAAAAABAAACAAAAAAEAAAAAAAAAAQAAAQAAAAABAAAFAAAAAAEAAAIAAAAAAQAAAAAAAAABAAABAAAAAAEAAAMAAAAAAQAAAQAAAAABAAADAAAAAAEAAAEAAAAAAQAABAAAAAACAAABAAAAAAEAAAIAAAAAAQAABAAAAAACAAABAAAAAAEAAAUAAAAAAQAAAgAAAAABAAAAAAAAAAEAAAEAAAAAAQAAAwAAAAABAAABAAAAAAEAAAUAAAAAAQAAAgAAAAABAAAAAAAAAAEAAAEAAAAAAQAAAwAAAAABAAABAAAAAAEAAAQAAAAAAgAAAQAAAAACAAACAAAAAAEAAAMAAAAAAQAAAQAAAAABAAACAAAAAAEAAAMAAAAAAQAAAQAAAAACAAACAAAAAAEAAAMAAAAAAQAAAQAAAAABAAAFAAAAAAEAAAIAAAAAAQAAAAAAAAABAAABAAAAAAEAAAUAAAAAAQAAAgAAAAABAAAAAAAAAAEAAAEAAAAAAQAAAgAAAAABAAAEAAAAAAIAAAEAAAAAHHN0c2MAAAAAAAAAAQAAAAEAAAA6AAAAAQAAAPxzdHN6AAAAAAAAAAAAAAA6AAAJNwAAAV4AAABpAAAAawAAAHUAAAEJAAAAhgAAAFkAAABbAAABQgAAAHEAAAFMAAAAmAAAAVIAAACuAAAAnQAAASUAAAFIAAAApwAAAJMAAAF5AAAAygAAAJwAAACoAAABFQAAAIwAAAFvAAAA9AAAAJAAAAB+AAABLwAAAJQAAAFLAAAA2AAAAKcAAAD7AAABAAAAARsAAACuAAAA6gAAAVUAAAC7AAABDgAAASgAAAFMAAAAnwAAAZAAAAEZAAAAvgAAANUAAAG/AAABTwAAAK8AAADMAAABIwAAAWMAAAD5AAAA6wAAABRzdGNvAAAAAAAAAAEAAAAwAAAAYnVkdGEAAABabWV0YQAAAAAAAAAhaGRscgAAAAAAAAAAbWRpcmFwcGwAAAAAAAAAAAAAAAAtaWxzdAAAACWpdG9vAAAAHWRhdGEAAAABAAAAAExhdmY1Ny44My4xMDA=\" type=\"video/mp4\" />\n",
              "             </video>"
            ]
          },
          "metadata": {}
        }
      ],
      "source": [
        "test_env = wrap_env(gym.make(\"LunarLander-v2\"))\n",
        "observation = test_env.reset()\n",
        "total_reward = 0\n",
        "while True:\n",
        "  test_env.render()\n",
        "  action, states = model.predict(observation, deterministic=True)\n",
        "  observation, reward, done, info = test_env.step(action)\n",
        "  total_reward += reward\n",
        "  if done:\n",
        "    break;\n",
        "\n",
        "# print(total_reward)\n",
        "test_env.close()\n",
        "show_video()"
      ]
    },
    {
      "cell_type": "markdown",
      "metadata": {
        "execution": {},
        "id": "ZpMABSl9obbk"
      },
      "source": [
        "From the video above, we see that the lander has crashed! \n",
        "It is now the time for training! \n"
      ]
    },
    {
      "cell_type": "code",
      "execution_count": null,
      "metadata": {
        "execution": {},
        "id": "I0hzLf1lobbl",
        "colab": {
          "base_uri": "https://localhost:8080/"
        },
        "outputId": "92054caf-2762-49f7-a684-ef73f0efd908"
      },
      "outputs": [
        {
          "output_type": "stream",
          "name": "stdout",
          "text": [
            "Eval num_timesteps=9000, episode_reward=-330.30 +/- 56.71\n",
            "Episode length: 302.40 +/- 91.62\n",
            "New best mean reward!\n"
          ]
        },
        {
          "output_type": "execute_result",
          "data": {
            "text/plain": [
              "<stable_baselines3.dqn.dqn.DQN at 0x7f262938c910>"
            ]
          },
          "metadata": {},
          "execution_count": 63
        }
      ],
      "source": [
        "model.learn(total_timesteps=10000, log_interval=10, callback=callback, eval_log_path=log_dir)\n",
        "# The performance of the training will be printed every 10 episodes. Change it to 1, if you wish to\n",
        "# view the performance at every training episode.\n",
        "# how to read monitor.csv: ep_info = {\"r\": round(ep_rew, 6), \"l\": ep_len, \"t\": round(time.time() - self.t_start, 6)}"
      ]
    },
    {
      "cell_type": "markdown",
      "metadata": {
        "execution": {},
        "id": "ueR5BIcpobbm"
      },
      "source": [
        "The training takes time. We encourage you to analyze the output logs (set verbose to 1 to print the output logs). The main component of the logs that you should track is \"ep_rew_mean\" (mean of episode rewards). As the training proceeds, the value of \"ep_rew_mean\" should increase. The improvement need not be monotonic, but the trend should be upwards! \n",
        "\n",
        "Along with training, we are also periodically evaluating the performance of the current model during the training. This was reported in logs as follows:\n",
        "\n",
        "```\n",
        "Eval num_timesteps=100000, episode_reward=63.41 +/- 130.02\n",
        "Episode length: 259.80 +/- 47.47\n",
        "```"
      ]
    },
    {
      "cell_type": "markdown",
      "metadata": {
        "execution": {},
        "id": "ogkoKXiXobbm"
      },
      "source": [
        "Now, let us look at the visual performance of the lander. \n",
        "\n",
        "**Note:** The performance varies across different seeds and runs. This code is not optimized to be stable across all runs and seeds. We hope you will be able to find an optimal configuration! "
      ]
    },
    {
      "cell_type": "code",
      "execution_count": null,
      "metadata": {
        "execution": {},
        "id": "m_WCp8wdobbn",
        "outputId": "03dbc1c0-4e15-4578-a25d-4488498570a8",
        "colab": {
          "base_uri": "https://localhost:8080/",
          "height": 421
        }
      },
      "outputs": [
        {
          "output_type": "display_data",
          "data": {
            "text/plain": [
              "<IPython.core.display.HTML object>"
            ],
            "text/html": [
              "<video alt=\"test\" autoplay\n",
              "                loop controls style=\"height: 400px;\">\n",
              "                <source src=\"data:video/mp4;base64,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\" type=\"video/mp4\" />\n",
              "             </video>"
            ]
          },
          "metadata": {}
        }
      ],
      "source": [
        "env = wrap_env(gym.make(\"LunarLander-v3\"))\n",
        "observation = env.reset()\n",
        "while True:\n",
        "  env.render()\n",
        "  action, _states = model.predict(observation, deterministic=True)\n",
        "  observation, reward, done, info = env.step(action)\n",
        "  if done:\n",
        "    break;\n",
        "\n",
        "env.close()\n",
        "show_video()"
      ]
    },
    {
      "cell_type": "markdown",
      "metadata": {
        "execution": {},
        "id": "Ov5djtn9obbn"
      },
      "source": [
        "The lander has landed safely!!\n",
        "\n",
        "Let us analyze its performance (speed and stability). For this purpose, we plot the number of time steps on the X-axis and the episodic reward given by the trained model on the Y-axis. "
      ]
    },
    {
      "cell_type": "code",
      "execution_count": null,
      "metadata": {
        "execution": {},
        "id": "asuy5ryIobbo",
        "outputId": "63569cc2-a0c7-464a-af73-e11b361c24cf",
        "colab": {
          "base_uri": "https://localhost:8080/",
          "height": 301
        }
      },
      "outputs": [
        {
          "output_type": "execute_result",
          "data": {
            "text/plain": [
              "Text(0, 0.5, 'Episode Rewards')"
            ]
          },
          "metadata": {},
          "execution_count": 22
        },
        {
          "output_type": "display_data",
          "data": {
            "text/plain": [
              "<Figure size 432x288 with 1 Axes>"
            ],
            "image/png": "[encoded data removed]"
          },
          "metadata": {
            "needs_background": "light"
          }
        }
      ],
      "source": [
        "x, y = ts2xy(load_results(log_dir), 'episodes')  # Organising the logged results in to a clean format for plotting. timesteps\n",
        "plt.plot(x,y)\n",
        "plt.ylim([-300, 300])\n",
        "plt.xlabel('Timesteps')\n",
        "plt.ylabel('Episode Rewards')"
      ]
    },
    {
      "cell_type": "markdown",
      "metadata": {
        "execution": {},
        "id": "mw3iMGmwobbo"
      },
      "source": [
        "From the above plot, we observe that, although the maximum reward is achieved quickly. Achieving an episodic reward of > 200 is good. We see that the agent has achieved it in less than 50000 timesteps (speed is good!). However, there are a lot of fluctuations in the performance (stability is not good!). \n",
        "\n",
        "Your objective now is to modify the model parameters (nn_layers, learning_rate in the code cell #2 above), run all the cells following it and investigate the stability and speed of the chosen configuration.   \n"
      ]
    },
    {
      "cell_type": "markdown",
      "metadata": {
        "execution": {},
        "id": "_bKzapIyobbp"
      },
      "source": [
        "---\n",
        "# Additional Project Ideas"
      ]
    },
    {
      "cell_type": "markdown",
      "metadata": {
        "execution": {},
        "id": "gzByWGxfobbq"
      },
      "source": [
        "## 1 Play with exploration-exploitation trade-off\n",
        "\n",
        "Exploration (selecting random actions) and exploitation (selecting greedy action) is a crucial component of the DQN algorithm. Explore random actions for a long time will slow down the training process. At the same time, if all actions are not explored enough, it might lead to a sub-optimal performance. In the DQN code above, we have used the following parameters:"
      ]
    },
    {
      "cell_type": "code",
      "execution_count": 7,
      "metadata": {
        "execution": {},
        "id": "5TeOBG-Jobbq"
      },
      "outputs": [],
      "source": [
        "exploration_initial_eps = 1  # initial value of random action probability. Range is between 0 and 1.\n",
        "exploration_fraction = 0.5  # fraction of entire training period over which the exploration rate is reduced. Range is between 0 and 1.\n",
        "exploration_final_eps = 0.05  # (set by defualt) final value of random action probability. Range is between 0 and 1."
      ]
    },
    {
      "cell_type": "markdown",
      "metadata": {
        "execution": {},
        "id": "dZuGeAULobbq"
      },
      "source": [
        "Your objective is to play around with these parameters and analyze their performance (speed and stability). You can modify these parameters and set them as arguments in DQN(...,exploration_initial_eps = 1, exploration_fraction = 0.5, exploration_final_eps = 0.05,...). "
      ]
    },
    {
      "cell_type": "markdown",
      "metadata": {
        "execution": {},
        "id": "yGp5JFoAobbr"
      },
      "source": [
        "## 2 Reward Shaping\n",
        "\n",
        "Your objective here is to construct a modified reward function that improves the performance of the Lunar Lander. To this end, you would have to create your own custom environment. An example of a custom environment is given below:"
      ]
    },
    {
      "cell_type": "markdown",
      "source": [
        "Ref: https://towardsdatascience.com/beginners-guide-to-custom-environments-in-openai-s-gym-989371673952"
      ],
      "metadata": {
        "id": "yIFSDq7eyXY-"
      }
    },
    {
      "cell_type": "markdown",
      "source": [
        "### New environment"
      ],
      "metadata": {
        "id": "iIvGmuJD49zZ"
      }
    },
    {
      "cell_type": "markdown",
      "source": [
        "#### define new env class"
      ],
      "metadata": {
        "id": "c-DTrZhLy0UM"
      }
    },
    {
      "cell_type": "code",
      "source": [
        "from gym.envs.box2d import LunarLander\n",
        "# from typing import TYPE_CHECKING, Optional\n",
        "# from gym.utils import EzPickle, colorize\n",
        "# try:\n",
        "#     import Box2D\n",
        "#     from Box2D.b2 import (\n",
        "#         circleShape,\n",
        "#         contactListener,\n",
        "#         edgeShape,\n",
        "#         fixtureDef,\n",
        "#         polygonShape,\n",
        "#         revoluteJointDef,\n",
        "#     )\n",
        "# except ImportError:\n",
        "#     raise DependencyNotInstalled(\"box2d is not installed, run `pip install gym[box2d]`\")\n",
        "import math"
      ],
      "metadata": {
        "id": "dTxYseql3ry3"
      },
      "execution_count": 8,
      "outputs": []
    },
    {
      "cell_type": "markdown",
      "source": [
        "Set parameters"
      ],
      "metadata": {
        "id": "MtUy074Syhdd"
      }
    },
    {
      "cell_type": "code",
      "source": [
        "FPS = 50\n",
        "SCALE = 30.0  # affects how fast-paced the game is, forces should be adjusted as well\n",
        "\n",
        "MAIN_ENGINE_POWER = 13.0\n",
        "SIDE_ENGINE_POWER = 0.6\n",
        "\n",
        "INITIAL_RANDOM = 1000.0  # Set 1500 to make game harder\n",
        "\n",
        "LANDER_POLY = [(-14, +17), (-17, 0), (-17, -10), (+17, -10), (+17, 0), (+14, +17)]\n",
        "LEG_AWAY = 20\n",
        "LEG_DOWN = 18\n",
        "LEG_W, LEG_H = 2, 8\n",
        "LEG_SPRING_TORQUE = 40\n",
        "\n",
        "SIDE_ENGINE_HEIGHT = 14.0\n",
        "SIDE_ENGINE_AWAY = 12.0\n",
        "\n",
        "VIEWPORT_W = 600\n",
        "VIEWPORT_H = 400"
      ],
      "metadata": {
        "id": "E6Ivff2jW7q8"
      },
      "execution_count": 9,
      "outputs": []
    },
    {
      "cell_type": "code",
      "source": [
        "class Custom_LunarLander_wind(LunarLander):\n",
        "    metadata = {\"render.modes\": [\"human\", \"rgb_array\"], \"video.frames_per_second\": FPS}\n",
        "    continuous = False\n",
        "\n",
        "    def __init__(\n",
        "        self,\n",
        "        # render_mode: Optional[str] = None,\n",
        "        continuous: bool = False,\n",
        "        gravity: float = -10.0,\n",
        "        enable_wind: bool = False,\n",
        "        wind_power: float = 15.0,\n",
        "        turbulence_power: float = 1.5,\n",
        "    ):\n",
        "        # EzPickle.__init__(self)\n",
        "        LunarLander.__init__(self)\n",
        "\n",
        "        assert (\n",
        "            -12.0 < gravity and gravity < 0.0\n",
        "        ), f\"gravity (current value: {gravity}) must be between -12 and 0\"\n",
        "        self.gravity = gravity\n",
        "\n",
        "        if 0.0 > wind_power or wind_power > 20.0:\n",
        "            warnings.warn(\n",
        "                colorize(\n",
        "                    f\"WARN: wind_power value is recommended to be between 0.0 and 20.0, (current value: {wind_power})\",\n",
        "                    \"yellow\",\n",
        "                ),\n",
        "            )\n",
        "        self.wind_power = wind_power\n",
        "\n",
        "        if 0.0 > turbulence_power or turbulence_power > 2.0:\n",
        "            warnings.warn(\n",
        "                colorize(\n",
        "                    f\"WARN: turbulence_power value is recommended to be between 0.0 and 2.0, (current value: {turbulence_power})\",\n",
        "                    \"yellow\",\n",
        "                ),\n",
        "            )\n",
        "        self.turbulence_power = turbulence_power\n",
        "\n",
        "        self.enable_wind = enable_wind\n",
        "        # self.wind_idx = np.random.randint(-9999, 9999)\n",
        "        # self.torque_idx = np.random.randint(-9999, 9999)\n",
        "\n",
        "        # self.screen: pygame.Surface = None\n",
        "        # self.clock = None\n",
        "        # self.isopen = True\n",
        "        # self.world = Box2D.b2World(gravity=(0, gravity))\n",
        "        # self.moon = None\n",
        "        # self.lander: Optional[Box2D.b2Body] = None\n",
        "        # self.particles = []\n",
        "\n",
        "        # self.prev_reward = None\n",
        "\n",
        "        self.continuous = continuous\n",
        "\n",
        "        # low = np.array(\n",
        "        #     [\n",
        "        #         # these are bounds for position\n",
        "        #         # realistically the environment should have ended\n",
        "        #         # long before we reach more than 50% outside\n",
        "        #         -1.5,\n",
        "        #         -1.5,\n",
        "        #         # velocity bounds is 5x rated speed\n",
        "        #         -5.0,\n",
        "        #         -5.0,\n",
        "        #         -math.pi,\n",
        "        #         -5.0,\n",
        "        #         -0.0,\n",
        "        #         -0.0,\n",
        "        #     ]\n",
        "        # ).astype(np.float32)\n",
        "        # high = np.array(\n",
        "        #     [\n",
        "        #         # these are bounds for position\n",
        "        #         # realistically the environment should have ended\n",
        "        #         # long before we reach more than 50% outside\n",
        "        #         1.5,\n",
        "        #         1.5,\n",
        "        #         # velocity bounds is 5x rated speed\n",
        "        #         5.0,\n",
        "        #         5.0,\n",
        "        #         math.pi,\n",
        "        #         5.0,\n",
        "        #         1.0,\n",
        "        #         1.0,\n",
        "        #     ]\n",
        "        # ).astype(np.float32)\n",
        "\n",
        "        # # useful range is -1 .. +1, but spikes can be higher\n",
        "        # self.observation_space = spaces.Box(low, high)\n",
        "\n",
        "        # if self.continuous:\n",
        "        #     # Action is two floats [main engine, left-right engines].\n",
        "        #     # Main engine: -1..0 off, 0..+1 throttle from 50% to 100% power. Engine can't work with less than 50% power.\n",
        "        #     # Left-right:  -1.0..-0.5 fire left engine, +0.5..+1.0 fire right engine, -0.5..0.5 off\n",
        "        #     self.action_space = spaces.Box(-1, +1, (2,), dtype=np.float32)\n",
        "        # else:\n",
        "        #     # Nop, fire left engine, main engine, right engine\n",
        "        #     self.action_space = spaces.Discrete(4)\n",
        "\n",
        "        # self.render_mode = render_mode\n",
        "        # self.renderer = Renderer(self.render_mode, self._render)\n",
        "        \n",
        "\n",
        "    def step(self, action):\n",
        "        if self.continuous:\n",
        "            action = np.clip(action, -1, +1).astype(np.float32)\n",
        "        else:\n",
        "            assert self.action_space.contains(action), \"%r (%s) invalid \" % (\n",
        "                action,\n",
        "                type(action),\n",
        "            )\n",
        "\n",
        "        # Engines\n",
        "        tip = (math.sin(self.lander.angle), math.cos(self.lander.angle))\n",
        "        side = (-tip[1], tip[0])\n",
        "        dispersion = [self.np_random.uniform(-1.0, +1.0) / SCALE for _ in range(2)]\n",
        "\n",
        "        m_power = 0.0\n",
        "        if (self.continuous and action[0] > 0.0) or (\n",
        "            not self.continuous and action == 2\n",
        "        ):\n",
        "            # Main engine\n",
        "            if self.continuous:\n",
        "                m_power = (np.clip(action[0], 0.0, 1.0) + 1.0) * 0.5  # 0.5..1.0\n",
        "                assert m_power >= 0.5 and m_power <= 1.0\n",
        "            else:\n",
        "                m_power = 1.0\n",
        "            ox = (\n",
        "                tip[0] * (4 / SCALE + 2 * dispersion[0]) + side[0] * dispersion[1]\n",
        "            )  # 4 is move a bit downwards, +-2 for randomness\n",
        "            oy = -tip[1] * (4 / SCALE + 2 * dispersion[0]) - side[1] * dispersion[1]\n",
        "            impulse_pos = (self.lander.position[0] + ox, self.lander.position[1] + oy)\n",
        "            p = self._create_particle(\n",
        "                3.5,  # 3.5 is here to make particle speed adequate\n",
        "                impulse_pos[0],\n",
        "                impulse_pos[1],\n",
        "                m_power,\n",
        "            )  # particles are just a decoration\n",
        "            p.ApplyLinearImpulse(\n",
        "                (ox * MAIN_ENGINE_POWER * m_power, oy * MAIN_ENGINE_POWER * m_power),\n",
        "                impulse_pos,\n",
        "                True,\n",
        "            )\n",
        "            self.lander.ApplyLinearImpulse(\n",
        "                (-ox * MAIN_ENGINE_POWER * m_power, -oy * MAIN_ENGINE_POWER * m_power),\n",
        "                impulse_pos,\n",
        "                True,\n",
        "            )\n",
        "\n",
        "        s_power = 0.0\n",
        "        if (self.continuous and np.abs(action[1]) > 0.5) or (\n",
        "            not self.continuous and action in [1, 3]\n",
        "        ):\n",
        "            # Orientation engines\n",
        "            if self.continuous:\n",
        "                direction = np.sign(action[1])\n",
        "                s_power = np.clip(np.abs(action[1]), 0.5, 1.0)\n",
        "                assert s_power >= 0.5 and s_power <= 1.0\n",
        "            else:\n",
        "                direction = action - 2\n",
        "                s_power = 1.0\n",
        "            ox = tip[0] * dispersion[0] + side[0] * (\n",
        "                3 * dispersion[1] + direction * SIDE_ENGINE_AWAY / SCALE\n",
        "            )\n",
        "            oy = -tip[1] * dispersion[0] - side[1] * (\n",
        "                3 * dispersion[1] + direction * SIDE_ENGINE_AWAY / SCALE\n",
        "            )\n",
        "            impulse_pos = (\n",
        "                self.lander.position[0] + ox - tip[0] * 17 / SCALE,\n",
        "                self.lander.position[1] + oy + tip[1] * SIDE_ENGINE_HEIGHT / SCALE,\n",
        "            )\n",
        "            p = self._create_particle(0.7, impulse_pos[0], impulse_pos[1], s_power)\n",
        "            p.ApplyLinearImpulse(\n",
        "                (ox * SIDE_ENGINE_POWER * s_power, oy * SIDE_ENGINE_POWER * s_power),\n",
        "                impulse_pos,\n",
        "                True,\n",
        "            )\n",
        "            self.lander.ApplyLinearImpulse(\n",
        "                (-ox * SIDE_ENGINE_POWER * s_power, -oy * SIDE_ENGINE_POWER * s_power),\n",
        "                impulse_pos,\n",
        "                True,\n",
        "            )\n",
        "\n",
        "        self.world.Step(1.0 / FPS, 6 * 30, 2 * 30)\n",
        "\n",
        "        pos = self.lander.position\n",
        "        vel = self.lander.linearVelocity\n",
        "        state = [\n",
        "            (pos.x - VIEWPORT_W / SCALE / 2) / (VIEWPORT_W / SCALE / 2), # 0: x position\n",
        "            (pos.y - (self.helipad_y + LEG_DOWN / SCALE)) / (VIEWPORT_H / SCALE / 2), # 1: y position\n",
        "            vel.x * (VIEWPORT_W / SCALE / 2) / FPS, # 2\n",
        "            vel.y * (VIEWPORT_H / SCALE / 2) / FPS, # 3\n",
        "            self.lander.angle, # 4\n",
        "            20.0 * self.lander.angularVelocity / FPS, # 5\n",
        "            1.0 if self.legs[0].ground_contact else 0.0, # 6\n",
        "            1.0 if self.legs[1].ground_contact else 0.0, # 7\n",
        "        ]\n",
        "        assert len(state) == 8\n",
        "\n",
        "        # ----------------------------------------------------------------\n",
        "        # reward\n",
        "        reward = 0\n",
        "        shaping = (\n",
        "            # If the lander moves away from the landing pad, it loses reward\n",
        "            -100 * np.sqrt(state[0] * state[0] + state[1] * state[1]) # Euclidean distance\n",
        "            - 100 * np.sqrt(state[2] * state[2] + state[3] * state[3])\n",
        "\n",
        "            - 100 * abs(state[4])\n",
        "            # Each leg with ground contact is +10 points.\n",
        "            + 10 * state[6]\n",
        "            + 10 * state[7]\n",
        "        )  # And ten points for legs contact, the idea is if you\n",
        "        # lose contact again after landing, you get negative reward\n",
        "        if self.prev_shaping is not None:\n",
        "            reward = shaping - self.prev_shaping\n",
        "        self.prev_shaping = shaping\n",
        "\n",
        "        # Firing the main engine is -0.3 points each frame. \n",
        "        reward -= (\n",
        "            m_power * 0.30\n",
        "        )  # less fuel spent is better, about -30 for heuristic landing\n",
        "        # Firing the side engine is -0.03 points each frame.\n",
        "        reward -= s_power * 0.03\n",
        "\n",
        "        done = False\n",
        "        if self.game_over or abs(state[0]) >= 1.0: # crashed?\n",
        "            done = True\n",
        "            reward = -100\n",
        "        if not self.lander.awake and (np.sqrt(state[0] * state[0] + state[1] * state[1]) == 0) and (np.sqrt(state[2] * state[2] + state[3] * state[3])==0): # rest\n",
        "            done = True\n",
        "            reward = +200\n",
        "        return np.array(state, dtype=np.float32), reward, done, {}\n",
        "        # ----------------------------------------------------------------\n",
        "\n",
        "\n",
        "\n",
        "    \n",
        "  # def reset(self):\n",
        "  #     pass  # reward, done, info can't be included\n",
        "\n",
        "  # def render(self, mode='human'):\n",
        "  #     pass\n",
        "\n",
        "  # def close(self):\n",
        "  #     pass"
      ],
      "metadata": {
        "id": "7Nxu5rsZ4MH1"
      },
      "execution_count": 10,
      "outputs": []
    },
    {
      "cell_type": "markdown",
      "source": [
        "check environment"
      ],
      "metadata": {
        "id": "xGf0_9im0Y3R"
      }
    },
    {
      "cell_type": "code",
      "source": [
        "new_env = Custom_LunarLander_wind()\n",
        "new_env"
      ],
      "metadata": {
        "colab": {
          "base_uri": "https://localhost:8080/"
        },
        "id": "GdKLT2SiGCiV",
        "outputId": "b2aca173-149e-4f19-cef7-99e055ae9cc3"
      },
      "execution_count": 11,
      "outputs": [
        {
          "output_type": "execute_result",
          "data": {
            "text/plain": [
              "<__main__.Custom_LunarLander_wind at 0x7f477ffeb750>"
            ]
          },
          "metadata": {},
          "execution_count": 11
        }
      ]
    },
    {
      "cell_type": "code",
      "source": [
        "from stable_baselines3.common.env_checker import check_env\n",
        "check_env(new_env)"
      ],
      "metadata": {
        "id": "kG6IM6zW2IPm"
      },
      "execution_count": 12,
      "outputs": []
    },
    {
      "cell_type": "markdown",
      "source": [
        "#### register environment"
      ],
      "metadata": {
        "id": "DzZ83S3UzBYc"
      }
    },
    {
      "cell_type": "code",
      "source": [
        "from gym.envs.registration import register\n",
        "# Example for the CartPole environment\n",
        "register(\n",
        "    # unique identifier for the env `name-version`\n",
        "    id=\"LunarLander-v3\",\n",
        "    # path to the class for creating the env\n",
        "    # Note: entry_point also accept a class as input (and not only a string)\n",
        "    entry_point= Custom_LunarLander_wind,\n",
        "    # Max number of steps per episode, using a `TimeLimitWrapper`\n",
        "    max_episode_steps=500,\n",
        ")"
      ],
      "metadata": {
        "id": "C1cIXPTaJsQG"
      },
      "execution_count": 13,
      "outputs": []
    },
    {
      "cell_type": "markdown",
      "source": [
        "#### define model in new env"
      ],
      "metadata": {
        "id": "KdG01o1IzxGG"
      }
    },
    {
      "cell_type": "markdown",
      "metadata": {
        "execution": {},
        "id": "kMkD1Ku8zq9q"
      },
      "source": [
        "Now, let us setup our model and the DQN algorithm. "
      ]
    },
    {
      "cell_type": "code",
      "execution_count": 14,
      "metadata": {
        "execution": {},
        "id": "hun_d8rYzq9p"
      },
      "outputs": [],
      "source": [
        "nn_layers = [64,64] #This is the configuration of your neural network. Currently, we have two layers, each consisting of 64 neurons.\n",
        "                    #If you want three layers with 64 neurons each, set the value to [64,64,64] and so on.\n",
        "\n",
        "learning_rate = 0.001 #This is the step-size with which the gradient descent is carried out.\n",
        "                      #Tip: Use smaller step-sizes for larger networks.\n",
        "reward_threshold = 300 # Stop condition"
      ]
    },
    {
      "cell_type": "code",
      "execution_count": 15,
      "metadata": {
        "execution": {},
        "id": "5J0MmqyPzq9q"
      },
      "outputs": [],
      "source": [
        "log_dir = \"/tmp/gym/\"\n",
        "os.makedirs(log_dir, exist_ok=True)\n",
        "\n",
        "# Create environment\n",
        "env = gym.make('LunarLander-v3')\n",
        "#You can also load other environments like cartpole, MountainCar, Acrobot. Refer to https://gym.openai.com/docs/ for descriptions.\n",
        "#For example, if you would like to load Cartpole, just replace the above statement with \"env = gym.make('CartPole-v1')\".\n",
        "\n",
        "env = stable_baselines3.common.monitor.Monitor(env, log_dir )\n",
        "\n",
        "callback = EvalCallback(env,log_path = log_dir, deterministic=True) #For evaluating the performance of the agent periodically and logging the results.\n",
        "\n",
        "policy_kwargs = dict(activation_fn=torch.nn.ReLU,\n",
        "                     net_arch=nn_layers)\n",
        "model1 = DQN(\"MlpPolicy\", env, policy_kwargs = policy_kwargs,\n",
        "            learning_rate=learning_rate,\n",
        "            batch_size=1,  #for simplicity, we are not doing batch update.\n",
        "            buffer_size=1, #size of experience of replay buffer. Set to 1 as batch update is not done\n",
        "            learning_starts=1, #learning starts immediately!\n",
        "            gamma=0.99, #discount facto. range is between 0 and 1.\n",
        "            tau = 1,  #the soft update coefficient for updating the target network\n",
        "            target_update_interval=1, #update the target network immediately.\n",
        "            train_freq=(1,\"step\"), #train the network at every step.\n",
        "            max_grad_norm = 10, #the maximum value for the gradient clipping\n",
        "            exploration_initial_eps = 1, #initial value of random action probability\n",
        "            exploration_fraction = 0.5, #fraction of entire training period over which the exploration rate is reduced\n",
        "            gradient_steps = 1, #number of gradient steps\n",
        "            seed = 1, #seed for the pseudo random generators\n",
        "            verbose=0) #Set verbose to 1 to observe training logs. We encourage you to set the verbose to 1.\n",
        "\n",
        "# You can also experiment with other RL algorithms like A2C, PPO, DDPG etc. Refer to  https://stable-baselines3.readthedocs.io/en/master/guide/examples.html\n",
        "#for documentation. For example, if you would like to run DDPG, just replace \"DQN\" above with \"DDPG\"."
      ]
    },
    {
      "cell_type": "markdown",
      "source": [
        "#### visualize new environment"
      ],
      "metadata": {
        "id": "aFsU1I3KzLEL"
      }
    },
    {
      "cell_type": "code",
      "source": [
        "new_env = wrap_env(gym.make(\"LunarLander-v3\"))\n",
        "observation = new_env.reset()\n",
        "total_reward = 0\n",
        "\n",
        "while True:\n",
        "  new_env.render()\n",
        "  action, states = model1.predict(observation, deterministic=True)\n",
        "  observation, reward, done, info = new_env.step(action)\n",
        "  total_reward += reward\n",
        "  if done:\n",
        "    break;\n",
        "\n",
        "# print(total_reward)\n",
        "new_env.close()\n",
        "show_video()"
      ],
      "metadata": {
        "id": "HeHfAR-g4ttm",
        "outputId": "7a3be478-a481-4f4e-d4e3-e597862b0fd4",
        "colab": {
          "base_uri": "https://localhost:8080/",
          "height": 422
        }
      },
      "execution_count": 17,
      "outputs": [
        {
          "output_type": "display_data",
          "data": {
            "text/plain": [
              "<IPython.core.display.HTML object>"
            ],
            "text/html": [
              "<video alt=\"test\" autoplay\n",
              "                loop controls style=\"height: 400px;\">\n",
              "                <source src=\"data:video/mp4;base64,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\" type=\"video/mp4\" />\n",
              "             </video>"
            ]
          },
          "metadata": {}
        }
      ]
    },
    {
      "cell_type": "markdown",
      "source": [
        "#### train the model and visualize"
      ],
      "metadata": {
        "id": "zKB-D-Cy4e7B"
      }
    },
    {
      "cell_type": "code",
      "execution_count": 18,
      "metadata": {
        "execution": {},
        "colab": {
          "base_uri": "https://localhost:8080/"
        },
        "outputId": "b2d4727c-91ed-4556-fa5e-019fa23e9e06",
        "id": "FV4kq74Ozq9q"
      },
      "outputs": [
        {
          "output_type": "stream",
          "name": "stdout",
          "text": [
            "Eval num_timesteps=10000, episode_reward=-510.91 +/- 143.09\n",
            "Episode length: 103.40 +/- 26.82\n",
            "New best mean reward!\n",
            "Eval num_timesteps=20000, episode_reward=-87.42 +/- 21.23\n",
            "Episode length: 82.00 +/- 16.94\n",
            "New best mean reward!\n",
            "Eval num_timesteps=30000, episode_reward=47.04 +/- 28.89\n",
            "Episode length: 500.00 +/- 0.00\n",
            "New best mean reward!\n",
            "Eval num_timesteps=40000, episode_reward=-143.29 +/- 35.49\n",
            "Episode length: 500.00 +/- 0.00\n",
            "Eval num_timesteps=50000, episode_reward=134.41 +/- 11.39\n",
            "Episode length: 500.00 +/- 0.00\n",
            "New best mean reward!\n",
            "Eval num_timesteps=60000, episode_reward=60.57 +/- 5.05\n",
            "Episode length: 500.00 +/- 0.00\n",
            "Eval num_timesteps=70000, episode_reward=22.09 +/- 110.03\n",
            "Episode length: 392.60 +/- 132.31\n",
            "Eval num_timesteps=80000, episode_reward=142.27 +/- 20.95\n",
            "Episode length: 500.00 +/- 0.00\n",
            "New best mean reward!\n",
            "Eval num_timesteps=90000, episode_reward=7.82 +/- 78.81\n",
            "Episode length: 169.40 +/- 165.68\n",
            "Eval num_timesteps=100000, episode_reward=92.24 +/- 50.45\n",
            "Episode length: 443.40 +/- 113.20\n"
          ]
        },
        {
          "output_type": "execute_result",
          "data": {
            "text/plain": [
              "<stable_baselines3.dqn.dqn.DQN at 0x7f47805b1950>"
            ]
          },
          "metadata": {},
          "execution_count": 18
        }
      ],
      "source": [
        "model1.learn(total_timesteps=100000, log_interval=10, callback=callback, eval_log_path=log_dir)\n",
        "# The performance of the training will be printed every 10 episodes. Change it to 1, if you wish to\n",
        "# view the performance at every training episode.\n",
        "# how to read monitor.csv: ep_info = {\"r\": round(ep_rew, 6), \"l\": ep_len, \"t\": round(time.time() - self.t_start, 6)}"
      ]
    },
    {
      "cell_type": "code",
      "source": [
        "## save the model \n",
        "dir_prefix = \"./files/\"\n",
        "log_dir_windy = dir_prefix + \"DQN_windy/\"\n",
        "os.makedirs(log_dir_windy, exist_ok=True)\n",
        "\n",
        "model1.save(log_dir_windy + \"DQN_windy_model.zip\")\n",
        "\n"
      ],
      "metadata": {
        "id": "tCPSromeTyte"
      },
      "execution_count": 19,
      "outputs": []
    },
    {
      "cell_type": "markdown",
      "source": [
        "# @This is the Section for the  "
      ],
      "metadata": {
        "id": "qRia8vAo-bAM"
      }
    },
    {
      "cell_type": "code",
      "source": [
        ""
      ],
      "metadata": {
        "id": "8CkEOyhz-aTt"
      },
      "execution_count": null,
      "outputs": []
    },
    {
      "cell_type": "markdown",
      "source": [
        "## Define an Environment with repo git clone\n",
        "This is Section is designed if someone somehow decided to import a repo for the Env "
      ],
      "metadata": {
        "id": "GwOCyUI6swJU"
      }
    },
    {
      "cell_type": "code",
      "source": [
        "!git clone -l -s https://github.com/carlacodes/gym-0.21.0.git"
      ],
      "metadata": {
        "id": "ZWqpIfgJO5Ka",
        "outputId": "e88a3c8a-56da-466e-f099-1f78d265575d",
        "colab": {
          "base_uri": "https://localhost:8080/"
        }
      },
      "execution_count": null,
      "outputs": [
        {
          "output_type": "stream",
          "name": "stdout",
          "text": [
            "Cloning into 'gym-0.21.0'...\n",
            "warning: --local is ignored\n",
            "remote: Enumerating objects: 673, done.\u001b[K\n",
            "remote: Counting objects: 100% (77/77), done.\u001b[K\n",
            "remote: Compressing objects: 100% (47/47), done.\u001b[K\n",
            "remote: Total 673 (delta 58), reused 48 (delta 30), pack-reused 596\u001b[K\n",
            "Receiving objects: 100% (673/673), 1.60 MiB | 6.83 MiB/s, done.\n",
            "Resolving deltas: 100% (334/334), done.\n"
          ]
        }
      ]
    },
    {
      "cell_type": "code",
      "source": [
        "import importlib.util\n",
        "\n",
        "log_dir_obstacle = dir_prefix + \"DQN_transparent_obstacle/\"\n",
        "os.makedirs(log_dir_obstacle, exist_ok=True)\n",
        "spec=importlib.util.spec_from_file_location(\"LunarLander\",\"/content/gym-0.21.0/gym/envs/box2d/lunar_lander.py\")\n",
        "foo = importlib.util.module_from_spec(spec)\n",
        "spec.loader.exec_module(foo)\n",
        "\n",
        "\n",
        "new_env = foo.LunarLander()\n",
        "\n",
        "from stable_baselines3.common.env_checker import check_env\n",
        "check_env(new_env)\n",
        "\n",
        "from gym.envs.registration import register\n",
        "# Example for the CartPole environment\n",
        "register(\n",
        "    # unique identifier for the env `name-version`\n",
        "    id=\"LunarLander-v1\",\n",
        "    # path to the class for creating the env\n",
        "    # Note: entry_point also accept a class as input (and not only a string)\n",
        "    entry_point= Custom_LunarLander_wind,\n",
        "    # Max number of steps per episode, using a `TimeLimitWrapper`\n",
        "    max_episode_steps=500,\n",
        ")\n",
        "\n",
        "\n",
        "\n"
      ],
      "metadata": {
        "id": "EWzPogBVaKy8"
      },
      "execution_count": null,
      "outputs": []
    },
    {
      "cell_type": "code",
      "source": [
        "log_dir = \"/tmp/gym/\"\n",
        "os.makedirs(log_dir, exist_ok=True)\n",
        "\n",
        "# Create environment\n",
        "env = gym.make('LunarLander-v255')\n",
        "#You can also load other environments like cartpole, MountainCar, Acrobot. Refer to https://gym.openai.com/docs/ for descriptions.\n",
        "#For example, if you would like to load Cartpole, just replace the above statement with \"env = gym.make('CartPole-v1')\".\n",
        "\n",
        "env = stable_baselines3.common.monitor.Monitor(env, log_dir )\n",
        "\n",
        "callback = EvalCallback(env,log_path = log_dir, deterministic=True) #For evaluating the performance of the agent periodically and logging the results.\n",
        "\n",
        "policy_kwargs = dict(activation_fn=torch.nn.ReLU,\n",
        "                     net_arch=nn_layers)\n",
        "model1 = DQN(\"MlpPolicy\", env, policy_kwargs = policy_kwargs,\n",
        "            learning_rate=learning_rate,\n",
        "            batch_size=1,  #for simplicity, we are not doing batch update.\n",
        "            buffer_size=1, #size of experience of replay buffer. Set to 1 as batch update is not done\n",
        "            learning_starts=1, #learning starts immediately!\n",
        "            gamma=0.99, #discount facto. range is between 0 and 1.\n",
        "            tau = 1,  #the soft update coefficient for updating the target network\n",
        "            target_update_interval=1, #update the target network immediately.\n",
        "            train_freq=(1,\"step\"), #train the network at every step.\n",
        "            max_grad_norm = 10, #the maximum value for the gradient clipping\n",
        "            exploration_initial_eps = 1, #initial value of random action probability\n",
        "            exploration_fraction = 0.5, #fraction of entire training period over which the exploration rate is reduced\n",
        "            gradient_steps = 1, #number of gradient steps\n",
        "            seed = 1, #seed for the pseudo random generators\n",
        "            verbose=0) #Set verbose to 1 to observe training logs. We encourage you to set the verbose to 1.\n",
        "\n",
        "# You can also experiment with other RL algorithms like A2C, PPO, DDPG etc. Refer to  https://stable-baselines3.readthedocs.io/en/master/guide/examples.html\n",
        "#for documentation. For example, if you would like to run DDPG, just replace \"DQN\" above with \"DDPG\"."
      ],
      "metadata": {
        "id": "A7OEsnt_PudY"
      },
      "execution_count": null,
      "outputs": []
    },
    {
      "cell_type": "code",
      "source": [
        "new_env = wrap_env(gym.make(\"LunarLander-v255\"))\n",
        "observation = new_env.reset()\n",
        "total_reward = 0\n",
        "\n",
        "while True:\n",
        "  new_env.render()\n",
        "  action, states = model.predict(observation, deterministic=True)\n",
        "  observation, reward, done, info = new_env.step(action)\n",
        "  total_reward += reward\n",
        "  if done:\n",
        "    break;\n",
        "\n",
        "# print(total_reward)\n",
        "new_env.close()\n",
        "show_video()"
      ],
      "metadata": {
        "id": "ciuQ2zS5P1lB"
      },
      "execution_count": null,
      "outputs": []
    },
    {
      "cell_type": "markdown",
      "source": [
        "## Define an environment with obstacle "
      ],
      "metadata": {
        "id": "-Wk2xBkQP44T"
      }
    },
    {
      "cell_type": "code",
      "source": [
        "from gym.envs.box2d import LunarLander\n",
        "from Box2D.b2 import fixtureDef, circleShape, polygonShape, revoluteJointDef, contactListener, edgeShape\n",
        "import math"
      ],
      "metadata": {
        "id": "NfxblZzztMHP"
      },
      "execution_count": 20,
      "outputs": []
    },
    {
      "cell_type": "code",
      "source": [
        "class ContactDetector(contactListener):\n",
        "    def __init__(self, env):\n",
        "        contactListener.__init__(self)\n",
        "        self.env = env\n",
        "\n",
        "    def BeginContact(self, contact):\n",
        "        if (\n",
        "                self.env.lander == contact.fixtureA.body\n",
        "                or self.env.lander == contact.fixtureB.body\n",
        "        ):\n",
        "            self.env.game_over = True\n",
        "        for i in range(2):\n",
        "            if self.env.legs[i] in [contact.fixtureA.body, contact.fixtureB.body]:\n",
        "                self.env.legs[i].ground_contact = True\n",
        "\n",
        "    def EndContact(self, contact):\n",
        "        for i in range(2):\n",
        "            if self.env.legs[i] in [contact.fixtureA.body, contact.fixtureB.body]:\n",
        "                self.env.legs[i].ground_contact = False\n",
        "\n",
        "class Custom_LunarLander_obs(LunarLander):\n",
        "    metadata = {\"render.modes\": [\"human\", \"rgb_array\"], \"video.frames_per_second\": FPS}\n",
        "    continuous = False\n",
        "\n",
        "    def __init__(\n",
        "        self,\n",
        "        enable_wind: bool = False,\n",
        "        wind_power: float = 15.0,\n",
        "        obs_coords = [10, 10],\n",
        "        enable_obstacle: bool = True\n",
        "    ):\n",
        "        LunarLander.__init__(self)\n",
        "\n",
        "        self.enable_wind = enable_wind\n",
        "\n",
        "        self.obs_coords = obs_coords\n",
        "        self.enable_obstacle = enable_obstacle\n",
        "        self.wind_power = wind_power\n",
        "\n",
        "        self.wind_idx = np.random.randint(-9999, 9999)\n",
        "\n",
        "        # defining the polygon obstacle here:\n",
        "        vertices_poly = [(5, 5), (5, 2), (2, 2), (2, 5)]  # may need to change later\n",
        "        # self.obstacle = self.world.CreateStaticBody(\n",
        "        #\n",
        "        #     # shapes=polygonShape(centroid=(self.obs_coords[0] + VIEWPORT_W / 2 / SCALE,\n",
        "        #     #                         self.obs_coords[1] + (self.helipad_y + LEG_DOWN / SCALE)),\n",
        "        #     #                    vertices= [(x / SCALE, y / SCALE) for x, y in vertices_poly]),\n",
        "        #     shapes=circleShape(pos=(self.obs_coords[0] + VIEWPORT_W / 2 / SCALE,\n",
        "        #                             self.obs_coords[1] + (self.helipad_y + LEG_DOWN / SCALE)),\n",
        "        #                        radius=2),\n",
        "        #                         categoryBits=0x1000,\n",
        "        #\n",
        "        # )\n",
        "        self.obstacle = self.world.CreateStaticBody(\n",
        "            position=(self.obs_coords[0], self.obs_coords[1]),\n",
        "            # (self.obs_coords[0] + VIEWPORT_W / 2 / SCALE,\n",
        "            # self.obs_coords[1] + (self.helipad_y + LEG_DOWN / SCALE))\n",
        "            angle=0.0,\n",
        "            fixtures=fixtureDef(\n",
        "                #circleShape(radius=2 / SCALE, pos=(0, 0)),\n",
        "                shape=circleShape(radius=20 / SCALE, \n",
        "                                  pos=(self.obs_coords[0],\n",
        "                                       self.obs_coords[1])),\n",
        "                # density=5.0,\n",
        "                # friction=0.1,\n",
        "                # categoryBits=0x0010,\n",
        "                # # maskBits=0x001,  # collide only with ground\n",
        "                # restitution=0.0,\n",
        "            ),  # 0.99 bouncy\n",
        "        )\n",
        "\n",
        "        self.obstacle.color1 = (0.5, 0.4, 0.9)\n",
        "        self.obstacle.color2 = (1, 1, 1)\n",
        "        # self.obstacle.alpha = 0.8  \n",
        "\n",
        "        self.observation_space = spaces.Box(\n",
        "            -np.inf, np.inf, shape=(8,), dtype=np.float32\n",
        "        )   \n",
        "\n",
        "    def reset(self):\n",
        "        self._destroy()\n",
        "        self.world.contactListener_keepref = ContactDetector(self)\n",
        "        self.world.contactListener = self.world.contactListener_keepref\n",
        "        self.game_over = False\n",
        "        self.prev_shaping = None\n",
        "\n",
        "        W = VIEWPORT_W / SCALE\n",
        "        H = VIEWPORT_H / SCALE\n",
        "\n",
        "        # terrain\n",
        "        CHUNKS = 11\n",
        "        height = self.np_random.uniform(0, H / 2, size=(CHUNKS + 1,))\n",
        "        chunk_x = [W / (CHUNKS - 1) * i for i in range(CHUNKS)]\n",
        "        self.helipad_x1 = chunk_x[CHUNKS // 2 - 1]\n",
        "        self.helipad_x2 = chunk_x[CHUNKS // 2 + 1]\n",
        "        self.helipad_y = H / 4\n",
        "        height[CHUNKS // 2 - 2] = self.helipad_y\n",
        "        height[CHUNKS // 2 - 1] = self.helipad_y\n",
        "        height[CHUNKS // 2 + 0] = self.helipad_y\n",
        "        height[CHUNKS // 2 + 1] = self.helipad_y\n",
        "        height[CHUNKS // 2 + 2] = self.helipad_y\n",
        "        smooth_y = [\n",
        "            0.33 * (height[i - 1] + height[i + 0] + height[i + 1])\n",
        "            for i in range(CHUNKS)\n",
        "        ]\n",
        "\n",
        "        self.moon = self.world.CreateStaticBody(\n",
        "            shapes=edgeShape(vertices=[(0, 0), (W, 0)])\n",
        "        )\n",
        "\n",
        "        # defining the polygon obstacle here----------------------------------\n",
        "        vertices_poly = [(5, 5), (5, 2), (2, 2), (2, 5)]  # may need to change later\n",
        "        # self.obstacle = self.world.CreateStaticBody(\n",
        "        #\n",
        "        #     # shapes=polygonShape(centroid=(self.obs_coords[0] + VIEWPORT_W / 2 / SCALE,\n",
        "        #     #                         self.obs_coords[1] + (self.helipad_y + LEG_DOWN / SCALE)),\n",
        "        #     #                    vertices= [(x / SCALE, y / SCALE) for x, y in vertices_poly]),\n",
        "        #     shapes=circleShape(pos=(self.obs_coords[0] + VIEWPORT_W / 2 / SCALE,\n",
        "        #                             self.obs_coords[1] + (self.helipad_y + LEG_DOWN / SCALE)),\n",
        "        #                        radius=2),\n",
        "        #                         categoryBits=0x1000,\n",
        "        #\n",
        "        # )\n",
        "        self.obstacle = self.world.CreateStaticBody(\n",
        "            position=(self.obs_coords[0], self.obs_coords[1]),\n",
        "            # (self.obs_coords[0] + VIEWPORT_W / 2 / SCALE,\n",
        "            # self.obs_coords[1] + (self.helipad_y + LEG_DOWN / SCALE))\n",
        "            angle=0.0,\n",
        "            fixtures=fixtureDef(\n",
        "                #circleShape(radius=2 / SCALE, pos=(0, 0)),\n",
        "                shape=circleShape(radius=20 / SCALE, pos=(self.obs_coords[0],\n",
        "                                       self.obs_coords[1])),\n",
        "                # density=5.0,\n",
        "                # friction=0.1,\n",
        "                # categoryBits=0x0010,\n",
        "                # # maskBits=0x001,  # collide only with ground\n",
        "                # restitution=0.0,\n",
        "            ),  # 0.99 bouncy\n",
        "        )\n",
        "\n",
        "        self.obstacle.color1 = (0.5, 0.4, 0.9)\n",
        "        self.obstacle.color2 = (1, 1, 1)\n",
        "        # self.obstacle.alpha = 0.8\n",
        "        # ----------------------------------------------------------------\n",
        "\n",
        "        self.sky_polys = []\n",
        "        for i in range(CHUNKS - 1):\n",
        "            p1 = (chunk_x[i], smooth_y[i])\n",
        "            p2 = (chunk_x[i + 1], smooth_y[i + 1])\n",
        "            self.moon.CreateEdgeFixture(vertices=[p1, p2], density=0, friction=0.1)\n",
        "            self.sky_polys.append([p1, p2, (p2[0], H), (p1[0], H)])\n",
        "\n",
        "        self.moon.color1 = (0.0, 0.0, 0.0)\n",
        "        self.moon.color2 = (0.0, 0.0, 0.0)\n",
        "\n",
        "        initial_y = VIEWPORT_H / SCALE\n",
        "        self.lander = self.world.CreateDynamicBody(\n",
        "            position=(VIEWPORT_W / SCALE / 2, initial_y),\n",
        "            angle=0.0,\n",
        "            fixtures=fixtureDef(\n",
        "                shape=polygonShape(\n",
        "                    vertices=[(x / SCALE, y / SCALE) for x, y in LANDER_POLY]\n",
        "                ),\n",
        "                density=5.0,\n",
        "                friction=0.1,\n",
        "                categoryBits=0x0010,\n",
        "                maskBits=0x001,  # collide only with ground\n",
        "                restitution=0.0,\n",
        "            ),  # 0.99 bouncy\n",
        "        )\n",
        "        self.lander.color1 = (0.5, 0.4, 0.9)\n",
        "        self.lander.color2 = (0.3, 0.3, 0.5)\n",
        "        self.lander.ApplyForceToCenter(\n",
        "            (\n",
        "                self.np_random.uniform(-INITIAL_RANDOM, INITIAL_RANDOM),\n",
        "                self.np_random.uniform(-INITIAL_RANDOM, INITIAL_RANDOM),\n",
        "            ),\n",
        "            True,\n",
        "        )\n",
        "\n",
        "        self.legs = []\n",
        "        for i in [-1, +1]:\n",
        "            leg = self.world.CreateDynamicBody(\n",
        "                position=(VIEWPORT_W / SCALE / 2 - i * LEG_AWAY / SCALE, initial_y),\n",
        "                angle=(i * 0.05),\n",
        "                fixtures=fixtureDef(\n",
        "                    shape=polygonShape(box=(LEG_W / SCALE, LEG_H / SCALE)),\n",
        "                    density=1.0,\n",
        "                    restitution=0.0,\n",
        "                    categoryBits=0x0020,\n",
        "                    maskBits=0x001,\n",
        "                ),\n",
        "            )\n",
        "            leg.ground_contact = False\n",
        "            leg.color1 = (0.5, 0.4, 0.9)\n",
        "            leg.color2 = (0.3, 0.3, 0.5)\n",
        "            rjd = revoluteJointDef(\n",
        "                bodyA=self.lander,\n",
        "                bodyB=leg,\n",
        "                localAnchorA=(0, 0),\n",
        "                localAnchorB=(i * LEG_AWAY / SCALE, LEG_DOWN / SCALE),\n",
        "                enableMotor=True,\n",
        "                enableLimit=True,\n",
        "                maxMotorTorque=LEG_SPRING_TORQUE,\n",
        "                motorSpeed=+0.3 * i,  # low enough not to jump back into the sky\n",
        "            )\n",
        "            if i == -1:\n",
        "                rjd.lowerAngle = (\n",
        "                        +0.9 - 0.5\n",
        "                )  # The most esoteric numbers here, angled legs have freedom to travel within\n",
        "                rjd.upperAngle = +0.9\n",
        "            else:\n",
        "                rjd.lowerAngle = -0.9\n",
        "                rjd.upperAngle = -0.9 + 0.5\n",
        "            leg.joint = self.world.CreateJoint(rjd)\n",
        "            self.legs.append(leg)\n",
        "\n",
        "        self.drawlist = [self.lander] + self.legs\n",
        "        \n",
        "\n",
        "        return self.step(np.array([0, 0]) if self.continuous else 0)[0]\n",
        "\n",
        "    def step(self, action):\n",
        "        if self.continuous:\n",
        "            action = np.clip(action, -1, +1).astype(np.float32)\n",
        "        else:\n",
        "            assert self.action_space.contains(action), \"%r (%s) invalid \" % (\n",
        "                action,\n",
        "                type(action),\n",
        "            )\n",
        "\n",
        "        # Engines\n",
        "        tip = (math.sin(self.lander.angle), math.cos(self.lander.angle))\n",
        "        side = (-tip[1], tip[0])\n",
        "        dispersion = [self.np_random.uniform(-1.0, +1.0) / SCALE for _ in range(2)]\n",
        "\n",
        "        m_power = 0.0\n",
        "        if (self.continuous and action[0] > 0.0) or (\n",
        "            not self.continuous and action == 2\n",
        "        ):\n",
        "            # Main engine\n",
        "            if self.continuous:\n",
        "                m_power = (np.clip(action[0], 0.0, 1.0) + 1.0) * 0.5  # 0.5..1.0\n",
        "                assert m_power >= 0.5 and m_power <= 1.0\n",
        "            else:\n",
        "                m_power = 1.0\n",
        "            ox = (\n",
        "                tip[0] * (4 / SCALE + 2 * dispersion[0]) + side[0] * dispersion[1]\n",
        "            )  # 4 is move a bit downwards, +-2 for randomness\n",
        "            oy = -tip[1] * (4 / SCALE + 2 * dispersion[0]) - side[1] * dispersion[1]\n",
        "            impulse_pos = (self.lander.position[0] + ox, self.lander.position[1] + oy)\n",
        "            p = self._create_particle(\n",
        "                3.5,  # 3.5 is here to make particle speed adequate\n",
        "                impulse_pos[0],\n",
        "                impulse_pos[1],\n",
        "                m_power,\n",
        "            )  # particles are just a decoration\n",
        "            p.ApplyLinearImpulse(\n",
        "                (ox * MAIN_ENGINE_POWER * m_power, oy * MAIN_ENGINE_POWER * m_power),\n",
        "                impulse_pos,\n",
        "                True,\n",
        "            )\n",
        "            self.lander.ApplyLinearImpulse(\n",
        "                (-ox * MAIN_ENGINE_POWER * m_power, -oy * MAIN_ENGINE_POWER * m_power),\n",
        "                impulse_pos,\n",
        "                True,\n",
        "            )\n",
        "\n",
        "        s_power = 0.0\n",
        "        if (self.continuous and np.abs(action[1]) > 0.5) or (\n",
        "            not self.continuous and action in [1, 3]\n",
        "        ):\n",
        "            # Orientation engines\n",
        "            if self.continuous:\n",
        "                direction = np.sign(action[1])\n",
        "                s_power = np.clip(np.abs(action[1]), 0.5, 1.0)\n",
        "                assert s_power >= 0.5 and s_power <= 1.0\n",
        "            else:\n",
        "                direction = action - 2\n",
        "                s_power = 1.0\n",
        "            ox = tip[0] * dispersion[0] + side[0] * (\n",
        "                3 * dispersion[1] + direction * SIDE_ENGINE_AWAY / SCALE\n",
        "            )\n",
        "            oy = -tip[1] * dispersion[0] - side[1] * (\n",
        "                3 * dispersion[1] + direction * SIDE_ENGINE_AWAY / SCALE\n",
        "            )\n",
        "            impulse_pos = (\n",
        "                self.lander.position[0] + ox - tip[0] * 17 / SCALE,\n",
        "                self.lander.position[1] + oy + tip[1] * SIDE_ENGINE_HEIGHT / SCALE,\n",
        "            )\n",
        "            p = self._create_particle(0.7, impulse_pos[0], impulse_pos[1], s_power)\n",
        "            p.ApplyLinearImpulse(\n",
        "                (ox * SIDE_ENGINE_POWER * s_power, oy * SIDE_ENGINE_POWER * s_power),\n",
        "                impulse_pos,\n",
        "                True,\n",
        "            )\n",
        "            self.lander.ApplyLinearImpulse(\n",
        "                (-ox * SIDE_ENGINE_POWER * s_power, -oy * SIDE_ENGINE_POWER * s_power),\n",
        "                impulse_pos,\n",
        "                True,\n",
        "            )\n",
        "\n",
        "        self.world.Step(1.0 / FPS, 6 * 30, 2 * 30)\n",
        "\n",
        "        pos = self.lander.position\n",
        "        # print([pos.x,pos.y])\n",
        "        vel = self.lander.linearVelocity\n",
        "      \n",
        "        state = [\n",
        "            (pos.x - VIEWPORT_W / SCALE / 2) / (VIEWPORT_W / SCALE / 2), # 0: x position\n",
        "            (pos.y - (self.helipad_y + LEG_DOWN / SCALE)) / (VIEWPORT_H / SCALE / 2), # 1: y position\n",
        "            vel.x * (VIEWPORT_W / SCALE / 2) / FPS, # 2\n",
        "            vel.y * (VIEWPORT_H / SCALE / 2) / FPS, # 3\n",
        "            self.lander.angle, # 4\n",
        "            20.0 * self.lander.angularVelocity / FPS, # 5\n",
        "            1.0 if self.legs[0].ground_contact else 0.0, # 6\n",
        "            1.0 if self.legs[1].ground_contact else 0.0, # 7\n",
        "\n",
        "            # (pos.x - self.obs_coords[0] / SCALE) / (VIEWPORT_W / SCALE / 2), # 8: x position\n",
        "            # (pos.y - self.obs_coords[1] / SCALE) / (VIEWPORT_H / SCALE / 2), # 9: y position\n",
        "\n",
        "        ]\n",
        "        assert len(state) == 8\n",
        "\n",
        "        state_8 = (pos.x - self.obs_coords[0] / SCALE) / (VIEWPORT_W / SCALE / 2);\n",
        "        state_9 = (pos.y - self.obs_coords[1] / SCALE) / (VIEWPORT_H / SCALE / 2);\n",
        "\n",
        "        # ----------------------------------------------------------------\n",
        "        # reward\n",
        "        # distance_to_obstacle = np.sqrt((pos.x - (self.obs_coords[0] +\n",
        "        #                                     VIEWPORT_W / SCALE / 2)) ** 2 +\n",
        "        #                         (pos.y - (self.obs_coords[1] +\n",
        "\n",
        "        #                                   (self.helipad_y + LEG_DOWN / SCALE))) ** 2)\n",
        "        distance_to_obstacle = np.sqrt(state_8 * state_8 + state_9 * state_9)\n",
        "\n",
        "        # if (distance_to_obstacle <= (1)):\n",
        "        #     print('dangerously close to obstacle!')\n",
        "\n",
        "        reward = 0\n",
        "        shaping = (\n",
        "            # If the lander moves away from the landing pad, it loses reward\n",
        "            - 100 * np.sqrt(state[0] * state[0] + state[1] * state[1]) # Euclidean distance\n",
        "            - 50 * np.sqrt(state[2] * state[2] + state[3] * state[3])\n",
        "\n",
        "            - 100 * abs(state[4])\n",
        "            # Each leg with ground contact is +10 points.\n",
        "            + 10 * state[6]\n",
        "            + 10 * state[7]\n",
        "            - 50 * (distance_to_obstacle <= (20 / SCALE)) # obstacles \n",
        "        )  # And ten points for legs contact, the idea is if you\n",
        "        # lose contact again after landing, you get negative reward\n",
        "        if self.prev_shaping is not None:\n",
        "            reward = shaping - self.prev_shaping\n",
        "        self.prev_shaping = shaping\n",
        "\n",
        "        # Firing the main engine is -0.3 points each frame. \n",
        "        reward -= (\n",
        "            m_power * 0.30\n",
        "        )  # less fuel spent is better, about -30 for heuristic landing\n",
        "        # Firing the side engine is -0.03 points each frame.\n",
        "        reward -= s_power * 0.03\n",
        "\n",
        "        done = False\n",
        "        if self.game_over or abs(state[0]) >= 1.0: # crashed?\n",
        "            done = True\n",
        "            reward = -100\n",
        "        if not self.lander.awake and (np.sqrt(state[0] * state[0] + state[1] * state[1]) == 0) and (np.sqrt(state[2] * state[2] + state[3] * state[3])==0): # rest\n",
        "            done = True\n",
        "            reward = +200\n",
        "\n",
        "        return np.array(state, dtype=np.float32), reward, done, {}\n",
        "        # ----------------------------------------------------------------\n",
        "\n",
        "\n",
        "    def render(self, mode=\"human\"):\n",
        "        from gym.envs.classic_control import rendering\n",
        "\n",
        "        if self.viewer is None:\n",
        "            self.viewer = rendering.Viewer(VIEWPORT_W, VIEWPORT_H)\n",
        "            self.viewer.set_bounds(0, VIEWPORT_W / SCALE, 0, VIEWPORT_H / SCALE)\n",
        "\n",
        "        for obj in self.particles:\n",
        "            obj.ttl -= 0.15\n",
        "            obj.color1 = (\n",
        "                max(0.2, 0.2 + obj.ttl),\n",
        "                max(0.2, 0.5 * obj.ttl),\n",
        "                max(0.2, 0.5 * obj.ttl),\n",
        "            )\n",
        "            obj.color2 = (\n",
        "                max(0.2, 0.2 + obj.ttl),\n",
        "                max(0.2, 0.5 * obj.ttl),\n",
        "                max(0.2, 0.5 * obj.ttl),\n",
        "            )\n",
        "\n",
        "        self._clean_particles(False)\n",
        "        # print('drawlist')\n",
        "        # print(self.drawlist)\n",
        "        for p in self.sky_polys:\n",
        "            self.viewer.draw_polygon(p, color=(0, 0, 0))\n",
        "        # editing below line to draw obstacle\n",
        "        for obj in self.particles + self.drawlist:\n",
        "            for f in obj.fixtures:\n",
        "                trans = f.body.transform\n",
        "                if type(f.shape) is circleShape:\n",
        "                    t = rendering.Transform(translation=trans * f.shape.pos)\n",
        "                    self.viewer.draw_circle(\n",
        "                        f.shape.radius, 20, color=obj.color1, filled=True\n",
        "                    ).add_attr(t)\n",
        "                    self.viewer.draw_circle(\n",
        "                        f.shape.radius, 20, color=obj.color2, filled=False, linewidth=2\n",
        "                    ).add_attr(t)\n",
        "                    # t = rendering.Transform((100, 100))  # Position\n",
        "                    # self.viewer.draw_circle(20).add_attr(t)  # Add transform for position\n",
        "                    # self.viewer.render()\n",
        "                else:\n",
        "                    path = [trans * v for v in f.shape.vertices]\n",
        "                    # print('poly shape in object fixtures')\n",
        "                    # print(f)\n",
        "                    self.viewer.draw_polygon(path, color=obj.color1)\n",
        "                    path.append(path[0])\n",
        "                    self.viewer.draw_polyline(path, color=obj.color2, linewidth=2)\n",
        "\n",
        "        for obj2 in [self.obstacle]:\n",
        "            # print('rendering obstacle')\n",
        "            # print(obj2)\n",
        "            for f in obj2.fixtures:\n",
        "                trans = f.body.transform\n",
        "                if type(f.shape) is circleShape:\n",
        "                    # print('printing circle of radius')\n",
        "                    #t = rendering.Transform(translation=trans * f.shape.pos)\n",
        "                    t = rendering.Transform((self.obs_coords[0], self.obs_coords[1]))\n",
        "                    # print(f.shape.radius)\n",
        "                    self.viewer.draw_circle(\n",
        "                        f.shape.radius, 20, color=obj2.color1, filled=True\n",
        "                    ).add_attr(t)\n",
        "                    self.viewer.draw_circle(\n",
        "                        f.shape.radius, 20, color=obj2.color2, filled=False, linewidth=2\n",
        "                    ).add_attr(t)\n",
        "                    # t = rendering.Transform((10, 10))  # Position\n",
        "                    # self.viewer.draw_circle(2).add_attr(t)  # Add transform for position\n",
        "                    # self.viewer.render()\n",
        "                else:\n",
        "                    path = [trans * v for v in f.shape.vertices]\n",
        "                    # print('poly shape in object fixtures')\n",
        "                    # print(f)\n",
        "                    self.viewer.draw_polygon(path, color=obj2.color1)\n",
        "                    path.append(path[0])\n",
        "                    self.viewer.draw_polyline(path, color=obj2.color2, linewidth=2)\n",
        "\n",
        "        for x in [self.helipad_x1, self.helipad_x2]:\n",
        "            flagy1 = self.helipad_y\n",
        "            flagy2 = flagy1 + 50 / SCALE\n",
        "            self.viewer.draw_polyline([(x, flagy1), (x, flagy2)], color=(1, 1, 1))\n",
        "            self.viewer.draw_polygon(\n",
        "                [\n",
        "                    (x, flagy2),\n",
        "                    (x, flagy2 - 10 / SCALE),\n",
        "                    (x + 25 / SCALE, flagy2 - 5 / SCALE),\n",
        "                ],\n",
        "                color=(0.8, 0.8, 0),\n",
        "            )\n",
        "\n",
        "        return self.viewer.render(return_rgb_array=mode == \"rgb_array\")\n",
        "\n",
        "\n",
        "    \n",
        "  # def reset(self):\n",
        "  #     pass  # reward, done, info can't be included\n",
        "\n",
        "  # def render(self, mode='human'):\n",
        "  #     pass\n",
        "\n",
        "  # def close(self):\n",
        "  #     pass"
      ],
      "metadata": {
        "id": "MAwXYRAQhpvg"
      },
      "execution_count": 21,
      "outputs": []
    },
    {
      "cell_type": "code",
      "source": [
        "new_env2 = Custom_LunarLander_obs()\n",
        "new_env2"
      ],
      "metadata": {
        "colab": {
          "base_uri": "https://localhost:8080/"
        },
        "outputId": "196a4075-2a5d-43ff-8497-04c46c814510",
        "id": "dxrSUxAgiRPg"
      },
      "execution_count": 22,
      "outputs": [
        {
          "output_type": "execute_result",
          "data": {
            "text/plain": [
              "<__main__.Custom_LunarLander_obs at 0x7f4772806790>"
            ]
          },
          "metadata": {},
          "execution_count": 22
        }
      ]
    },
    {
      "cell_type": "markdown",
      "source": [
        ""
      ],
      "metadata": {
        "id": "wkcf7bWAssA4"
      }
    },
    {
      "cell_type": "code",
      "source": [
        "from stable_baselines3.common.env_checker import check_env\n",
        "from stable_baselines3.common.callbacks import EvalCallback, StopTrainingOnRewardThreshold\n",
        "check_env(new_env2)"
      ],
      "metadata": {
        "id": "5yacX9tliV_Z"
      },
      "execution_count": 23,
      "outputs": []
    },
    {
      "cell_type": "code",
      "source": [
        "for env in gym.envs.registration.registry.env_specs.copy():\n",
        "    if 'LunarLander-v3' in env:\n",
        "        print(\"Remove {} from registry\".format(env))\n",
        "        del gym.envs.registration.registry.env_specs[env]"
      ],
      "metadata": {
        "colab": {
          "base_uri": "https://localhost:8080/"
        },
        "id": "nNOEgfEolroH",
        "outputId": "c8c6baa8-6261-4e6b-ca16-30a2d73e6cea"
      },
      "execution_count": 24,
      "outputs": [
        {
          "output_type": "stream",
          "name": "stdout",
          "text": [
            "Remove LunarLander-v3 from registry\n"
          ]
        }
      ]
    },
    {
      "cell_type": "code",
      "source": [
        "from gym.envs.registration import register\n",
        "# Example for the CartPole environment\n",
        "register(\n",
        "    # unique identifier for the env `name-version`\n",
        "    id=\"LunarLander-v4\",\n",
        "    # path to the class for creating the env\n",
        "    # Note: entry_point also accept a class as input (and not only a string)\n",
        "    entry_point= Custom_LunarLander_obs,\n",
        "    # Max number of steps per episode, using a `TimeLimitWrapper`\n",
        "    max_episode_steps=500,\n",
        ")"
      ],
      "metadata": {
        "id": "pI_O6IZfi6RW"
      },
      "execution_count": 25,
      "outputs": []
    },
    {
      "cell_type": "code",
      "source": [
        "log_dir = \"/tmp/gym/\"\n",
        "os.makedirs(log_dir, exist_ok=True)\n",
        "\n",
        "# Create environment\n",
        "env = gym.make('LunarLander-v4')\n",
        "#You can also load other environments like cartpole, MountainCar, Acrobot. Refer to https://gym.openai.com/docs/ for descriptions.\n",
        "#For example, if you would like to load Cartpole, just replace the above statement with \"env = gym.make('CartPole-v1')\".\n",
        "\n",
        "env = stable_baselines3.common.monitor.Monitor(env, log_dir )\n",
        "\n",
        "callback = EvalCallback(env,log_path = log_dir, deterministic=True) #For evaluating the performance of the agent periodically and logging the results.\n",
        "callback_on_best = StopTrainingOnRewardThreshold(reward_threshold=reward_threshold, verbose=1)\n",
        "callback = EvalCallback(env,log_path = log_dir_windy, callback_on_new_best=callback_on_best, deterministic=True) #For evaluating the performance of the agent periodically and logging the results.\n",
        "\n",
        "policy_kwargs = dict(activation_fn=torch.nn.ReLU,\n",
        "                     net_arch=nn_layers)\n",
        "\n",
        "model2 = DQN(\"MlpPolicy\", env, policy_kwargs = policy_kwargs,\n",
        "            learning_rate=learning_rate,\n",
        "            batch_size=1,  #for simplicity, we are not doing batch update.\n",
        "            buffer_size=1, #size of experience of replay buffer. Set to 1 as batch update is not done\n",
        "            learning_starts=1, #learning starts immediately!\n",
        "            gamma=0.99, #discount facto. range is between 0 and 1.\n",
        "            tau = 1,  #the soft update coefficient for updating the target network\n",
        "            target_update_interval=1, #update the target network immediately.\n",
        "            train_freq=(1,\"step\"), #train the network at every step.\n",
        "            max_grad_norm = 10, #the maximum value for the gradient clipping\n",
        "            exploration_initial_eps = 1, #initial value of random action probability\n",
        "            exploration_fraction = 0.5, #fraction of entire training period over which the exploration rate is reduced\n",
        "            gradient_steps = 1, #number of gradient steps\n",
        "            seed = 1, #seed for the pseudo random generators\n",
        "            verbose=0) #Set verbose to 1 to observe training logs. We encourage you to set the verbose to 1.\n",
        " #Set verbose to 1 to observe training logs. We encourage you to set the verbose to 1.\n",
        " \n",
        "\n",
        "\n",
        "# You can also experiment with other RL algorithms like A2C, PPO, DDPG etc. Refer to  https://stable-baselines3.readthedocs.io/en/master/guide/examples.html\n",
        "#for documentation. For example, if you would like to run DDPG, just replace \"DQN\" above with \"DDPG\".\n"
      ],
      "metadata": {
        "id": "Vt08E2kIjTza"
      },
      "execution_count": 26,
      "outputs": []
    },
    {
      "cell_type": "code",
      "source": [
        "model1 = DQN.load(log_dir_windy + \"DQN_windy_model.zip\",env=env)"
      ],
      "metadata": {
        "id": "ygKupwEwzPQc"
      },
      "execution_count": null,
      "outputs": []
    },
    {
      "cell_type": "code",
      "source": [
        "# _, model_weights = get_model_weights(model, 'twice trained model')\n",
        "# print(model_weights)\n",
        "# def get_model_weights(model, model_name):\n",
        "#   ''' This is a function to check the model weights. One can compare trained and untraind models' weights in this way.'''\n",
        "  \n",
        "\n",
        "#   #print ('Sanity check. Comparing model weights for', model_names, models)\n",
        "#   #for model, model_name in zip(models, model_names): \n",
        "#   weight_list = []\n",
        "#   keys = [item for item in model.policy.state_dict()]\n",
        "#   for key in keys:\n",
        "#     weight_list.append(torch.sum(model.policy.state_dict()[key]))\n",
        "#   return model_name, weight_list"
      ],
      "metadata": {
        "colab": {
          "base_uri": "https://localhost:8080/"
        },
        "id": "nbUzlWnXv2W8",
        "outputId": "62cef7b3-8e9b-4036-c0b4-7c49a650a6d9"
      },
      "execution_count": null,
      "outputs": [
        {
          "output_type": "stream",
          "name": "stdout",
          "text": [
            "[tensor(2.3335), tensor(-2.7010), tensor(-7.5272), tensor(0.7974), tensor(1.3294), tensor(-0.2432), tensor(2.3335), tensor(-2.7010), tensor(-7.5272), tensor(0.7974), tensor(1.3294), tensor(-0.2432)]\n"
          ]
        }
      ]
    },
    {
      "cell_type": "code",
      "source": [
        "# save_dict = model2.policy.state_dict()\n",
        "# layer_names = [item for item in model2.policy.state_dict().keys()]\n",
        "# layer_names.remove(\"q_net_target.q_net.0.weight\")\n",
        "# layer_names.remove(\"q_net.q_net.0.weight\")\n",
        "# del save_dict[\"q_net_target.q_net.0.weight\"]\n",
        "# del save_dict[\"q_net.q_net.0.weight\"]\n",
        "# print(layer_names)\n",
        "\n",
        "# for layer in layer_names:\n",
        "  \n",
        "#   save_dict[layer] = model2.policy.state_dict()[layer];\n",
        "\n",
        "\n",
        "# for key, value in save_dict.items():\n",
        "#     print(key)\n",
        "\n",
        "# model2.policy.load_state_dict(save_dict);\n",
        "\n",
        "\n",
        "\n"
      ],
      "metadata": {
        "id": "ACclashKxEJe"
      },
      "execution_count": null,
      "outputs": []
    },
    {
      "cell_type": "code",
      "source": [
        "model2.learn(total_timesteps=100000, log_interval=10, callback=callback)"
      ],
      "metadata": {
        "colab": {
          "base_uri": "https://localhost:8080/"
        },
        "id": "r-jz9F9qlW4f",
        "outputId": "5e10874a-4fb1-4c6f-e111-88ecc32eedc6"
      },
      "execution_count": 27,
      "outputs": [
        {
          "output_type": "stream",
          "name": "stdout",
          "text": [
            "Eval num_timesteps=10000, episode_reward=-460.76 +/- 734.51\n",
            "Episode length: 114.60 +/- 92.48\n",
            "New best mean reward!\n",
            "Eval num_timesteps=20000, episode_reward=-179.32 +/- 45.18\n",
            "Episode length: 326.60 +/- 129.17\n",
            "New best mean reward!\n",
            "Eval num_timesteps=30000, episode_reward=-214.55 +/- 133.96\n",
            "Episode length: 136.20 +/- 41.85\n",
            "Eval num_timesteps=40000, episode_reward=-135.58 +/- 93.75\n",
            "Episode length: 369.00 +/- 148.12\n",
            "New best mean reward!\n",
            "Eval num_timesteps=50000, episode_reward=40.05 +/- 11.08\n",
            "Episode length: 500.00 +/- 0.00\n",
            "New best mean reward!\n",
            "Eval num_timesteps=60000, episode_reward=57.64 +/- 77.41\n",
            "Episode length: 377.00 +/- 151.31\n",
            "New best mean reward!\n",
            "Eval num_timesteps=70000, episode_reward=37.85 +/- 73.49\n",
            "Episode length: 376.40 +/- 156.37\n",
            "Eval num_timesteps=80000, episode_reward=-256.12 +/- 125.01\n",
            "Episode length: 310.40 +/- 114.00\n",
            "Eval num_timesteps=90000, episode_reward=101.49 +/- 21.26\n",
            "Episode length: 500.00 +/- 0.00\n",
            "New best mean reward!\n",
            "Eval num_timesteps=100000, episode_reward=95.80 +/- 30.50\n",
            "Episode length: 500.00 +/- 0.00\n"
          ]
        },
        {
          "output_type": "execute_result",
          "data": {
            "text/plain": [
              "<stable_baselines3.dqn.dqn.DQN at 0x7f4771be3590>"
            ]
          },
          "metadata": {},
          "execution_count": 27
        }
      ]
    },
    {
      "cell_type": "code",
      "source": [
        "dir_prefix = \"./files/\"\n",
        "log_dir_obstacle = dir_prefix + \"DQN_obstacle/\"\n",
        "os.makedirs(log_dir_obstacle, exist_ok=True)\n",
        "\n",
        "model2.save(log_dir_obstacle + \"DQN_obstacle_model.zip\")"
      ],
      "metadata": {
        "id": "xq1iQAH6mf2Q"
      },
      "execution_count": 40,
      "outputs": []
    },
    {
      "cell_type": "markdown",
      "source": [
        "# @Exporting the model to PyTorch for Final Layer tuning"
      ],
      "metadata": {
        "id": "qwkoEM7A8eZr"
      }
    },
    {
      "cell_type": "code",
      "source": [
        "import gym\n",
        "from gym import spaces\n",
        "\n",
        "print('run pytorch model')\n",
        "import gym\n",
        "import torch as th\n",
        "import torch.nn as nn\n",
        "import numpy as np\n",
        "\n",
        "import gym\n",
        "import math\n",
        "import random\n",
        "import numpy as np\n",
        "import matplotlib\n",
        "import matplotlib.pyplot as plt\n",
        "from collections import namedtuple, deque\n",
        "from itertools import count\n",
        "from PIL import Image\n",
        "import torch as T\n",
        "import torch.nn as nn\n",
        "import torch.nn.functional as F\n",
        "import torch.optim as optim\n",
        "import numpy as np\n",
        "import torch\n",
        "import torch.nn as nn\n",
        "import torch.optim as optim\n",
        "import torch.nn.functional as F"
      ],
      "metadata": {
        "colab": {
          "base_uri": "https://localhost:8080/"
        },
        "id": "QLbWfW6K8tpF",
        "outputId": "4f7223de-7a77-4e43-ee85-cbfe7ed99dcf"
      },
      "execution_count": 28,
      "outputs": [
        {
          "output_type": "stream",
          "name": "stdout",
          "text": [
            "run pytorch model\n"
          ]
        }
      ]
    },
    {
      "cell_type": "code",
      "source": [
        "!git clone  https://github.com/Hasanaldhahi3/atchekegroup1lunarlanding.git"
      ],
      "metadata": {
        "colab": {
          "base_uri": "https://localhost:8080/"
        },
        "id": "g4Og3pc49huE",
        "outputId": "39348271-a83d-4379-f250-938b344b9de2"
      },
      "execution_count": 29,
      "outputs": [
        {
          "output_type": "stream",
          "name": "stdout",
          "text": [
            "Cloning into 'atchekegroup1lunarlanding'...\n",
            "remote: Enumerating objects: 739, done.\u001b[K\n",
            "remote: Counting objects: 100% (437/437), done.\u001b[K\n",
            "remote: Compressing objects: 100% (276/276), done.\u001b[K\n",
            "remote: Total 739 (delta 168), reused 390 (delta 147), pack-reused 302\u001b[K\n",
            "Receiving objects: 100% (739/739), 24.59 MiB | 9.33 MiB/s, done.\n",
            "Resolving deltas: 100% (198/198), done.\n"
          ]
        }
      ]
    },
    {
      "cell_type": "code",
      "source": [
        "import importlib.util\n",
        "# log_dir_ = dir_prefix + \"DQN_Youtube/\"\n",
        "# os.makedirs(log_dir_, exist_ok=True)\n",
        "spec=importlib.util.spec_from_file_location(\"DeepQNetwork\",\"/content/atchekegroup1lunarlanding/YoutubeCodeRepository/ReinforcementLearning/DeepQLearning/simple_dqn_torch_2020.py\")\n",
        "foo_1 = importlib.util.module_from_spec(spec)\n",
        "spec.loader.exec_module(foo_1)\n",
        "\n",
        "spec=importlib.util.spec_from_file_location(\"plotLearning\",\"/content/atchekegroup1lunarlanding/YoutubeCodeRepository/ReinforcementLearning/DeepQLearning/utils.py\")\n",
        "foo_2 = importlib.util.module_from_spec(spec)\n",
        "spec.loader.exec_module(foo_2)\n",
        "\n",
        "spec=importlib.util.spec_from_file_location(\"Agent\",\"/content/atchekegroup1lunarlanding/YoutubeCodeRepository/ReinforcementLearning/DeepQLearning/simple_dqn_torch_2020.py\")\n",
        "foo_3 = importlib.util.module_from_spec(spec)\n",
        "spec.loader.exec_module(foo_3)\n"
      ],
      "metadata": {
        "id": "CsJZwSVj9U_e"
      },
      "execution_count": 55,
      "outputs": []
    },
    {
      "cell_type": "code",
      "source": [
        "device = torch.device(\"cuda:0\" if torch.cuda.is_available() else \"cpu\")\n",
        "print(device)\n",
        "# from YoutubeCodeRepository.ReinforcementLearning.DeepQLearning import simple_dqn_torch_2020\n",
        "\n",
        "print(f\"Is CUDA supported by this system?{torch.cuda.is_available()}\")\n",
        "print(f\"CUDA version: {torch.version.cuda}\")\n",
        "\n",
        "# Storing ID of current CUDA device\n",
        "# cuda_id = torch.cuda.current_device()\n",
        "# print(f\"ID of current CUDA device:{torch.cuda.current_device()}\")\n",
        "\n",
        "# print(f\"Name of current CUDA device:{torch.cuda.get_device_name(cuda_id)}\")\n",
        "# import gym\n",
        "\n",
        "cuda = torch.device('cuda')  # Default CUDA device\n",
        "device = torch.device(\"cuda:0\" if torch.cuda.is_available() else \"cpu\")\n",
        "print(device)\n",
        "from stable_baselines3 import PPO\n",
        "from stable_baselines3 import DQN\n",
        "\n",
        "# model_path = \"\".format('dqn_lunar')\n",
        "\n",
        "model_path = log_dir_obstacle + \"DQN_obstacle_model.zip\"\n",
        "model_test = DQN.load(model_path)\n",
        "print('loaded model')\n",
        "# for key, value in model_test.get_parameters().items():\n",
        "#     print(key, value.shape)\n",
        "\n",
        "env = gym.make(\"LunarLander-v4\").unwrapped\n",
        "\n",
        "# set up matplotlib\n",
        "is_ipython = 'inline' in matplotlib.get_backend()\n",
        "if is_ipython:\n",
        "    from IPython import display\n",
        "\n",
        "plt.ion()\n",
        "\n",
        "paramshapes = model_test.get_parameters()\n",
        "\n",
        "\n",
        "def copy_dqn_weights(baselines_model):\n",
        "    torch_dqn = foo_1.DeepQNetwork(lr=0.001, n_actions=4, input_dims=[8], fc1_dims=256, fc2_dims=256)\n",
        "    model_params = baselines_model.get_parameters()\n",
        "    # Get only the policy parameters\n",
        "    model_params = model_params['policy']\n",
        "    policy_keys = [key for key in model_params.keys() if \"pi\" in key or \"c\" in key]\n",
        "    policy_params = [model_params[key] for key in policy_keys]\n",
        "\n",
        "    for (th_key, pytorch_param), key, policy_param in zip(torch_dqn.named_parameters(), policy_keys, policy_params):\n",
        "        param = policy_param.copy()\n",
        "        # Copy parameters from stable baselines model to pytorch model\n",
        "\n",
        "        # Conv layer\n",
        "        if len(param.shape) == 4:\n",
        "            # https://gist.github.com/chirag1992m/4c1f2cb27d7c138a4dc76aeddfe940c2\n",
        "            # Tensorflow 2D Convolutional layer: height * width * input channels * output channels\n",
        "            # PyTorch 2D Convolutional layer: output channels * input channels * height * width\n",
        "            param = np.transpose(param, (3, 2, 0, 1))\n",
        "\n",
        "        # weight of fully connected layer\n",
        "        if len(param.shape) == 2:\n",
        "            param = param.T\n",
        "\n",
        "        # bias\n",
        "        if 'b' in key:\n",
        "            param = param.squeeze()\n",
        "\n",
        "        param = torch.from_numpy(param)\n",
        "        pytorch_param.data.copy_(param.data.clone())\n",
        "\n",
        "    return torch_dqn\n",
        "\n",
        "\n",
        "dqn_torch_v = copy_dqn_weights(model_test)\n",
        "ct = 0\n",
        "\n",
        "for child in dqn_torch_v.children():\n",
        "    ct += 1\n",
        "    if ct < 2:\n",
        "        for param in child.parameters():\n",
        "            print(param)\n",
        "            print(ct)\n",
        "            param.requires_grad = False\n",
        "\n",
        "\n",
        "\n",
        "print(dqn_torch_v.parameters())\n",
        "\n",
        "\n",
        "\n",
        "\n",
        "for param in dqn_torch_v.parameters():\n",
        "  param.requires_grad = False\n",
        "num_ftrs = 64  # 8 states we have for the polly to move \n",
        "num_classes = 4 # number of Actions at final layer \n",
        "# ResNet final fully connected layer\n",
        "dqn_torch_v.fc = nn.Linear(num_ftrs, num_classes)\n",
        "dqn_torch_v.to(device)\n",
        "optimizer = torch.optim.Adam(dqn_torch_v.parameters(), lr=1e-2)\n",
        "loss_fn = nn.CrossEntropyLoss()\n",
        "\n",
        "\n",
        "# import gym\n",
        "\n",
        "\n",
        "# # from YoutubeCodeRepository.ReinforcementLearning.DeepQLearning.utils import plotLearning\n",
        "\n",
        "# import numpy as np\n",
        "\n",
        "\n",
        "# def obs_to_torch(obs):\n",
        "#     # TF: NHWC\n",
        "#     # PyTorch: NCHW\n",
        "#     # https://discuss.pytorch.org/t/dimensions-of-an-input-image/19439\n",
        "#     # obs = np.transpose(obs, (0, 3, 1, 2))\n",
        "#     # # Normalize\n",
        "#     # obs = obs / 255.0\n",
        "#     obs = th.tensor(obs).float()\n",
        "#     obs = obs.to(device)\n",
        "#     return obs\n",
        "\n",
        "\n",
        "# env = gym.make('LunarLander-v4')\n",
        "\n",
        "# episode_reward = 0\n",
        "# done = False\n",
        "# obs = env.reset()\n",
        "# print(next(dqn_torch_v.parameters()).device)\n",
        "# while not done:\n",
        "#     action = th.argmax(dqn_torch_v(obs_to_torch(obs))).item()\n",
        "#     # action = env.action_space.sample()\n",
        "#     obs, reward, done, _ = env.step(action)\n",
        "#     episode_reward += reward\n",
        "\n",
        "# print(episode_reward)"
      ],
      "metadata": {
        "id": "47vjrBZP9FAt"
      },
      "execution_count": null,
      "outputs": []
    },
    {
      "cell_type": "code",
      "source": [
        "import gym\n",
        "# from simple_dqn_torch_2020 import Agent\n",
        "\n",
        "import numpy as np\n",
        "\n",
        "if __name__ == '__main__':\n",
        "    env = gym.make('LunarLander-v2')\n",
        "    agent = foo_3.Agent(gamma=0.99, epsilon=1.0, batch_size=64, n_actions=4, eps_end=0.01,\n",
        "                  input_dims=[8], lr=0.001)\n",
        "    scores, eps_history = [], []\n",
        "    n_games = 500\n",
        "    \n",
        "    for i in range(n_games):\n",
        "        score = 0\n",
        "        done = False\n",
        "        observation = env.reset()\n",
        "        while not done:\n",
        "            action = agent.choose_action(observation)\n",
        "            observation_, reward, done, info = env.step(action)\n",
        "            score += reward\n",
        "            agent.store_transition(observation, action, reward, \n",
        "                                    observation_, done)\n",
        "            agent.learn()\n",
        "            observation = observation_\n",
        "        scores.append(score)\n",
        "        eps_history.append(agent.epsilon)\n",
        "\n",
        "        avg_score = np.mean(scores[-100:])\n",
        "\n",
        "        print('episode ', i, 'score %.2f' % score,\n",
        "                'average score %.2f' % avg_score,\n",
        "                'epsilon %.2f' % agent.epsilon)\n",
        "    x = [i+1 for i in range(n_games)]\n",
        "    filename = 'lunar_lander.png'\n",
        "    foo_2.plotLearning(x, scores, eps_history, filename)"
      ],
      "metadata": {
        "colab": {
          "base_uri": "https://localhost:8080/",
          "height": 1000
        },
        "id": "oMihRr6Q0sES",
        "outputId": "a86bead1-9a4d-48a8-f0f4-8e79894b1e4d"
      },
      "execution_count": 56,
      "outputs": [
        {
          "output_type": "stream",
          "name": "stdout",
          "text": [
            "episode  0 score -263.56 average score -263.56 epsilon 0.99\n"
          ]
        },
        {
          "output_type": "stream",
          "name": "stderr",
          "text": [
            "/content/atchekegroup1lunarlanding/YoutubeCodeRepository/ReinforcementLearning/DeepQLearning/simple_dqn_torch_2020.py:71: UserWarning: Creating a tensor from a list of numpy.ndarrays is extremely slow. Please consider converting the list to a single numpy.ndarray with numpy.array() before converting to a tensor. (Triggered internally at  ../torch/csrc/utils/tensor_new.cpp:201.)\n",
            "  state = T.tensor([observation]).to(self.Q_eval.device)\n"
          ]
        },
        {
          "output_type": "stream",
          "name": "stdout",
          "text": [
            "episode  1 score -112.34 average score -187.95 epsilon 0.92\n",
            "episode  2 score -124.88 average score -166.92 epsilon 0.87\n",
            "episode  3 score -107.73 average score -152.13 epsilon 0.82\n",
            "episode  4 score -367.35 average score -195.17 epsilon 0.77\n",
            "episode  5 score -109.30 average score -180.86 epsilon 0.70\n",
            "episode  6 score -360.10 average score -206.46 epsilon 0.64\n",
            "episode  7 score -35.58 average score -185.10 epsilon 0.57\n",
            "episode  8 score 15.36 average score -162.83 epsilon 0.49\n",
            "episode  9 score -41.10 average score -150.66 epsilon 0.42\n",
            "episode  10 score -79.96 average score -144.23 epsilon 0.31\n",
            "episode  11 score -97.92 average score -140.37 epsilon 0.20\n",
            "episode  12 score -136.45 average score -140.07 epsilon 0.01\n",
            "episode  13 score -130.70 average score -139.40 epsilon 0.01\n",
            "episode  14 score -163.82 average score -141.03 epsilon 0.01\n",
            "episode  15 score -180.86 average score -143.52 epsilon 0.01\n",
            "episode  16 score -127.62 average score -142.58 epsilon 0.01\n",
            "episode  17 score -151.44 average score -143.07 epsilon 0.01\n",
            "episode  18 score -117.36 average score -141.72 epsilon 0.01\n",
            "episode  19 score -84.49 average score -138.86 epsilon 0.01\n",
            "episode  20 score -93.91 average score -136.72 epsilon 0.01\n",
            "episode  21 score -116.86 average score -135.82 epsilon 0.01\n",
            "episode  22 score -90.95 average score -133.86 epsilon 0.01\n",
            "episode  23 score -69.91 average score -131.20 epsilon 0.01\n",
            "episode  24 score -71.96 average score -128.83 epsilon 0.01\n",
            "episode  25 score -84.23 average score -127.12 epsilon 0.01\n",
            "episode  26 score -198.20 average score -129.75 epsilon 0.01\n",
            "episode  27 score -102.10 average score -128.76 epsilon 0.01\n",
            "episode  28 score -99.46 average score -127.75 epsilon 0.01\n",
            "episode  29 score -93.81 average score -126.62 epsilon 0.01\n",
            "episode  30 score -28.30 average score -123.45 epsilon 0.01\n",
            "episode  31 score -132.41 average score -123.73 epsilon 0.01\n",
            "episode  32 score -94.26 average score -122.83 epsilon 0.01\n",
            "episode  33 score -61.38 average score -121.03 epsilon 0.01\n",
            "episode  34 score -81.83 average score -119.91 epsilon 0.01\n",
            "episode  35 score -28.21 average score -117.36 epsilon 0.01\n",
            "episode  36 score -58.58 average score -115.77 epsilon 0.01\n",
            "episode  37 score -356.08 average score -122.10 epsilon 0.01\n",
            "episode  38 score -53.23 average score -120.33 epsilon 0.01\n",
            "episode  39 score -111.49 average score -120.11 epsilon 0.01\n",
            "episode  40 score -116.47 average score -120.02 epsilon 0.01\n",
            "episode  41 score -45.58 average score -118.25 epsilon 0.01\n",
            "episode  42 score -150.70 average score -119.00 epsilon 0.01\n",
            "episode  43 score -289.88 average score -122.89 epsilon 0.01\n",
            "episode  44 score -32.12 average score -120.87 epsilon 0.01\n",
            "episode  45 score -44.62 average score -119.21 epsilon 0.01\n",
            "episode  46 score -66.86 average score -118.10 epsilon 0.01\n",
            "episode  47 score -61.78 average score -116.92 epsilon 0.01\n",
            "episode  48 score -22.74 average score -115.00 epsilon 0.01\n",
            "episode  49 score -24.50 average score -113.19 epsilon 0.01\n",
            "episode  50 score -25.89 average score -111.48 epsilon 0.01\n",
            "episode  51 score -15.30 average score -109.63 epsilon 0.01\n",
            "episode  52 score -64.49 average score -108.78 epsilon 0.01\n",
            "episode  53 score -10.55 average score -106.96 epsilon 0.01\n",
            "episode  54 score -40.95 average score -105.76 epsilon 0.01\n",
            "episode  55 score 0.72 average score -103.86 epsilon 0.01\n",
            "episode  56 score -38.24 average score -102.71 epsilon 0.01\n",
            "episode  57 score -65.74 average score -102.07 epsilon 0.01\n",
            "episode  58 score -23.07 average score -100.73 epsilon 0.01\n",
            "episode  59 score -32.10 average score -99.59 epsilon 0.01\n",
            "episode  60 score -143.01 average score -100.30 epsilon 0.01\n",
            "episode  61 score -3.05 average score -98.73 epsilon 0.01\n",
            "episode  62 score -0.86 average score -97.18 epsilon 0.01\n",
            "episode  63 score -79.18 average score -96.90 epsilon 0.01\n",
            "episode  64 score -45.08 average score -96.10 epsilon 0.01\n",
            "episode  65 score 12.08 average score -94.46 epsilon 0.01\n",
            "episode  66 score -61.52 average score -93.97 epsilon 0.01\n",
            "episode  67 score -47.18 average score -93.28 epsilon 0.01\n",
            "episode  68 score -39.40 average score -92.50 epsilon 0.01\n",
            "episode  69 score -2.64 average score -91.21 epsilon 0.01\n",
            "episode  70 score -44.85 average score -90.56 epsilon 0.01\n",
            "episode  71 score -19.25 average score -89.57 epsilon 0.01\n",
            "episode  72 score -47.63 average score -89.00 epsilon 0.01\n",
            "episode  73 score -37.39 average score -88.30 epsilon 0.01\n",
            "episode  74 score 5.00 average score -87.06 epsilon 0.01\n",
            "episode  75 score -29.28 average score -86.30 epsilon 0.01\n",
            "episode  76 score -33.29 average score -85.61 epsilon 0.01\n",
            "episode  77 score -18.67 average score -84.75 epsilon 0.01\n",
            "episode  78 score -45.41 average score -84.25 epsilon 0.01\n",
            "episode  79 score -21.42 average score -83.47 epsilon 0.01\n",
            "episode  80 score -29.98 average score -82.81 epsilon 0.01\n",
            "episode  81 score -30.48 average score -82.17 epsilon 0.01\n",
            "episode  82 score -10.06 average score -81.30 epsilon 0.01\n",
            "episode  83 score -26.94 average score -80.65 epsilon 0.01\n",
            "episode  84 score -50.86 average score -80.30 epsilon 0.01\n",
            "episode  85 score -57.21 average score -80.03 epsilon 0.01\n",
            "episode  86 score -91.66 average score -80.17 epsilon 0.01\n",
            "episode  87 score -68.02 average score -80.03 epsilon 0.01\n",
            "episode  88 score -67.01 average score -79.88 epsilon 0.01\n",
            "episode  89 score -2.07 average score -79.02 epsilon 0.01\n",
            "episode  90 score -22.70 average score -78.40 epsilon 0.01\n",
            "episode  91 score 1.02 average score -77.53 epsilon 0.01\n",
            "episode  92 score -26.15 average score -76.98 epsilon 0.01\n",
            "episode  93 score -16.38 average score -76.34 epsilon 0.01\n",
            "episode  94 score -122.87 average score -76.83 epsilon 0.01\n",
            "episode  95 score -70.45 average score -76.76 epsilon 0.01\n",
            "episode  96 score -55.05 average score -76.54 epsilon 0.01\n",
            "episode  97 score -77.07 average score -76.54 epsilon 0.01\n",
            "episode  98 score -21.37 average score -75.99 epsilon 0.01\n",
            "episode  99 score -4.96 average score -75.28 epsilon 0.01\n",
            "episode  100 score -206.31 average score -74.70 epsilon 0.01\n",
            "episode  101 score -12.57 average score -73.70 epsilon 0.01\n",
            "episode  102 score -74.54 average score -73.20 epsilon 0.01\n",
            "episode  103 score -27.15 average score -72.40 epsilon 0.01\n",
            "episode  104 score -75.15 average score -69.47 epsilon 0.01\n",
            "episode  105 score -134.78 average score -69.73 epsilon 0.01\n",
            "episode  106 score -52.92 average score -66.66 epsilon 0.01\n",
            "episode  107 score -22.21 average score -66.52 epsilon 0.01\n",
            "episode  108 score -52.67 average score -67.20 epsilon 0.01\n",
            "episode  109 score -85.00 average score -67.64 epsilon 0.01\n",
            "episode  110 score -38.73 average score -67.23 epsilon 0.01\n",
            "episode  111 score -36.18 average score -66.61 epsilon 0.01\n",
            "episode  112 score 139.36 average score -63.85 epsilon 0.01\n",
            "episode  113 score -2.27 average score -62.57 epsilon 0.01\n",
            "episode  114 score -22.45 average score -61.16 epsilon 0.01\n",
            "episode  115 score 5.83 average score -59.29 epsilon 0.01\n",
            "episode  116 score 6.28 average score -57.95 epsilon 0.01\n",
            "episode  117 score 222.85 average score -54.21 epsilon 0.01\n",
            "episode  118 score -21.09 average score -53.25 epsilon 0.01\n",
            "episode  119 score 178.55 average score -50.61 epsilon 0.01\n",
            "episode  120 score 125.82 average score -48.42 epsilon 0.01\n",
            "episode  121 score 101.41 average score -46.23 epsilon 0.01\n",
            "episode  122 score 162.50 average score -43.70 epsilon 0.01\n",
            "episode  123 score 13.99 average score -42.86 epsilon 0.01\n",
            "episode  124 score 25.45 average score -41.89 epsilon 0.01\n",
            "episode  125 score 36.63 average score -40.68 epsilon 0.01\n",
            "episode  126 score 37.69 average score -38.32 epsilon 0.01\n",
            "episode  127 score -31.24 average score -37.61 epsilon 0.01\n",
            "episode  128 score -33.22 average score -36.95 epsilon 0.01\n",
            "episode  129 score 177.10 average score -34.24 epsilon 0.01\n",
            "episode  130 score -42.75 average score -34.38 epsilon 0.01\n",
            "episode  131 score 131.12 average score -31.75 epsilon 0.01\n",
            "episode  132 score 168.36 average score -29.12 epsilon 0.01\n",
            "episode  133 score 23.39 average score -28.27 epsilon 0.01\n",
            "episode  134 score 90.27 average score -26.55 epsilon 0.01\n",
            "episode  135 score 221.48 average score -24.06 epsilon 0.01\n",
            "episode  136 score 233.99 average score -21.13 epsilon 0.01\n",
            "episode  137 score -61.69 average score -18.19 epsilon 0.01\n",
            "episode  138 score 220.35 average score -15.45 epsilon 0.01\n",
            "episode  139 score 226.65 average score -12.07 epsilon 0.01\n",
            "episode  140 score 171.66 average score -9.19 epsilon 0.01\n",
            "episode  141 score 25.88 average score -8.47 epsilon 0.01\n",
            "episode  142 score 177.53 average score -5.19 epsilon 0.01\n",
            "episode  143 score 229.90 average score 0.01 epsilon 0.01\n",
            "episode  144 score 197.24 average score 2.30 epsilon 0.01\n",
            "episode  145 score 224.22 average score 4.99 epsilon 0.01\n",
            "episode  146 score 233.71 average score 7.99 epsilon 0.01\n",
            "episode  147 score 233.56 average score 10.95 epsilon 0.01\n",
            "episode  148 score 123.17 average score 12.41 epsilon 0.01\n",
            "episode  149 score 210.93 average score 14.76 epsilon 0.01\n",
            "episode  150 score 197.62 average score 17.00 epsilon 0.01\n",
            "episode  151 score 233.68 average score 19.49 epsilon 0.01\n",
            "episode  152 score 188.85 average score 22.02 epsilon 0.01\n",
            "episode  153 score -18.02 average score 21.94 epsilon 0.01\n",
            "episode  154 score 221.85 average score 24.57 epsilon 0.01\n",
            "episode  155 score 47.89 average score 25.04 epsilon 0.01\n",
            "episode  156 score 233.51 average score 27.76 epsilon 0.01\n",
            "episode  157 score 216.60 average score 30.58 epsilon 0.01\n",
            "episode  158 score 170.48 average score 32.52 epsilon 0.01\n",
            "episode  159 score 176.07 average score 34.60 epsilon 0.01\n",
            "episode  160 score -9.39 average score 35.94 epsilon 0.01\n",
            "episode  161 score 266.87 average score 38.64 epsilon 0.01\n",
            "episode  162 score 206.38 average score 40.71 epsilon 0.01\n",
            "episode  163 score 228.89 average score 43.79 epsilon 0.01\n",
            "episode  164 score 119.38 average score 45.44 epsilon 0.01\n",
            "episode  165 score 218.27 average score 47.50 epsilon 0.01\n",
            "episode  166 score 153.73 average score 49.65 epsilon 0.01\n",
            "episode  167 score 194.19 average score 52.06 epsilon 0.01\n",
            "episode  168 score 194.77 average score 54.40 epsilon 0.01\n",
            "episode  169 score -59.25 average score 53.84 epsilon 0.01\n",
            "episode  170 score 233.31 average score 56.62 epsilon 0.01\n",
            "episode  171 score 259.61 average score 59.41 epsilon 0.01\n",
            "episode  172 score -230.40 average score 57.58 epsilon 0.01\n",
            "episode  173 score 248.10 average score 60.44 epsilon 0.01\n",
            "episode  174 score 291.15 average score 63.30 epsilon 0.01\n",
            "episode  175 score 184.62 average score 65.44 epsilon 0.01\n",
            "episode  176 score 15.11 average score 65.92 epsilon 0.01\n",
            "episode  177 score 249.64 average score 68.60 epsilon 0.01\n",
            "episode  178 score 213.44 average score 71.19 epsilon 0.01\n",
            "episode  179 score 192.60 average score 73.33 epsilon 0.01\n",
            "episode  180 score 183.73 average score 75.47 epsilon 0.01\n",
            "episode  181 score 193.61 average score 77.71 epsilon 0.01\n",
            "episode  182 score 203.29 average score 79.84 epsilon 0.01\n",
            "episode  183 score 204.57 average score 82.16 epsilon 0.01\n",
            "episode  184 score -100.50 average score 81.66 epsilon 0.01\n",
            "episode  185 score 261.12 average score 84.85 epsilon 0.01\n",
            "episode  186 score 216.90 average score 87.93 epsilon 0.01\n",
            "episode  187 score -112.59 average score 87.49 epsilon 0.01\n",
            "episode  188 score -5.92 average score 88.10 epsilon 0.01\n",
            "episode  189 score 216.69 average score 90.28 epsilon 0.01\n",
            "episode  190 score 180.38 average score 92.32 epsilon 0.01\n",
            "episode  191 score 215.17 average score 94.46 epsilon 0.01\n",
            "episode  192 score -93.88 average score 93.78 epsilon 0.01\n",
            "episode  193 score -26.99 average score 93.67 epsilon 0.01\n",
            "episode  194 score 228.40 average score 97.19 epsilon 0.01\n",
            "episode  195 score 169.68 average score 99.59 epsilon 0.01\n",
            "episode  196 score 175.98 average score 101.90 epsilon 0.01\n",
            "episode  197 score 209.51 average score 104.76 epsilon 0.01\n",
            "episode  198 score -73.55 average score 104.24 epsilon 0.01\n",
            "episode  199 score 218.94 average score 106.48 epsilon 0.01\n",
            "episode  200 score 257.68 average score 111.12 epsilon 0.01\n",
            "episode  201 score -263.10 average score 108.62 epsilon 0.01\n",
            "episode  202 score 272.37 average score 112.08 epsilon 0.01\n",
            "episode  203 score -37.18 average score 111.98 epsilon 0.01\n",
            "episode  204 score 254.67 average score 115.28 epsilon 0.01\n",
            "episode  205 score -29.02 average score 116.34 epsilon 0.01\n",
            "episode  206 score -10.87 average score 116.76 epsilon 0.01\n",
            "episode  207 score -58.56 average score 116.40 epsilon 0.01\n",
            "episode  208 score -180.47 average score 115.12 epsilon 0.01\n",
            "episode  209 score 196.09 average score 117.93 epsilon 0.01\n",
            "episode  210 score 207.97 average score 120.40 epsilon 0.01\n",
            "episode  211 score 272.88 average score 123.49 epsilon 0.01\n",
            "episode  212 score -123.29 average score 120.86 epsilon 0.01\n",
            "episode  213 score -32.14 average score 120.56 epsilon 0.01\n",
            "episode  214 score 229.49 average score 123.08 epsilon 0.01\n",
            "episode  215 score 86.62 average score 123.89 epsilon 0.01\n",
            "episode  216 score 20.69 average score 124.03 epsilon 0.01\n",
            "episode  217 score -37.27 average score 121.43 epsilon 0.01\n",
            "episode  218 score 231.14 average score 123.95 epsilon 0.01\n",
            "episode  219 score -57.31 average score 121.60 epsilon 0.01\n",
            "episode  220 score 249.73 average score 122.84 epsilon 0.01\n",
            "episode  221 score 226.52 average score 124.09 epsilon 0.01\n",
            "episode  222 score 18.09 average score 122.64 epsilon 0.01\n",
            "episode  223 score -218.75 average score 120.32 epsilon 0.01\n",
            "episode  224 score -48.88 average score 119.57 epsilon 0.01\n",
            "episode  225 score -97.55 average score 118.23 epsilon 0.01\n",
            "episode  226 score 230.06 average score 120.15 epsilon 0.01\n",
            "episode  227 score -0.73 average score 120.46 epsilon 0.01\n",
            "episode  228 score -3.09 average score 120.76 epsilon 0.01\n",
            "episode  229 score 234.62 average score 121.34 epsilon 0.01\n",
            "episode  230 score 214.77 average score 123.91 epsilon 0.01\n",
            "episode  231 score 269.82 average score 125.30 epsilon 0.01\n",
            "episode  232 score -9.54 average score 123.52 epsilon 0.01\n",
            "episode  233 score 225.57 average score 125.54 epsilon 0.01\n",
            "episode  234 score -74.13 average score 123.90 epsilon 0.01\n",
            "episode  235 score 245.24 average score 124.13 epsilon 0.01\n",
            "episode  236 score 202.30 average score 123.82 epsilon 0.01\n",
            "episode  237 score 218.63 average score 126.62 epsilon 0.01\n",
            "episode  238 score 46.11 average score 124.88 epsilon 0.01\n",
            "episode  239 score 203.76 average score 124.65 epsilon 0.01\n",
            "episode  240 score 13.29 average score 123.06 epsilon 0.01\n",
            "episode  241 score 20.26 average score 123.01 epsilon 0.01\n",
            "episode  242 score 14.95 average score 121.38 epsilon 0.01\n",
            "episode  243 score 161.04 average score 120.69 epsilon 0.01\n",
            "episode  244 score 201.03 average score 120.73 epsilon 0.01\n",
            "episode  245 score -39.47 average score 118.10 epsilon 0.01\n",
            "episode  246 score -328.61 average score 112.47 epsilon 0.01\n",
            "episode  247 score -181.97 average score 108.32 epsilon 0.01\n",
            "episode  248 score 12.08 average score 107.21 epsilon 0.01\n",
            "episode  249 score 243.58 average score 107.53 epsilon 0.01\n",
            "episode  250 score 151.20 average score 107.07 epsilon 0.01\n",
            "episode  251 score 20.28 average score 104.93 epsilon 0.01\n",
            "episode  252 score -114.30 average score 101.90 epsilon 0.01\n",
            "episode  253 score -88.22 average score 101.20 epsilon 0.01\n",
            "episode  254 score -84.70 average score 98.13 epsilon 0.01\n",
            "episode  255 score -182.46 average score 95.83 epsilon 0.01\n",
            "episode  256 score 189.03 average score 95.39 epsilon 0.01\n",
            "episode  257 score -89.17 average score 92.33 epsilon 0.01\n",
            "episode  258 score -41.35 average score 90.21 epsilon 0.01\n",
            "episode  259 score -132.46 average score 87.13 epsilon 0.01\n",
            "episode  260 score 255.68 average score 89.78 epsilon 0.01\n",
            "episode  261 score -29.33 average score 86.81 epsilon 0.01\n",
            "episode  262 score -95.01 average score 83.80 epsilon 0.01\n",
            "episode  263 score -52.38 average score 80.99 epsilon 0.01\n",
            "episode  264 score 1.30 average score 79.81 epsilon 0.01\n",
            "episode  265 score 217.77 average score 79.80 epsilon 0.01\n",
            "episode  266 score -199.16 average score 76.27 epsilon 0.01\n",
            "episode  267 score 234.05 average score 76.67 epsilon 0.01\n",
            "episode  268 score -91.87 average score 73.80 epsilon 0.01\n",
            "episode  269 score -224.65 average score 72.15 epsilon 0.01\n",
            "episode  270 score -134.74 average score 68.47 epsilon 0.01\n",
            "episode  271 score 48.19 average score 66.36 epsilon 0.01\n",
            "episode  272 score -15.31 average score 68.51 epsilon 0.01\n",
            "episode  273 score -43.17 average score 65.59 epsilon 0.01\n",
            "episode  274 score -34.50 average score 62.34 epsilon 0.01\n",
            "episode  275 score 229.42 average score 62.79 epsilon 0.01\n",
            "episode  276 score -87.34 average score 61.76 epsilon 0.01\n",
            "episode  277 score -348.55 average score 55.78 epsilon 0.01\n",
            "episode  278 score -90.93 average score 52.74 epsilon 0.01\n",
            "episode  279 score -190.39 average score 48.91 epsilon 0.01\n",
            "episode  280 score -170.57 average score 45.36 epsilon 0.01\n",
            "episode  281 score -6.53 average score 43.36 epsilon 0.01\n",
            "episode  282 score 188.24 average score 43.21 epsilon 0.01\n",
            "episode  283 score -212.34 average score 39.04 epsilon 0.01\n",
            "episode  284 score 273.02 average score 42.78 epsilon 0.01\n",
            "episode  285 score 192.06 average score 42.09 epsilon 0.01\n",
            "episode  286 score 174.51 average score 41.66 epsilon 0.01\n",
            "episode  287 score 242.43 average score 45.21 epsilon 0.01\n",
            "episode  288 score -49.64 average score 44.78 epsilon 0.01\n",
            "episode  289 score 4.82 average score 42.66 epsilon 0.01\n",
            "episode  290 score 11.31 average score 40.97 epsilon 0.01\n",
            "episode  291 score 15.94 average score 38.97 epsilon 0.01\n",
            "episode  292 score -208.91 average score 37.82 epsilon 0.01\n",
            "episode  293 score 278.90 average score 40.88 epsilon 0.01\n",
            "episode  294 score 230.22 average score 40.90 epsilon 0.01\n",
            "episode  295 score 231.92 average score 41.52 epsilon 0.01\n",
            "episode  296 score -105.90 average score 38.70 epsilon 0.01\n",
            "episode  297 score 243.06 average score 39.04 epsilon 0.01\n",
            "episode  298 score 267.49 average score 42.45 epsilon 0.01\n",
            "episode  299 score -135.81 average score 38.90 epsilon 0.01\n",
            "episode  300 score -178.37 average score 34.54 epsilon 0.01\n",
            "episode  301 score -73.12 average score 36.44 epsilon 0.01\n",
            "episode  302 score 221.79 average score 35.94 epsilon 0.01\n",
            "episode  303 score 42.36 average score 36.73 epsilon 0.01\n",
            "episode  304 score 263.94 average score 36.82 epsilon 0.01\n",
            "episode  305 score -14.62 average score 36.97 epsilon 0.01\n",
            "episode  306 score 251.20 average score 39.59 epsilon 0.01\n",
            "episode  307 score 249.01 average score 42.66 epsilon 0.01\n",
            "episode  308 score -160.25 average score 42.87 epsilon 0.01\n",
            "episode  309 score 211.05 average score 43.02 epsilon 0.01\n",
            "episode  310 score -240.24 average score 38.53 epsilon 0.01\n",
            "episode  311 score 226.85 average score 38.07 epsilon 0.01\n",
            "episode  312 score 270.24 average score 42.01 epsilon 0.01\n",
            "episode  313 score 287.65 average score 45.21 epsilon 0.01\n",
            "episode  314 score 88.12 average score 43.79 epsilon 0.01\n",
            "episode  315 score 169.16 average score 44.62 epsilon 0.01\n",
            "episode  316 score -125.50 average score 43.16 epsilon 0.01\n",
            "episode  317 score 266.96 average score 46.20 epsilon 0.01\n",
            "episode  318 score 209.96 average score 45.99 epsilon 0.01\n",
            "episode  319 score 217.28 average score 48.73 epsilon 0.01\n",
            "episode  320 score 276.04 average score 49.00 epsilon 0.01\n",
            "episode  321 score 219.17 average score 48.92 epsilon 0.01\n",
            "episode  322 score 156.90 average score 50.31 epsilon 0.01\n",
            "episode  323 score -122.59 average score 51.27 epsilon 0.01\n",
            "episode  324 score 248.01 average score 54.24 epsilon 0.01\n",
            "episode  325 score 278.99 average score 58.01 epsilon 0.01\n",
            "episode  326 score 169.00 average score 57.40 epsilon 0.01\n",
            "episode  327 score 204.86 average score 59.45 epsilon 0.01\n",
            "episode  328 score -24.64 average score 59.24 epsilon 0.01\n",
            "episode  329 score -51.07 average score 56.38 epsilon 0.01\n",
            "episode  330 score -103.64 average score 53.19 epsilon 0.01\n",
            "episode  331 score -123.43 average score 49.26 epsilon 0.01\n",
            "episode  332 score -16.32 average score 49.19 epsilon 0.01\n",
            "episode  333 score 157.13 average score 48.51 epsilon 0.01\n",
            "episode  334 score -65.71 average score 48.59 epsilon 0.01\n",
            "episode  335 score -213.79 average score 44.00 epsilon 0.01\n",
            "episode  336 score 207.77 average score 44.06 epsilon 0.01\n",
            "episode  337 score 237.62 average score 44.25 epsilon 0.01\n",
            "episode  338 score 260.98 average score 46.40 epsilon 0.01\n",
            "episode  339 score -92.36 average score 43.44 epsilon 0.01\n",
            "episode  340 score 241.15 average score 45.72 epsilon 0.01\n",
            "episode  341 score 258.20 average score 48.09 epsilon 0.01\n",
            "episode  342 score -22.00 average score 47.73 epsilon 0.01\n",
            "episode  343 score 288.71 average score 49.00 epsilon 0.01\n",
            "episode  344 score -26.25 average score 46.73 epsilon 0.01\n",
            "episode  345 score -10.66 average score 47.02 epsilon 0.01\n",
            "episode  346 score 278.91 average score 53.09 epsilon 0.01\n",
            "episode  347 score 211.85 average score 57.03 epsilon 0.01\n",
            "episode  348 score 283.45 average score 59.74 epsilon 0.01\n",
            "episode  349 score -172.70 average score 55.58 epsilon 0.01\n",
            "episode  350 score 232.65 average score 56.40 epsilon 0.01\n",
            "episode  351 score 254.70 average score 58.74 epsilon 0.01\n",
            "episode  352 score -28.98 average score 59.59 epsilon 0.01\n",
            "episode  353 score 4.63 average score 60.52 epsilon 0.01\n",
            "episode  354 score 280.11 average score 64.17 epsilon 0.01\n",
            "episode  355 score 167.80 average score 67.67 epsilon 0.01\n",
            "episode  356 score 219.29 average score 67.98 epsilon 0.01\n",
            "episode  357 score 266.62 average score 71.53 epsilon 0.01\n",
            "episode  358 score 144.91 average score 73.40 epsilon 0.01\n",
            "episode  359 score 275.16 average score 77.47 epsilon 0.01\n",
            "episode  360 score 182.69 average score 76.74 epsilon 0.01\n",
            "episode  361 score 187.61 average score 78.91 epsilon 0.01\n",
            "episode  362 score 196.85 average score 81.83 epsilon 0.01\n",
            "episode  363 score 189.56 average score 84.25 epsilon 0.01\n",
            "episode  364 score 11.91 average score 84.36 epsilon 0.01\n",
            "episode  365 score 58.21 average score 82.76 epsilon 0.01\n",
            "episode  366 score 254.49 average score 87.30 epsilon 0.01\n",
            "episode  367 score 209.31 average score 87.05 epsilon 0.01\n",
            "episode  368 score 232.98 average score 90.30 epsilon 0.01\n",
            "episode  369 score 225.18 average score 94.80 epsilon 0.01\n",
            "episode  370 score 202.48 average score 98.17 epsilon 0.01\n",
            "episode  371 score 216.76 average score 99.85 epsilon 0.01\n",
            "episode  372 score -37.00 average score 99.64 epsilon 0.01\n",
            "episode  373 score 192.06 average score 101.99 epsilon 0.01\n",
            "episode  374 score -21.54 average score 102.12 epsilon 0.01\n",
            "episode  375 score 277.86 average score 102.60 epsilon 0.01\n",
            "episode  376 score 262.23 average score 106.10 epsilon 0.01\n",
            "episode  377 score -23.30 average score 109.35 epsilon 0.01\n",
            "episode  378 score 186.51 average score 112.13 epsilon 0.01\n",
            "episode  379 score -75.38 average score 113.28 epsilon 0.01\n",
            "episode  380 score 249.00 average score 117.47 epsilon 0.01\n",
            "episode  381 score 232.41 average score 119.86 epsilon 0.01\n",
            "episode  382 score -7.30 average score 117.91 epsilon 0.01\n",
            "episode  383 score 199.08 average score 122.02 epsilon 0.01\n",
            "episode  384 score 213.27 average score 121.42 epsilon 0.01\n",
            "episode  385 score 244.25 average score 121.94 epsilon 0.01\n",
            "episode  386 score 234.29 average score 122.54 epsilon 0.01\n",
            "episode  387 score 219.61 average score 122.31 epsilon 0.01\n",
            "episode  388 score 247.57 average score 125.29 epsilon 0.01\n",
            "episode  389 score 235.92 average score 127.60 epsilon 0.01\n",
            "episode  390 score 235.05 average score 129.83 epsilon 0.01\n",
            "episode  391 score 269.79 average score 132.37 epsilon 0.01\n",
            "episode  392 score 233.45 average score 136.80 epsilon 0.01\n",
            "episode  393 score 218.44 average score 136.19 epsilon 0.01\n",
            "episode  394 score 210.31 average score 135.99 epsilon 0.01\n",
            "episode  395 score 270.91 average score 136.38 epsilon 0.01\n",
            "episode  396 score 223.20 average score 139.67 epsilon 0.01\n",
            "episode  397 score 244.20 average score 139.69 epsilon 0.01\n",
            "episode  398 score 244.16 average score 139.45 epsilon 0.01\n",
            "episode  399 score 180.80 average score 142.62 epsilon 0.01\n",
            "episode  400 score 112.62 average score 145.53 epsilon 0.01\n",
            "episode  401 score 302.66 average score 149.29 epsilon 0.01\n",
            "episode  402 score 181.34 average score 148.88 epsilon 0.01\n",
            "episode  403 score 258.32 average score 151.04 epsilon 0.01\n",
            "episode  404 score 251.87 average score 150.92 epsilon 0.01\n",
            "episode  405 score 89.56 average score 151.96 epsilon 0.01\n",
            "episode  406 score 274.79 average score 152.20 epsilon 0.01\n",
            "episode  407 score -144.50 average score 148.26 epsilon 0.01\n",
            "episode  408 score 236.66 average score 152.23 epsilon 0.01\n",
            "episode  409 score 291.47 average score 153.04 epsilon 0.01\n",
            "episode  410 score 7.20 average score 155.51 epsilon 0.01\n",
            "episode  411 score 227.91 average score 155.52 epsilon 0.01\n",
            "episode  412 score 220.18 average score 155.02 epsilon 0.01\n",
            "episode  413 score 294.71 average score 155.09 epsilon 0.01\n",
            "episode  414 score 265.05 average score 156.86 epsilon 0.01\n",
            "episode  415 score -67.47 average score 154.49 epsilon 0.01\n",
            "episode  416 score 209.71 average score 157.85 epsilon 0.01\n",
            "episode  417 score 219.86 average score 157.38 epsilon 0.01\n",
            "episode  418 score 201.80 average score 157.29 epsilon 0.01\n",
            "episode  419 score 236.38 average score 157.48 epsilon 0.01\n",
            "episode  420 score 229.06 average score 157.01 epsilon 0.01\n",
            "episode  421 score -10.58 average score 154.72 epsilon 0.01\n",
            "episode  422 score 254.18 average score 155.69 epsilon 0.01\n",
            "episode  423 score 207.11 average score 158.99 epsilon 0.01\n",
            "episode  424 score 235.10 average score 158.86 epsilon 0.01\n",
            "episode  425 score 144.96 average score 157.52 epsilon 0.01\n",
            "episode  426 score 190.73 average score 157.74 epsilon 0.01\n",
            "episode  427 score 264.92 average score 158.34 epsilon 0.01\n",
            "episode  428 score 192.21 average score 160.50 epsilon 0.01\n",
            "episode  429 score 253.50 average score 163.55 epsilon 0.01\n",
            "episode  430 score -119.67 average score 163.39 epsilon 0.01\n",
            "episode  431 score 201.45 average score 166.64 epsilon 0.01\n",
            "episode  432 score 232.09 average score 169.12 epsilon 0.01\n",
            "episode  433 score 238.58 average score 169.94 epsilon 0.01\n",
            "episode  434 score 226.15 average score 172.86 epsilon 0.01\n",
            "episode  435 score 290.34 average score 177.90 epsilon 0.01\n",
            "episode  436 score -108.26 average score 174.74 epsilon 0.01\n",
            "episode  437 score 241.85 average score 174.78 epsilon 0.01\n",
            "episode  438 score -178.38 average score 170.39 epsilon 0.01\n",
            "episode  439 score 273.90 average score 174.05 epsilon 0.01\n",
            "episode  440 score 230.97 average score 173.95 epsilon 0.01\n",
            "episode  441 score 297.23 average score 174.34 epsilon 0.01\n",
            "episode  442 score 246.33 average score 177.02 epsilon 0.01\n",
            "episode  443 score -64.78 average score 173.48 epsilon 0.01\n",
            "episode  444 score 202.53 average score 175.77 epsilon 0.01\n",
            "episode  445 score 212.50 average score 178.00 epsilon 0.01\n",
            "episode  446 score 260.56 average score 177.82 epsilon 0.01\n",
            "episode  447 score 232.90 average score 178.03 epsilon 0.01\n",
            "episode  448 score 269.94 average score 177.90 epsilon 0.01\n",
            "episode  449 score 289.59 average score 182.52 epsilon 0.01\n",
            "episode  450 score 211.93 average score 182.31 epsilon 0.01\n",
            "episode  451 score 220.76 average score 181.97 epsilon 0.01\n",
            "episode  452 score 7.25 average score 182.33 epsilon 0.01\n",
            "episode  453 score 242.96 average score 184.72 epsilon 0.01\n",
            "episode  454 score 156.48 average score 183.48 epsilon 0.01\n",
            "episode  455 score 254.71 average score 184.35 epsilon 0.01\n",
            "episode  456 score 252.11 average score 184.68 epsilon 0.01\n",
            "episode  457 score 243.99 average score 184.45 epsilon 0.01\n",
            "episode  458 score 289.88 average score 185.90 epsilon 0.01\n",
            "episode  459 score 189.97 average score 185.05 epsilon 0.01\n",
            "episode  460 score 230.34 average score 185.53 epsilon 0.01\n",
            "episode  461 score 268.14 average score 186.33 epsilon 0.01\n",
            "episode  462 score 224.72 average score 186.61 epsilon 0.01\n",
            "episode  463 score 252.56 average score 187.24 epsilon 0.01\n",
            "episode  464 score 224.35 average score 189.37 epsilon 0.01\n",
            "episode  465 score 201.90 average score 190.80 epsilon 0.01\n",
            "episode  466 score 45.88 average score 188.72 epsilon 0.01\n",
            "episode  467 score 263.46 average score 189.26 epsilon 0.01\n",
            "episode  468 score 227.88 average score 189.21 epsilon 0.01\n",
            "episode  469 score 258.99 average score 189.54 epsilon 0.01\n",
            "episode  470 score 150.08 average score 189.02 epsilon 0.01\n",
            "episode  471 score 196.19 average score 188.82 epsilon 0.01\n",
            "episode  472 score 267.81 average score 191.86 epsilon 0.01\n",
            "episode  473 score 216.19 average score 192.10 epsilon 0.01\n",
            "episode  474 score 265.20 average score 194.97 epsilon 0.01\n",
            "episode  475 score 58.47 average score 192.78 epsilon 0.01\n",
            "episode  476 score 274.50 average score 192.90 epsilon 0.01\n",
            "episode  477 score 14.51 average score 193.28 epsilon 0.01\n",
            "episode  478 score 259.93 average score 194.01 epsilon 0.01\n",
            "episode  479 score 262.50 average score 197.39 epsilon 0.01\n",
            "episode  480 score -25.64 average score 194.65 epsilon 0.01\n",
            "episode  481 score 243.99 average score 194.76 epsilon 0.01\n",
            "episode  482 score 171.70 average score 196.55 epsilon 0.01\n",
            "episode  483 score 244.06 average score 197.00 epsilon 0.01\n",
            "episode  484 score -7.79 average score 194.79 epsilon 0.01\n",
            "episode  485 score 223.08 average score 194.58 epsilon 0.01\n",
            "episode  486 score 141.94 average score 193.66 epsilon 0.01\n",
            "episode  487 score 172.28 average score 193.18 epsilon 0.01\n",
            "episode  488 score 243.49 average score 193.14 epsilon 0.01\n",
            "episode  489 score -180.41 average score 188.98 epsilon 0.01\n",
            "episode  490 score 279.18 average score 189.42 epsilon 0.01\n",
            "episode  491 score 256.77 average score 189.29 epsilon 0.01\n",
            "episode  492 score 266.27 average score 189.62 epsilon 0.01\n",
            "episode  493 score 270.67 average score 190.14 epsilon 0.01\n",
            "episode  494 score 245.28 average score 190.49 epsilon 0.01\n",
            "episode  495 score 284.69 average score 190.63 epsilon 0.01\n",
            "episode  496 score 206.39 average score 190.46 epsilon 0.01\n",
            "episode  497 score 257.84 average score 190.60 epsilon 0.01\n",
            "episode  498 score 247.56 average score 190.63 epsilon 0.01\n",
            "episode  499 score 166.63 average score 190.49 epsilon 0.01\n"
          ]
        },
        {
          "output_type": "display_data",
          "data": {
            "text/plain": [
              "<Figure size 432x288 with 2 Axes>"
            ],
            "image/png": "[encoded data removed]"
          },
          "metadata": {}
        }
      ]
    },
    {
      "cell_type": "code",
      "source": [
        "jdjendjn"
      ],
      "metadata": {
        "id": "covcBE4BnAzP"
      },
      "execution_count": null,
      "outputs": []
    },
    {
      "cell_type": "code",
      "execution_count": null,
      "metadata": {
        "execution": {},
        "outputId": "67fefaff-c859-412c-c4b6-5874404c0299",
        "colab": {
          "base_uri": "https://localhost:8080/",
          "height": 421
        },
        "id": "_B6I243kzq9q"
      },
      "outputs": [
        {
          "output_type": "display_data",
          "data": {
            "text/plain": [
              "<IPython.core.display.HTML object>"
            ],
            "text/html": [
              "<video alt=\"test\" autoplay\n",
              "                loop controls style=\"height: 400px;\">\n",
              "                <source src=\"data:video/mp4;base64,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\" type=\"video/mp4\" />\n",
              "             </video>"
            ]
          },
          "metadata": {}
        }
      ],
      "source": [
        "env = wrap_env(gym.make(\"LunarLander-v3\"))\n",
        "observation = env.reset()\n",
        "while True:\n",
        "  env.render()\n",
        "  action, _states = model.predict(observation, deterministic=True)\n",
        "  observation, reward, done, info = env.step(action)\n",
        "  if done:\n",
        "    break;\n",
        "\n",
        "env.close()\n",
        "show_video()"
      ]
    },
    {
      "cell_type": "code",
      "execution_count": null,
      "metadata": {
        "execution": {},
        "outputId": "00c2859d-bdc7-4036-a9d8-305ce98253d2",
        "colab": {
          "base_uri": "https://localhost:8080/",
          "height": 301
        },
        "id": "voWFVkMGzq9r"
      },
      "outputs": [
        {
          "output_type": "execute_result",
          "data": {
            "text/plain": [
              "Text(0, 0.5, 'Episode Rewards')"
            ]
          },
          "metadata": {},
          "execution_count": 29
        },
        {
          "output_type": "display_data",
          "data": {
            "text/plain": [
              "<Figure size 432x288 with 1 Axes>"
            ],
            "image/png": "[encoded data removed]"
          },
          "metadata": {
            "needs_background": "light"
          }
        }
      ],
      "source": [
        "x, y = ts2xy(load_results(log_dir), 'timesteps')  # Organising the logged results in to a clean format for plotting. timesteps episodes\n",
        "plt.plot(x,y)\n",
        "plt.ylim([-300, 300])\n",
        "plt.xlabel('Timesteps')\n",
        "plt.ylabel('Episode Rewards')"
      ]
    },
    {
      "cell_type": "markdown",
      "source": [
        "### Template"
      ],
      "metadata": {
        "id": "h7Jy40kF4cwx"
      }
    },
    {
      "cell_type": "code",
      "execution_count": null,
      "metadata": {
        "execution": {},
        "id": "RStcMxLfobbr"
      },
      "outputs": [],
      "source": [
        "# Taken from https://stable-baselines3.readthedocs.io/en/master/guide/custom_env.html\n",
        "class CustomEnv(gym.Env):\n",
        "  \"\"\"Custom Environment that follows gym interface\"\"\"\n",
        "  metadata = {'render.modes': ['human']}\n",
        "\n",
        "  def __init__(self, arg1, arg2):\n",
        "    super(CustomEnv, self).__init__()\n",
        "    # Define action and observation space\n",
        "    # They must be gym.spaces objects\n",
        "    # Example when using discrete actions:\n",
        "    self.action_space = spaces.Discrete(N_DISCRETE_ACTIONS)\n",
        "    # Example for using image as input (channel-first; channel-last also works):\n",
        "    self.observation_space = spaces.Box(low=0, high=255,\n",
        "                                        shape=(N_CHANNELS, HEIGHT, WIDTH), dtype=np.uint8)\n",
        "\n",
        "  def step(self, action):\n",
        "    ...\n",
        "    return observation, reward, done, info\n",
        "  def reset(self):\n",
        "    ...\n",
        "    return observation  # reward, done, info can't be included\n",
        "  def render(self, mode='human'):\n",
        "    ...\n",
        "  def close (self):\n",
        "    ..."
      ]
    },
    {
      "cell_type": "markdown",
      "metadata": {
        "execution": {},
        "id": "RKAA_XL4obbs"
      },
      "source": [
        "As you are only changing the reward structure, you can inherit the original Lunar Lander environment from https://github.com/openai/gym/blob/master/gym/envs/box2d/lunar_lander.py and modify just the \"step\" function. Focus on modifying the following part of the code in the \"step\" function\n"
      ]
    },
    {
      "cell_type": "code",
      "execution_count": null,
      "metadata": {
        "execution": {},
        "id": "vW-1yrPyobbs"
      },
      "outputs": [],
      "source": [
        "def step(self, actions):\n",
        "  ...\n",
        "  ...\n",
        "  ...\n",
        "  reward = 0\n",
        "  shaping = (\n",
        "      -100 * np.sqrt(state[0] * state[0] + state[1] * state[1])\n",
        "      - 100 * np.sqrt(state[2] * state[2] + state[3] * state[3])\n",
        "      - 100 * abs(state[4])\n",
        "      + 10 * state[6]\n",
        "      + 10 * state[7]\n",
        "  )  # And ten points for legs contact, the idea is if you\n",
        "  # lose contact again after landing, you get negative reward\n",
        "  if self.prev_shaping is not None:\n",
        "      reward = shaping - self.prev_shaping\n",
        "  self.prev_shaping = shaping\n",
        "\n",
        "  reward -= (\n",
        "      m_power * 0.30\n",
        "  )  # less fuel spent is better, about -30 for heuristic landing. You should modify these values.\n",
        "  reward -= s_power * 0.03\n",
        "\n",
        "  done = False\n",
        "  if self.game_over or abs(state[0]) >= 1.0:\n",
        "      done = True\n",
        "      reward = -100\n",
        "  if not self.lander.awake:\n",
        "      done = True\n",
        "      reward = +100\n",
        "  return np.array(state, dtype=np.float32), reward, done, {}"
      ]
    },
    {
      "cell_type": "markdown",
      "metadata": {
        "execution": {},
        "id": "9CCbUKXQobbs"
      },
      "source": [
        "Once you have cutomized your own environment, you can execute that environment by just calling:"
      ]
    },
    {
      "cell_type": "code",
      "execution_count": null,
      "metadata": {
        "execution": {},
        "id": "T7IuLBYxobbt"
      },
      "outputs": [],
      "source": [
        "#Enter the name of the custome environment you created and uncomment the line below.\n",
        "#env = Custom_LunarLander()\n",
        "# Refer to https://stable-baselines3.readthedocs.io/en/master/guide/custom_env.html, if you would like to create more complex environments."
      ]
    },
    {
      "cell_type": "markdown",
      "metadata": {
        "execution": {},
        "id": "ZeEbxPsFobbt"
      },
      "source": [
        "## 3 Identify the state information crucial to its performance.\n",
        "\n",
        "Your objective here is to alter the input state information and analyze the performance. The input state of the Lunar Lander consists of following components:\n",
        "\n",
        "  1. Horizontal Position\n",
        "  2. Vertical Position\n",
        "  3. Horizontal Velocity\n",
        "  4. Vertical Velocity\n",
        "  5. Angle\n",
        "  6. Angular Velocity\n",
        "  7. Left Leg Contact\n",
        "  8. Right Leg Contact\n",
        "\n",
        "You can train the algorithm by masking one of the eight components at a time and understand how that affects the performance of the algorithm. Similar to the reward shaping task, you would have to create a custom environment and modify the state space. Again, you can inherit all the necessary functions and modify the following portion of the \"Step\" function:"
      ]
    },
    {
      "cell_type": "code",
      "execution_count": null,
      "metadata": {
        "execution": {},
        "id": "e0qQ--Tfobbt"
      },
      "outputs": [],
      "source": [
        "def step(self, actions):\n",
        "  ...\n",
        "  ...\n",
        "  ...\n",
        "  state = [ # Remove one component at a time to investigate the effect on performance!\n",
        "            (pos.x - VIEWPORT_W / SCALE / 2) / (VIEWPORT_W / SCALE / 2),\n",
        "            (pos.y - (self.helipad_y + LEG_DOWN / SCALE)) / (VIEWPORT_H / SCALE / 2),\n",
        "            vel.x * (VIEWPORT_W / SCALE / 2) / FPS,\n",
        "            vel.y * (VIEWPORT_H / SCALE / 2) / FPS,\n",
        "            self.lander.angle,\n",
        "            20.0 * self.lander.angularVelocity / FPS,\n",
        "            1.0 if self.legs[0].ground_contact else 0.0,\n",
        "            1.0 if self.legs[1].ground_contact else 0.0,\n",
        "        ]"
      ]
    },
    {
      "cell_type": "markdown",
      "metadata": {
        "execution": {},
        "id": "EIifpb9Kobbu"
      },
      "source": [
        "## 4 Extension to Atari Games\n",
        "\n",
        "In the Lunar Lander task, the input to the algorithm is a vector of state information. Deep RL algorithms can also be applied when the input to the training is image frames, which is the case in the Atari games. For example, consider an Atari game - Pong. In this environment, the observation is an RGB image of the screen, which is an array of shape (210, 160, 3). To train the Pong game, you can start with the following sample code:"
      ]
    },
    {
      "cell_type": "code",
      "execution_count": null,
      "metadata": {
        "execution": {},
        "id": "9GEIYsVVobbv"
      },
      "outputs": [],
      "source": [
        "## Taken from: https://colab.research.google.com/github/Stable-Baselines-Team/rl-colab-notebooks/blob/sb3/atari_games.ipynb#scrollTo=f3K4rMXwimBO\n",
        "env = make_atari_env('PongNoFrameskip-v4', n_envs=4, seed=0)\n",
        "\n",
        "##Atari Games take a lot of memory. Following commands crash on Coalb. Run the following code on Colab Pro or your local Jupyter notebook!\n",
        "# env = VecFrameStack(env, n_stack=4)\n",
        "# model = DQN('CnnPolicy', env, verbose=1)  # Note the difference here! We use 'CnnPolicy\" here instead of 'MlpPolicy' as the input is frames.\n",
        "# model.learn(total_timesteps=1) #change the number of timesteps as desired and run this command!"
      ]
    },
    {
      "cell_type": "markdown",
      "metadata": {
        "execution": {},
        "id": "5I26CZd4obbv"
      },
      "source": [
        "## 5 Obstacle Avoidance and Transfer Learning\n",
        "\n",
        "Your obstacle here is to add an obstacle in the path of the lunar lander (by creating a custom environment as described in point 2 above) and train the model such that the lander lands safely, avoiding collisions. \n",
        "\n",
        "You would first want to devise a mechansim for adding obstacles. For example, you could have an imaginary obstacle at some horizantal and vertical position cooridnates and modify the reward function such that a penalty is levied if the lander comes close to it. \n",
        "\n",
        "An interesting approach to solve this problem is to apply the techniques of transfer learning. For example, you could initialise the neural network model with the weights of the trained model on the original problem to improve the sample effeciency. This can be done using the following code:"
      ]
    },
    {
      "cell_type": "code",
      "execution_count": null,
      "metadata": {
        "execution": {},
        "id": "lSyhxVoLobbw"
      },
      "outputs": [],
      "source": [
        "## Specify the load path and uncomment below:\n",
        "\n",
        "# model = load(load_path,\n",
        "#              env=gym.make('LunarLander-v2'),\n",
        "#              custom_objects=None, **kwargs)"
      ]
    },
    {
      "cell_type": "markdown",
      "metadata": {
        "execution": {},
        "id": "4Qy8qSysobbw"
      },
      "source": [
        "Following are some of the resources on transfer learning that you would want to start with. \n",
        "\n",
        "**Research Papers**\n",
        "\n",
        "Surveys:\n",
        "1. (Long, Old, Highly cited) Taylor, M. E.,  et al. (2009). Transfer learning for reinforcement learning domains. https://www.jmlr.org/papers/volume10/taylor09a/taylor09a.pdf\n",
        "\n",
        "2. (Medium, Old, Good for a quick read) Lazaric, A. (2012). Transfer in reinforcement learning: a framework and a survey. https://hal.inria.fr/docs/00/77/26/26/PDF/transfer.pdf\n",
        "\n",
        "3. (Medium, Recent, Good for a quick read) Zhu, Z., Lin, K., & Zhou, J. (2020). Transfer learning in deep reinforcement learning. https://arxiv.org/pdf/2009.07888.pdf\n",
        "\n",
        "4. Specific example:\n",
        "Barreto, A., et al. (2016).  Successor features for transfer in reinforcement learning. https://arxiv.org/pdf/1606.05312"
      ]
    },
    {
      "cell_type": "markdown",
      "metadata": {
        "execution": {},
        "id": "vJvZzNrAobbx"
      },
      "source": [
        "## 5(b) Transfer Learning in minigrid environment\n",
        "\n",
        "These are some simple gridworld gym environments designed to be particularly simple, lightweight and fast. Refer to https://github.com/maximecb/gym-minigrid for description of the environments. An example to load a minigrid environment is given below:"
      ]
    },
    {
      "cell_type": "code",
      "execution_count": null,
      "metadata": {
        "execution": {},
        "id": "88Bk-iqzobby"
      },
      "outputs": [],
      "source": [
        "!pip install gym-minigrid --quiet\n",
        "import gym_minigrid\n",
        "env = gym.make('MiniGrid-Empty-5x5-v0')"
      ]
    },
    {
      "cell_type": "markdown",
      "metadata": {
        "execution": {},
        "id": "lOL5WYR3obby"
      },
      "source": [
        "You can train a standard DQN agent in this env by wrapping the env with full image observation wrappers:\n"
      ]
    },
    {
      "cell_type": "code",
      "execution_count": null,
      "metadata": {
        "execution": {},
        "id": "PX71Rz3Uobbz"
      },
      "outputs": [],
      "source": [
        "env = gym_minigrid.wrappers.ImgObsWrapper(gym_minigrid.wrappers.RGBImgObsWrapper(env))"
      ]
    },
    {
      "cell_type": "markdown",
      "metadata": {
        "execution": {},
        "id": "o2UiCI5Iobbz"
      },
      "source": [
        "Note that with full image observations, the shape of the image observations may differ between envs. For e.g., MiniGrid-Empty-5x5-v0 is (40,40,3) while MiniGrid-Empty-8x8-v0 is (64,64,3). So you may need to resize the observations for transfer learning to work with the same DQN architecture.\n",
        "\n",
        "Now try training a DQN (or another method) in one (or multiple) minigrid env(s),and see if that knowledge transfers to another (or multiple other) minigrid env(s).\n"
      ]
    },
    {
      "cell_type": "markdown",
      "metadata": {
        "execution": {},
        "id": "Qy1rMmg4obbz"
      },
      "source": [
        "## 6 Preference-Based RL (PBRL)\n",
        "\n",
        "PBRL is an exciting sub-area in RL where the traditional reward structure is replaced with human preferences. This setting is very useful in applications where it is difficult to construct a reward function. \n",
        "\n",
        "In the earlier section, we have successfully trained the lunar lander to land safely. Here, the path that the lander follows to land safely can be arbitrary. In this project, using the techniques of PBRL, you will solve the lunar lander problem with an additional requirement that the lander should follow a specially curated path (for example, a straight line path). Following are some of the resources that will help you to get started with this project. \n",
        "\n",
        "**Research papers:**\n",
        "1. Deep Reinforcement Learning\n",
        "from Human Preferences https://papers.nips.cc/paper/2017/file/d5e2c0adad503c91f91df240d0cd4e49-Paper.pdf\n",
        "2. Deep Q-learning from Demonstrations https://arxiv.org/pdf/1704.03732.pdf\n",
        "3. Reward learning from human preferences https://arxiv.org/pdf/1811.06521.pdf\n",
        "4. T-REX https://arxiv.org/pdf/1904.06387.pdf\n",
        "\n",
        "**Code Bases:**\n",
        "1. https://github.com/nottombrown/rl-teacher\n",
        "2. https://github.com/hiwonjoon/ICML2019-TREX\n"
      ]
    },
    {
      "cell_type": "markdown",
      "metadata": {
        "execution": {},
        "id": "ptpdnpwGobbz"
      },
      "source": [
        "---\n",
        "# References\n",
        "\n",
        "1. Stable Baselines Framework: https://stable-baselines3.readthedocs.io/en/master/guide/examples.html\n",
        "\n",
        "2. Lunar Lander Environment: https://gym.openai.com/envs/LunarLander-v2/\n",
        "\n",
        "3. OpenAI gym environments: https://gym.openai.com/docs/\n",
        "\n",
        "4. A good reference for introduction to RL: http://incompleteideas.net/book/the-book-2nd.html\n"
      ]
    }
  ],
  "metadata": {
    "colab": {
      "collapsed_sections": [],
      "name": "lunar_lander_group1_atcheke",
      "provenance": [],
      "machine_shape": "hm",
      "toc_visible": true,
      "include_colab_link": true
    },
    "gpuClass": "standard",
    "kernel": {
      "display_name": "Python 3",
      "language": "python",
      "name": "python3"
    },
    "kernelspec": {
      "display_name": "Python 3",
      "name": "python3"
    },
    "language_info": {
      "name": "python"
    }
  },
  "nbformat": 4,
  "nbformat_minor": 0
}