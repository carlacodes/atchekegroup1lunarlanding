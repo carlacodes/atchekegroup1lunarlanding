{
  "cells": [
    {
      "cell_type": "markdown",
      "metadata": {
        "id": "view-in-github",
        "colab_type": "text"
      },
      "source": [
        "<a href=\"https://colab.research.google.com/github/carlacodes/atchekegroup1lunarlanding/blob/sherry/lunar_lander_group1_atcheke.ipynb\" target=\"_parent\"><img src=\"https://colab.research.google.com/assets/colab-badge.svg\" alt=\"Open In Colab\"/></a>"
      ]
    },
    {
      "cell_type": "markdown",
      "metadata": {
        "execution": {},
        "id": "rKjkh_KgobbF"
      },
      "source": [
        "# Performance Analysis of DQN Algorithm on the Lunar Lander task\n",
        "\n",
        "**By Neuromatch Academy**\n",
        "\n",
        "__Content creators:__ Raghuram Bharadwaj Diddigi, Geraud Nangue Tasse, Yamil Vidal, Sanjukta Krishnagopal, Sara Rajaee\n",
        "\n",
        "__Content editors:__ Spiros Chavlis"
      ]
    },
    {
      "cell_type": "markdown",
      "metadata": {
        "execution": {},
        "id": "iDR5t137obbP"
      },
      "source": [
        "<p align='center'><img src='https://github.com/NeuromatchAcademy/widgets/blob/master/sponsors.png?raw=True'/></p>"
      ]
    },
    {
      "cell_type": "markdown",
      "metadata": {
        "execution": {},
        "id": "brZ9ZJQzobbR"
      },
      "source": [
        "---\n",
        "# Objective\n",
        "\n",
        "In this project, the objective is to analyze the performance of the Deep Q-Learning algorithm on an exciting task- Lunar Lander. Before we describe the task, let us focus on two keywords here - analysis and performance. What exactly do we mean by these keywords in the context of Reinforcement Learning (RL)?"
      ]
    },
    {
      "cell_type": "markdown",
      "metadata": {
        "execution": {},
        "id": "wpX-jA7GobbT"
      },
      "source": [
        "---\n",
        "# Setup"
      ]
    },
    {
      "cell_type": "code",
      "execution_count": 3,
      "metadata": {
        "execution": {},
        "id": "9EanvrrhobbU"
      },
      "outputs": [],
      "source": [
        "# @title Install dependencies\n",
        "!sudo apt-get update > /dev/null 2>&1\n",
        "!sudo apt-get install -y xvfb python-opengl ffmpeg > /dev/null 2>&1\n",
        "!pip install rarfile --quiet\n",
        "!pip install stable-baselines3[extra] ale-py==0.7.4 --quiet\n",
        "!pip install box2d-py --quiet\n",
        "!pip install gym pyvirtualdisplay --quiet"
      ]
    },
    {
      "cell_type": "code",
      "execution_count": 4,
      "metadata": {
        "execution": {},
        "id": "pE3qZJLcobbW"
      },
      "outputs": [],
      "source": [
        "# Imports\n",
        "import io\n",
        "import os\n",
        "import glob\n",
        "import torch\n",
        "import base64\n",
        "import stable_baselines3\n",
        "\n",
        "import numpy as np\n",
        "import matplotlib.pyplot as plt\n",
        "\n",
        "from stable_baselines3 import DQN\n",
        "from stable_baselines3.common.results_plotter import ts2xy, load_results\n",
        "from stable_baselines3.common.callbacks import EvalCallback\n",
        "from stable_baselines3.common.env_util import make_atari_env\n",
        "\n",
        "import gym\n",
        "from gym import spaces\n",
        "from gym.wrappers import Monitor,RecordVideo"
      ]
    },
    {
      "cell_type": "code",
      "source": [
        "print(gym.__version__)"
      ],
      "metadata": {
        "colab": {
          "base_uri": "https://localhost:8080/"
        },
        "id": "gPoZnSTGFvEp",
        "outputId": "614b5ffe-da7a-407c-837d-807f14cd18a6"
      },
      "execution_count": 4,
      "outputs": [
        {
          "output_type": "stream",
          "name": "stdout",
          "text": [
            "0.21.0\n"
          ]
        }
      ]
    },
    {
      "cell_type": "code",
      "execution_count": 5,
      "metadata": {
        "execution": {},
        "id": "fp1bUnClobbY"
      },
      "outputs": [],
      "source": [
        "# @title Plotting/Video functions\n",
        "from IPython.display import HTML\n",
        "from pyvirtualdisplay import Display\n",
        "from IPython import display as ipythondisplay\n",
        "\n",
        "display = Display(visible=0, size=(1400, 900))\n",
        "display.start()\n",
        "\n",
        "\"\"\"\n",
        "Utility functions to enable video recording of gym environment\n",
        "and displaying it.\n",
        "To enable video, just do \"env = wrap_env(env)\"\"\n",
        "\"\"\"\n",
        "\n",
        "def show_video():\n",
        "  mp4list = glob.glob('video/*.mp4')\n",
        "  if len(mp4list) > 0:\n",
        "    mp4 = mp4list[0]\n",
        "    video = io.open(mp4, 'r+b').read()\n",
        "    encoded = base64.b64encode(video)\n",
        "    ipythondisplay.display(HTML(data='''<video alt=\"test\" autoplay\n",
        "                loop controls style=\"height: 400px;\">\n",
        "                <source src=\"data:video/mp4;base64,{0}\" type=\"video/mp4\" />\n",
        "             </video>'''.format(encoded.decode('ascii'))))\n",
        "  else:\n",
        "    print(\"Could not find video\")\n",
        "\n",
        "\n",
        "def wrap_env(env):\n",
        "  env = Monitor(env, './video', force=True)\n",
        "  # env = RecordVideo(env, './video')\n",
        "  return env"
      ]
    },
    {
      "cell_type": "code",
      "source": [
        "from google.colab import drive\n",
        "drive.mount('/content/gdrive')\n",
        "drive_path = \"/content/gdrive/My Drive/LunarLanding/models/\""
      ],
      "metadata": {
        "colab": {
          "base_uri": "https://localhost:8080/"
        },
        "id": "4otSbkh_QAYF",
        "outputId": "e8952863-911a-4466-a784-cec3427ef4ca"
      },
      "execution_count": 6,
      "outputs": [
        {
          "output_type": "stream",
          "name": "stdout",
          "text": [
            "Drive already mounted at /content/gdrive; to attempt to forcibly remount, call drive.mount(\"/content/gdrive\", force_remount=True).\n"
          ]
        }
      ]
    },
    {
      "cell_type": "markdown",
      "metadata": {
        "execution": {},
        "id": "psfdqUCmobba"
      },
      "source": [
        "---\n",
        "# Introduction\n",
        "\n",
        "In a standard RL setting, an agent learns optimal behavior from an environment through a feedback mechanism to maximize a given objective. Many algorithms have been proposed in the RL literature that an agent can apply to learn the optimal behavior. One such popular algorithm is the Deep Q-Network (DQN). This algorithm makes use of deep neural networks to compute optimal actions. In this project, your goal is to understand the effect of the number of neural network layers on the algorithm's performance. The performance of the algorithm can be evaluated through two metrics - Speed and Stability. \n",
        "\n",
        "**Speed:** How fast the algorithm reaches the maximum possible reward. \n",
        "\n",
        "**Stability** In some applications (especially when online learning is involved), along with speed, stability of the algorithm, i.e., minimal fluctuations in performance, is equally important. \n",
        "\n",
        "In this project, you should investigate the following question:\n",
        "\n",
        "**What is the impact of number of neural network layers on speed and stability of the algorithm?**\n",
        "\n",
        "You do not have to write the DQN code from scratch. We have provided a basic implementation of the DQN algorithm. You only have to tune the hyperparameters (neural network size, learning rate, etc), observe the performance, and analyze. More details on this are provided below. \n",
        "\n",
        "Now, let us discuss the RL task we have chosen, i.e., Lunar Lander. This task consists of the lander and a landing pad marked by two flags. The episode starts with the lander moving downwards due to gravity. The objective is to land safely using different engines available on the lander with zero speed on the landing pad as quickly and fuel efficient as possible. Reward for moving from the top of the screen and landing on landing pad with zero speed is between 100 to 140 points. Each leg ground contact yields a reward of 10 points. Firing main engine leads to a reward of -0.3 points in each frame. Firing the side engine leads to a reward of -0.03 points in each frame. An additional reward of -100 or +100 points is received if the lander crashes or comes to rest respectively which also leads to end of the episode. \n",
        "\n",
        "The input state of the Lunar Lander consists of following components:\n",
        "\n",
        "  1. Horizontal Position\n",
        "  2. Vertical Position\n",
        "  3. Horizontal Velocity\n",
        "  4. Vertical Velocity\n",
        "  5. Angle\n",
        "  6. Angular Velocity\n",
        "  7. Left Leg Contact\n",
        "  8. Right Leg Contact\n",
        "\n",
        "The actions of the agents are:\n",
        "  1. Do Nothing\n",
        "  2. Fire Main Engine\n",
        "  3. Fire Left Engine\n",
        "  4. Fire Right Engine\n",
        "\n",
        "\n",
        "<img src=\"https://raw.githubusercontent.com/NeuromatchAcademy/course-content-dl/main/projects/static/lunar_lander.png\">"
      ]
    },
    {
      "cell_type": "markdown",
      "source": [
        "## Tuning hyperparameters"
      ],
      "metadata": {
        "id": "XgNuDz2mrq0g"
      }
    },
    {
      "cell_type": "markdown",
      "source": [
        "ref: \n",
        "\n",
        "1.   template https://github.com/AI4Finance-Foundation/FinRL/blob/master/tutorials/4-Optimization/FinRL_HyperparameterTuning_using_Optuna_basic.ipynb\n",
        "\n",
        "2.   tutorial (combined with template): https://medium.com/analytics-vidhya/hyperparameter-tuning-using-optuna-for-finrl-8a49506d2741\n",
        "\n",
        "3.  set parameter function: https://github.com/DLR-RM/rl-baselines3-zoo/blob/master/utils/hyperparams_opt.py\n",
        "\n",
        "4.   callback function: https://github.com/DLR-RM/rl-baselines3-zoo/blob/master/utils/callbacks.py#L10\n",
        "\n",
        "\n",
        "\n"
      ],
      "metadata": {
        "id": "6RQ_bAC6KlAU"
      }
    },
    {
      "cell_type": "code",
      "source": [
        "!pip3 install optuna --quiet"
      ],
      "metadata": {
        "id": "qSg7t4EJx9Pp"
      },
      "execution_count": 13,
      "outputs": []
    },
    {
      "cell_type": "code",
      "source": [
        "import optuna\n",
        "\n",
        "from IPython.display import clear_output\n",
        "import sys"
      ],
      "metadata": {
        "id": "CHT0LZ0WyERZ"
      },
      "execution_count": 14,
      "outputs": []
    },
    {
      "cell_type": "markdown",
      "source": [
        "### define search space"
      ],
      "metadata": {
        "id": "i_gZFwkKtj5T"
      }
    },
    {
      "cell_type": "code",
      "source": [
        "# using stable baseline zoo parameter as ref\n",
        "def sample_dqn_params(trial: optuna.Trial):\n",
        "    \"\"\"\n",
        "    Sampler for DQN hyperparams.\n",
        "    :param trial:\n",
        "    :return:\n",
        "    \"\"\"\n",
        "    learning_rate = trial.suggest_discrete_uniform('lr', 6.3e-4, 6.5e-4, 0.1e-4)\n",
        "\n",
        "    # net_arch = trial.suggest_categorical(\"net_arch\", [\"two\", \"three\"]) #, \"two_big\"\n",
        "    # net_arch = {\"two\": [64, 64], \"three\": [64, 64, 64]}[net_arch] #, \"two_big\": [256, 256]\n",
        "\n",
        "    hyperparams = {\n",
        "        \"learning_rate\": learning_rate,#\n",
        "        \"policy_kwargs\": dict(activation_fn=torch.nn.ReLU, net_arch=[64, 64]),\n",
        "        \"batch_size\": 128,  #for simplicity, we are not doing batch update.\n",
        "        \"buffer_size\": 50000, #size of experience of replay buffer. Set to 1 as batch update is not done\n",
        "        \"learning_starts\": 0, #learning starts immediately!\n",
        "        \"gamma\": 0.99, #discount facto. range is between 0 and 1.\n",
        "        \"tau\": 1,  #the soft update coefficient for updating the target network\n",
        "        \"target_update_interval\": 250, #update the target network immediately.\n",
        "        \"train_freq\": (4,\"step\"), #train the network at every step.\n",
        "        \"max_grad_norm\": 10, #the maximum value for the gradient clipping\n",
        "        \"exploration_initial_eps\": 1, #initial value of random action probability\n",
        "        \"exploration_fraction\": 0.12, #fraction of entire training period over which the exploration rate is reduced\n",
        "        \"gradient_steps\": -1, #number of gradient steps\n",
        "        \"seed\": 1, #seed for the pseudo random generators\n",
        "        \"verbose\": 0\n",
        "    }\n",
        "    return hyperparams"
      ],
      "metadata": {
        "id": "mWhSf_qjk8T4"
      },
      "execution_count": 15,
      "outputs": []
    },
    {
      "cell_type": "markdown",
      "source": [
        "### define callback"
      ],
      "metadata": {
        "id": "fFyJprz6tp7_"
      }
    },
    {
      "cell_type": "code",
      "source": [
        "class LoggingCallback:\n",
        "    def __init__(self,threshold,trial_number,patience):\n",
        "      '''\n",
        "      threshold: int tolerance for increase in reward\n",
        "      trial_number: int Prune after minimum number of trials\n",
        "      patience: int patience for the threshold\n",
        "      '''\n",
        "      self.threshold = threshold\n",
        "      self.trial_number  = trial_number\n",
        "      self.patience = patience\n",
        "      self.cb_list = [] #Trials list for which threshold is reached\n",
        "    def __call__(self,study:optuna.study, frozen_trial:optuna.Trial):\n",
        "      #Setting the best value in the current trial\n",
        "      study.set_user_attr(\"previous_best_value\", study.best_value)\n",
        "      \n",
        "      #Checking if the minimum number of trials have pass\n",
        "      if frozen_trial.number >self.trial_number:\n",
        "          previous_best_value = study.user_attrs.get(\"previous_best_value\",None)\n",
        "          #Checking if the previous and current objective values have the same sign\n",
        "          if previous_best_value * study.best_value >=0:\n",
        "              #Checking for the threshold condition\n",
        "              if abs(previous_best_value-study.best_value) < self.threshold: \n",
        "                  self.cb_list.append(frozen_trial.number)\n",
        "                  #If threshold is achieved for the patience amount of time\n",
        "                  if len(self.cb_list)>self.patience:\n",
        "                      print('The study stops now...')\n",
        "                      print('With number',frozen_trial.number ,'and value ',frozen_trial.value)\n",
        "                      print('The previous and current best values are {} and {} respectively'\n",
        "                              .format(previous_best_value, study.best_value))\n",
        "                      study.stop()"
      ],
      "metadata": {
        "id": "Q4FKnTdKttOu"
      },
      "execution_count": 16,
      "outputs": []
    },
    {
      "cell_type": "markdown",
      "source": [
        "### [discarded] define template objective "
      ],
      "metadata": {
        "id": "B1qV393bpoTO"
      }
    },
    {
      "cell_type": "code",
      "source": [
        "log_dir = drive_path #\"models\"\n",
        "\n",
        "def objective(trial:optuna.Trial):\n",
        "\n",
        "  model_log_dir = log_dir+'dqn_{}'.format(trial.number)+'/'\n",
        "  os.makedirs(model_log_dir,exist_ok=True) \n",
        "  # Create environment\n",
        "  env = gym.make('LunarLander-v2')\n",
        "  env = stable_baselines3.common.monitor.Monitor(env, filename= model_log_dir)\n",
        "\n",
        "  #Trial will suggest a set of hyperparamters from the specified range\n",
        "  hyperparameters = sample_dqn_params(trial)\n",
        "  model_dqn = DQN(\"MlpPolicy\", env, **hyperparameters) #Set verbose to 1 to observe training logs. We encourage you to set the verbose to 1.\n",
        "\n",
        "  # define learning steps\n",
        "  trained_dqn = model_dqn.learn(total_timesteps=1000, log_interval=10)#100000 , callback=callback\n",
        "  # save model\n",
        "  trained_dqn.save(model_log_dir +'dqn_{}.zip'.format(trial.number)) \n",
        "\n",
        "  x, y = ts2xy(load_results(model_log_dir), 'timesteps') # timesteps\n",
        "  # clear_output(wait=True)\n",
        "  #For the given hyperparamters, determine reward\n",
        "  reward = sum(y)\n",
        "  return reward\n",
        "\n",
        "#Create a study object and specify the direction as 'maximize'\n",
        "#As you want to maximize reward\n",
        "#Pruner stops not promising iterations\n",
        "#Use a pruner, else you will get error related to divergence of model\n",
        "#You can also use Multivariate samplere\n",
        "#sampler = optuna.samplers.TPESampler(multivarite=True,seed=42)\n",
        "sampler = optuna.samplers.TPESampler(seed=42)\n",
        "study = optuna.create_study(study_name=\"dqn_study\",direction='maximize',\n",
        "                            sampler = sampler, pruner=optuna.pruners.HyperbandPruner())\n",
        "\n",
        "logging_callback = LoggingCallback(threshold=10, patience=30, trial_number=5)\n",
        "#You can increase the n_trials for a better search space scanning\n",
        "study.optimize(objective, n_trials=2, catch=(ValueError,),callbacks=[logging_callback])"
      ],
      "metadata": {
        "id": "2s-bjWndt_a6",
        "colab": {
          "base_uri": "https://localhost:8080/"
        },
        "outputId": "f42c3614-4a36-4756-e21d-7f08b0ad2d34"
      },
      "execution_count": 30,
      "outputs": [
        {
          "output_type": "stream",
          "name": "stderr",
          "text": [
            "\u001b[32m[I 2022-07-26 21:38:49,875]\u001b[0m A new study created in memory with name: dqn_study\u001b[0m\n",
            "/usr/local/lib/python3.7/dist-packages/optuna/distributions.py:548: UserWarning: The distribution is specified by [0.001, 0.01] and q=0.005, but the range is not divisible by `q`. It will be replaced by [0.001, 0.006].\n",
            "  low=low, old_high=old_high, high=high, step=q\n",
            "\u001b[32m[I 2022-07-26 21:38:54,141]\u001b[0m Trial 0 finished with value: -2644.398608 and parameters: {'lr': 0.001}. Best is trial 0 with value: -2644.398608.\u001b[0m\n",
            "/usr/local/lib/python3.7/dist-packages/optuna/distributions.py:548: UserWarning: The distribution is specified by [0.001, 0.01] and q=0.005, but the range is not divisible by `q`. It will be replaced by [0.001, 0.006].\n",
            "  low=low, old_high=old_high, high=high, step=q\n",
            "\u001b[32m[I 2022-07-26 21:38:58,410]\u001b[0m Trial 1 finished with value: -2592.8647579999997 and parameters: {'lr': 0.006}. Best is trial 1 with value: -2592.8647579999997.\u001b[0m\n"
          ]
        }
      ]
    },
    {
      "cell_type": "markdown",
      "source": [
        "### [discarded] get the best model"
      ],
      "metadata": {
        "id": "tf91UWqvzR6Y"
      }
    },
    {
      "cell_type": "code",
      "source": [
        "#Get the best hyperparamters\n",
        "print('Hyperparameters after tuning',study.best_params)"
      ],
      "metadata": {
        "colab": {
          "base_uri": "https://localhost:8080/"
        },
        "id": "CcDma0wSy02u",
        "outputId": "f344e12a-5643-4ea6-82d8-406ca2d2c7e0"
      },
      "execution_count": 14,
      "outputs": [
        {
          "output_type": "stream",
          "name": "stdout",
          "text": [
            "Hyperparameters after tuning {'lr': 0.006}\n"
          ]
        }
      ]
    },
    {
      "cell_type": "code",
      "source": [
        "study.best_trial"
      ],
      "metadata": {
        "colab": {
          "base_uri": "https://localhost:8080/"
        },
        "id": "yqou4GOlzWMh",
        "outputId": "04a08056-d494-42a8-d379-18cf740deafc"
      },
      "execution_count": 31,
      "outputs": [
        {
          "output_type": "execute_result",
          "data": {
            "text/plain": [
              "FrozenTrial(number=1, values=[-2592.8647579999997], datetime_start=datetime.datetime(2022, 7, 26, 21, 38, 54, 143016), datetime_complete=datetime.datetime(2022, 7, 26, 21, 38, 58, 410379), params={'lr': 0.006}, distributions={'lr': DiscreteUniformDistribution(high=0.006, low=0.001, q=0.005)}, user_attrs={}, system_attrs={}, intermediate_values={}, trial_id=1, state=TrialState.COMPLETE, value=None)"
            ]
          },
          "metadata": {},
          "execution_count": 31
        }
      ]
    },
    {
      "cell_type": "markdown",
      "source": [
        "## Build three tasks for transfer learning\n"
      ],
      "metadata": {
        "id": "M5vgItPPhsw8"
      }
    },
    {
      "cell_type": "markdown",
      "source": [
        "Ref: https://towardsdatascience.com/beginners-guide-to-custom-environments-in-openai-s-gym-989371673952"
      ],
      "metadata": {
        "id": "yIFSDq7eyXY-"
      }
    },
    {
      "cell_type": "markdown",
      "source": [
        "#### define new env class"
      ],
      "metadata": {
        "id": "c-DTrZhLy0UM"
      }
    },
    {
      "cell_type": "code",
      "source": [
        "from gym.envs.box2d import LunarLander\n",
        "from Box2D.b2 import fixtureDef, circleShape, polygonShape, revoluteJointDef, contactListener, edgeShape\n",
        "import math"
      ],
      "metadata": {
        "id": "dTxYseql3ry3"
      },
      "execution_count": 17,
      "outputs": []
    },
    {
      "cell_type": "markdown",
      "source": [
        "Set parameters"
      ],
      "metadata": {
        "id": "MtUy074Syhdd"
      }
    },
    {
      "cell_type": "code",
      "source": [
        "FPS = 50\n",
        "SCALE = 30.0  # affects how fast-paced the game is, forces should be adjusted as well\n",
        "\n",
        "MAIN_ENGINE_POWER = 13.0\n",
        "SIDE_ENGINE_POWER = 0.6\n",
        "\n",
        "INITIAL_RANDOM = 1000.0  # Set 1500 to make game harder\n",
        "\n",
        "LANDER_POLY = [(-14, +17), (-17, 0), (-17, -10), (+17, -10), (+17, 0), (+14, +17)]\n",
        "LEG_AWAY = 20\n",
        "LEG_DOWN = 18\n",
        "LEG_W, LEG_H = 2, 8\n",
        "LEG_SPRING_TORQUE = 40\n",
        "\n",
        "SIDE_ENGINE_HEIGHT = 14.0\n",
        "SIDE_ENGINE_AWAY = 12.0\n",
        "\n",
        "VIEWPORT_W = 600\n",
        "VIEWPORT_H = 400"
      ],
      "metadata": {
        "id": "E6Ivff2jW7q8"
      },
      "execution_count": 18,
      "outputs": []
    },
    {
      "cell_type": "markdown",
      "source": [
        "##### baselien with new reward"
      ],
      "metadata": {
        "id": "Hk3RJY11A0d1"
      }
    },
    {
      "cell_type": "code",
      "source": [
        "class Custom_LunarLander_reward(LunarLander):\n",
        "    metadata = {\"render.modes\": [\"human\", \"rgb_array\"], \"video.frames_per_second\": FPS}\n",
        "    continuous = False\n",
        "\n",
        "    def __init__(\n",
        "        self\n",
        "    ):\n",
        "        LunarLander.__init__(self)\n",
        "        \n",
        "    def step(self, action):\n",
        "        if self.continuous:\n",
        "            action = np.clip(action, -1, +1).astype(np.float32)\n",
        "        else:\n",
        "            assert self.action_space.contains(action), \"%r (%s) invalid \" % (\n",
        "                action,\n",
        "                type(action),\n",
        "            )\n",
        "\n",
        "        # Engines\n",
        "        tip = (math.sin(self.lander.angle), math.cos(self.lander.angle))\n",
        "        side = (-tip[1], tip[0])\n",
        "        dispersion = [self.np_random.uniform(-1.0, +1.0) / SCALE for _ in range(2)]\n",
        "\n",
        "        m_power = 0.0\n",
        "        if (self.continuous and action[0] > 0.0) or (\n",
        "            not self.continuous and action == 2\n",
        "        ):\n",
        "            # Main engine\n",
        "            if self.continuous:\n",
        "                m_power = (np.clip(action[0], 0.0, 1.0) + 1.0) * 0.5  # 0.5..1.0\n",
        "                assert m_power >= 0.5 and m_power <= 1.0\n",
        "            else:\n",
        "                m_power = 1.0\n",
        "            ox = (\n",
        "                tip[0] * (4 / SCALE + 2 * dispersion[0]) + side[0] * dispersion[1]\n",
        "            )  # 4 is move a bit downwards, +-2 for randomness\n",
        "            oy = -tip[1] * (4 / SCALE + 2 * dispersion[0]) - side[1] * dispersion[1]\n",
        "            impulse_pos = (self.lander.position[0] + ox, self.lander.position[1] + oy)\n",
        "            p = self._create_particle(\n",
        "                3.5,  # 3.5 is here to make particle speed adequate\n",
        "                impulse_pos[0],\n",
        "                impulse_pos[1],\n",
        "                m_power,\n",
        "            )  # particles are just a decoration\n",
        "            p.ApplyLinearImpulse(\n",
        "                (ox * MAIN_ENGINE_POWER * m_power, oy * MAIN_ENGINE_POWER * m_power),\n",
        "                impulse_pos,\n",
        "                True,\n",
        "            )\n",
        "            self.lander.ApplyLinearImpulse(\n",
        "                (-ox * MAIN_ENGINE_POWER * m_power, -oy * MAIN_ENGINE_POWER * m_power),\n",
        "                impulse_pos,\n",
        "                True,\n",
        "            )\n",
        "\n",
        "        s_power = 0.0\n",
        "        if (self.continuous and np.abs(action[1]) > 0.5) or (\n",
        "            not self.continuous and action in [1, 3]\n",
        "        ):\n",
        "            # Orientation engines\n",
        "            if self.continuous:\n",
        "                direction = np.sign(action[1])\n",
        "                s_power = np.clip(np.abs(action[1]), 0.5, 1.0)\n",
        "                assert s_power >= 0.5 and s_power <= 1.0\n",
        "            else:\n",
        "                direction = action - 2\n",
        "                s_power = 1.0\n",
        "            ox = tip[0] * dispersion[0] + side[0] * (\n",
        "                3 * dispersion[1] + direction * SIDE_ENGINE_AWAY / SCALE\n",
        "            )\n",
        "            oy = -tip[1] * dispersion[0] - side[1] * (\n",
        "                3 * dispersion[1] + direction * SIDE_ENGINE_AWAY / SCALE\n",
        "            )\n",
        "            impulse_pos = (\n",
        "                self.lander.position[0] + ox - tip[0] * 17 / SCALE,\n",
        "                self.lander.position[1] + oy + tip[1] * SIDE_ENGINE_HEIGHT / SCALE,\n",
        "            )\n",
        "            p = self._create_particle(0.7, impulse_pos[0], impulse_pos[1], s_power)\n",
        "            p.ApplyLinearImpulse(\n",
        "                (ox * SIDE_ENGINE_POWER * s_power, oy * SIDE_ENGINE_POWER * s_power),\n",
        "                impulse_pos,\n",
        "                True,\n",
        "            )\n",
        "            self.lander.ApplyLinearImpulse(\n",
        "                (-ox * SIDE_ENGINE_POWER * s_power, -oy * SIDE_ENGINE_POWER * s_power),\n",
        "                impulse_pos,\n",
        "                True,\n",
        "            )\n",
        "\n",
        "        self.world.Step(1.0 / FPS, 6 * 30, 2 * 30)\n",
        "\n",
        "        pos = self.lander.position\n",
        "        vel = self.lander.linearVelocity\n",
        "        state = [\n",
        "            (pos.x - VIEWPORT_W / SCALE / 2) / (VIEWPORT_W / SCALE / 2), # 0: x position\n",
        "            (pos.y - (self.helipad_y + LEG_DOWN / SCALE)) / (VIEWPORT_H / SCALE / 2), # 1: y position\n",
        "            vel.x * (VIEWPORT_W / SCALE / 2) / FPS, # 2\n",
        "            vel.y * (VIEWPORT_H / SCALE / 2) / FPS, # 3\n",
        "            self.lander.angle, # 4\n",
        "            20.0 * self.lander.angularVelocity / FPS, # 5\n",
        "            1.0 if self.legs[0].ground_contact else 0.0, # 6\n",
        "            1.0 if self.legs[1].ground_contact else 0.0, # 7\n",
        "        ]\n",
        "        assert len(state) == 8\n",
        "\n",
        "        # ----------------------------------------------------------------\n",
        "        # reward\n",
        "        reward = 0\n",
        "        shaping = (\n",
        "            # If the lander moves away from the landing pad, it loses reward\n",
        "            -100 * np.sqrt(state[0] * state[0] + state[1] * state[1]) # Euclidean distance\n",
        "            - 100 * np.sqrt(state[2] * state[2] + state[3] * state[3])\n",
        "\n",
        "            - 100 * abs(state[4])\n",
        "            # Each leg with ground contact is +10 points.\n",
        "            + 10 * state[6]\n",
        "            + 10 * state[7]\n",
        "        )  # And ten points for legs contact, the idea is if you\n",
        "        # lose contact again after landing, you get negative reward\n",
        "        if self.prev_shaping is not None:\n",
        "            reward = shaping - self.prev_shaping\n",
        "        self.prev_shaping = shaping\n",
        "\n",
        "        # Firing the main engine is -0.3 points each frame. \n",
        "        reward -= (\n",
        "            m_power * 0.30\n",
        "        )  # less fuel spent is better, about -30 for heuristic landing\n",
        "        # Firing the side engine is -0.03 points each frame.\n",
        "        reward -= s_power * 0.03\n",
        "\n",
        "        done = False\n",
        "        if self.game_over or abs(state[0]) >= 1.0: # crashed?\n",
        "            done = True\n",
        "            reward = -100\n",
        "        if not self.lander.awake and (np.sqrt(state[0] * state[0] + state[1] * state[1]) == 0) and (np.sqrt(state[2] * state[2] + state[3] * state[3])==0): # rest\n",
        "            done = True\n",
        "            reward = +200\n",
        "        return np.array(state, dtype=np.float32), reward, done, {}\n",
        "        # ----------------------------------------------------------------\n",
        "\n",
        "\n",
        "\n",
        "    \n",
        "  # def reset(self):\n",
        "  #     pass  # reward, done, info can't be included\n",
        "\n",
        "  # def render(self, mode='human'):\n",
        "  #     pass\n",
        "\n",
        "  # def close(self):\n",
        "  #     pass"
      ],
      "metadata": {
        "id": "0DW6wn84SBWf"
      },
      "execution_count": 19,
      "outputs": []
    },
    {
      "cell_type": "markdown",
      "source": [
        "##### [discarded] with wind and new reward "
      ],
      "metadata": {
        "id": "095bT9dTPnAK"
      }
    },
    {
      "cell_type": "code",
      "source": [
        "class Custom_LunarLander_wind(LunarLander):\n",
        "    metadata = {\"render.modes\": [\"human\", \"rgb_array\"], \"video.frames_per_second\": FPS}\n",
        "    continuous = False\n",
        "\n",
        "    def __init__(\n",
        "        self,\n",
        "        enable_wind: bool = False,\n",
        "        wind_power: float = 15.0,\n",
        "    ):\n",
        "        LunarLander.__init__(self)\n",
        "\n",
        "        self.enable_wind = enable_wind\n",
        "        self.wind_power = wind_power\n",
        "        self.wind_idx = np.random.randint(-9999, 9999)\n",
        "\n",
        "\n",
        "        \n",
        "\n",
        "    def step(self, action):\n",
        "        if self.continuous:\n",
        "            action = np.clip(action, -1, +1).astype(np.float32)\n",
        "        else:\n",
        "            assert self.action_space.contains(action), \"%r (%s) invalid \" % (\n",
        "                action,\n",
        "                type(action),\n",
        "            )\n",
        "\n",
        "        # Engines\n",
        "        tip = (math.sin(self.lander.angle), math.cos(self.lander.angle))\n",
        "        side = (-tip[1], tip[0])\n",
        "        dispersion = [self.np_random.uniform(-1.0, +1.0) / SCALE for _ in range(2)]\n",
        "\n",
        "        m_power = 0.0\n",
        "\n",
        "\n",
        "        if self.enable_wind and not (\n",
        "            self.legs[0].ground_contact or self.legs[1].ground_contact\n",
        "        ):\n",
        "            # the function used for wind is tanh(sin(2 k x) + sin(pi k x)),\n",
        "            # which is proven to never be periodic, k = 0.01\n",
        "            wind_mag = (\n",
        "                math.tanh(\n",
        "                    math.sin(0.02 * self.wind_idx)\n",
        "                    + (math.sin(math.pi * 0.01 * self.wind_idx))\n",
        "                )\n",
        "                * self.wind_power\n",
        "            )\n",
        "            self.wind_idx += 1\n",
        "            print('calculated wind power:')\n",
        "            print(wind_mag)\n",
        "            self.lander.ApplyForceToCenter(\n",
        "                (wind_mag, 0.0),\n",
        "                True,\n",
        "            )\n",
        "\n",
        "        if (self.continuous and action[0] > 0.0) or (\n",
        "            not self.continuous and action == 2\n",
        "        ):\n",
        "            # Main engine\n",
        "            if self.continuous:\n",
        "                m_power = (np.clip(action[0], 0.0, 1.0) + 1.0) * 0.5  # 0.5..1.0\n",
        "                assert m_power >= 0.5 and m_power <= 1.0\n",
        "            else:\n",
        "                m_power = 1.0\n",
        "            ox = (\n",
        "                tip[0] * (4 / SCALE + 2 * dispersion[0]) + side[0] * dispersion[1]\n",
        "            )  # 4 is move a bit downwards, +-2 for randomness\n",
        "            oy = -tip[1] * (4 / SCALE + 2 * dispersion[0]) - side[1] * dispersion[1]\n",
        "            impulse_pos = (self.lander.position[0] + ox, self.lander.position[1] + oy)\n",
        "            p = self._create_particle(\n",
        "                3.5,  # 3.5 is here to make particle speed adequate\n",
        "                impulse_pos[0],\n",
        "                impulse_pos[1],\n",
        "                m_power,\n",
        "            )  # particles are just a decoration\n",
        "            p.ApplyLinearImpulse(\n",
        "                (ox * MAIN_ENGINE_POWER * m_power, oy * MAIN_ENGINE_POWER * m_power),\n",
        "                impulse_pos,\n",
        "                True,\n",
        "            )\n",
        "            self.lander.ApplyLinearImpulse(\n",
        "                (-ox * MAIN_ENGINE_POWER * m_power, -oy * MAIN_ENGINE_POWER * m_power),\n",
        "                impulse_pos,\n",
        "                True,\n",
        "            )\n",
        "\n",
        "        s_power = 0.0\n",
        "        if (self.continuous and np.abs(action[1]) > 0.5) or (\n",
        "            not self.continuous and action in [1, 3]\n",
        "        ):\n",
        "            # Orientation engines\n",
        "            if self.continuous:\n",
        "                direction = np.sign(action[1])\n",
        "                s_power = np.clip(np.abs(action[1]), 0.5, 1.0)\n",
        "                assert s_power >= 0.5 and s_power <= 1.0\n",
        "            else:\n",
        "                direction = action - 2\n",
        "                s_power = 1.0\n",
        "            ox = tip[0] * dispersion[0] + side[0] * (\n",
        "                3 * dispersion[1] + direction * SIDE_ENGINE_AWAY / SCALE\n",
        "            )\n",
        "            oy = -tip[1] * dispersion[0] - side[1] * (\n",
        "                3 * dispersion[1] + direction * SIDE_ENGINE_AWAY / SCALE\n",
        "            )\n",
        "            impulse_pos = (\n",
        "                self.lander.position[0] + ox - tip[0] * 17 / SCALE,\n",
        "                self.lander.position[1] + oy + tip[1] * SIDE_ENGINE_HEIGHT / SCALE,\n",
        "            )\n",
        "            p = self._create_particle(0.7, impulse_pos[0], impulse_pos[1], s_power)\n",
        "            p.ApplyLinearImpulse(\n",
        "                (ox * SIDE_ENGINE_POWER * s_power, oy * SIDE_ENGINE_POWER * s_power),\n",
        "                impulse_pos,\n",
        "                True,\n",
        "            )\n",
        "            self.lander.ApplyLinearImpulse(\n",
        "                (-ox * SIDE_ENGINE_POWER * s_power, -oy * SIDE_ENGINE_POWER * s_power),\n",
        "                impulse_pos,\n",
        "                True,\n",
        "            )\n",
        "\n",
        "        self.world.Step(1.0 / FPS, 6 * 30, 2 * 30)\n",
        "\n",
        "        pos = self.lander.position\n",
        "        vel = self.lander.linearVelocity\n",
        "        state = [\n",
        "            (pos.x - VIEWPORT_W / SCALE / 2) / (VIEWPORT_W / SCALE / 2), # 0: x position\n",
        "            (pos.y - (self.helipad_y + LEG_DOWN / SCALE)) / (VIEWPORT_H / SCALE / 2), # 1: y position\n",
        "            vel.x * (VIEWPORT_W / SCALE / 2) / FPS, # 2\n",
        "            vel.y * (VIEWPORT_H / SCALE / 2) / FPS, # 3\n",
        "            self.lander.angle, # 4\n",
        "            20.0 * self.lander.angularVelocity / FPS, # 5\n",
        "            1.0 if self.legs[0].ground_contact else 0.0, # 6\n",
        "            1.0 if self.legs[1].ground_contact else 0.0, # 7\n",
        "        ]\n",
        "        assert len(state) == 8\n",
        "\n",
        "        # ----------------------------------------------------------------\n",
        "        # reward\n",
        "        reward = 0\n",
        "        shaping = (\n",
        "            # If the lander moves away from the landing pad, it loses reward\n",
        "            -100 * np.sqrt(state[0] * state[0] + state[1] * state[1]) # Euclidean distance\n",
        "            - 100 * np.sqrt(state[2] * state[2] + state[3] * state[3])\n",
        "\n",
        "            - 100 * abs(state[4])\n",
        "            # Each leg with ground contact is +10 points.\n",
        "            + 10 * state[6]\n",
        "            + 10 * state[7]\n",
        "        )  # And ten points for legs contact, the idea is if you\n",
        "        # lose contact again after landing, you get negative reward\n",
        "        if self.prev_shaping is not None:\n",
        "            reward = shaping - self.prev_shaping\n",
        "        self.prev_shaping = shaping\n",
        "\n",
        "        # Firing the main engine is -0.3 points each frame. \n",
        "        reward -= (\n",
        "            m_power * 0.30\n",
        "        )  # less fuel spent is better, about -30 for heuristic landing\n",
        "        # Firing the side engine is -0.03 points each frame.\n",
        "        reward -= s_power * 0.03\n",
        "\n",
        "        done = False\n",
        "        if self.game_over or abs(state[0]) >= 1.0: # crashed?\n",
        "            done = True\n",
        "            reward = -100\n",
        "        if not self.lander.awake and (np.sqrt(state[0] * state[0] + state[1] * state[1]) == 0) and (np.sqrt(state[2] * state[2] + state[3] * state[3])==0): # rest\n",
        "            done = True\n",
        "            reward = +200\n",
        "        return np.array(state, dtype=np.float32), reward, done, {}\n",
        "        # ----------------------------------------------------------------\n",
        "\n",
        "\n",
        "\n",
        "    \n",
        "  # def reset(self):\n",
        "  #     pass  # reward, done, info can't be included\n",
        "\n",
        "  # def render(self, mode='human'):\n",
        "  #     pass\n",
        "\n",
        "  # def close(self):\n",
        "  #     pass"
      ],
      "metadata": {
        "id": "lUhMa-AOPrFG"
      },
      "execution_count": 14,
      "outputs": []
    },
    {
      "cell_type": "markdown",
      "source": [
        "##### noisy observations"
      ],
      "metadata": {
        "id": "UboymNjfCt9q"
      }
    },
    {
      "cell_type": "code",
      "source": [
        "from itertools import zip_longest\n",
        "from typing import Dict, List, Tuple, Type, Union\n",
        "\n",
        "import torch as th\n",
        "from torch import nn\n",
        "\n",
        "from stable_baselines3.common.preprocessing import get_flattened_obs_dim, is_image_space\n",
        "from stable_baselines3.common.type_aliases import TensorDict\n",
        "from stable_baselines3.common.utils import get_device\n",
        "\n",
        "\n",
        "class BaseFeaturesExtractor(nn.Module):\n",
        "    \"\"\"\n",
        "    Base class that represents a features extractor.\n",
        "    :param observation_space:\n",
        "    :param features_dim: Number of features extracted.\n",
        "    \"\"\"\n",
        "\n",
        "    def __init__(self, observation_space: gym.Space, features_dim: int = 0):\n",
        "        super().__init__()\n",
        "        assert features_dim > 0\n",
        "        self._observation_space = observation_space\n",
        "        self._features_dim = features_dim\n",
        "\n",
        "    @property\n",
        "    def features_dim(self) -> int:\n",
        "        return self._features_dim\n",
        "\n",
        "    def forward(self, observations: th.Tensor) -> th.Tensor:\n",
        "        raise NotImplementedError()\n",
        "\n",
        "\n",
        "class NoisyLunarLander(BaseFeaturesExtractor):\n",
        "    \"\"\"\n",
        "    Feature extract that adds noise to the input.\n",
        "    :param observation_space:\n",
        "    \"\"\"\n",
        "\n",
        "    def __init__(self, observation_space: gym.Space):\n",
        "        super().__init__(observation_space, get_flattened_obs_dim(observation_space))\n",
        "        self.flatten = nn.Flatten()\n",
        "\n",
        "    def forward(self, observations: th.Tensor) -> th.Tensor:\n",
        "        # add noise to observations (excluding leg contact)\n",
        "        #print('Adding input noise:')      \n",
        "        input_noise = torch.zeros(size=observations.shape, device='cuda')\n",
        "        input_noise[:,:6]= torch.normal(mean=0.0, std=0.005, size=(1,6), device='cuda')\n",
        "        #print(input_noise)\n",
        "        #print(input_noise.shape)\n",
        "        #print('Observations:')\n",
        "        #print(self.flatten(observations))\n",
        "        return_array = self.flatten(observations)  + input_noise\n",
        "        #print(\"Check noise added:\")\n",
        "        #print(return_array-self.flatten(observations))\n",
        "\n",
        "        return return_array\n"
      ],
      "metadata": {
        "id": "KRFgQSPYC3Xy"
      },
      "execution_count": 12,
      "outputs": []
    },
    {
      "cell_type": "markdown",
      "source": [
        "##### with obstacle and new reward"
      ],
      "metadata": {
        "id": "hU5fazVEArJ4"
      }
    },
    {
      "cell_type": "code",
      "source": [
        "class ContactDetector(contactListener):\n",
        "    def __init__(self, env):\n",
        "        contactListener.__init__(self)\n",
        "        self.env = env\n",
        "\n",
        "    def BeginContact(self, contact):\n",
        "        if (\n",
        "                self.env.lander == contact.fixtureA.body\n",
        "                or self.env.lander == contact.fixtureB.body\n",
        "        ):\n",
        "            self.env.game_over = True\n",
        "        for i in range(2):\n",
        "            if self.env.legs[i] in [contact.fixtureA.body, contact.fixtureB.body]:\n",
        "                self.env.legs[i].ground_contact = True\n",
        "\n",
        "    def EndContact(self, contact):\n",
        "        for i in range(2):\n",
        "            if self.env.legs[i] in [contact.fixtureA.body, contact.fixtureB.body]:\n",
        "                self.env.legs[i].ground_contact = False\n",
        "\n",
        "class Custom_LunarLander_obs(LunarLander):\n",
        "    metadata = {\"render.modes\": [\"human\", \"rgb_array\"], \"video.frames_per_second\": FPS}\n",
        "    continuous = False\n",
        "\n",
        "    def __init__(\n",
        "        self,\n",
        "        enable_wind: bool = False,\n",
        "        wind_power: float = 15.0,\n",
        "        obs_coords = [10, 10],\n",
        "        enable_obstacle: bool = True\n",
        "    ):\n",
        "        LunarLander.__init__(self)\n",
        "\n",
        "        self.enable_wind = enable_wind\n",
        "\n",
        "        self.obs_coords = obs_coords\n",
        "        self.enable_obstacle = enable_obstacle\n",
        "        self.wind_power = wind_power\n",
        "\n",
        "        self.wind_idx = np.random.randint(-9999, 9999)\n",
        "\n",
        "        # defining the polygon obstacle here:\n",
        "        vertices_poly = [(5, 5), (5, 2), (2, 2), (2, 5)]  # may need to change later\n",
        "        # self.obstacle = self.world.CreateStaticBody(\n",
        "        #\n",
        "        #     # shapes=polygonShape(centroid=(self.obs_coords[0] + VIEWPORT_W / 2 / SCALE,\n",
        "        #     #                         self.obs_coords[1] + (self.helipad_y + LEG_DOWN / SCALE)),\n",
        "        #     #                    vertices= [(x / SCALE, y / SCALE) for x, y in vertices_poly]),\n",
        "        #     shapes=circleShape(pos=(self.obs_coords[0] + VIEWPORT_W / 2 / SCALE,\n",
        "        #                             self.obs_coords[1] + (self.helipad_y + LEG_DOWN / SCALE)),\n",
        "        #                        radius=2),\n",
        "        #                         categoryBits=0x1000,\n",
        "        #\n",
        "        # )\n",
        "        self.obstacle = self.world.CreateStaticBody(\n",
        "            position=(self.obs_coords[0], self.obs_coords[1]),\n",
        "            # (self.obs_coords[0] + VIEWPORT_W / 2 / SCALE,\n",
        "            # self.obs_coords[1] + (self.helipad_y + LEG_DOWN / SCALE))\n",
        "            angle=0.0,\n",
        "            fixtures=fixtureDef(\n",
        "                #circleShape(radius=2 / SCALE, pos=(0, 0)),\n",
        "                shape=circleShape(radius=20 / SCALE, \n",
        "                                  pos=(self.obs_coords[0],\n",
        "                                       self.obs_coords[1])),\n",
        "                # density=5.0,\n",
        "                # friction=0.1,\n",
        "                # categoryBits=0x0010,\n",
        "                # # maskBits=0x001,  # collide only with ground\n",
        "                # restitution=0.0,\n",
        "            ),  # 0.99 bouncy\n",
        "        )\n",
        "\n",
        "        self.obstacle.color1 = (0.5, 0.4, 0.9)\n",
        "        self.obstacle.color2 = (1, 1, 1)\n",
        "        # self.obstacle.alpha = 0.8  \n",
        "\n",
        "        self.observation_space = spaces.Box(\n",
        "            -np.inf, np.inf, shape=(8,), dtype=np.float32\n",
        "        )   \n",
        "\n",
        "    def reset(self):\n",
        "        self._destroy()\n",
        "        self.world.contactListener_keepref = ContactDetector(self)\n",
        "        self.world.contactListener = self.world.contactListener_keepref\n",
        "        self.game_over = False\n",
        "        self.prev_shaping = None\n",
        "\n",
        "        W = VIEWPORT_W / SCALE\n",
        "        H = VIEWPORT_H / SCALE\n",
        "\n",
        "        # terrain\n",
        "        CHUNKS = 11\n",
        "        height = self.np_random.uniform(0, H / 2, size=(CHUNKS + 1,))\n",
        "        chunk_x = [W / (CHUNKS - 1) * i for i in range(CHUNKS)]\n",
        "        self.helipad_x1 = chunk_x[CHUNKS // 2 - 1]\n",
        "        self.helipad_x2 = chunk_x[CHUNKS // 2 + 1]\n",
        "        self.helipad_y = H / 4\n",
        "        height[CHUNKS // 2 - 2] = self.helipad_y\n",
        "        height[CHUNKS // 2 - 1] = self.helipad_y\n",
        "        height[CHUNKS // 2 + 0] = self.helipad_y\n",
        "        height[CHUNKS // 2 + 1] = self.helipad_y\n",
        "        height[CHUNKS // 2 + 2] = self.helipad_y\n",
        "        smooth_y = [\n",
        "            0.33 * (height[i - 1] + height[i + 0] + height[i + 1])\n",
        "            for i in range(CHUNKS)\n",
        "        ]\n",
        "\n",
        "        self.moon = self.world.CreateStaticBody(\n",
        "            shapes=edgeShape(vertices=[(0, 0), (W, 0)])\n",
        "        )\n",
        "\n",
        "        # defining the polygon obstacle here----------------------------------\n",
        "        vertices_poly = [(5, 5), (5, 2), (2, 2), (2, 5)]  # may need to change later\n",
        "        # self.obstacle = self.world.CreateStaticBody(\n",
        "        #\n",
        "        #     # shapes=polygonShape(centroid=(self.obs_coords[0] + VIEWPORT_W / 2 / SCALE,\n",
        "        #     #                         self.obs_coords[1] + (self.helipad_y + LEG_DOWN / SCALE)),\n",
        "        #     #                    vertices= [(x / SCALE, y / SCALE) for x, y in vertices_poly]),\n",
        "        #     shapes=circleShape(pos=(self.obs_coords[0] + VIEWPORT_W / 2 / SCALE,\n",
        "        #                             self.obs_coords[1] + (self.helipad_y + LEG_DOWN / SCALE)),\n",
        "        #                        radius=2),\n",
        "        #                         categoryBits=0x1000,\n",
        "        #\n",
        "        # )\n",
        "        self.obstacle = self.world.CreateStaticBody(\n",
        "            position=(self.obs_coords[0], self.obs_coords[1]),\n",
        "            # (self.obs_coords[0] + VIEWPORT_W / 2 / SCALE,\n",
        "            # self.obs_coords[1] + (self.helipad_y + LEG_DOWN / SCALE))\n",
        "            angle=0.0,\n",
        "            fixtures=fixtureDef(\n",
        "                #circleShape(radius=2 / SCALE, pos=(0, 0)),\n",
        "                shape=circleShape(radius=20 / SCALE, \n",
        "                                  pos=(self.obs_coords[0],\n",
        "                                       self.obs_coords[1])),\n",
        "                # density=5.0,\n",
        "                # friction=0.1,\n",
        "                # categoryBits=0x0010,\n",
        "                # # maskBits=0x001,  # collide only with ground\n",
        "                # restitution=0.0,\n",
        "            ),  # 0.99 bouncy\n",
        "        )\n",
        "\n",
        "        self.obstacle.color1 = (0.5, 0.4, 0.9)\n",
        "        self.obstacle.color2 = (1, 1, 1)\n",
        "        # self.obstacle.alpha = 0.8\n",
        "        # ----------------------------------------------------------------\n",
        "\n",
        "        self.sky_polys = []\n",
        "        for i in range(CHUNKS - 1):\n",
        "            p1 = (chunk_x[i], smooth_y[i])\n",
        "            p2 = (chunk_x[i + 1], smooth_y[i + 1])\n",
        "            self.moon.CreateEdgeFixture(vertices=[p1, p2], density=0, friction=0.1)\n",
        "            self.sky_polys.append([p1, p2, (p2[0], H), (p1[0], H)])\n",
        "\n",
        "        self.moon.color1 = (0.0, 0.0, 0.0)\n",
        "        self.moon.color2 = (0.0, 0.0, 0.0)\n",
        "\n",
        "        initial_y = VIEWPORT_H / SCALE\n",
        "        self.lander = self.world.CreateDynamicBody(\n",
        "            position=(VIEWPORT_W / SCALE / 2, initial_y),\n",
        "            angle=0.0,\n",
        "            fixtures=fixtureDef(\n",
        "                shape=polygonShape(\n",
        "                    vertices=[(x / SCALE, y / SCALE) for x, y in LANDER_POLY]\n",
        "                ),\n",
        "                density=5.0,\n",
        "                friction=0.1,\n",
        "                categoryBits=0x0010,\n",
        "                maskBits=0x001,  # collide only with ground\n",
        "                restitution=0.0,\n",
        "            ),  # 0.99 bouncy\n",
        "        )\n",
        "        self.lander.color1 = (0.5, 0.4, 0.9)\n",
        "        self.lander.color2 = (0.3, 0.3, 0.5)\n",
        "        self.lander.ApplyForceToCenter(\n",
        "            (\n",
        "                self.np_random.uniform(-INITIAL_RANDOM, INITIAL_RANDOM),\n",
        "                self.np_random.uniform(-INITIAL_RANDOM, INITIAL_RANDOM),\n",
        "            ),\n",
        "            True,\n",
        "        )\n",
        "\n",
        "        self.legs = []\n",
        "        for i in [-1, +1]:\n",
        "            leg = self.world.CreateDynamicBody(\n",
        "                position=(VIEWPORT_W / SCALE / 2 - i * LEG_AWAY / SCALE, initial_y),\n",
        "                angle=(i * 0.05),\n",
        "                fixtures=fixtureDef(\n",
        "                    shape=polygonShape(box=(LEG_W / SCALE, LEG_H / SCALE)),\n",
        "                    density=1.0,\n",
        "                    restitution=0.0,\n",
        "                    categoryBits=0x0020,\n",
        "                    maskBits=0x001,\n",
        "                ),\n",
        "            )\n",
        "            leg.ground_contact = False\n",
        "            leg.color1 = (0.5, 0.4, 0.9)\n",
        "            leg.color2 = (0.3, 0.3, 0.5)\n",
        "            rjd = revoluteJointDef(\n",
        "                bodyA=self.lander,\n",
        "                bodyB=leg,\n",
        "                localAnchorA=(0, 0),\n",
        "                localAnchorB=(i * LEG_AWAY / SCALE, LEG_DOWN / SCALE),\n",
        "                enableMotor=True,\n",
        "                enableLimit=True,\n",
        "                maxMotorTorque=LEG_SPRING_TORQUE,\n",
        "                motorSpeed=+0.3 * i,  # low enough not to jump back into the sky\n",
        "            )\n",
        "            if i == -1:\n",
        "                rjd.lowerAngle = (\n",
        "                        +0.9 - 0.5\n",
        "                )  # The most esoteric numbers here, angled legs have freedom to travel within\n",
        "                rjd.upperAngle = +0.9\n",
        "            else:\n",
        "                rjd.lowerAngle = -0.9\n",
        "                rjd.upperAngle = -0.9 + 0.5\n",
        "            leg.joint = self.world.CreateJoint(rjd)\n",
        "            self.legs.append(leg)\n",
        "\n",
        "        self.drawlist = [self.lander] + self.legs\n",
        "        \n",
        "\n",
        "        return self.step(np.array([0, 0]) if self.continuous else 0)[0]\n",
        "\n",
        "    def step(self, action):\n",
        "        if self.continuous:\n",
        "            action = np.clip(action, -1, +1).astype(np.float32)\n",
        "        else:\n",
        "            assert self.action_space.contains(action), \"%r (%s) invalid \" % (\n",
        "                action,\n",
        "                type(action),\n",
        "            )\n",
        "\n",
        "        # Engines\n",
        "        tip = (math.sin(self.lander.angle), math.cos(self.lander.angle))\n",
        "        side = (-tip[1], tip[0])\n",
        "        dispersion = [self.np_random.uniform(-1.0, +1.0) / SCALE for _ in range(2)]\n",
        "\n",
        "        m_power = 0.0\n",
        "        if (self.continuous and action[0] > 0.0) or (\n",
        "            not self.continuous and action == 2\n",
        "        ):\n",
        "            # Main engine\n",
        "            if self.continuous:\n",
        "                m_power = (np.clip(action[0], 0.0, 1.0) + 1.0) * 0.5  # 0.5..1.0\n",
        "                assert m_power >= 0.5 and m_power <= 1.0\n",
        "            else:\n",
        "                m_power = 1.0\n",
        "            ox = (\n",
        "                tip[0] * (4 / SCALE + 2 * dispersion[0]) + side[0] * dispersion[1]\n",
        "            )  # 4 is move a bit downwards, +-2 for randomness\n",
        "            oy = -tip[1] * (4 / SCALE + 2 * dispersion[0]) - side[1] * dispersion[1]\n",
        "            impulse_pos = (self.lander.position[0] + ox, self.lander.position[1] + oy)\n",
        "            p = self._create_particle(\n",
        "                3.5,  # 3.5 is here to make particle speed adequate\n",
        "                impulse_pos[0],\n",
        "                impulse_pos[1],\n",
        "                m_power,\n",
        "            )  # particles are just a decoration\n",
        "            p.ApplyLinearImpulse(\n",
        "                (ox * MAIN_ENGINE_POWER * m_power, oy * MAIN_ENGINE_POWER * m_power),\n",
        "                impulse_pos,\n",
        "                True,\n",
        "            )\n",
        "            self.lander.ApplyLinearImpulse(\n",
        "                (-ox * MAIN_ENGINE_POWER * m_power, -oy * MAIN_ENGINE_POWER * m_power),\n",
        "                impulse_pos,\n",
        "                True,\n",
        "            )\n",
        "\n",
        "        s_power = 0.0\n",
        "        if (self.continuous and np.abs(action[1]) > 0.5) or (\n",
        "            not self.continuous and action in [1, 3]\n",
        "        ):\n",
        "            # Orientation engines\n",
        "            if self.continuous:\n",
        "                direction = np.sign(action[1])\n",
        "                s_power = np.clip(np.abs(action[1]), 0.5, 1.0)\n",
        "                assert s_power >= 0.5 and s_power <= 1.0\n",
        "            else:\n",
        "                direction = action - 2\n",
        "                s_power = 1.0\n",
        "            ox = tip[0] * dispersion[0] + side[0] * (\n",
        "                3 * dispersion[1] + direction * SIDE_ENGINE_AWAY / SCALE\n",
        "            )\n",
        "            oy = -tip[1] * dispersion[0] - side[1] * (\n",
        "                3 * dispersion[1] + direction * SIDE_ENGINE_AWAY / SCALE\n",
        "            )\n",
        "            impulse_pos = (\n",
        "                self.lander.position[0] + ox - tip[0] * 17 / SCALE,\n",
        "                self.lander.position[1] + oy + tip[1] * SIDE_ENGINE_HEIGHT / SCALE,\n",
        "            )\n",
        "            p = self._create_particle(0.7, impulse_pos[0], impulse_pos[1], s_power)\n",
        "            p.ApplyLinearImpulse(\n",
        "                (ox * SIDE_ENGINE_POWER * s_power, oy * SIDE_ENGINE_POWER * s_power),\n",
        "                impulse_pos,\n",
        "                True,\n",
        "            )\n",
        "            self.lander.ApplyLinearImpulse(\n",
        "                (-ox * SIDE_ENGINE_POWER * s_power, -oy * SIDE_ENGINE_POWER * s_power),\n",
        "                impulse_pos,\n",
        "                True,\n",
        "            )\n",
        "\n",
        "        self.world.Step(1.0 / FPS, 6 * 30, 2 * 30)\n",
        "\n",
        "        pos = self.lander.position\n",
        "        # print([pos.x,pos.y])\n",
        "        vel = self.lander.linearVelocity\n",
        "        # print([vel.x,vel.y])\n",
        "        state = [\n",
        "            (pos.x - VIEWPORT_W / SCALE / 2) / (VIEWPORT_W / SCALE / 2), # 0: x position\n",
        "            (pos.y - (self.helipad_y + LEG_DOWN / SCALE)) / (VIEWPORT_H / SCALE / 2), # 1: y position\n",
        "            vel.x * (VIEWPORT_W / SCALE / 2) / FPS, # 2\n",
        "            vel.y * (VIEWPORT_H / SCALE / 2) / FPS, # 3\n",
        "            self.lander.angle, # 4\n",
        "            20.0 * self.lander.angularVelocity / FPS, # 5\n",
        "            1.0 if self.legs[0].ground_contact else 0.0, # 6\n",
        "            1.0 if self.legs[1].ground_contact else 0.0, # 7\n",
        "        ]\n",
        "        assert len(state) == 8\n",
        "\n",
        "        state_8 = (pos.x - self.obs_coords[0] / SCALE) / (VIEWPORT_W / SCALE / 2) # 8: x position\n",
        "        state_9 = (pos.y - self.obs_coords[1] / SCALE) / (VIEWPORT_H / SCALE / 2) # 9: y position\n",
        "        # ----------------------------------------------------------------\n",
        "        # reward\n",
        "        # distance_to_obstacle = np.sqrt((pos.x - (self.obs_coords[0] +\n",
        "        #                                     VIEWPORT_W / SCALE / 2)) ** 2 +\n",
        "        #                         (pos.y - (self.obs_coords[1] +\n",
        "\n",
        "        #                                   (self.helipad_y + LEG_DOWN / SCALE))) ** 2)\n",
        "        distance_to_obstacle = np.sqrt(state_8 * state_8 + state_9 * state_9)\n",
        "        # print((distance_to_obstacle <= (20 / SCALE)))\n",
        "        # if (distance_to_obstacle <= (1)):\n",
        "        #     print('dangerously close to obstacle!')\n",
        "\n",
        "        reward = 0\n",
        "        shaping = (\n",
        "            # If the lander moves away from the landing pad, it loses reward\n",
        "            - 150 * np.sqrt(state[0] * state[0] + state[1] * state[1]) # Euclidean distance\n",
        "            -50 * np.sqrt(state[2] * state[2] + state[3] * state[3])\n",
        "\n",
        "            - 100 * abs(state[4])\n",
        "            # Each leg with ground contact is +10 points.\n",
        "            + 10 * state[6]\n",
        "            + 10 * state[7]\n",
        "            - 50 * (distance_to_obstacle <= (20 / SCALE)) # obstacles \n",
        "        )  # And ten points for legs contact, the idea is if you\n",
        "        # lose contact again after landing, you get negative reward\n",
        "        if self.prev_shaping is not None:\n",
        "            reward = shaping - self.prev_shaping\n",
        "        self.prev_shaping = shaping\n",
        "\n",
        "        # Firing the main engine is -0.3 points each frame. \n",
        "        reward -= (\n",
        "            m_power * 0.30\n",
        "        )  # less fuel spent is better, about -30 for heuristic landing\n",
        "        # Firing the side engine is -0.03 points each frame.\n",
        "        reward -= s_power * 0.03\n",
        "\n",
        "        done = False\n",
        "        if self.game_over or abs(state[0]) >= 1.0: # crashed?\n",
        "            done = True\n",
        "            reward = -100\n",
        "        if not self.lander.awake and (np.sqrt(state[0] * state[0] + state[1] * state[1]) == 0) and (np.sqrt(state[2] * state[2] + state[3] * state[3])==0): # rest\n",
        "            done = True\n",
        "            reward = +200\n",
        "\n",
        "        return np.array(state, dtype=np.float32), reward, done, {}\n",
        "        # ----------------------------------------------------------------\n",
        "\n",
        "\n",
        "    def render(self, mode=\"human\"):\n",
        "        from gym.envs.classic_control import rendering\n",
        "\n",
        "        if self.viewer is None:\n",
        "            self.viewer = rendering.Viewer(VIEWPORT_W, VIEWPORT_H)\n",
        "            self.viewer.set_bounds(0, VIEWPORT_W / SCALE, 0, VIEWPORT_H / SCALE)\n",
        "\n",
        "        for obj in self.particles:\n",
        "            obj.ttl -= 0.15\n",
        "            obj.color1 = (\n",
        "                max(0.2, 0.2 + obj.ttl),\n",
        "                max(0.2, 0.5 * obj.ttl),\n",
        "                max(0.2, 0.5 * obj.ttl),\n",
        "            )\n",
        "            obj.color2 = (\n",
        "                max(0.2, 0.2 + obj.ttl),\n",
        "                max(0.2, 0.5 * obj.ttl),\n",
        "                max(0.2, 0.5 * obj.ttl),\n",
        "            )\n",
        "\n",
        "        self._clean_particles(False)\n",
        "        # print('drawlist')\n",
        "        # print(self.drawlist)\n",
        "        for p in self.sky_polys:\n",
        "            self.viewer.draw_polygon(p, color=(0, 0, 0))\n",
        "        # editing below line to draw obstacle\n",
        "        for obj in self.particles + self.drawlist:\n",
        "            for f in obj.fixtures:\n",
        "                trans = f.body.transform\n",
        "                if type(f.shape) is circleShape:\n",
        "                    t = rendering.Transform(translation=trans * f.shape.pos)\n",
        "                    self.viewer.draw_circle(\n",
        "                        f.shape.radius, 20, color=obj.color1, filled=True\n",
        "                    ).add_attr(t)\n",
        "                    self.viewer.draw_circle(\n",
        "                        f.shape.radius, 20, color=obj.color2, filled=False, linewidth=2\n",
        "                    ).add_attr(t)\n",
        "                    # t = rendering.Transform((100, 100))  # Position\n",
        "                    # self.viewer.draw_circle(20).add_attr(t)  # Add transform for position\n",
        "                    # self.viewer.render()\n",
        "                else:\n",
        "                    path = [trans * v for v in f.shape.vertices]\n",
        "                    # print('poly shape in object fixtures')\n",
        "                    # print(f)\n",
        "                    self.viewer.draw_polygon(path, color=obj.color1)\n",
        "                    path.append(path[0])\n",
        "                    self.viewer.draw_polyline(path, color=obj.color2, linewidth=2)\n",
        "\n",
        "        for obj2 in [self.obstacle]:\n",
        "            # print('rendering obstacle')\n",
        "            # print(obj2)\n",
        "            for f in obj2.fixtures:\n",
        "                trans = f.body.transform\n",
        "                if type(f.shape) is circleShape:\n",
        "                    # print('printing circle of radius')\n",
        "                    #t = rendering.Transform(translation=trans * f.shape.pos)\n",
        "                    t = rendering.Transform((self.obs_coords[0], self.obs_coords[1]))\n",
        "                    # print(f.shape.radius)\n",
        "                    self.viewer.draw_circle(\n",
        "                        f.shape.radius, 20, color=obj2.color1, filled=True\n",
        "                    ).add_attr(t)\n",
        "                    self.viewer.draw_circle(\n",
        "                        f.shape.radius, 20, color=obj2.color2, filled=False, linewidth=2\n",
        "                    ).add_attr(t)\n",
        "                    # t = rendering.Transform((10, 10))  # Position\n",
        "                    # self.viewer.draw_circle(2).add_attr(t)  # Add transform for position\n",
        "                    # self.viewer.render()\n",
        "                else:\n",
        "                    path = [trans * v for v in f.shape.vertices]\n",
        "                    # print('poly shape in object fixtures')\n",
        "                    # print(f)\n",
        "                    self.viewer.draw_polygon(path, color=obj2.color1)\n",
        "                    path.append(path[0])\n",
        "                    self.viewer.draw_polyline(path, color=obj2.color2, linewidth=2)\n",
        "\n",
        "        for x in [self.helipad_x1, self.helipad_x2]:\n",
        "            flagy1 = self.helipad_y\n",
        "            flagy2 = flagy1 + 50 / SCALE\n",
        "            self.viewer.draw_polyline([(x, flagy1), (x, flagy2)], color=(1, 1, 1))\n",
        "            self.viewer.draw_polygon(\n",
        "                [\n",
        "                    (x, flagy2),\n",
        "                    (x, flagy2 - 10 / SCALE),\n",
        "                    (x + 25 / SCALE, flagy2 - 5 / SCALE),\n",
        "                ],\n",
        "                color=(0.8, 0.8, 0),\n",
        "            )\n",
        "\n",
        "        return self.viewer.render(return_rgb_array=mode == \"rgb_array\")\n",
        "\n",
        "\n",
        "    \n",
        "  # def reset(self):\n",
        "  #     pass  # reward, done, info can't be included\n",
        "\n",
        "  # def render(self, mode='human'):\n",
        "  #     pass\n",
        "\n",
        "  # def close(self):\n",
        "  #     pass"
      ],
      "metadata": {
        "id": "7Nxu5rsZ4MH1"
      },
      "execution_count": 13,
      "outputs": []
    },
    {
      "cell_type": "markdown",
      "source": [
        "#### register environment"
      ],
      "metadata": {
        "id": "DzZ83S3UzBYc"
      }
    },
    {
      "cell_type": "markdown",
      "source": [
        "###### register baseline anv"
      ],
      "metadata": {
        "id": "8SD7DX6hoX7P"
      }
    },
    {
      "cell_type": "code",
      "source": [
        "new_env = Custom_LunarLander_reward()\n",
        "new_env"
      ],
      "metadata": {
        "colab": {
          "base_uri": "https://localhost:8080/"
        },
        "outputId": "065259db-ca7d-4fac-aa63-1c7df239723e",
        "id": "mAGafux6oX7P"
      },
      "execution_count": 20,
      "outputs": [
        {
          "output_type": "execute_result",
          "data": {
            "text/plain": [
              "<__main__.Custom_LunarLander_reward at 0x7eff548a9a10>"
            ]
          },
          "metadata": {},
          "execution_count": 20
        }
      ]
    },
    {
      "cell_type": "code",
      "source": [
        "from stable_baselines3.common.env_checker import check_env\n",
        "check_env(new_env)"
      ],
      "metadata": {
        "id": "PkBL7IZQoX7P"
      },
      "execution_count": 21,
      "outputs": []
    },
    {
      "cell_type": "code",
      "source": [
        "from gym.envs.registration import register\n",
        "# Example for the CartPole environment\n",
        "register(\n",
        "    # unique identifier for the env `name-version`\n",
        "    id=\"LunarLander-v3\",\n",
        "    # path to the class for creating the env\n",
        "    # Note: entry_point also accept a class as input (and not only a string)\n",
        "    entry_point= Custom_LunarLander_reward,\n",
        "    # Max number of steps per episode, using a `TimeLimitWrapper`\n",
        "    max_episode_steps=1500,\n",
        ")"
      ],
      "metadata": {
        "id": "WvFoF2FdoX7P"
      },
      "execution_count": 22,
      "outputs": []
    },
    {
      "cell_type": "markdown",
      "source": [
        "###### register obstacle anv"
      ],
      "metadata": {
        "id": "YJkdBNEHiLle"
      }
    },
    {
      "cell_type": "markdown",
      "source": [
        "check environment"
      ],
      "metadata": {
        "id": "xGf0_9im0Y3R"
      }
    },
    {
      "cell_type": "code",
      "source": [
        "new_env = Custom_LunarLander_obs()\n",
        "new_env"
      ],
      "metadata": {
        "colab": {
          "base_uri": "https://localhost:8080/"
        },
        "id": "GdKLT2SiGCiV",
        "outputId": "14f1fa56-d272-477b-b825-025be06140d2"
      },
      "execution_count": 17,
      "outputs": [
        {
          "output_type": "execute_result",
          "data": {
            "text/plain": [
              "<__main__.Custom_LunarLander_obs at 0x7f8e269c7210>"
            ]
          },
          "metadata": {},
          "execution_count": 17
        }
      ]
    },
    {
      "cell_type": "code",
      "source": [
        "check_env(new_env)"
      ],
      "metadata": {
        "id": "kG6IM6zW2IPm"
      },
      "execution_count": 18,
      "outputs": []
    },
    {
      "cell_type": "code",
      "source": [
        "from gym.envs.registration import register\n",
        "# Example for the CartPole environment\n",
        "register(\n",
        "    # unique identifier for the env `name-version`\n",
        "    id=\"LunarLander_obs-v1\",\n",
        "    # path to the class for creating the env\n",
        "    # Note: entry_point also accept a class as input (and not only a string)\n",
        "    entry_point = Custom_LunarLander_obs,\n",
        "    # Max number of steps per episode, using a `TimeLimitWrapper`\n",
        "    max_episode_steps=1500,\n",
        ")"
      ],
      "metadata": {
        "id": "C1cIXPTaJsQG"
      },
      "execution_count": 19,
      "outputs": []
    },
    {
      "cell_type": "markdown",
      "source": [
        "#### define and train model in new env"
      ],
      "metadata": {
        "id": "KdG01o1IzxGG"
      }
    },
    {
      "cell_type": "code",
      "source": [
        "TIMESTEPS = 2000"
      ],
      "metadata": {
        "id": "PT_TwXozq-GU"
      },
      "execution_count": 27,
      "outputs": []
    },
    {
      "cell_type": "markdown",
      "source": [
        "##### model for baseline env"
      ],
      "metadata": {
        "id": "0EfzaHwhoxTb"
      }
    },
    {
      "cell_type": "code",
      "source": [
        "log_dir1 = drive_path+\"baseline/\" #\"models\""
      ],
      "metadata": {
        "id": "ueomxjx1-rz7"
      },
      "execution_count": 7,
      "outputs": []
    },
    {
      "cell_type": "code",
      "execution_count": 28,
      "metadata": {
        "execution": {},
        "id": "5J0MmqyPzq9q",
        "colab": {
          "base_uri": "https://localhost:8080/"
        },
        "outputId": "5d8f5730-3fc1-44e8-d612-90d92fb462ab"
      },
      "outputs": [
        {
          "output_type": "stream",
          "name": "stderr",
          "text": [
            "\u001b[32m[I 2022-07-28 13:33:07,712]\u001b[0m A new study created in memory with name: dqn_study\u001b[0m\n",
            "\u001b[32m[I 2022-07-28 13:33:16,442]\u001b[0m Trial 0 finished with value: -2275.528878 and parameters: {'lr': 0.00064}. Best is trial 0 with value: -2275.528878.\u001b[0m\n",
            "\u001b[32m[I 2022-07-28 13:33:23,201]\u001b[0m Trial 1 finished with value: -2812.8520719999997 and parameters: {'lr': 0.00065}. Best is trial 0 with value: -2275.528878.\u001b[0m\n"
          ]
        }
      ],
      "source": [
        "def objective(trial:optuna.Trial):\n",
        "\n",
        "  model_log_dir = log_dir1+'dqn_{}'.format(trial.number)+'/'\n",
        "  os.makedirs(model_log_dir,exist_ok=True) \n",
        "  # Create environment\n",
        "  env = gym.make('LunarLander-v3')\n",
        "  env.reset()\n",
        "  env = stable_baselines3.common.monitor.Monitor(env, filename= model_log_dir)\n",
        "  callback = EvalCallback(env,log_path = model_log_dir, deterministic=True) #For evaluating the performance of the agent periodically and logging the results.\n",
        "\n",
        "  #Trial will suggest a set of hyperparamters from the specified range\n",
        "  hyperparameters = sample_dqn_params(trial)\n",
        "  model_dqn = DQN(\"MlpPolicy\", env, **hyperparameters) #Set verbose to 1 to observe training logs. We encourage you to set the verbose to 1.\n",
        "\n",
        "  # define learning steps\n",
        "  model1 = model_dqn.learn(total_timesteps=TIMESTEPS, log_interval=10, callback=callback)#100000 \n",
        "  # save model\n",
        "  model1.save(model_log_dir +'dqn_{}.zip'.format(trial.number)) \n",
        "  env.close()\n",
        "\n",
        "  x, y = ts2xy(load_results(model_log_dir), 'timesteps') # timesteps\n",
        "  # clear_output(wait=True)\n",
        "  #For the given hyperparamters, determine reward\n",
        "  reward = sum(y)\n",
        "  return reward\n",
        "\n",
        "#Create a study object and specify the direction as 'maximize'\n",
        "#As you want to maximize reward\n",
        "#Pruner stops not promising iterations\n",
        "#Use a pruner, else you will get error related to divergence of model\n",
        "#You can also use Multivariate samplere\n",
        "#sampler = optuna.samplers.TPESampler(multivarite=True,seed=42)\n",
        "sampler = optuna.samplers.TPESampler(seed=42)\n",
        "study1 = optuna.create_study(study_name=\"dqn_study\",direction='maximize',\n",
        "                            sampler = sampler, pruner=optuna.pruners.HyperbandPruner())\n",
        "\n",
        "logging_callback = LoggingCallback(threshold=10, patience=30, trial_number=5)\n",
        "#You can increase the n_trials for a better search space scanning\n",
        "study1.optimize(objective, n_trials=2, catch=(ValueError,),callbacks=[logging_callback])"
      ]
    },
    {
      "cell_type": "code",
      "source": [
        "# use the trial number which has the best result\n",
        "trial_number = 0\n",
        "model_path1 = log_dir1+'dqn_'+str(trial_number)+'/'\n",
        "model1 = DQN.load( model_path1 + 'dqn_'+str(trial_number)+'.zip')"
      ],
      "metadata": {
        "id": "sNvPyItghjT5"
      },
      "execution_count": 25,
      "outputs": []
    },
    {
      "cell_type": "code",
      "source": [
        "new_env = wrap_env(gym.make(\"LunarLander-v3\"))\n",
        "observation = new_env.reset()\n",
        "total_reward = 0\n",
        "\n",
        "while True:\n",
        "  new_env.render()\n",
        "  action, states = model1.predict(observation, deterministic=True)\n",
        "  observation, reward, done, info = new_env.step(action)\n",
        "  total_reward += reward\n",
        "  if done:\n",
        "    break;\n",
        "\n",
        "# print(total_reward)\n",
        "new_env.close()\n",
        "show_video()"
      ],
      "metadata": {
        "id": "M63a8xiTJHJl"
      },
      "execution_count": null,
      "outputs": []
    },
    {
      "cell_type": "code",
      "source": [
        "x, y = ts2xy(load_results(model_path1), 'timesteps')  # Organising the logged results in to a clean format for plotting. timesteps episodes\n",
        "plt.plot(x,y)\n",
        "plt.ylim([-300, 300])\n",
        "plt.xlabel('Timesteps')\n",
        "plt.ylabel('Episode Rewards')\n",
        "plt.savefig(model_path1+'reward.png',dpi=600)"
      ],
      "metadata": {
        "colab": {
          "base_uri": "https://localhost:8080/",
          "height": 240
        },
        "id": "W_NWJn78Je_2",
        "outputId": "340731d2-d9ad-4a64-e328-607c08e6f1b7"
      },
      "execution_count": 1,
      "outputs": [
        {
          "output_type": "error",
          "ename": "NameError",
          "evalue": "ignored",
          "traceback": [
            "\u001b[0;31m---------------------------------------------------------------------------\u001b[0m",
            "\u001b[0;31mNameError\u001b[0m                                 Traceback (most recent call last)",
            "\u001b[0;32m<ipython-input-1-f7999f757ddb>\u001b[0m in \u001b[0;36m<module>\u001b[0;34m()\u001b[0m\n\u001b[0;32m----> 1\u001b[0;31m \u001b[0mx\u001b[0m\u001b[0;34m,\u001b[0m \u001b[0my\u001b[0m \u001b[0;34m=\u001b[0m \u001b[0mts2xy\u001b[0m\u001b[0;34m(\u001b[0m\u001b[0mload_results\u001b[0m\u001b[0;34m(\u001b[0m\u001b[0mmodel_path1\u001b[0m\u001b[0;34m)\u001b[0m\u001b[0;34m,\u001b[0m \u001b[0;34m'timesteps'\u001b[0m\u001b[0;34m)\u001b[0m  \u001b[0;31m# Organising the logged results in to a clean format for plotting. timesteps episodes\u001b[0m\u001b[0;34m\u001b[0m\u001b[0;34m\u001b[0m\u001b[0m\n\u001b[0m\u001b[1;32m      2\u001b[0m \u001b[0mplt\u001b[0m\u001b[0;34m.\u001b[0m\u001b[0mplot\u001b[0m\u001b[0;34m(\u001b[0m\u001b[0mx\u001b[0m\u001b[0;34m,\u001b[0m\u001b[0my\u001b[0m\u001b[0;34m)\u001b[0m\u001b[0;34m\u001b[0m\u001b[0;34m\u001b[0m\u001b[0m\n\u001b[1;32m      3\u001b[0m \u001b[0mplt\u001b[0m\u001b[0;34m.\u001b[0m\u001b[0mylim\u001b[0m\u001b[0;34m(\u001b[0m\u001b[0;34m[\u001b[0m\u001b[0;34m-\u001b[0m\u001b[0;36m300\u001b[0m\u001b[0;34m,\u001b[0m \u001b[0;36m300\u001b[0m\u001b[0;34m]\u001b[0m\u001b[0;34m)\u001b[0m\u001b[0;34m\u001b[0m\u001b[0;34m\u001b[0m\u001b[0m\n\u001b[1;32m      4\u001b[0m \u001b[0mplt\u001b[0m\u001b[0;34m.\u001b[0m\u001b[0mxlabel\u001b[0m\u001b[0;34m(\u001b[0m\u001b[0;34m'Timesteps'\u001b[0m\u001b[0;34m)\u001b[0m\u001b[0;34m\u001b[0m\u001b[0;34m\u001b[0m\u001b[0m\n\u001b[1;32m      5\u001b[0m \u001b[0mplt\u001b[0m\u001b[0;34m.\u001b[0m\u001b[0mylabel\u001b[0m\u001b[0;34m(\u001b[0m\u001b[0;34m'Episode Rewards'\u001b[0m\u001b[0;34m)\u001b[0m\u001b[0;34m\u001b[0m\u001b[0;34m\u001b[0m\u001b[0m\n",
            "\u001b[0;31mNameError\u001b[0m: name 'ts2xy' is not defined"
          ]
        }
      ]
    },
    {
      "cell_type": "markdown",
      "source": [
        "##### model for noisy environment env"
      ],
      "metadata": {
        "id": "O7w0kpmGDK6Q"
      }
    },
    {
      "cell_type": "code",
      "source": [
        "# using stable baseline zoo parameter as ref\n",
        "def sample_dqn_params_noisy(trial: optuna.Trial):\n",
        "    \"\"\"\n",
        "    Sampler for DQN hyperparams.\n",
        "    :param trial:\n",
        "    :return:\n",
        "    \"\"\"\n",
        "    learning_rate = trial.suggest_discrete_uniform('lr', 6.3e-4, 6.5e-4, 0.1e-4)\n",
        "\n",
        "    # net_arch = trial.suggest_categorical(\"net_arch\", [\"two\", \"three\"]) #, \"two_big\"\n",
        "    # net_arch = {\"two\": [64, 64], \"three\": [64, 64, 64]}[net_arch] #, \"two_big\": [256, 256]\n",
        "\n",
        "    hyperparams = {\n",
        "        \"learning_rate\": learning_rate,#\n",
        "        \"policy_kwargs\": dict(activation_fn=torch.nn.ReLU, net_arch=[64, 64], features_extractor_class = NoisyLunarLander),\n",
        "        \"batch_size\": 128,  #for simplicity, we are not doing batch update.\n",
        "        \"buffer_size\": 50000, #size of experience of replay buffer. Set to 1 as batch update is not done\n",
        "        \"learning_starts\": 0, #learning starts immediately!\n",
        "        \"gamma\": 0.99, #discount facto. range is between 0 and 1.\n",
        "        \"tau\": 1,  #the soft update coefficient for updating the target network\n",
        "        \"target_update_interval\": 250, #update the target network immediately.\n",
        "        \"train_freq\": (4,\"step\"), #train the network at every step.\n",
        "        \"max_grad_norm\": 10, #the maximum value for the gradient clipping\n",
        "        \"exploration_initial_eps\": 1, #initial value of random action probability\n",
        "        \"exploration_fraction\": 0.12, #fraction of entire training period over which the exploration rate is reduced\n",
        "        \"gradient_steps\": -1, #number of gradient steps\n",
        "        \"seed\": 1, #seed for the pseudo random generators\n",
        "        \"verbose\": 0\n",
        "    }\n",
        "    return hyperparams"
      ],
      "metadata": {
        "id": "1yZ6wLURIrdz"
      },
      "execution_count": 25,
      "outputs": []
    },
    {
      "cell_type": "code",
      "execution_count": 26,
      "metadata": {
        "execution": {},
        "colab": {
          "base_uri": "https://localhost:8080/"
        },
        "outputId": "0bf11556-50d5-4c49-cac1-c0441ec259be",
        "id": "ZIBaMrgbDK6Q"
      },
      "outputs": [
        {
          "output_type": "stream",
          "name": "stderr",
          "text": [
            "\u001b[32m[I 2022-07-27 12:36:47,311]\u001b[0m A new study created in memory with name: dqn_study\u001b[0m\n",
            "\u001b[32m[I 2022-07-27 12:36:50,880]\u001b[0m Trial 0 finished with value: -1654.0551870000002 and parameters: {'lr': 0.00064}. Best is trial 0 with value: -1654.0551870000002.\u001b[0m\n",
            "\u001b[32m[I 2022-07-27 12:36:54,576]\u001b[0m Trial 1 finished with value: -1655.2179629999998 and parameters: {'lr': 0.00065}. Best is trial 0 with value: -1654.0551870000002.\u001b[0m\n"
          ]
        }
      ],
      "source": [
        "log_dir2 = drive_path+\"noisy/\" #\"models\"\n",
        "\n",
        "def objective(trial:optuna.Trial):\n",
        "\n",
        "  model_log_dir = log_dir2+'dqn_{}'.format(trial.number)+'/'\n",
        "  os.makedirs(model_log_dir,exist_ok=True) \n",
        "  # Create environment\n",
        "  env = gym.make('LunarLander-v3')\n",
        "  env = stable_baselines3.common.monitor.Monitor(env, filename= model_log_dir)\n",
        "  callback = EvalCallback(env,log_path = model_log_dir, deterministic=True) #For evaluating the performance of the agent periodically and logging the results.\n",
        "\n",
        "  #Trial will suggest a set of hyperparamters from the specified range\n",
        "  hyperparameters = sample_dqn_params_noisy(trial)\n",
        "  model_dqn2 = DQN(\"MlpPolicy\", env, **hyperparameters) #Set verbose to 1 to observe training logs. We encourage you to set the verbose to 1.\n",
        "\n",
        "  # define learning steps\n",
        "  model2 = model_dqn2.learn(total_timesteps=TIMESTEPS, log_interval=10, callback=callback)#100000 \n",
        "  # save model\n",
        "  model2.save(model_log_dir +'dqn_{}.zip'.format(trial.number)) \n",
        "\n",
        "  x, y = ts2xy(load_results(model_log_dir), 'timesteps') # timesteps\n",
        "  # clear_output(wait=True)\n",
        "  #For the given hyperparamters, determine reward\n",
        "  reward = sum(y)\n",
        "  return reward\n",
        "\n",
        "#Create a study object and specify the direction as 'maximize'\n",
        "#As you want to maximize reward\n",
        "#Pruner stops not promising iterations\n",
        "#Use a pruner, else you will get error related to divergence of model\n",
        "#You can also use Multivariate samplere\n",
        "#sampler = optuna.samplers.TPESampler(multivarite=True,seed=42)\n",
        "sampler = optuna.samplers.TPESampler(seed=42)\n",
        "study2 = optuna.create_study(study_name=\"dqn_study\",direction='maximize',\n",
        "                            sampler = sampler, pruner=optuna.pruners.HyperbandPruner())\n",
        "\n",
        "logging_callback = LoggingCallback(threshold=10, patience=30, trial_number=5)\n",
        "#You can increase the n_trials for a better search space scanning\n",
        "study2.optimize(objective, n_trials=2, catch=(ValueError,),callbacks=[logging_callback])"
      ]
    },
    {
      "cell_type": "code",
      "source": [
        "# use the trial number which has the best result\n",
        "trial_number = 0\n",
        "model_path2 = log_dir2+'dqn_'+str(trial_number)+'/'\n",
        "model2 = DQN.load( model_path2 + 'dqn_'+str(trial_number)+'.zip')"
      ],
      "metadata": {
        "id": "lRyd680Dn3ht"
      },
      "execution_count": 27,
      "outputs": []
    },
    {
      "cell_type": "code",
      "source": [
        "new_env = wrap_env(gym.make(\"LunarLander-v3\"))\n",
        "observation = new_env.reset()\n",
        "total_reward = 0\n",
        "\n",
        "while True:\n",
        "  new_env.render()\n",
        "  action, states = model2.predict(observation, deterministic=True)\n",
        "  observation, reward, done, info = new_env.step(action)\n",
        "  total_reward += reward\n",
        "  if done:\n",
        "    break;\n",
        "\n",
        "# print(total_reward)\n",
        "new_env.close()\n",
        "show_video()"
      ],
      "metadata": {
        "colab": {
          "base_uri": "https://localhost:8080/",
          "height": 421
        },
        "id": "7stGqoUbZfZW",
        "outputId": "a1ee676e-a1f6-4963-bbe9-4bf83e41c1d7"
      },
      "execution_count": 28,
      "outputs": [
        {
          "output_type": "display_data",
          "data": {
            "text/plain": [
              "<IPython.core.display.HTML object>"
            ],
            "text/html": [
              "<video alt=\"test\" autoplay\n",
              "                loop controls style=\"height: 400px;\">\n",
              "                <source src=\"data:video/mp4;base64,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\" type=\"video/mp4\" />\n",
              "             </video>"
            ]
          },
          "metadata": {}
        }
      ]
    },
    {
      "cell_type": "code",
      "source": [
        "x, y = ts2xy(load_results(model_path2), 'timesteps')  # Organising the logged results in to a clean format for plotting. timesteps episodes\n",
        "plt.plot(x,y)\n",
        "plt.ylim([-300, 300])\n",
        "plt.xlabel('Timesteps')\n",
        "plt.ylabel('Episode Rewards')\n",
        "plt.savefig(model_path2+'reward.png',dpi=600)"
      ],
      "metadata": {
        "colab": {
          "base_uri": "https://localhost:8080/",
          "height": 283
        },
        "id": "iTnXB-WsZfZX",
        "outputId": "1f7c60f5-fd1d-4246-da81-8e6b17c48b43"
      },
      "execution_count": 29,
      "outputs": [
        {
          "output_type": "display_data",
          "data": {
            "text/plain": [
              "<Figure size 432x288 with 1 Axes>"
            ],
            "image/png": "[encoded data removed]"
          },
          "metadata": {
            "needs_background": "light"
          }
        }
      ]
    },
    {
      "cell_type": "markdown",
      "source": [
        "##### model for obstacle env"
      ],
      "metadata": {
        "id": "rkJifcG-pibo"
      }
    },
    {
      "cell_type": "code",
      "source": [
        "log_dir3 = drive_path+\"obstacle/\" #\"models\"\n",
        "\n",
        "def objective(trial:optuna.Trial):\n",
        "\n",
        "  model_log_dir = log_dir3+'dqn_{}'.format(trial.number)+'/'\n",
        "  os.makedirs(model_log_dir,exist_ok=True) \n",
        "  # Create environment\n",
        "  env = gym.make('LunarLander_obs-v1')\n",
        "  env = stable_baselines3.common.monitor.Monitor(env, filename= model_log_dir)\n",
        "  callback = EvalCallback(env,log_path = model_log_dir, deterministic=True) #For evaluating the performance of the agent periodically and logging the results.\n",
        "\n",
        "  #Trial will suggest a set of hyperparamters from the specified range\n",
        "  hyperparameters = sample_dqn_params(trial)\n",
        "  model_dqn = DQN(\"MlpPolicy\", env, **hyperparameters) #Set verbose to 1 to observe training logs. We encourage you to set the verbose to 1.\n",
        "\n",
        "  # define learning steps\n",
        "  model3 = model_dqn.learn(total_timesteps=TIMESTEPS, log_interval=10, callback=callback)#100000 \n",
        "  # save model\n",
        "  model3.save(model_log_dir +'dqn_{}.zip'.format(trial.number)) \n",
        "\n",
        "  x, y = ts2xy(load_results(model_log_dir), 'timesteps') # timesteps\n",
        "  # clear_output(wait=True)\n",
        "  #For the given hyperparamters, determine reward\n",
        "  reward = sum(y)\n",
        "  return reward\n",
        "\n",
        "#Create a study object and specify the direction as 'maximize'\n",
        "#As you want to maximize reward\n",
        "#Pruner stops not promising iterations\n",
        "#Use a pruner, else you will get error related to divergence of model\n",
        "#You can also use Multivariate samplere\n",
        "#sampler = optuna.samplers.TPESampler(multivarite=True,seed=42)\n",
        "sampler = optuna.samplers.TPESampler(seed=42)\n",
        "study3 = optuna.create_study(study_name=\"dqn_study\",direction='maximize',\n",
        "                            sampler = sampler, pruner=optuna.pruners.HyperbandPruner())\n",
        "\n",
        "logging_callback = LoggingCallback(threshold=10, patience=30, trial_number=5)\n",
        "#You can increase the n_trials for a better search space scanning\n",
        "study3.optimize(objective, n_trials=2, catch=(ValueError,),callbacks=[logging_callback])"
      ],
      "metadata": {
        "colab": {
          "base_uri": "https://localhost:8080/"
        },
        "id": "-qmgq4cYo_vA",
        "outputId": "ae612097-9e8e-417f-ffcf-10acd7194676"
      },
      "execution_count": 30,
      "outputs": [
        {
          "output_type": "stream",
          "name": "stderr",
          "text": [
            "\u001b[32m[I 2022-07-27 12:37:16,355]\u001b[0m A new study created in memory with name: dqn_study\u001b[0m\n",
            "\u001b[32m[I 2022-07-27 12:37:19,605]\u001b[0m Trial 0 finished with value: -1977.328302 and parameters: {'lr': 0.00064}. Best is trial 0 with value: -1977.328302.\u001b[0m\n",
            "\u001b[32m[I 2022-07-27 12:37:22,857]\u001b[0m Trial 1 finished with value: -2138.303989 and parameters: {'lr': 0.00065}. Best is trial 0 with value: -1977.328302.\u001b[0m\n"
          ]
        }
      ]
    },
    {
      "cell_type": "code",
      "source": [
        "# use the trial number which has the best result\n",
        "trial_number = 0\n",
        "model_path3 = log_dir3+'dqn_'+str(trial_number)+'/'\n",
        "model3 = DQN.load( model_path3 + 'dqn_'+str(trial_number)+'.zip')"
      ],
      "metadata": {
        "id": "YmGH8ZgToVux"
      },
      "execution_count": 32,
      "outputs": []
    },
    {
      "cell_type": "code",
      "source": [
        "new_env = wrap_env(gym.make(\"LunarLander_obs-v1\"))\n",
        "observation = new_env.reset()\n",
        "total_reward = 0\n",
        "\n",
        "while True:\n",
        "  new_env.render()\n",
        "  action, states = model3.predict(observation, deterministic=True)\n",
        "  observation, reward, done, info = new_env.step(action)\n",
        "  total_reward += reward\n",
        "  if done:\n",
        "    break;\n",
        "\n",
        "# print(total_reward)\n",
        "new_env.close()\n",
        "show_video()"
      ],
      "metadata": {
        "colab": {
          "base_uri": "https://localhost:8080/",
          "height": 421
        },
        "id": "gVjRQ0tvZq5y",
        "outputId": "e2c400d1-b2c1-4d6d-d00a-f189249b7a4c"
      },
      "execution_count": 33,
      "outputs": [
        {
          "output_type": "display_data",
          "data": {
            "text/plain": [
              "<IPython.core.display.HTML object>"
            ],
            "text/html": [
              "<video alt=\"test\" autoplay\n",
              "                loop controls style=\"height: 400px;\">\n",
              "                <source src=\"data:video/mp4;base64,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\" type=\"video/mp4\" />\n",
              "             </video>"
            ]
          },
          "metadata": {}
        }
      ]
    },
    {
      "cell_type": "code",
      "source": [
        "x, y = ts2xy(load_results(model_path3), 'timesteps')  # Organising the logged results in to a clean format for plotting. timesteps episodes\n",
        "plt.plot(x,y)\n",
        "plt.ylim([-300, 300])\n",
        "plt.xlabel('Timesteps')\n",
        "plt.ylabel('Episode Rewards')\n",
        "plt.savefig(model_path3+'reward.png',dpi=600)"
      ],
      "metadata": {
        "colab": {
          "base_uri": "https://localhost:8080/",
          "height": 283
        },
        "id": "5bhOOzOoZq5y",
        "outputId": "48e20047-5825-461f-9faf-d3ba3ac666d7"
      },
      "execution_count": 34,
      "outputs": [
        {
          "output_type": "display_data",
          "data": {
            "text/plain": [
              "<Figure size 432x288 with 1 Axes>"
            ],
            "image/png": "[encoded data removed]"
          },
          "metadata": {
            "needs_background": "light"
          }
        }
      ]
    },
    {
      "cell_type": "markdown",
      "source": [
        "##"
      ],
      "metadata": {
        "id": "DrtEd5BiFBV5"
      }
    },
    {
      "cell_type": "markdown",
      "metadata": {
        "execution": {},
        "id": "ptpdnpwGobbz"
      },
      "source": [
        "---\n",
        "# References\n",
        "\n",
        "1. Stable Baselines Framework: https://stable-baselines3.readthedocs.io/en/master/guide/examples.html\n",
        "\n",
        "2. Lunar Lander Environment: https://gym.openai.com/envs/LunarLander-v2/\n",
        "\n",
        "3. OpenAI gym environments: https://gym.openai.com/docs/\n",
        "\n",
        "4. A good reference for introduction to RL: http://incompleteideas.net/book/the-book-2nd.html\n"
      ]
    }
  ],
  "metadata": {
    "accelerator": "GPU",
    "colab": {
      "collapsed_sections": [],
      "name": "lunar_lander_group1_atcheke",
      "provenance": [],
      "toc_visible": true,
      "machine_shape": "hm",
      "include_colab_link": true
    },
    "gpuClass": "standard",
    "kernel": {
      "display_name": "Python 3",
      "language": "python",
      "name": "python3"
    },
    "kernelspec": {
      "display_name": "Python 3",
      "name": "python3"
    },
    "language_info": {
      "name": "python"
    }
  },
  "nbformat": 4,
  "nbformat_minor": 0
}