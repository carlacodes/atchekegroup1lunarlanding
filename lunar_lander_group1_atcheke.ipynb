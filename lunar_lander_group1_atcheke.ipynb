{
  "cells": [
    {
      "cell_type": "markdown",
      "metadata": {
        "id": "view-in-github",
        "colab_type": "text"
      },
      "source": [
        "<a href=\"https://colab.research.google.com/github/carlacodes/atchekegroup1lunarlanding/blob/sherry/lunar_lander_group1_atcheke.ipynb\" target=\"_parent\"><img src=\"https://colab.research.google.com/assets/colab-badge.svg\" alt=\"Open In Colab\"/></a>"
      ]
    },
    {
      "cell_type": "markdown",
      "metadata": {
        "execution": {},
        "id": "rKjkh_KgobbF"
      },
      "source": [
        "# Performance Analysis of DQN Algorithm on the Lunar Lander task\n",
        "\n",
        "**By Neuromatch Academy**\n",
        "\n",
        "__Content creators:__ Raghuram Bharadwaj Diddigi, Geraud Nangue Tasse, Yamil Vidal, Sanjukta Krishnagopal, Sara Rajaee\n",
        "\n",
        "__Content editors:__ Spiros Chavlis"
      ]
    },
    {
      "cell_type": "markdown",
      "metadata": {
        "execution": {},
        "id": "iDR5t137obbP"
      },
      "source": [
        "<p align='center'><img src='https://github.com/NeuromatchAcademy/widgets/blob/master/sponsors.png?raw=True'/></p>"
      ]
    },
    {
      "cell_type": "markdown",
      "metadata": {
        "execution": {},
        "id": "brZ9ZJQzobbR"
      },
      "source": [
        "---\n",
        "# Objective\n",
        "\n",
        "In this project, the objective is to analyze the performance of the Deep Q-Learning algorithm on an exciting task- Lunar Lander. Before we describe the task, let us focus on two keywords here - analysis and performance. What exactly do we mean by these keywords in the context of Reinforcement Learning (RL)?"
      ]
    },
    {
      "cell_type": "markdown",
      "metadata": {
        "execution": {},
        "id": "wpX-jA7GobbT"
      },
      "source": [
        "---\n",
        "# Setup"
      ]
    },
    {
      "cell_type": "code",
      "execution_count": 2,
      "metadata": {
        "execution": {},
        "id": "9EanvrrhobbU",
        "colab": {
          "base_uri": "https://localhost:8080/"
        },
        "outputId": "8182b194-cefc-4349-db37-d77cbe578fbb"
      },
      "outputs": [
        {
          "output_type": "stream",
          "name": "stdout",
          "text": [
            "\u001b[K     |████████████████████████████████| 177 kB 5.2 MB/s \n",
            "\u001b[K     |████████████████████████████████| 1.6 MB 63.9 MB/s \n",
            "\u001b[K     |████████████████████████████████| 1.5 MB 51.8 MB/s \n",
            "\u001b[K     |████████████████████████████████| 1.1 MB 66.5 MB/s \n",
            "\u001b[?25h  Installing build dependencies ... \u001b[?25l\u001b[?25hdone\n",
            "  Getting requirements to build wheel ... \u001b[?25l\u001b[?25hdone\n",
            "    Preparing wheel metadata ... \u001b[?25l\u001b[?25hdone\n",
            "  Building wheel for gym (setup.py) ... \u001b[?25l\u001b[?25hdone\n",
            "  Building wheel for AutoROM.accept-rom-license (PEP 517) ... \u001b[?25l\u001b[?25hdone\n",
            "\u001b[K     |████████████████████████████████| 448 kB 5.2 MB/s \n",
            "\u001b[?25h"
          ]
        }
      ],
      "source": [
        "# @title Install dependencies\n",
        "!sudo apt-get update > /dev/null 2>&1\n",
        "!sudo apt-get install -y xvfb python-opengl ffmpeg > /dev/null 2>&1\n",
        "!pip install rarfile --quiet\n",
        "!pip install stable-baselines3[extra] ale-py==0.7.4 --quiet\n",
        "!pip install box2d-py --quiet\n",
        "!pip install gym pyvirtualdisplay --quiet"
      ]
    },
    {
      "cell_type": "code",
      "execution_count": 3,
      "metadata": {
        "execution": {},
        "id": "pE3qZJLcobbW"
      },
      "outputs": [],
      "source": [
        "# Imports\n",
        "import io\n",
        "import os\n",
        "import glob\n",
        "import torch\n",
        "import base64\n",
        "import stable_baselines3\n",
        "\n",
        "import numpy as np\n",
        "import matplotlib.pyplot as plt\n",
        "\n",
        "from stable_baselines3 import DQN\n",
        "from stable_baselines3.common.results_plotter import ts2xy, load_results\n",
        "from stable_baselines3.common.callbacks import EvalCallback\n",
        "from stable_baselines3.common.env_util import make_atari_env\n",
        "\n",
        "import gym\n",
        "from gym import spaces\n",
        "from gym.wrappers import Monitor,RecordVideo"
      ]
    },
    {
      "cell_type": "code",
      "source": [
        "print(gym.__version__)"
      ],
      "metadata": {
        "colab": {
          "base_uri": "https://localhost:8080/"
        },
        "id": "gPoZnSTGFvEp",
        "outputId": "614b5ffe-da7a-407c-837d-807f14cd18a6"
      },
      "execution_count": 4,
      "outputs": [
        {
          "output_type": "stream",
          "name": "stdout",
          "text": [
            "0.21.0\n"
          ]
        }
      ]
    },
    {
      "cell_type": "code",
      "execution_count": 5,
      "metadata": {
        "execution": {},
        "id": "fp1bUnClobbY"
      },
      "outputs": [],
      "source": [
        "# @title Plotting/Video functions\n",
        "from IPython.display import HTML\n",
        "from pyvirtualdisplay import Display\n",
        "from IPython import display as ipythondisplay\n",
        "\n",
        "display = Display(visible=0, size=(1400, 900))\n",
        "display.start()\n",
        "\n",
        "\"\"\"\n",
        "Utility functions to enable video recording of gym environment\n",
        "and displaying it.\n",
        "To enable video, just do \"env = wrap_env(env)\"\"\n",
        "\"\"\"\n",
        "\n",
        "def show_video():\n",
        "  mp4list = glob.glob('video/*.mp4')\n",
        "  if len(mp4list) > 0:\n",
        "    mp4 = mp4list[0]\n",
        "    video = io.open(mp4, 'r+b').read()\n",
        "    encoded = base64.b64encode(video)\n",
        "    ipythondisplay.display(HTML(data='''<video alt=\"test\" autoplay\n",
        "                loop controls style=\"height: 400px;\">\n",
        "                <source src=\"data:video/mp4;base64,{0}\" type=\"video/mp4\" />\n",
        "             </video>'''.format(encoded.decode('ascii'))))\n",
        "  else:\n",
        "    print(\"Could not find video\")\n",
        "\n",
        "\n",
        "def wrap_env(env):\n",
        "  env = Monitor(env, './video', force=True)\n",
        "  # env = RecordVideo(env, './video')\n",
        "  return env"
      ]
    },
    {
      "cell_type": "code",
      "source": [
        "from google.colab import drive\n",
        "drive.mount('/content/gdrive')\n",
        "drive_path = \"/content/gdrive/My Drive/LunarLanding/models/\""
      ],
      "metadata": {
        "colab": {
          "base_uri": "https://localhost:8080/"
        },
        "id": "4otSbkh_QAYF",
        "outputId": "7fef3ca2-9566-42f7-e41c-2073de08c6c7"
      },
      "execution_count": 29,
      "outputs": [
        {
          "output_type": "stream",
          "name": "stdout",
          "text": [
            "Drive already mounted at /content/gdrive; to attempt to forcibly remount, call drive.mount(\"/content/gdrive\", force_remount=True).\n"
          ]
        }
      ]
    },
    {
      "cell_type": "markdown",
      "metadata": {
        "execution": {},
        "id": "psfdqUCmobba"
      },
      "source": [
        "---\n",
        "# Introduction\n",
        "\n",
        "In a standard RL setting, an agent learns optimal behavior from an environment through a feedback mechanism to maximize a given objective. Many algorithms have been proposed in the RL literature that an agent can apply to learn the optimal behavior. One such popular algorithm is the Deep Q-Network (DQN). This algorithm makes use of deep neural networks to compute optimal actions. In this project, your goal is to understand the effect of the number of neural network layers on the algorithm's performance. The performance of the algorithm can be evaluated through two metrics - Speed and Stability. \n",
        "\n",
        "**Speed:** How fast the algorithm reaches the maximum possible reward. \n",
        "\n",
        "**Stability** In some applications (especially when online learning is involved), along with speed, stability of the algorithm, i.e., minimal fluctuations in performance, is equally important. \n",
        "\n",
        "In this project, you should investigate the following question:\n",
        "\n",
        "**What is the impact of number of neural network layers on speed and stability of the algorithm?**\n",
        "\n",
        "You do not have to write the DQN code from scratch. We have provided a basic implementation of the DQN algorithm. You only have to tune the hyperparameters (neural network size, learning rate, etc), observe the performance, and analyze. More details on this are provided below. \n",
        "\n",
        "Now, let us discuss the RL task we have chosen, i.e., Lunar Lander. This task consists of the lander and a landing pad marked by two flags. The episode starts with the lander moving downwards due to gravity. The objective is to land safely using different engines available on the lander with zero speed on the landing pad as quickly and fuel efficient as possible. Reward for moving from the top of the screen and landing on landing pad with zero speed is between 100 to 140 points. Each leg ground contact yields a reward of 10 points. Firing main engine leads to a reward of -0.3 points in each frame. Firing the side engine leads to a reward of -0.03 points in each frame. An additional reward of -100 or +100 points is received if the lander crashes or comes to rest respectively which also leads to end of the episode. \n",
        "\n",
        "The input state of the Lunar Lander consists of following components:\n",
        "\n",
        "  1. Horizontal Position\n",
        "  2. Vertical Position\n",
        "  3. Horizontal Velocity\n",
        "  4. Vertical Velocity\n",
        "  5. Angle\n",
        "  6. Angular Velocity\n",
        "  7. Left Leg Contact\n",
        "  8. Right Leg Contact\n",
        "\n",
        "The actions of the agents are:\n",
        "  1. Do Nothing\n",
        "  2. Fire Main Engine\n",
        "  3. Fire Left Engine\n",
        "  4. Fire Right Engine\n",
        "\n",
        "\n",
        "<img src=\"https://raw.githubusercontent.com/NeuromatchAcademy/course-content-dl/main/projects/static/lunar_lander.png\">"
      ]
    },
    {
      "cell_type": "markdown",
      "source": [
        "## Tuning hyperparameters"
      ],
      "metadata": {
        "id": "XgNuDz2mrq0g"
      }
    },
    {
      "cell_type": "markdown",
      "source": [
        "ref: \n",
        "\n",
        "1.   template https://github.com/AI4Finance-Foundation/FinRL/blob/master/tutorials/4-Optimization/FinRL_HyperparameterTuning_using_Optuna_basic.ipynb\n",
        "\n",
        "2.   tutorial (combined with template): https://medium.com/analytics-vidhya/hyperparameter-tuning-using-optuna-for-finrl-8a49506d2741\n",
        "\n",
        "3.  set parameter function: https://github.com/DLR-RM/rl-baselines3-zoo/blob/master/utils/hyperparams_opt.py\n",
        "\n",
        "4.   callback function: https://github.com/DLR-RM/rl-baselines3-zoo/blob/master/utils/callbacks.py#L10\n",
        "\n",
        "\n",
        "\n"
      ],
      "metadata": {
        "id": "6RQ_bAC6KlAU"
      }
    },
    {
      "cell_type": "code",
      "source": [
        "!pip3 install optuna --quiet"
      ],
      "metadata": {
        "id": "qSg7t4EJx9Pp",
        "colab": {
          "base_uri": "https://localhost:8080/"
        },
        "outputId": "3ccace23-c4e1-48f5-ce58-40fbfcbe9c58"
      },
      "execution_count": 7,
      "outputs": [
        {
          "output_type": "stream",
          "name": "stdout",
          "text": [
            "\u001b[K     |████████████████████████████████| 308 kB 5.1 MB/s \n",
            "\u001b[K     |████████████████████████████████| 209 kB 83.3 MB/s \n",
            "\u001b[K     |████████████████████████████████| 81 kB 10.4 MB/s \n",
            "\u001b[K     |████████████████████████████████| 78 kB 9.0 MB/s \n",
            "\u001b[K     |████████████████████████████████| 147 kB 95.8 MB/s \n",
            "\u001b[K     |████████████████████████████████| 49 kB 6.7 MB/s \n",
            "\u001b[K     |████████████████████████████████| 112 kB 56.5 MB/s \n",
            "\u001b[?25h  Building wheel for pyperclip (setup.py) ... \u001b[?25l\u001b[?25hdone\n"
          ]
        }
      ]
    },
    {
      "cell_type": "code",
      "source": [
        "import optuna\n",
        "\n",
        "from IPython.display import clear_output\n",
        "import sys"
      ],
      "metadata": {
        "id": "CHT0LZ0WyERZ"
      },
      "execution_count": 8,
      "outputs": []
    },
    {
      "cell_type": "markdown",
      "source": [
        "### define search space"
      ],
      "metadata": {
        "id": "i_gZFwkKtj5T"
      }
    },
    {
      "cell_type": "code",
      "source": [
        "# using stable baseline zoo parameter as ref\n",
        "def sample_dqn_params(trial: optuna.Trial):\n",
        "    \"\"\"\n",
        "    Sampler for DQN hyperparams.\n",
        "    :param trial:\n",
        "    :return:\n",
        "    \"\"\"\n",
        "    learning_rate = trial.suggest_discrete_uniform('lr', 6.3e-4, 6.5e-4, 0.1e-4)\n",
        "\n",
        "    # net_arch = trial.suggest_categorical(\"net_arch\", [\"two\", \"three\"]) #, \"two_big\"\n",
        "    # net_arch = {\"two\": [64, 64], \"three\": [64, 64, 64]}[net_arch] #, \"two_big\": [256, 256]\n",
        "\n",
        "    hyperparams = {\n",
        "        \"learning_rate\": learning_rate,#\n",
        "        \"policy_kwargs\": dict(activation_fn=torch.nn.ReLU, net_arch=[64, 64]),\n",
        "        \"batch_size\": 128,  #for simplicity, we are not doing batch update.\n",
        "        \"buffer_size\": 50000, #size of experience of replay buffer. Set to 1 as batch update is not done\n",
        "        \"learning_starts\": 0, #learning starts immediately!\n",
        "        \"gamma\": 0.99, #discount facto. range is between 0 and 1.\n",
        "        \"tau\": 1,  #the soft update coefficient for updating the target network\n",
        "        \"target_update_interval\": 250, #update the target network immediately.\n",
        "        \"train_freq\": (4,\"step\"), #train the network at every step.\n",
        "        \"max_grad_norm\": 10, #the maximum value for the gradient clipping\n",
        "        \"exploration_initial_eps\": 1, #initial value of random action probability\n",
        "        \"exploration_fraction\": 0.12, #fraction of entire training period over which the exploration rate is reduced\n",
        "        \"gradient_steps\": -1, #number of gradient steps\n",
        "        \"seed\": 1, #seed for the pseudo random generators\n",
        "        \"verbose\": 0\n",
        "    }\n",
        "    return hyperparams"
      ],
      "metadata": {
        "id": "mWhSf_qjk8T4"
      },
      "execution_count": 9,
      "outputs": []
    },
    {
      "cell_type": "markdown",
      "source": [
        "### define callback"
      ],
      "metadata": {
        "id": "fFyJprz6tp7_"
      }
    },
    {
      "cell_type": "code",
      "source": [
        "class LoggingCallback:\n",
        "    def __init__(self,threshold,trial_number,patience):\n",
        "      '''\n",
        "      threshold: int tolerance for increase in reward\n",
        "      trial_number: int Prune after minimum number of trials\n",
        "      patience: int patience for the threshold\n",
        "      '''\n",
        "      self.threshold = threshold\n",
        "      self.trial_number  = trial_number\n",
        "      self.patience = patience\n",
        "      self.cb_list = [] #Trials list for which threshold is reached\n",
        "    def __call__(self,study:optuna.study, frozen_trial:optuna.Trial):\n",
        "      #Setting the best value in the current trial\n",
        "      study.set_user_attr(\"previous_best_value\", study.best_value)\n",
        "      \n",
        "      #Checking if the minimum number of trials have pass\n",
        "      if frozen_trial.number >self.trial_number:\n",
        "          previous_best_value = study.user_attrs.get(\"previous_best_value\",None)\n",
        "          #Checking if the previous and current objective values have the same sign\n",
        "          if previous_best_value * study.best_value >=0:\n",
        "              #Checking for the threshold condition\n",
        "              if abs(previous_best_value-study.best_value) < self.threshold: \n",
        "                  self.cb_list.append(frozen_trial.number)\n",
        "                  #If threshold is achieved for the patience amount of time\n",
        "                  if len(self.cb_list)>self.patience:\n",
        "                      print('The study stops now...')\n",
        "                      print('With number',frozen_trial.number ,'and value ',frozen_trial.value)\n",
        "                      print('The previous and current best values are {} and {} respectively'\n",
        "                              .format(previous_best_value, study.best_value))\n",
        "                      study.stop()"
      ],
      "metadata": {
        "id": "Q4FKnTdKttOu"
      },
      "execution_count": 10,
      "outputs": []
    },
    {
      "cell_type": "markdown",
      "source": [
        "### define template objective"
      ],
      "metadata": {
        "id": "B1qV393bpoTO"
      }
    },
    {
      "cell_type": "code",
      "source": [
        "log_dir = drive_path #\"models\"\n",
        "\n",
        "def objective(trial:optuna.Trial):\n",
        "\n",
        "  model_log_dir = log_dir+'dqn_{}'.format(trial.number)+'/'\n",
        "  os.makedirs(model_log_dir,exist_ok=True) \n",
        "  # Create environment\n",
        "  env = gym.make('LunarLander-v2')\n",
        "  env = stable_baselines3.common.monitor.Monitor(env, filename= model_log_dir)\n",
        "\n",
        "  #Trial will suggest a set of hyperparamters from the specified range\n",
        "  hyperparameters = sample_dqn_params(trial)\n",
        "  model_dqn = DQN(\"MlpPolicy\", env, **hyperparameters) #Set verbose to 1 to observe training logs. We encourage you to set the verbose to 1.\n",
        "\n",
        "  # define learning steps\n",
        "  trained_dqn = model_dqn.learn(total_timesteps=1000, log_interval=10)#100000 , callback=callback\n",
        "  # save model\n",
        "  trained_dqn.save(model_log_dir +'dqn_{}.zip'.format(trial.number)) \n",
        "\n",
        "  x, y = ts2xy(load_results(model_log_dir), 'timesteps') # timesteps\n",
        "  # clear_output(wait=True)\n",
        "  #For the given hyperparamters, determine reward\n",
        "  reward = sum(y)\n",
        "  return reward\n",
        "\n",
        "#Create a study object and specify the direction as 'maximize'\n",
        "#As you want to maximize reward\n",
        "#Pruner stops not promising iterations\n",
        "#Use a pruner, else you will get error related to divergence of model\n",
        "#You can also use Multivariate samplere\n",
        "#sampler = optuna.samplers.TPESampler(multivarite=True,seed=42)\n",
        "sampler = optuna.samplers.TPESampler(seed=42)\n",
        "study = optuna.create_study(study_name=\"dqn_study\",direction='maximize',\n",
        "                            sampler = sampler, pruner=optuna.pruners.HyperbandPruner())\n",
        "\n",
        "logging_callback = LoggingCallback(threshold=10, patience=30, trial_number=5)\n",
        "#You can increase the n_trials for a better search space scanning\n",
        "study.optimize(objective, n_trials=2, catch=(ValueError,),callbacks=[logging_callback])"
      ],
      "metadata": {
        "id": "2s-bjWndt_a6",
        "colab": {
          "base_uri": "https://localhost:8080/"
        },
        "outputId": "f42c3614-4a36-4756-e21d-7f08b0ad2d34"
      },
      "execution_count": 30,
      "outputs": [
        {
          "output_type": "stream",
          "name": "stderr",
          "text": [
            "\u001b[32m[I 2022-07-26 21:38:49,875]\u001b[0m A new study created in memory with name: dqn_study\u001b[0m\n",
            "/usr/local/lib/python3.7/dist-packages/optuna/distributions.py:548: UserWarning: The distribution is specified by [0.001, 0.01] and q=0.005, but the range is not divisible by `q`. It will be replaced by [0.001, 0.006].\n",
            "  low=low, old_high=old_high, high=high, step=q\n",
            "\u001b[32m[I 2022-07-26 21:38:54,141]\u001b[0m Trial 0 finished with value: -2644.398608 and parameters: {'lr': 0.001}. Best is trial 0 with value: -2644.398608.\u001b[0m\n",
            "/usr/local/lib/python3.7/dist-packages/optuna/distributions.py:548: UserWarning: The distribution is specified by [0.001, 0.01] and q=0.005, but the range is not divisible by `q`. It will be replaced by [0.001, 0.006].\n",
            "  low=low, old_high=old_high, high=high, step=q\n",
            "\u001b[32m[I 2022-07-26 21:38:58,410]\u001b[0m Trial 1 finished with value: -2592.8647579999997 and parameters: {'lr': 0.006}. Best is trial 1 with value: -2592.8647579999997.\u001b[0m\n"
          ]
        }
      ]
    },
    {
      "cell_type": "markdown",
      "source": [
        "### get the best model"
      ],
      "metadata": {
        "id": "tf91UWqvzR6Y"
      }
    },
    {
      "cell_type": "code",
      "source": [
        "#Get the best hyperparamters\n",
        "print('Hyperparameters after tuning',study.best_params)"
      ],
      "metadata": {
        "colab": {
          "base_uri": "https://localhost:8080/"
        },
        "id": "CcDma0wSy02u",
        "outputId": "f344e12a-5643-4ea6-82d8-406ca2d2c7e0"
      },
      "execution_count": 14,
      "outputs": [
        {
          "output_type": "stream",
          "name": "stdout",
          "text": [
            "Hyperparameters after tuning {'lr': 0.006}\n"
          ]
        }
      ]
    },
    {
      "cell_type": "code",
      "source": [
        "study.best_trial"
      ],
      "metadata": {
        "colab": {
          "base_uri": "https://localhost:8080/"
        },
        "id": "yqou4GOlzWMh",
        "outputId": "04a08056-d494-42a8-d379-18cf740deafc"
      },
      "execution_count": 31,
      "outputs": [
        {
          "output_type": "execute_result",
          "data": {
            "text/plain": [
              "FrozenTrial(number=1, values=[-2592.8647579999997], datetime_start=datetime.datetime(2022, 7, 26, 21, 38, 54, 143016), datetime_complete=datetime.datetime(2022, 7, 26, 21, 38, 58, 410379), params={'lr': 0.006}, distributions={'lr': DiscreteUniformDistribution(high=0.006, low=0.001, q=0.005)}, user_attrs={}, system_attrs={}, intermediate_values={}, trial_id=1, state=TrialState.COMPLETE, value=None)"
            ]
          },
          "metadata": {},
          "execution_count": 31
        }
      ]
    },
    {
      "cell_type": "markdown",
      "source": [
        "## Build three tasks for transfer learning\n"
      ],
      "metadata": {
        "id": "M5vgItPPhsw8"
      }
    },
    {
      "cell_type": "markdown",
      "source": [
        "Ref: https://towardsdatascience.com/beginners-guide-to-custom-environments-in-openai-s-gym-989371673952"
      ],
      "metadata": {
        "id": "yIFSDq7eyXY-"
      }
    },
    {
      "cell_type": "markdown",
      "source": [
        "#### define new env class"
      ],
      "metadata": {
        "id": "c-DTrZhLy0UM"
      }
    },
    {
      "cell_type": "code",
      "source": [
        "from gym.envs.box2d import LunarLander\n",
        "from Box2D.b2 import fixtureDef, circleShape, polygonShape, revoluteJointDef, contactListener, edgeShape\n",
        "import math"
      ],
      "metadata": {
        "id": "dTxYseql3ry3"
      },
      "execution_count": 11,
      "outputs": []
    },
    {
      "cell_type": "markdown",
      "source": [
        "Set parameters"
      ],
      "metadata": {
        "id": "MtUy074Syhdd"
      }
    },
    {
      "cell_type": "code",
      "source": [
        "FPS = 50\n",
        "SCALE = 30.0  # affects how fast-paced the game is, forces should be adjusted as well\n",
        "\n",
        "MAIN_ENGINE_POWER = 13.0\n",
        "SIDE_ENGINE_POWER = 0.6\n",
        "\n",
        "INITIAL_RANDOM = 1000.0  # Set 1500 to make game harder\n",
        "\n",
        "LANDER_POLY = [(-14, +17), (-17, 0), (-17, -10), (+17, -10), (+17, 0), (+14, +17)]\n",
        "LEG_AWAY = 20\n",
        "LEG_DOWN = 18\n",
        "LEG_W, LEG_H = 2, 8\n",
        "LEG_SPRING_TORQUE = 40\n",
        "\n",
        "SIDE_ENGINE_HEIGHT = 14.0\n",
        "SIDE_ENGINE_AWAY = 12.0\n",
        "\n",
        "VIEWPORT_W = 600\n",
        "VIEWPORT_H = 400"
      ],
      "metadata": {
        "id": "E6Ivff2jW7q8"
      },
      "execution_count": 12,
      "outputs": []
    },
    {
      "cell_type": "markdown",
      "source": [
        "##### baselien with new reward"
      ],
      "metadata": {
        "id": "Hk3RJY11A0d1"
      }
    },
    {
      "cell_type": "code",
      "source": [
        "class Custom_LunarLander_reward(LunarLander):\n",
        "    metadata = {\"render.modes\": [\"human\", \"rgb_array\"], \"video.frames_per_second\": FPS}\n",
        "    continuous = False\n",
        "\n",
        "    def __init__(\n",
        "        self\n",
        "    ):\n",
        "        LunarLander.__init__(self)\n",
        "        \n",
        "    def step(self, action):\n",
        "        if self.continuous:\n",
        "            action = np.clip(action, -1, +1).astype(np.float32)\n",
        "        else:\n",
        "            assert self.action_space.contains(action), \"%r (%s) invalid \" % (\n",
        "                action,\n",
        "                type(action),\n",
        "            )\n",
        "\n",
        "        # Engines\n",
        "        tip = (math.sin(self.lander.angle), math.cos(self.lander.angle))\n",
        "        side = (-tip[1], tip[0])\n",
        "        dispersion = [self.np_random.uniform(-1.0, +1.0) / SCALE for _ in range(2)]\n",
        "\n",
        "        m_power = 0.0\n",
        "        if (self.continuous and action[0] > 0.0) or (\n",
        "            not self.continuous and action == 2\n",
        "        ):\n",
        "            # Main engine\n",
        "            if self.continuous:\n",
        "                m_power = (np.clip(action[0], 0.0, 1.0) + 1.0) * 0.5  # 0.5..1.0\n",
        "                assert m_power >= 0.5 and m_power <= 1.0\n",
        "            else:\n",
        "                m_power = 1.0\n",
        "            ox = (\n",
        "                tip[0] * (4 / SCALE + 2 * dispersion[0]) + side[0] * dispersion[1]\n",
        "            )  # 4 is move a bit downwards, +-2 for randomness\n",
        "            oy = -tip[1] * (4 / SCALE + 2 * dispersion[0]) - side[1] * dispersion[1]\n",
        "            impulse_pos = (self.lander.position[0] + ox, self.lander.position[1] + oy)\n",
        "            p = self._create_particle(\n",
        "                3.5,  # 3.5 is here to make particle speed adequate\n",
        "                impulse_pos[0],\n",
        "                impulse_pos[1],\n",
        "                m_power,\n",
        "            )  # particles are just a decoration\n",
        "            p.ApplyLinearImpulse(\n",
        "                (ox * MAIN_ENGINE_POWER * m_power, oy * MAIN_ENGINE_POWER * m_power),\n",
        "                impulse_pos,\n",
        "                True,\n",
        "            )\n",
        "            self.lander.ApplyLinearImpulse(\n",
        "                (-ox * MAIN_ENGINE_POWER * m_power, -oy * MAIN_ENGINE_POWER * m_power),\n",
        "                impulse_pos,\n",
        "                True,\n",
        "            )\n",
        "\n",
        "        s_power = 0.0\n",
        "        if (self.continuous and np.abs(action[1]) > 0.5) or (\n",
        "            not self.continuous and action in [1, 3]\n",
        "        ):\n",
        "            # Orientation engines\n",
        "            if self.continuous:\n",
        "                direction = np.sign(action[1])\n",
        "                s_power = np.clip(np.abs(action[1]), 0.5, 1.0)\n",
        "                assert s_power >= 0.5 and s_power <= 1.0\n",
        "            else:\n",
        "                direction = action - 2\n",
        "                s_power = 1.0\n",
        "            ox = tip[0] * dispersion[0] + side[0] * (\n",
        "                3 * dispersion[1] + direction * SIDE_ENGINE_AWAY / SCALE\n",
        "            )\n",
        "            oy = -tip[1] * dispersion[0] - side[1] * (\n",
        "                3 * dispersion[1] + direction * SIDE_ENGINE_AWAY / SCALE\n",
        "            )\n",
        "            impulse_pos = (\n",
        "                self.lander.position[0] + ox - tip[0] * 17 / SCALE,\n",
        "                self.lander.position[1] + oy + tip[1] * SIDE_ENGINE_HEIGHT / SCALE,\n",
        "            )\n",
        "            p = self._create_particle(0.7, impulse_pos[0], impulse_pos[1], s_power)\n",
        "            p.ApplyLinearImpulse(\n",
        "                (ox * SIDE_ENGINE_POWER * s_power, oy * SIDE_ENGINE_POWER * s_power),\n",
        "                impulse_pos,\n",
        "                True,\n",
        "            )\n",
        "            self.lander.ApplyLinearImpulse(\n",
        "                (-ox * SIDE_ENGINE_POWER * s_power, -oy * SIDE_ENGINE_POWER * s_power),\n",
        "                impulse_pos,\n",
        "                True,\n",
        "            )\n",
        "\n",
        "        self.world.Step(1.0 / FPS, 6 * 30, 2 * 30)\n",
        "\n",
        "        pos = self.lander.position\n",
        "        vel = self.lander.linearVelocity\n",
        "        state = [\n",
        "            (pos.x - VIEWPORT_W / SCALE / 2) / (VIEWPORT_W / SCALE / 2), # 0: x position\n",
        "            (pos.y - (self.helipad_y + LEG_DOWN / SCALE)) / (VIEWPORT_H / SCALE / 2), # 1: y position\n",
        "            vel.x * (VIEWPORT_W / SCALE / 2) / FPS, # 2\n",
        "            vel.y * (VIEWPORT_H / SCALE / 2) / FPS, # 3\n",
        "            self.lander.angle, # 4\n",
        "            20.0 * self.lander.angularVelocity / FPS, # 5\n",
        "            1.0 if self.legs[0].ground_contact else 0.0, # 6\n",
        "            1.0 if self.legs[1].ground_contact else 0.0, # 7\n",
        "        ]\n",
        "        assert len(state) == 8\n",
        "\n",
        "        # ----------------------------------------------------------------\n",
        "        # reward\n",
        "        reward = 0\n",
        "        shaping = (\n",
        "            # If the lander moves away from the landing pad, it loses reward\n",
        "            -100 * np.sqrt(state[0] * state[0] + state[1] * state[1]) # Euclidean distance\n",
        "            - 100 * np.sqrt(state[2] * state[2] + state[3] * state[3])\n",
        "\n",
        "            - 100 * abs(state[4])\n",
        "            # Each leg with ground contact is +10 points.\n",
        "            + 10 * state[6]\n",
        "            + 10 * state[7]\n",
        "        )  # And ten points for legs contact, the idea is if you\n",
        "        # lose contact again after landing, you get negative reward\n",
        "        if self.prev_shaping is not None:\n",
        "            reward = shaping - self.prev_shaping\n",
        "        self.prev_shaping = shaping\n",
        "\n",
        "        # Firing the main engine is -0.3 points each frame. \n",
        "        reward -= (\n",
        "            m_power * 0.30\n",
        "        )  # less fuel spent is better, about -30 for heuristic landing\n",
        "        # Firing the side engine is -0.03 points each frame.\n",
        "        reward -= s_power * 0.03\n",
        "\n",
        "        done = False\n",
        "        if self.game_over or abs(state[0]) >= 1.0: # crashed?\n",
        "            done = True\n",
        "            reward = -100\n",
        "        if not self.lander.awake and (np.sqrt(state[0] * state[0] + state[1] * state[1]) == 0) and (np.sqrt(state[2] * state[2] + state[3] * state[3])==0): # rest\n",
        "            done = True\n",
        "            reward = +200\n",
        "        return np.array(state, dtype=np.float32), reward, done, {}\n",
        "        # ----------------------------------------------------------------\n",
        "\n",
        "\n",
        "\n",
        "    \n",
        "  # def reset(self):\n",
        "  #     pass  # reward, done, info can't be included\n",
        "\n",
        "  # def render(self, mode='human'):\n",
        "  #     pass\n",
        "\n",
        "  # def close(self):\n",
        "  #     pass"
      ],
      "metadata": {
        "id": "0DW6wn84SBWf"
      },
      "execution_count": 13,
      "outputs": []
    },
    {
      "cell_type": "markdown",
      "source": [
        "##### with wind and new reward "
      ],
      "metadata": {
        "id": "095bT9dTPnAK"
      }
    },
    {
      "cell_type": "code",
      "source": [
        "class Custom_LunarLander_wind(LunarLander):\n",
        "    metadata = {\"render.modes\": [\"human\", \"rgb_array\"], \"video.frames_per_second\": FPS}\n",
        "    continuous = False\n",
        "\n",
        "    def __init__(\n",
        "        self,\n",
        "        enable_wind: bool = False,\n",
        "        wind_power: float = 15.0,\n",
        "    ):\n",
        "        LunarLander.__init__(self)\n",
        "\n",
        "        self.enable_wind = enable_wind\n",
        "        self.wind_power = wind_power\n",
        "        self.wind_idx = np.random.randint(-9999, 9999)\n",
        "\n",
        "\n",
        "        \n",
        "\n",
        "    def step(self, action):\n",
        "        if self.continuous:\n",
        "            action = np.clip(action, -1, +1).astype(np.float32)\n",
        "        else:\n",
        "            assert self.action_space.contains(action), \"%r (%s) invalid \" % (\n",
        "                action,\n",
        "                type(action),\n",
        "            )\n",
        "\n",
        "        # Engines\n",
        "        tip = (math.sin(self.lander.angle), math.cos(self.lander.angle))\n",
        "        side = (-tip[1], tip[0])\n",
        "        dispersion = [self.np_random.uniform(-1.0, +1.0) / SCALE for _ in range(2)]\n",
        "\n",
        "        m_power = 0.0\n",
        "\n",
        "\n",
        "        if self.enable_wind and not (\n",
        "            self.legs[0].ground_contact or self.legs[1].ground_contact\n",
        "        ):\n",
        "            # the function used for wind is tanh(sin(2 k x) + sin(pi k x)),\n",
        "            # which is proven to never be periodic, k = 0.01\n",
        "            wind_mag = (\n",
        "                math.tanh(\n",
        "                    math.sin(0.02 * self.wind_idx)\n",
        "                    + (math.sin(math.pi * 0.01 * self.wind_idx))\n",
        "                )\n",
        "                * self.wind_power\n",
        "            )\n",
        "            self.wind_idx += 1\n",
        "            print('calculated wind power:')\n",
        "            print(wind_mag)\n",
        "            self.lander.ApplyForceToCenter(\n",
        "                (wind_mag, 0.0),\n",
        "                True,\n",
        "            )\n",
        "\n",
        "        if (self.continuous and action[0] > 0.0) or (\n",
        "            not self.continuous and action == 2\n",
        "        ):\n",
        "            # Main engine\n",
        "            if self.continuous:\n",
        "                m_power = (np.clip(action[0], 0.0, 1.0) + 1.0) * 0.5  # 0.5..1.0\n",
        "                assert m_power >= 0.5 and m_power <= 1.0\n",
        "            else:\n",
        "                m_power = 1.0\n",
        "            ox = (\n",
        "                tip[0] * (4 / SCALE + 2 * dispersion[0]) + side[0] * dispersion[1]\n",
        "            )  # 4 is move a bit downwards, +-2 for randomness\n",
        "            oy = -tip[1] * (4 / SCALE + 2 * dispersion[0]) - side[1] * dispersion[1]\n",
        "            impulse_pos = (self.lander.position[0] + ox, self.lander.position[1] + oy)\n",
        "            p = self._create_particle(\n",
        "                3.5,  # 3.5 is here to make particle speed adequate\n",
        "                impulse_pos[0],\n",
        "                impulse_pos[1],\n",
        "                m_power,\n",
        "            )  # particles are just a decoration\n",
        "            p.ApplyLinearImpulse(\n",
        "                (ox * MAIN_ENGINE_POWER * m_power, oy * MAIN_ENGINE_POWER * m_power),\n",
        "                impulse_pos,\n",
        "                True,\n",
        "            )\n",
        "            self.lander.ApplyLinearImpulse(\n",
        "                (-ox * MAIN_ENGINE_POWER * m_power, -oy * MAIN_ENGINE_POWER * m_power),\n",
        "                impulse_pos,\n",
        "                True,\n",
        "            )\n",
        "\n",
        "        s_power = 0.0\n",
        "        if (self.continuous and np.abs(action[1]) > 0.5) or (\n",
        "            not self.continuous and action in [1, 3]\n",
        "        ):\n",
        "            # Orientation engines\n",
        "            if self.continuous:\n",
        "                direction = np.sign(action[1])\n",
        "                s_power = np.clip(np.abs(action[1]), 0.5, 1.0)\n",
        "                assert s_power >= 0.5 and s_power <= 1.0\n",
        "            else:\n",
        "                direction = action - 2\n",
        "                s_power = 1.0\n",
        "            ox = tip[0] * dispersion[0] + side[0] * (\n",
        "                3 * dispersion[1] + direction * SIDE_ENGINE_AWAY / SCALE\n",
        "            )\n",
        "            oy = -tip[1] * dispersion[0] - side[1] * (\n",
        "                3 * dispersion[1] + direction * SIDE_ENGINE_AWAY / SCALE\n",
        "            )\n",
        "            impulse_pos = (\n",
        "                self.lander.position[0] + ox - tip[0] * 17 / SCALE,\n",
        "                self.lander.position[1] + oy + tip[1] * SIDE_ENGINE_HEIGHT / SCALE,\n",
        "            )\n",
        "            p = self._create_particle(0.7, impulse_pos[0], impulse_pos[1], s_power)\n",
        "            p.ApplyLinearImpulse(\n",
        "                (ox * SIDE_ENGINE_POWER * s_power, oy * SIDE_ENGINE_POWER * s_power),\n",
        "                impulse_pos,\n",
        "                True,\n",
        "            )\n",
        "            self.lander.ApplyLinearImpulse(\n",
        "                (-ox * SIDE_ENGINE_POWER * s_power, -oy * SIDE_ENGINE_POWER * s_power),\n",
        "                impulse_pos,\n",
        "                True,\n",
        "            )\n",
        "\n",
        "        self.world.Step(1.0 / FPS, 6 * 30, 2 * 30)\n",
        "\n",
        "        pos = self.lander.position\n",
        "        vel = self.lander.linearVelocity\n",
        "        state = [\n",
        "            (pos.x - VIEWPORT_W / SCALE / 2) / (VIEWPORT_W / SCALE / 2), # 0: x position\n",
        "            (pos.y - (self.helipad_y + LEG_DOWN / SCALE)) / (VIEWPORT_H / SCALE / 2), # 1: y position\n",
        "            vel.x * (VIEWPORT_W / SCALE / 2) / FPS, # 2\n",
        "            vel.y * (VIEWPORT_H / SCALE / 2) / FPS, # 3\n",
        "            self.lander.angle, # 4\n",
        "            20.0 * self.lander.angularVelocity / FPS, # 5\n",
        "            1.0 if self.legs[0].ground_contact else 0.0, # 6\n",
        "            1.0 if self.legs[1].ground_contact else 0.0, # 7\n",
        "        ]\n",
        "        assert len(state) == 8\n",
        "\n",
        "        # ----------------------------------------------------------------\n",
        "        # reward\n",
        "        reward = 0\n",
        "        shaping = (\n",
        "            # If the lander moves away from the landing pad, it loses reward\n",
        "            -100 * np.sqrt(state[0] * state[0] + state[1] * state[1]) # Euclidean distance\n",
        "            - 100 * np.sqrt(state[2] * state[2] + state[3] * state[3])\n",
        "\n",
        "            - 100 * abs(state[4])\n",
        "            # Each leg with ground contact is +10 points.\n",
        "            + 10 * state[6]\n",
        "            + 10 * state[7]\n",
        "        )  # And ten points for legs contact, the idea is if you\n",
        "        # lose contact again after landing, you get negative reward\n",
        "        if self.prev_shaping is not None:\n",
        "            reward = shaping - self.prev_shaping\n",
        "        self.prev_shaping = shaping\n",
        "\n",
        "        # Firing the main engine is -0.3 points each frame. \n",
        "        reward -= (\n",
        "            m_power * 0.30\n",
        "        )  # less fuel spent is better, about -30 for heuristic landing\n",
        "        # Firing the side engine is -0.03 points each frame.\n",
        "        reward -= s_power * 0.03\n",
        "\n",
        "        done = False\n",
        "        if self.game_over or abs(state[0]) >= 1.0: # crashed?\n",
        "            done = True\n",
        "            reward = -100\n",
        "        if not self.lander.awake and (np.sqrt(state[0] * state[0] + state[1] * state[1]) == 0) and (np.sqrt(state[2] * state[2] + state[3] * state[3])==0): # rest\n",
        "            done = True\n",
        "            reward = +200\n",
        "        return np.array(state, dtype=np.float32), reward, done, {}\n",
        "        # ----------------------------------------------------------------\n",
        "\n",
        "\n",
        "\n",
        "    \n",
        "  # def reset(self):\n",
        "  #     pass  # reward, done, info can't be included\n",
        "\n",
        "  # def render(self, mode='human'):\n",
        "  #     pass\n",
        "\n",
        "  # def close(self):\n",
        "  #     pass"
      ],
      "metadata": {
        "id": "lUhMa-AOPrFG"
      },
      "execution_count": 14,
      "outputs": []
    },
    {
      "cell_type": "markdown",
      "source": [
        "##### noisy observations"
      ],
      "metadata": {
        "id": "UboymNjfCt9q"
      }
    },
    {
      "cell_type": "code",
      "source": [
        "from itertools import zip_longest\n",
        "from typing import Dict, List, Tuple, Type, Union\n",
        "\n",
        "import torch as th\n",
        "from torch import nn\n",
        "\n",
        "from stable_baselines3.common.preprocessing import get_flattened_obs_dim, is_image_space\n",
        "from stable_baselines3.common.type_aliases import TensorDict\n",
        "from stable_baselines3.common.utils import get_device\n",
        "\n",
        "\n",
        "class BaseFeaturesExtractor(nn.Module):\n",
        "    \"\"\"\n",
        "    Base class that represents a features extractor.\n",
        "    :param observation_space:\n",
        "    :param features_dim: Number of features extracted.\n",
        "    \"\"\"\n",
        "\n",
        "    def __init__(self, observation_space: gym.Space, features_dim: int = 0):\n",
        "        super().__init__()\n",
        "        assert features_dim > 0\n",
        "        self._observation_space = observation_space\n",
        "        self._features_dim = features_dim\n",
        "\n",
        "    @property\n",
        "    def features_dim(self) -> int:\n",
        "        return self._features_dim\n",
        "\n",
        "    def forward(self, observations: th.Tensor) -> th.Tensor:\n",
        "        raise NotImplementedError()\n",
        "\n",
        "\n",
        "class NoisyLunarLander(BaseFeaturesExtractor):\n",
        "    \"\"\"\n",
        "    Feature extract that adds noise to the input.\n",
        "    :param observation_space:\n",
        "    \"\"\"\n",
        "\n",
        "    def __init__(self, observation_space: gym.Space):\n",
        "        super().__init__(observation_space, get_flattened_obs_dim(observation_space))\n",
        "        self.flatten = nn.Flatten()\n",
        "\n",
        "    def forward(self, observations: th.Tensor) -> th.Tensor:\n",
        "        # add noise to observations (excluding leg contact)\n",
        "        #print('Adding input noise:')      \n",
        "        input_noise = torch.zeros(size=observations.shape, device='cuda')\n",
        "        input_noise[:,:6]= torch.normal(mean=0.0, std=0.005, size=(1,6), device='cuda')\n",
        "        #print(input_noise)\n",
        "        #print(input_noise.shape)\n",
        "        #print('Observations:')\n",
        "        #print(self.flatten(observations))\n",
        "        return_array = self.flatten(observations)  + input_noise\n",
        "        #print(\"Check noise added:\")\n",
        "        #print(return_array-self.flatten(observations))\n",
        "\n",
        "        return return_array\n"
      ],
      "metadata": {
        "id": "KRFgQSPYC3Xy"
      },
      "execution_count": 47,
      "outputs": []
    },
    {
      "cell_type": "markdown",
      "source": [
        "##### with obstacle and new reward"
      ],
      "metadata": {
        "id": "hU5fazVEArJ4"
      }
    },
    {
      "cell_type": "code",
      "source": [
        "class ContactDetector(contactListener):\n",
        "    def __init__(self, env):\n",
        "        contactListener.__init__(self)\n",
        "        self.env = env\n",
        "\n",
        "    def BeginContact(self, contact):\n",
        "        if (\n",
        "                self.env.lander == contact.fixtureA.body\n",
        "                or self.env.lander == contact.fixtureB.body\n",
        "        ):\n",
        "            self.env.game_over = True\n",
        "        for i in range(2):\n",
        "            if self.env.legs[i] in [contact.fixtureA.body, contact.fixtureB.body]:\n",
        "                self.env.legs[i].ground_contact = True\n",
        "\n",
        "    def EndContact(self, contact):\n",
        "        for i in range(2):\n",
        "            if self.env.legs[i] in [contact.fixtureA.body, contact.fixtureB.body]:\n",
        "                self.env.legs[i].ground_contact = False\n",
        "\n",
        "class Custom_LunarLander_obs(LunarLander):\n",
        "    metadata = {\"render.modes\": [\"human\", \"rgb_array\"], \"video.frames_per_second\": FPS}\n",
        "    continuous = False\n",
        "\n",
        "    def __init__(\n",
        "        self,\n",
        "        enable_wind: bool = False,\n",
        "        wind_power: float = 15.0,\n",
        "        obs_coords = [10, 10],\n",
        "        enable_obstacle: bool = True\n",
        "    ):\n",
        "        LunarLander.__init__(self)\n",
        "\n",
        "        self.enable_wind = enable_wind\n",
        "\n",
        "        self.obs_coords = obs_coords\n",
        "        self.enable_obstacle = enable_obstacle\n",
        "        self.wind_power = wind_power\n",
        "\n",
        "        self.wind_idx = np.random.randint(-9999, 9999)\n",
        "\n",
        "        # defining the polygon obstacle here:\n",
        "        vertices_poly = [(5, 5), (5, 2), (2, 2), (2, 5)]  # may need to change later\n",
        "        # self.obstacle = self.world.CreateStaticBody(\n",
        "        #\n",
        "        #     # shapes=polygonShape(centroid=(self.obs_coords[0] + VIEWPORT_W / 2 / SCALE,\n",
        "        #     #                         self.obs_coords[1] + (self.helipad_y + LEG_DOWN / SCALE)),\n",
        "        #     #                    vertices= [(x / SCALE, y / SCALE) for x, y in vertices_poly]),\n",
        "        #     shapes=circleShape(pos=(self.obs_coords[0] + VIEWPORT_W / 2 / SCALE,\n",
        "        #                             self.obs_coords[1] + (self.helipad_y + LEG_DOWN / SCALE)),\n",
        "        #                        radius=2),\n",
        "        #                         categoryBits=0x1000,\n",
        "        #\n",
        "        # )\n",
        "        self.obstacle = self.world.CreateStaticBody(\n",
        "            position=(self.obs_coords[0], self.obs_coords[1]),\n",
        "            # (self.obs_coords[0] + VIEWPORT_W / 2 / SCALE,\n",
        "            # self.obs_coords[1] + (self.helipad_y + LEG_DOWN / SCALE))\n",
        "            angle=0.0,\n",
        "            fixtures=fixtureDef(\n",
        "                #circleShape(radius=2 / SCALE, pos=(0, 0)),\n",
        "                shape=circleShape(radius=20 / SCALE, \n",
        "                                  pos=(self.obs_coords[0],\n",
        "                                       self.obs_coords[1])),\n",
        "                # density=5.0,\n",
        "                # friction=0.1,\n",
        "                # categoryBits=0x0010,\n",
        "                # # maskBits=0x001,  # collide only with ground\n",
        "                # restitution=0.0,\n",
        "            ),  # 0.99 bouncy\n",
        "        )\n",
        "\n",
        "        self.obstacle.color1 = (0.5, 0.4, 0.9)\n",
        "        self.obstacle.color2 = (1, 1, 1)\n",
        "        # self.obstacle.alpha = 0.8  \n",
        "\n",
        "        self.observation_space = spaces.Box(\n",
        "            -np.inf, np.inf, shape=(8,), dtype=np.float32\n",
        "        )   \n",
        "\n",
        "    def reset(self):\n",
        "        self._destroy()\n",
        "        self.world.contactListener_keepref = ContactDetector(self)\n",
        "        self.world.contactListener = self.world.contactListener_keepref\n",
        "        self.game_over = False\n",
        "        self.prev_shaping = None\n",
        "\n",
        "        W = VIEWPORT_W / SCALE\n",
        "        H = VIEWPORT_H / SCALE\n",
        "\n",
        "        # terrain\n",
        "        CHUNKS = 11\n",
        "        height = self.np_random.uniform(0, H / 2, size=(CHUNKS + 1,))\n",
        "        chunk_x = [W / (CHUNKS - 1) * i for i in range(CHUNKS)]\n",
        "        self.helipad_x1 = chunk_x[CHUNKS // 2 - 1]\n",
        "        self.helipad_x2 = chunk_x[CHUNKS // 2 + 1]\n",
        "        self.helipad_y = H / 4\n",
        "        height[CHUNKS // 2 - 2] = self.helipad_y\n",
        "        height[CHUNKS // 2 - 1] = self.helipad_y\n",
        "        height[CHUNKS // 2 + 0] = self.helipad_y\n",
        "        height[CHUNKS // 2 + 1] = self.helipad_y\n",
        "        height[CHUNKS // 2 + 2] = self.helipad_y\n",
        "        smooth_y = [\n",
        "            0.33 * (height[i - 1] + height[i + 0] + height[i + 1])\n",
        "            for i in range(CHUNKS)\n",
        "        ]\n",
        "\n",
        "        self.moon = self.world.CreateStaticBody(\n",
        "            shapes=edgeShape(vertices=[(0, 0), (W, 0)])\n",
        "        )\n",
        "\n",
        "        # defining the polygon obstacle here----------------------------------\n",
        "        vertices_poly = [(5, 5), (5, 2), (2, 2), (2, 5)]  # may need to change later\n",
        "        # self.obstacle = self.world.CreateStaticBody(\n",
        "        #\n",
        "        #     # shapes=polygonShape(centroid=(self.obs_coords[0] + VIEWPORT_W / 2 / SCALE,\n",
        "        #     #                         self.obs_coords[1] + (self.helipad_y + LEG_DOWN / SCALE)),\n",
        "        #     #                    vertices= [(x / SCALE, y / SCALE) for x, y in vertices_poly]),\n",
        "        #     shapes=circleShape(pos=(self.obs_coords[0] + VIEWPORT_W / 2 / SCALE,\n",
        "        #                             self.obs_coords[1] + (self.helipad_y + LEG_DOWN / SCALE)),\n",
        "        #                        radius=2),\n",
        "        #                         categoryBits=0x1000,\n",
        "        #\n",
        "        # )\n",
        "        self.obstacle = self.world.CreateStaticBody(\n",
        "            position=(self.obs_coords[0], self.obs_coords[1]),\n",
        "            # (self.obs_coords[0] + VIEWPORT_W / 2 / SCALE,\n",
        "            # self.obs_coords[1] + (self.helipad_y + LEG_DOWN / SCALE))\n",
        "            angle=0.0,\n",
        "            fixtures=fixtureDef(\n",
        "                #circleShape(radius=2 / SCALE, pos=(0, 0)),\n",
        "                shape=circleShape(radius=20 / SCALE, \n",
        "                                  pos=(self.obs_coords[0],\n",
        "                                       self.obs_coords[1])),\n",
        "                # density=5.0,\n",
        "                # friction=0.1,\n",
        "                # categoryBits=0x0010,\n",
        "                # # maskBits=0x001,  # collide only with ground\n",
        "                # restitution=0.0,\n",
        "            ),  # 0.99 bouncy\n",
        "        )\n",
        "\n",
        "        self.obstacle.color1 = (0.5, 0.4, 0.9)\n",
        "        self.obstacle.color2 = (1, 1, 1)\n",
        "        # self.obstacle.alpha = 0.8\n",
        "        # ----------------------------------------------------------------\n",
        "\n",
        "        self.sky_polys = []\n",
        "        for i in range(CHUNKS - 1):\n",
        "            p1 = (chunk_x[i], smooth_y[i])\n",
        "            p2 = (chunk_x[i + 1], smooth_y[i + 1])\n",
        "            self.moon.CreateEdgeFixture(vertices=[p1, p2], density=0, friction=0.1)\n",
        "            self.sky_polys.append([p1, p2, (p2[0], H), (p1[0], H)])\n",
        "\n",
        "        self.moon.color1 = (0.0, 0.0, 0.0)\n",
        "        self.moon.color2 = (0.0, 0.0, 0.0)\n",
        "\n",
        "        initial_y = VIEWPORT_H / SCALE\n",
        "        self.lander = self.world.CreateDynamicBody(\n",
        "            position=(VIEWPORT_W / SCALE / 2, initial_y),\n",
        "            angle=0.0,\n",
        "            fixtures=fixtureDef(\n",
        "                shape=polygonShape(\n",
        "                    vertices=[(x / SCALE, y / SCALE) for x, y in LANDER_POLY]\n",
        "                ),\n",
        "                density=5.0,\n",
        "                friction=0.1,\n",
        "                categoryBits=0x0010,\n",
        "                maskBits=0x001,  # collide only with ground\n",
        "                restitution=0.0,\n",
        "            ),  # 0.99 bouncy\n",
        "        )\n",
        "        self.lander.color1 = (0.5, 0.4, 0.9)\n",
        "        self.lander.color2 = (0.3, 0.3, 0.5)\n",
        "        self.lander.ApplyForceToCenter(\n",
        "            (\n",
        "                self.np_random.uniform(-INITIAL_RANDOM, INITIAL_RANDOM),\n",
        "                self.np_random.uniform(-INITIAL_RANDOM, INITIAL_RANDOM),\n",
        "            ),\n",
        "            True,\n",
        "        )\n",
        "\n",
        "        self.legs = []\n",
        "        for i in [-1, +1]:\n",
        "            leg = self.world.CreateDynamicBody(\n",
        "                position=(VIEWPORT_W / SCALE / 2 - i * LEG_AWAY / SCALE, initial_y),\n",
        "                angle=(i * 0.05),\n",
        "                fixtures=fixtureDef(\n",
        "                    shape=polygonShape(box=(LEG_W / SCALE, LEG_H / SCALE)),\n",
        "                    density=1.0,\n",
        "                    restitution=0.0,\n",
        "                    categoryBits=0x0020,\n",
        "                    maskBits=0x001,\n",
        "                ),\n",
        "            )\n",
        "            leg.ground_contact = False\n",
        "            leg.color1 = (0.5, 0.4, 0.9)\n",
        "            leg.color2 = (0.3, 0.3, 0.5)\n",
        "            rjd = revoluteJointDef(\n",
        "                bodyA=self.lander,\n",
        "                bodyB=leg,\n",
        "                localAnchorA=(0, 0),\n",
        "                localAnchorB=(i * LEG_AWAY / SCALE, LEG_DOWN / SCALE),\n",
        "                enableMotor=True,\n",
        "                enableLimit=True,\n",
        "                maxMotorTorque=LEG_SPRING_TORQUE,\n",
        "                motorSpeed=+0.3 * i,  # low enough not to jump back into the sky\n",
        "            )\n",
        "            if i == -1:\n",
        "                rjd.lowerAngle = (\n",
        "                        +0.9 - 0.5\n",
        "                )  # The most esoteric numbers here, angled legs have freedom to travel within\n",
        "                rjd.upperAngle = +0.9\n",
        "            else:\n",
        "                rjd.lowerAngle = -0.9\n",
        "                rjd.upperAngle = -0.9 + 0.5\n",
        "            leg.joint = self.world.CreateJoint(rjd)\n",
        "            self.legs.append(leg)\n",
        "\n",
        "        self.drawlist = [self.lander] + self.legs\n",
        "        \n",
        "\n",
        "        return self.step(np.array([0, 0]) if self.continuous else 0)[0]\n",
        "\n",
        "    def step(self, action):\n",
        "        if self.continuous:\n",
        "            action = np.clip(action, -1, +1).astype(np.float32)\n",
        "        else:\n",
        "            assert self.action_space.contains(action), \"%r (%s) invalid \" % (\n",
        "                action,\n",
        "                type(action),\n",
        "            )\n",
        "\n",
        "        # Engines\n",
        "        tip = (math.sin(self.lander.angle), math.cos(self.lander.angle))\n",
        "        side = (-tip[1], tip[0])\n",
        "        dispersion = [self.np_random.uniform(-1.0, +1.0) / SCALE for _ in range(2)]\n",
        "\n",
        "        m_power = 0.0\n",
        "        if (self.continuous and action[0] > 0.0) or (\n",
        "            not self.continuous and action == 2\n",
        "        ):\n",
        "            # Main engine\n",
        "            if self.continuous:\n",
        "                m_power = (np.clip(action[0], 0.0, 1.0) + 1.0) * 0.5  # 0.5..1.0\n",
        "                assert m_power >= 0.5 and m_power <= 1.0\n",
        "            else:\n",
        "                m_power = 1.0\n",
        "            ox = (\n",
        "                tip[0] * (4 / SCALE + 2 * dispersion[0]) + side[0] * dispersion[1]\n",
        "            )  # 4 is move a bit downwards, +-2 for randomness\n",
        "            oy = -tip[1] * (4 / SCALE + 2 * dispersion[0]) - side[1] * dispersion[1]\n",
        "            impulse_pos = (self.lander.position[0] + ox, self.lander.position[1] + oy)\n",
        "            p = self._create_particle(\n",
        "                3.5,  # 3.5 is here to make particle speed adequate\n",
        "                impulse_pos[0],\n",
        "                impulse_pos[1],\n",
        "                m_power,\n",
        "            )  # particles are just a decoration\n",
        "            p.ApplyLinearImpulse(\n",
        "                (ox * MAIN_ENGINE_POWER * m_power, oy * MAIN_ENGINE_POWER * m_power),\n",
        "                impulse_pos,\n",
        "                True,\n",
        "            )\n",
        "            self.lander.ApplyLinearImpulse(\n",
        "                (-ox * MAIN_ENGINE_POWER * m_power, -oy * MAIN_ENGINE_POWER * m_power),\n",
        "                impulse_pos,\n",
        "                True,\n",
        "            )\n",
        "\n",
        "        s_power = 0.0\n",
        "        if (self.continuous and np.abs(action[1]) > 0.5) or (\n",
        "            not self.continuous and action in [1, 3]\n",
        "        ):\n",
        "            # Orientation engines\n",
        "            if self.continuous:\n",
        "                direction = np.sign(action[1])\n",
        "                s_power = np.clip(np.abs(action[1]), 0.5, 1.0)\n",
        "                assert s_power >= 0.5 and s_power <= 1.0\n",
        "            else:\n",
        "                direction = action - 2\n",
        "                s_power = 1.0\n",
        "            ox = tip[0] * dispersion[0] + side[0] * (\n",
        "                3 * dispersion[1] + direction * SIDE_ENGINE_AWAY / SCALE\n",
        "            )\n",
        "            oy = -tip[1] * dispersion[0] - side[1] * (\n",
        "                3 * dispersion[1] + direction * SIDE_ENGINE_AWAY / SCALE\n",
        "            )\n",
        "            impulse_pos = (\n",
        "                self.lander.position[0] + ox - tip[0] * 17 / SCALE,\n",
        "                self.lander.position[1] + oy + tip[1] * SIDE_ENGINE_HEIGHT / SCALE,\n",
        "            )\n",
        "            p = self._create_particle(0.7, impulse_pos[0], impulse_pos[1], s_power)\n",
        "            p.ApplyLinearImpulse(\n",
        "                (ox * SIDE_ENGINE_POWER * s_power, oy * SIDE_ENGINE_POWER * s_power),\n",
        "                impulse_pos,\n",
        "                True,\n",
        "            )\n",
        "            self.lander.ApplyLinearImpulse(\n",
        "                (-ox * SIDE_ENGINE_POWER * s_power, -oy * SIDE_ENGINE_POWER * s_power),\n",
        "                impulse_pos,\n",
        "                True,\n",
        "            )\n",
        "\n",
        "        self.world.Step(1.0 / FPS, 6 * 30, 2 * 30)\n",
        "\n",
        "        pos = self.lander.position\n",
        "        # print([pos.x,pos.y])\n",
        "        vel = self.lander.linearVelocity\n",
        "        # print([vel.x,vel.y])\n",
        "        state = [\n",
        "            (pos.x - VIEWPORT_W / SCALE / 2) / (VIEWPORT_W / SCALE / 2), # 0: x position\n",
        "            (pos.y - (self.helipad_y + LEG_DOWN / SCALE)) / (VIEWPORT_H / SCALE / 2), # 1: y position\n",
        "            vel.x * (VIEWPORT_W / SCALE / 2) / FPS, # 2\n",
        "            vel.y * (VIEWPORT_H / SCALE / 2) / FPS, # 3\n",
        "            self.lander.angle, # 4\n",
        "            20.0 * self.lander.angularVelocity / FPS, # 5\n",
        "            1.0 if self.legs[0].ground_contact else 0.0, # 6\n",
        "            1.0 if self.legs[1].ground_contact else 0.0, # 7\n",
        "        ]\n",
        "        assert len(state) == 8\n",
        "\n",
        "        state_8 = (pos.x - self.obs_coords[0] / SCALE) / (VIEWPORT_W / SCALE / 2) # 8: x position\n",
        "        state_9 = (pos.y - self.obs_coords[1] / SCALE) / (VIEWPORT_H / SCALE / 2) # 9: y position\n",
        "        # ----------------------------------------------------------------\n",
        "        # reward\n",
        "        # distance_to_obstacle = np.sqrt((pos.x - (self.obs_coords[0] +\n",
        "        #                                     VIEWPORT_W / SCALE / 2)) ** 2 +\n",
        "        #                         (pos.y - (self.obs_coords[1] +\n",
        "\n",
        "        #                                   (self.helipad_y + LEG_DOWN / SCALE))) ** 2)\n",
        "        distance_to_obstacle = np.sqrt(state_8 * state_8 + state_9 * state_9)\n",
        "        # print((distance_to_obstacle <= (20 / SCALE)))\n",
        "        # if (distance_to_obstacle <= (1)):\n",
        "        #     print('dangerously close to obstacle!')\n",
        "\n",
        "        reward = 0\n",
        "        shaping = (\n",
        "            # If the lander moves away from the landing pad, it loses reward\n",
        "            - 150 * np.sqrt(state[0] * state[0] + state[1] * state[1]) # Euclidean distance\n",
        "            - -50 * np.sqrt(state[2] * state[2] + state[3] * state[3])\n",
        "\n",
        "            - 100 * abs(state[4])\n",
        "            # Each leg with ground contact is +10 points.\n",
        "            + 10 * state[6]\n",
        "            + 10 * state[7]\n",
        "            - 50 * (distance_to_obstacle <= (20 / SCALE)) # obstacles \n",
        "        )  # And ten points for legs contact, the idea is if you\n",
        "        # lose contact again after landing, you get negative reward\n",
        "        if self.prev_shaping is not None:\n",
        "            reward = shaping - self.prev_shaping\n",
        "        self.prev_shaping = shaping\n",
        "\n",
        "        # Firing the main engine is -0.3 points each frame. \n",
        "        reward -= (\n",
        "            m_power * 0.30\n",
        "        )  # less fuel spent is better, about -30 for heuristic landing\n",
        "        # Firing the side engine is -0.03 points each frame.\n",
        "        reward -= s_power * 0.03\n",
        "\n",
        "        done = False\n",
        "        if self.game_over or abs(state[0]) >= 1.0: # crashed?\n",
        "            done = True\n",
        "            reward = -100\n",
        "        if not self.lander.awake and (np.sqrt(state[0] * state[0] + state[1] * state[1]) == 0) and (np.sqrt(state[2] * state[2] + state[3] * state[3])==0): # rest\n",
        "            done = True\n",
        "            reward = +200\n",
        "\n",
        "        return np.array(state, dtype=np.float32), reward, done, {}\n",
        "        # ----------------------------------------------------------------\n",
        "\n",
        "\n",
        "    def render(self, mode=\"human\"):\n",
        "        from gym.envs.classic_control import rendering\n",
        "\n",
        "        if self.viewer is None:\n",
        "            self.viewer = rendering.Viewer(VIEWPORT_W, VIEWPORT_H)\n",
        "            self.viewer.set_bounds(0, VIEWPORT_W / SCALE, 0, VIEWPORT_H / SCALE)\n",
        "\n",
        "        for obj in self.particles:\n",
        "            obj.ttl -= 0.15\n",
        "            obj.color1 = (\n",
        "                max(0.2, 0.2 + obj.ttl),\n",
        "                max(0.2, 0.5 * obj.ttl),\n",
        "                max(0.2, 0.5 * obj.ttl),\n",
        "            )\n",
        "            obj.color2 = (\n",
        "                max(0.2, 0.2 + obj.ttl),\n",
        "                max(0.2, 0.5 * obj.ttl),\n",
        "                max(0.2, 0.5 * obj.ttl),\n",
        "            )\n",
        "\n",
        "        self._clean_particles(False)\n",
        "        # print('drawlist')\n",
        "        # print(self.drawlist)\n",
        "        for p in self.sky_polys:\n",
        "            self.viewer.draw_polygon(p, color=(0, 0, 0))\n",
        "        # editing below line to draw obstacle\n",
        "        for obj in self.particles + self.drawlist:\n",
        "            for f in obj.fixtures:\n",
        "                trans = f.body.transform\n",
        "                if type(f.shape) is circleShape:\n",
        "                    t = rendering.Transform(translation=trans * f.shape.pos)\n",
        "                    self.viewer.draw_circle(\n",
        "                        f.shape.radius, 20, color=obj.color1, filled=True\n",
        "                    ).add_attr(t)\n",
        "                    self.viewer.draw_circle(\n",
        "                        f.shape.radius, 20, color=obj.color2, filled=False, linewidth=2\n",
        "                    ).add_attr(t)\n",
        "                    # t = rendering.Transform((100, 100))  # Position\n",
        "                    # self.viewer.draw_circle(20).add_attr(t)  # Add transform for position\n",
        "                    # self.viewer.render()\n",
        "                else:\n",
        "                    path = [trans * v for v in f.shape.vertices]\n",
        "                    # print('poly shape in object fixtures')\n",
        "                    # print(f)\n",
        "                    self.viewer.draw_polygon(path, color=obj.color1)\n",
        "                    path.append(path[0])\n",
        "                    self.viewer.draw_polyline(path, color=obj.color2, linewidth=2)\n",
        "\n",
        "        for obj2 in [self.obstacle]:\n",
        "            # print('rendering obstacle')\n",
        "            # print(obj2)\n",
        "            for f in obj2.fixtures:\n",
        "                trans = f.body.transform\n",
        "                if type(f.shape) is circleShape:\n",
        "                    # print('printing circle of radius')\n",
        "                    #t = rendering.Transform(translation=trans * f.shape.pos)\n",
        "                    t = rendering.Transform((self.obs_coords[0], self.obs_coords[1]))\n",
        "                    # print(f.shape.radius)\n",
        "                    self.viewer.draw_circle(\n",
        "                        f.shape.radius, 20, color=obj2.color1, filled=True\n",
        "                    ).add_attr(t)\n",
        "                    self.viewer.draw_circle(\n",
        "                        f.shape.radius, 20, color=obj2.color2, filled=False, linewidth=2\n",
        "                    ).add_attr(t)\n",
        "                    # t = rendering.Transform((10, 10))  # Position\n",
        "                    # self.viewer.draw_circle(2).add_attr(t)  # Add transform for position\n",
        "                    # self.viewer.render()\n",
        "                else:\n",
        "                    path = [trans * v for v in f.shape.vertices]\n",
        "                    # print('poly shape in object fixtures')\n",
        "                    # print(f)\n",
        "                    self.viewer.draw_polygon(path, color=obj2.color1)\n",
        "                    path.append(path[0])\n",
        "                    self.viewer.draw_polyline(path, color=obj2.color2, linewidth=2)\n",
        "\n",
        "        for x in [self.helipad_x1, self.helipad_x2]:\n",
        "            flagy1 = self.helipad_y\n",
        "            flagy2 = flagy1 + 50 / SCALE\n",
        "            self.viewer.draw_polyline([(x, flagy1), (x, flagy2)], color=(1, 1, 1))\n",
        "            self.viewer.draw_polygon(\n",
        "                [\n",
        "                    (x, flagy2),\n",
        "                    (x, flagy2 - 10 / SCALE),\n",
        "                    (x + 25 / SCALE, flagy2 - 5 / SCALE),\n",
        "                ],\n",
        "                color=(0.8, 0.8, 0),\n",
        "            )\n",
        "\n",
        "        return self.viewer.render(return_rgb_array=mode == \"rgb_array\")\n",
        "\n",
        "\n",
        "    \n",
        "  # def reset(self):\n",
        "  #     pass  # reward, done, info can't be included\n",
        "\n",
        "  # def render(self, mode='human'):\n",
        "  #     pass\n",
        "\n",
        "  # def close(self):\n",
        "  #     pass"
      ],
      "metadata": {
        "id": "7Nxu5rsZ4MH1"
      },
      "execution_count": 23,
      "outputs": []
    },
    {
      "cell_type": "markdown",
      "source": [
        "#### register environment"
      ],
      "metadata": {
        "id": "DzZ83S3UzBYc"
      }
    },
    {
      "cell_type": "markdown",
      "source": [
        "###### register baseline anv"
      ],
      "metadata": {
        "id": "8SD7DX6hoX7P"
      }
    },
    {
      "cell_type": "code",
      "source": [
        "new_env = Custom_LunarLander_reward()\n",
        "new_env"
      ],
      "metadata": {
        "colab": {
          "base_uri": "https://localhost:8080/"
        },
        "outputId": "e11b5f0b-765a-4c50-ce41-1eb9cc391bbe",
        "id": "mAGafux6oX7P"
      },
      "execution_count": 18,
      "outputs": [
        {
          "output_type": "execute_result",
          "data": {
            "text/plain": [
              "<__main__.Custom_LunarLander_reward at 0x7f044a211310>"
            ]
          },
          "metadata": {},
          "execution_count": 18
        }
      ]
    },
    {
      "cell_type": "code",
      "source": [
        "from stable_baselines3.common.env_checker import check_env\n",
        "check_env(new_env)"
      ],
      "metadata": {
        "id": "PkBL7IZQoX7P"
      },
      "execution_count": 19,
      "outputs": []
    },
    {
      "cell_type": "code",
      "source": [
        "from gym.envs.registration import register\n",
        "# Example for the CartPole environment\n",
        "register(\n",
        "    # unique identifier for the env `name-version`\n",
        "    id=\"LunarLander-v3\",\n",
        "    # path to the class for creating the env\n",
        "    # Note: entry_point also accept a class as input (and not only a string)\n",
        "    entry_point= Custom_LunarLander_reward,\n",
        "    # Max number of steps per episode, using a `TimeLimitWrapper`\n",
        "    max_episode_steps=1500,\n",
        ")"
      ],
      "metadata": {
        "id": "WvFoF2FdoX7P"
      },
      "execution_count": 20,
      "outputs": []
    },
    {
      "cell_type": "markdown",
      "source": [
        "###### register obstacle anv"
      ],
      "metadata": {
        "id": "YJkdBNEHiLle"
      }
    },
    {
      "cell_type": "markdown",
      "source": [
        "check environment"
      ],
      "metadata": {
        "id": "xGf0_9im0Y3R"
      }
    },
    {
      "cell_type": "code",
      "source": [
        "new_env = Custom_LunarLander_obs()\n",
        "new_env"
      ],
      "metadata": {
        "colab": {
          "base_uri": "https://localhost:8080/"
        },
        "id": "GdKLT2SiGCiV",
        "outputId": "537c37d9-7e7a-42be-b4bb-be29189d7b0f"
      },
      "execution_count": 25,
      "outputs": [
        {
          "output_type": "execute_result",
          "data": {
            "text/plain": [
              "<__main__.Custom_LunarLander_obs at 0x7f044a172450>"
            ]
          },
          "metadata": {},
          "execution_count": 25
        }
      ]
    },
    {
      "cell_type": "code",
      "source": [
        "check_env(new_env)"
      ],
      "metadata": {
        "id": "kG6IM6zW2IPm"
      },
      "execution_count": 26,
      "outputs": []
    },
    {
      "cell_type": "code",
      "source": [
        "from gym.envs.registration import register\n",
        "# Example for the CartPole environment\n",
        "register(\n",
        "    # unique identifier for the env `name-version`\n",
        "    id=\"LunarLander_obs-v1\",\n",
        "    # path to the class for creating the env\n",
        "    # Note: entry_point also accept a class as input (and not only a string)\n",
        "    entry_point = Custom_LunarLander_obs,\n",
        "    # Max number of steps per episode, using a `TimeLimitWrapper`\n",
        "    max_episode_steps=1500,\n",
        ")"
      ],
      "metadata": {
        "id": "C1cIXPTaJsQG"
      },
      "execution_count": 27,
      "outputs": []
    },
    {
      "cell_type": "markdown",
      "source": [
        "#### define and train model in new env"
      ],
      "metadata": {
        "id": "KdG01o1IzxGG"
      }
    },
    {
      "cell_type": "markdown",
      "source": [
        "##### model for baseline env"
      ],
      "metadata": {
        "id": "0EfzaHwhoxTb"
      }
    },
    {
      "cell_type": "code",
      "execution_count": 44,
      "metadata": {
        "execution": {},
        "id": "5J0MmqyPzq9q",
        "colab": {
          "base_uri": "https://localhost:8080/"
        },
        "outputId": "8494676b-df21-41fa-8407-d422209a5a5b"
      },
      "outputs": [
        {
          "output_type": "stream",
          "name": "stderr",
          "text": [
            "\u001b[32m[I 2022-07-27 12:17:35,480]\u001b[0m A new study created in memory with name: dqn_study\u001b[0m\n",
            "\u001b[32m[I 2022-07-27 12:17:39,062]\u001b[0m Trial 0 finished with value: -1705.218792 and parameters: {'lr': 0.00064}. Best is trial 0 with value: -1705.218792.\u001b[0m\n",
            "\u001b[32m[I 2022-07-27 12:17:42,325]\u001b[0m Trial 1 finished with value: -2034.9905290000002 and parameters: {'lr': 0.00065}. Best is trial 0 with value: -1705.218792.\u001b[0m\n"
          ]
        }
      ],
      "source": [
        "log_dir1 = drive_path+\"baseline/\" #\"models\"\n",
        "\n",
        "def objective(trial:optuna.Trial):\n",
        "\n",
        "  model_log_dir = log_dir1+'dqn_{}'.format(trial.number)+'/'\n",
        "  os.makedirs(model_log_dir,exist_ok=True) \n",
        "  # Create environment\n",
        "  env = gym.make('LunarLander-v3')\n",
        "  env = stable_baselines3.common.monitor.Monitor(env, filename= model_log_dir)\n",
        "  callback = EvalCallback(env,log_path = model_log_dir, deterministic=True) #For evaluating the performance of the agent periodically and logging the results.\n",
        "\n",
        "  #Trial will suggest a set of hyperparamters from the specified range\n",
        "  hyperparameters = sample_dqn_params(trial)\n",
        "  model_dqn = DQN(\"MlpPolicy\", env, **hyperparameters) #Set verbose to 1 to observe training logs. We encourage you to set the verbose to 1.\n",
        "\n",
        "  # define learning steps\n",
        "  model1 = model_dqn.learn(total_timesteps=1000, log_interval=10, callback=callback)#100000 \n",
        "  # save model\n",
        "  model1.save(model_log_dir +'dqn_{}.zip'.format(trial.number)) \n",
        "\n",
        "  x, y = ts2xy(load_results(model_log_dir), 'timesteps') # timesteps\n",
        "  # clear_output(wait=True)\n",
        "  #For the given hyperparamters, determine reward\n",
        "  reward = sum(y)\n",
        "  return reward\n",
        "\n",
        "#Create a study object and specify the direction as 'maximize'\n",
        "#As you want to maximize reward\n",
        "#Pruner stops not promising iterations\n",
        "#Use a pruner, else you will get error related to divergence of model\n",
        "#You can also use Multivariate samplere\n",
        "#sampler = optuna.samplers.TPESampler(multivarite=True,seed=42)\n",
        "sampler = optuna.samplers.TPESampler(seed=42)\n",
        "study1 = optuna.create_study(study_name=\"dqn_study\",direction='maximize',\n",
        "                            sampler = sampler, pruner=optuna.pruners.HyperbandPruner())\n",
        "\n",
        "logging_callback = LoggingCallback(threshold=10, patience=30, trial_number=5)\n",
        "#You can increase the n_trials for a better search space scanning\n",
        "study1.optimize(objective, n_trials=2, catch=(ValueError,),callbacks=[logging_callback])"
      ]
    },
    {
      "cell_type": "code",
      "source": [
        "# use the trial number which has the best result\n",
        "trial_number = 0\n",
        "model_path1 = log_dir+'dqn_'+str(trial_number)+'/'\n",
        "model1 = DQN.load( model_path1 + 'dqn_'+str(trial_number)+'.zip')"
      ],
      "metadata": {
        "id": "sNvPyItghjT5"
      },
      "execution_count": 38,
      "outputs": []
    },
    {
      "cell_type": "code",
      "source": [
        "new_env = wrap_env(gym.make(\"LunarLander-v3\"))\n",
        "observation = new_env.reset()\n",
        "total_reward = 0\n",
        "\n",
        "while True:\n",
        "  new_env.render()\n",
        "  action, states = model1.predict(observation, deterministic=True)\n",
        "  observation, reward, done, info = new_env.step(action)\n",
        "  total_reward += reward\n",
        "  if done:\n",
        "    break;\n",
        "\n",
        "# print(total_reward)\n",
        "new_env.close()\n",
        "show_video()"
      ],
      "metadata": {
        "colab": {
          "base_uri": "https://localhost:8080/",
          "height": 421
        },
        "id": "M63a8xiTJHJl",
        "outputId": "a557dc0c-8d92-43ee-dbad-b015665b1f30"
      },
      "execution_count": 36,
      "outputs": [
        {
          "output_type": "display_data",
          "data": {
            "text/plain": [
              "<IPython.core.display.HTML object>"
            ],
            "text/html": [
              "<video alt=\"test\" autoplay\n",
              "                loop controls style=\"height: 400px;\">\n",
              "                <source src=\"data:video/mp4;base64,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\" type=\"video/mp4\" />\n",
              "             </video>"
            ]
          },
          "metadata": {}
        }
      ]
    },
    {
      "cell_type": "code",
      "source": [
        "x, y = ts2xy(load_results(model_path1), 'timesteps')  # Organising the logged results in to a clean format for plotting. timesteps episodes\n",
        "plt.plot(x,y)\n",
        "plt.ylim([-300, 300])\n",
        "plt.xlabel('Timesteps')\n",
        "plt.ylabel('Episode Rewards')\n",
        "plt.savefig(model_path1+'reward.png',dpi=600)"
      ],
      "metadata": {
        "colab": {
          "base_uri": "https://localhost:8080/",
          "height": 283
        },
        "id": "W_NWJn78Je_2",
        "outputId": "4b0561bd-bd39-4e80-a444-aca0938804d0"
      },
      "execution_count": 41,
      "outputs": [
        {
          "output_type": "display_data",
          "data": {
            "text/plain": [
              "<Figure size 432x288 with 1 Axes>"
            ],
            "image/png": "[encoded data removed]"
          },
          "metadata": {
            "needs_background": "light"
          }
        }
      ]
    },
    {
      "cell_type": "markdown",
      "source": [
        "##### model for noisy environment env"
      ],
      "metadata": {
        "id": "O7w0kpmGDK6Q"
      }
    },
    {
      "cell_type": "code",
      "source": [
        "# using stable baseline zoo parameter as ref\n",
        "def sample_dqn_params_noisy(trial: optuna.Trial):\n",
        "    \"\"\"\n",
        "    Sampler for DQN hyperparams.\n",
        "    :param trial:\n",
        "    :return:\n",
        "    \"\"\"\n",
        "    learning_rate = trial.suggest_discrete_uniform('lr', 6.3e-4, 6.5e-4, 0.1e-4)\n",
        "\n",
        "    # net_arch = trial.suggest_categorical(\"net_arch\", [\"two\", \"three\"]) #, \"two_big\"\n",
        "    # net_arch = {\"two\": [64, 64], \"three\": [64, 64, 64]}[net_arch] #, \"two_big\": [256, 256]\n",
        "\n",
        "    hyperparams = {\n",
        "        \"learning_rate\": learning_rate,#\n",
        "        \"policy_kwargs\": dict(activation_fn=torch.nn.ReLU, net_arch=[64, 64], features_extractor_class = NoisyLunarLander),\n",
        "        \"batch_size\": 128,  #for simplicity, we are not doing batch update.\n",
        "        \"buffer_size\": 50000, #size of experience of replay buffer. Set to 1 as batch update is not done\n",
        "        \"learning_starts\": 0, #learning starts immediately!\n",
        "        \"gamma\": 0.99, #discount facto. range is between 0 and 1.\n",
        "        \"tau\": 1,  #the soft update coefficient for updating the target network\n",
        "        \"target_update_interval\": 250, #update the target network immediately.\n",
        "        \"train_freq\": (4,\"step\"), #train the network at every step.\n",
        "        \"max_grad_norm\": 10, #the maximum value for the gradient clipping\n",
        "        \"exploration_initial_eps\": 1, #initial value of random action probability\n",
        "        \"exploration_fraction\": 0.12, #fraction of entire training period over which the exploration rate is reduced\n",
        "        \"gradient_steps\": -1, #number of gradient steps\n",
        "        \"seed\": 1, #seed for the pseudo random generators\n",
        "        \"verbose\": 0\n",
        "    }\n",
        "    return hyperparams"
      ],
      "metadata": {
        "id": "1yZ6wLURIrdz"
      },
      "execution_count": 42,
      "outputs": []
    },
    {
      "cell_type": "code",
      "execution_count": 48,
      "metadata": {
        "execution": {},
        "colab": {
          "base_uri": "https://localhost:8080/"
        },
        "outputId": "187a290d-df02-43a0-cb63-5d14db8b9cf9",
        "id": "ZIBaMrgbDK6Q"
      },
      "outputs": [
        {
          "output_type": "stream",
          "name": "stderr",
          "text": [
            "\u001b[32m[I 2022-07-27 12:26:02,306]\u001b[0m A new study created in memory with name: dqn_study\u001b[0m\n",
            "\u001b[32m[I 2022-07-27 12:26:05,927]\u001b[0m Trial 0 finished with value: -1654.0551870000002 and parameters: {'lr': 0.00064}. Best is trial 0 with value: -1654.0551870000002.\u001b[0m\n",
            "\u001b[32m[I 2022-07-27 12:26:09,580]\u001b[0m Trial 1 finished with value: -1655.2179629999998 and parameters: {'lr': 0.00065}. Best is trial 0 with value: -1654.0551870000002.\u001b[0m\n"
          ]
        }
      ],
      "source": [
        "log_dir2 = drive_path+\"noisy/\" #\"models\"\n",
        "\n",
        "def objective(trial:optuna.Trial):\n",
        "\n",
        "  model_log_dir = log_dir2+'dqn_{}'.format(trial.number)+'/'\n",
        "  os.makedirs(model_log_dir,exist_ok=True) \n",
        "  # Create environment\n",
        "  env = gym.make('LunarLander-v3')\n",
        "  env = stable_baselines3.common.monitor.Monitor(env, filename= model_log_dir)\n",
        "  callback = EvalCallback(env,log_path = model_log_dir, deterministic=True) #For evaluating the performance of the agent periodically and logging the results.\n",
        "\n",
        "  #Trial will suggest a set of hyperparamters from the specified range\n",
        "  hyperparameters = sample_dqn_params_noisy(trial)\n",
        "  model_dqn2 = DQN(\"MlpPolicy\", env, **hyperparameters) #Set verbose to 1 to observe training logs. We encourage you to set the verbose to 1.\n",
        "\n",
        "  # define learning steps\n",
        "  model2 = model_dqn2.learn(total_timesteps=1000, log_interval=10, callback=callback)#100000 \n",
        "  # save model\n",
        "  model2.save(model_log_dir +'dqn_{}.zip'.format(trial.number)) \n",
        "\n",
        "  x, y = ts2xy(load_results(model_log_dir), 'timesteps') # timesteps\n",
        "  # clear_output(wait=True)\n",
        "  #For the given hyperparamters, determine reward\n",
        "  reward = sum(y)\n",
        "  return reward\n",
        "\n",
        "#Create a study object and specify the direction as 'maximize'\n",
        "#As you want to maximize reward\n",
        "#Pruner stops not promising iterations\n",
        "#Use a pruner, else you will get error related to divergence of model\n",
        "#You can also use Multivariate samplere\n",
        "#sampler = optuna.samplers.TPESampler(multivarite=True,seed=42)\n",
        "sampler = optuna.samplers.TPESampler(seed=42)\n",
        "study2 = optuna.create_study(study_name=\"dqn_study\",direction='maximize',\n",
        "                            sampler = sampler, pruner=optuna.pruners.HyperbandPruner())\n",
        "\n",
        "logging_callback = LoggingCallback(threshold=10, patience=30, trial_number=5)\n",
        "#You can increase the n_trials for a better search space scanning\n",
        "study2.optimize(objective, n_trials=2, catch=(ValueError,),callbacks=[logging_callback])"
      ]
    },
    {
      "cell_type": "code",
      "source": [
        "# use the trial number which has the best result\n",
        "trial_number = 0\n",
        "model_path2 = log_dir+'dqn_'+str(trial_number)+'/'\n",
        "model2 = DQN.load( model_path2 + 'dqn_'+str(trial_number)+'.zip')"
      ],
      "metadata": {
        "id": "lRyd680Dn3ht"
      },
      "execution_count": 49,
      "outputs": []
    },
    {
      "cell_type": "code",
      "source": [
        "new_env = wrap_env(gym.make(\"LunarLander-v3\"))\n",
        "observation = new_env.reset()\n",
        "total_reward = 0\n",
        "\n",
        "while True:\n",
        "  new_env.render()\n",
        "  action, states = model2.predict(observation, deterministic=True)\n",
        "  observation, reward, done, info = new_env.step(action)\n",
        "  total_reward += reward\n",
        "  if done:\n",
        "    break;\n",
        "\n",
        "# print(total_reward)\n",
        "new_env.close()\n",
        "show_video()"
      ],
      "metadata": {
        "colab": {
          "base_uri": "https://localhost:8080/",
          "height": 421
        },
        "id": "7stGqoUbZfZW",
        "outputId": "169614a7-f5b5-4ca0-c0c2-2913f5c809d9"
      },
      "execution_count": 50,
      "outputs": [
        {
          "output_type": "display_data",
          "data": {
            "text/plain": [
              "<IPython.core.display.HTML object>"
            ],
            "text/html": [
              "<video alt=\"test\" autoplay\n",
              "                loop controls style=\"height: 400px;\">\n",
              "                <source src=\"data:video/mp4;base64,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\" type=\"video/mp4\" />\n",
              "             </video>"
            ]
          },
          "metadata": {}
        }
      ]
    },
    {
      "cell_type": "code",
      "source": [
        "x, y = ts2xy(load_results(model_path2), 'timesteps')  # Organising the logged results in to a clean format for plotting. timesteps episodes\n",
        "plt.plot(x,y)\n",
        "plt.ylim([-300, 300])\n",
        "plt.xlabel('Timesteps')\n",
        "plt.ylabel('Episode Rewards')\n",
        "plt.savefig(model_path2+'reward.png',dpi=600)"
      ],
      "metadata": {
        "colab": {
          "base_uri": "https://localhost:8080/",
          "height": 283
        },
        "id": "iTnXB-WsZfZX",
        "outputId": "b0535c15-da84-48c8-99c8-c2e4ab6b1f3b"
      },
      "execution_count": 51,
      "outputs": [
        {
          "output_type": "display_data",
          "data": {
            "text/plain": [
              "<Figure size 432x288 with 1 Axes>"
            ],
            "image/png": "[encoded data removed]"
          },
          "metadata": {
            "needs_background": "light"
          }
        }
      ]
    },
    {
      "cell_type": "markdown",
      "source": [
        "##### model for obstacle env"
      ],
      "metadata": {
        "id": "rkJifcG-pibo"
      }
    },
    {
      "cell_type": "code",
      "source": [
        "log_dir3 = drive_path+\"obstacle/\" #\"models\"\n",
        "\n",
        "def objective(trial:optuna.Trial):\n",
        "\n",
        "  model_log_dir = log_dir3+'dqn_{}'.format(trial.number)+'/'\n",
        "  os.makedirs(model_log_dir,exist_ok=True) \n",
        "  # Create environment\n",
        "  env = gym.make('LunarLander_obs-v1')\n",
        "  env = stable_baselines3.common.monitor.Monitor(env, filename= model_log_dir)\n",
        "  callback = EvalCallback(env,log_path = model_log_dir, deterministic=True) #For evaluating the performance of the agent periodically and logging the results.\n",
        "\n",
        "  #Trial will suggest a set of hyperparamters from the specified range\n",
        "  hyperparameters = sample_dqn_params(trial)\n",
        "  model_dqn = DQN(\"MlpPolicy\", env, **hyperparameters) #Set verbose to 1 to observe training logs. We encourage you to set the verbose to 1.\n",
        "\n",
        "  # define learning steps\n",
        "  model3 = model_dqn.learn(total_timesteps=1000, log_interval=10, callback=callback)#100000 \n",
        "  # save model\n",
        "  model3.save(model_log_dir +'dqn_{}.zip'.format(trial.number)) \n",
        "\n",
        "  x, y = ts2xy(load_results(model_log_dir), 'timesteps') # timesteps\n",
        "  # clear_output(wait=True)\n",
        "  #For the given hyperparamters, determine reward\n",
        "  reward = sum(y)\n",
        "  return reward\n",
        "\n",
        "#Create a study object and specify the direction as 'maximize'\n",
        "#As you want to maximize reward\n",
        "#Pruner stops not promising iterations\n",
        "#Use a pruner, else you will get error related to divergence of model\n",
        "#You can also use Multivariate samplere\n",
        "#sampler = optuna.samplers.TPESampler(multivarite=True,seed=42)\n",
        "sampler = optuna.samplers.TPESampler(seed=42)\n",
        "study3 = optuna.create_study(study_name=\"dqn_study\",direction='maximize',\n",
        "                            sampler = sampler, pruner=optuna.pruners.HyperbandPruner())\n",
        "\n",
        "logging_callback = LoggingCallback(threshold=10, patience=30, trial_number=5)\n",
        "#You can increase the n_trials for a better search space scanning\n",
        "study3.optimize(objective, n_trials=2, catch=(ValueError,),callbacks=[logging_callback])"
      ],
      "metadata": {
        "colab": {
          "base_uri": "https://localhost:8080/"
        },
        "id": "-qmgq4cYo_vA",
        "outputId": "46b01c53-af83-403e-80b7-57568962b2fc"
      },
      "execution_count": 56,
      "outputs": [
        {
          "output_type": "stream",
          "name": "stderr",
          "text": [
            "\u001b[32m[I 2022-07-27 12:30:17,408]\u001b[0m A new study created in memory with name: dqn_study\u001b[0m\n",
            "\u001b[32m[I 2022-07-27 12:30:20,682]\u001b[0m Trial 0 finished with value: -1977.328302 and parameters: {'lr': 0.00064}. Best is trial 0 with value: -1977.328302.\u001b[0m\n",
            "\u001b[32m[I 2022-07-27 12:30:23,906]\u001b[0m Trial 1 finished with value: -2138.303989 and parameters: {'lr': 0.00065}. Best is trial 0 with value: -1977.328302.\u001b[0m\n"
          ]
        }
      ]
    },
    {
      "cell_type": "code",
      "source": [
        "# use the trial number which has the best result\n",
        "trial_number = 0\n",
        "model_path3 = log_dir+'dqn_'+str(trial_number)+'/'\n",
        "model3 = DQN.load( model_path3 + 'dqn_'+str(trial_number)+'.zip')"
      ],
      "metadata": {
        "id": "YmGH8ZgToVux"
      },
      "execution_count": 57,
      "outputs": []
    },
    {
      "cell_type": "code",
      "source": [
        "new_env = wrap_env(gym.make(\"LunarLander_obs-v1\"))\n",
        "observation = new_env.reset()\n",
        "total_reward = 0\n",
        "\n",
        "while True:\n",
        "  new_env.render()\n",
        "  action, states = model3.predict(observation, deterministic=True)\n",
        "  observation, reward, done, info = new_env.step(action)\n",
        "  total_reward += reward\n",
        "  if done:\n",
        "    break;\n",
        "\n",
        "# print(total_reward)\n",
        "new_env.close()\n",
        "show_video()"
      ],
      "metadata": {
        "id": "gVjRQ0tvZq5y",
        "outputId": "50d462d4-96ef-49a8-d9fc-69b7b6884c2b",
        "colab": {
          "base_uri": "https://localhost:8080/",
          "height": 421
        }
      },
      "execution_count": 58,
      "outputs": [
        {
          "output_type": "display_data",
          "data": {
            "text/plain": [
              "<IPython.core.display.HTML object>"
            ],
            "text/html": [
              "<video alt=\"test\" autoplay\n",
              "                loop controls style=\"height: 400px;\">\n",
              "                <source src=\"data:video/mp4;base64,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\" type=\"video/mp4\" />\n",
              "             </video>"
            ]
          },
          "metadata": {}
        }
      ]
    },
    {
      "cell_type": "code",
      "source": [
        "x, y = ts2xy(load_results(model_path3), 'timesteps')  # Organising the logged results in to a clean format for plotting. timesteps episodes\n",
        "plt.plot(x,y)\n",
        "plt.ylim([-300, 300])\n",
        "plt.xlabel('Timesteps')\n",
        "plt.ylabel('Episode Rewards')\n",
        "plt.savefig(model_path3+'reward.png',dpi=600)"
      ],
      "metadata": {
        "id": "5bhOOzOoZq5y",
        "outputId": "ffee4b56-3d02-45fc-d957-3e5589fdd747",
        "colab": {
          "base_uri": "https://localhost:8080/",
          "height": 283
        }
      },
      "execution_count": 59,
      "outputs": [
        {
          "output_type": "display_data",
          "data": {
            "text/plain": [
              "<Figure size 432x288 with 1 Axes>"
            ],
            "image/png": "[encoded data removed]"
          },
          "metadata": {
            "needs_background": "light"
          }
        }
      ]
    },
    {
      "cell_type": "markdown",
      "metadata": {
        "execution": {},
        "id": "ptpdnpwGobbz"
      },
      "source": [
        "---\n",
        "# References\n",
        "\n",
        "1. Stable Baselines Framework: https://stable-baselines3.readthedocs.io/en/master/guide/examples.html\n",
        "\n",
        "2. Lunar Lander Environment: https://gym.openai.com/envs/LunarLander-v2/\n",
        "\n",
        "3. OpenAI gym environments: https://gym.openai.com/docs/\n",
        "\n",
        "4. A good reference for introduction to RL: http://incompleteideas.net/book/the-book-2nd.html\n"
      ]
    }
  ],
  "metadata": {
    "accelerator": "GPU",
    "colab": {
      "collapsed_sections": [],
      "name": "lunar_lander_group1_atcheke",
      "provenance": [],
      "toc_visible": true,
      "machine_shape": "hm",
      "include_colab_link": true
    },
    "gpuClass": "standard",
    "kernel": {
      "display_name": "Python 3",
      "language": "python",
      "name": "python3"
    },
    "kernelspec": {
      "display_name": "Python 3",
      "name": "python3"
    },
    "language_info": {
      "name": "python"
    }
  },
  "nbformat": 4,
  "nbformat_minor": 0
}