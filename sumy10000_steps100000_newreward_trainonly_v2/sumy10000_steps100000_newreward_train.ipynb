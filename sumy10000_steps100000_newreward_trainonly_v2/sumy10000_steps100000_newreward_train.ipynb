{
  "cells": [
    {
      "cell_type": "markdown",
      "metadata": {
        "execution": {},
        "id": "wpX-jA7GobbT"
      },
      "source": [
        "---\n",
        "# Setup"
      ]
    },
    {
      "cell_type": "code",
      "execution_count": 2,
      "metadata": {
        "execution": {},
        "id": "9EanvrrhobbU"
      },
      "outputs": [],
      "source": [
        "# @title Install dependencies\n",
        "!sudo apt-get update > /dev/null 2>&1\n",
        "!sudo apt-get install -y xvfb python-opengl ffmpeg > /dev/null 2>&1\n",
        "!pip install rarfile --quiet\n",
        "!pip install stable-baselines3[extra] ale-py==0.7.4 --quiet\n",
        "!pip install box2d-py --quiet\n",
        "!pip install gym pyvirtualdisplay --quiet"
      ]
    },
    {
      "cell_type": "code",
      "execution_count": 3,
      "metadata": {
        "execution": {},
        "id": "pE3qZJLcobbW"
      },
      "outputs": [],
      "source": [
        "# Imports\n",
        "import io\n",
        "import os\n",
        "import glob\n",
        "import torch\n",
        "import base64\n",
        "import stable_baselines3\n",
        "\n",
        "import numpy as np\n",
        "import matplotlib.pyplot as plt\n",
        "\n",
        "from stable_baselines3 import DQN\n",
        "from stable_baselines3.common.results_plotter import ts2xy, load_results\n",
        "from stable_baselines3.common.callbacks import EvalCallback\n",
        "from stable_baselines3.common.env_util import make_atari_env\n",
        "\n",
        "import gym\n",
        "from gym import spaces\n",
        "from gym.wrappers import Monitor,RecordVideo"
      ]
    },
    {
      "cell_type": "code",
      "source": [
        "print(gym.__version__)"
      ],
      "metadata": {
        "colab": {
          "base_uri": "https://localhost:8080/"
        },
        "id": "gPoZnSTGFvEp",
        "outputId": "2e805520-1ed7-4210-9283-2a269f553168"
      },
      "execution_count": 4,
      "outputs": [
        {
          "output_type": "stream",
          "name": "stdout",
          "text": [
            "0.21.0\n"
          ]
        }
      ]
    },
    {
      "cell_type": "code",
      "execution_count": 5,
      "metadata": {
        "execution": {},
        "id": "fp1bUnClobbY"
      },
      "outputs": [],
      "source": [
        "# @title Plotting/Video functions\n",
        "from IPython.display import HTML\n",
        "from pyvirtualdisplay import Display\n",
        "from IPython import display as ipythondisplay\n",
        "\n",
        "display = Display(visible=0, size=(1400, 900))\n",
        "display.start()\n",
        "\n",
        "\"\"\"\n",
        "Utility functions to enable video recording of gym environment\n",
        "and displaying it.\n",
        "To enable video, just do \"env = wrap_env(env)\"\"\n",
        "\"\"\"\n",
        "\n",
        "def show_video():\n",
        "  mp4list = glob.glob('video/*.mp4')\n",
        "  if len(mp4list) > 0:\n",
        "    mp4 = mp4list[0]\n",
        "    video = io.open(mp4, 'r+b').read()\n",
        "    encoded = base64.b64encode(video)\n",
        "    ipythondisplay.display(HTML(data='''<video alt=\"test\" autoplay\n",
        "                loop controls style=\"height: 400px;\">\n",
        "                <source src=\"data:video/mp4;base64,{0}\" type=\"video/mp4\" />\n",
        "             </video>'''.format(encoded.decode('ascii'))))\n",
        "  else:\n",
        "    print(\"Could not find video\")\n",
        "\n",
        "\n",
        "def wrap_env(env):\n",
        "  env = Monitor(env, './video', force=True)\n",
        "  # env = RecordVideo(env, './video')\n",
        "  return env"
      ]
    },
    {
      "cell_type": "code",
      "source": [
        "from google.colab import drive\n",
        "drive.mount('/content/gdrive')\n",
        "drive_path = \"/content/gdrive/My Drive/LunarLanding/sumy10000_steps100000_newreward_trainonlyv2/\""
      ],
      "metadata": {
        "colab": {
          "base_uri": "https://localhost:8080/"
        },
        "id": "4otSbkh_QAYF",
        "outputId": "56d7ddf4-9975-4021-e774-01966d50a26d"
      },
      "execution_count": 6,
      "outputs": [
        {
          "output_type": "stream",
          "name": "stdout",
          "text": [
            "Drive already mounted at /content/gdrive; to attempt to forcibly remount, call drive.mount(\"/content/gdrive\", force_remount=True).\n"
          ]
        }
      ]
    },
    {
      "cell_type": "markdown",
      "source": [
        "Ref: https://towardsdatascience.com/beginners-guide-to-custom-environments-in-openai-s-gym-989371673952"
      ],
      "metadata": {
        "id": "yIFSDq7eyXY-"
      }
    },
    {
      "cell_type": "markdown",
      "source": [
        "#### define new env class"
      ],
      "metadata": {
        "id": "c-DTrZhLy0UM"
      }
    },
    {
      "cell_type": "code",
      "source": [
        "from gym.envs.box2d import LunarLander\n",
        "from Box2D.b2 import fixtureDef, circleShape, polygonShape, revoluteJointDef, contactListener, edgeShape\n",
        "import math"
      ],
      "metadata": {
        "id": "dTxYseql3ry3"
      },
      "execution_count": 7,
      "outputs": []
    },
    {
      "cell_type": "markdown",
      "source": [
        "Set parameters"
      ],
      "metadata": {
        "id": "MtUy074Syhdd"
      }
    },
    {
      "cell_type": "code",
      "source": [
        "FPS = 50\n",
        "SCALE = 30.0  # affects how fast-paced the game is, forces should be adjusted as well\n",
        "\n",
        "MAIN_ENGINE_POWER = 13.0\n",
        "SIDE_ENGINE_POWER = 0.6\n",
        "\n",
        "INITIAL_RANDOM = 1000.0  # Set 1500 to make game harder\n",
        "\n",
        "LANDER_POLY = [(-14, +17), (-17, 0), (-17, -10), (+17, -10), (+17, 0), (+14, +17)]\n",
        "LEG_AWAY = 20\n",
        "LEG_DOWN = 18\n",
        "LEG_W, LEG_H = 2, 8\n",
        "LEG_SPRING_TORQUE = 40\n",
        "\n",
        "SIDE_ENGINE_HEIGHT = 14.0\n",
        "SIDE_ENGINE_AWAY = 12.0\n",
        "\n",
        "VIEWPORT_W = 600\n",
        "VIEWPORT_H = 400"
      ],
      "metadata": {
        "id": "E6Ivff2jW7q8"
      },
      "execution_count": 8,
      "outputs": []
    },
    {
      "cell_type": "markdown",
      "source": [
        "##### baselien with new reward"
      ],
      "metadata": {
        "id": "Hk3RJY11A0d1"
      }
    },
    {
      "cell_type": "code",
      "source": [
        "class Custom_LunarLander_reward(LunarLander):\n",
        "    metadata = {\"render.modes\": [\"human\", \"rgb_array\"], \"video.frames_per_second\": FPS}\n",
        "    continuous = False\n",
        "\n",
        "    def __init__(\n",
        "        self\n",
        "    ):\n",
        "        LunarLander.__init__(self)\n",
        "        \n",
        "    def step(self, action):\n",
        "        if self.continuous:\n",
        "            action = np.clip(action, -1, +1).astype(np.float32)\n",
        "        else:\n",
        "            assert self.action_space.contains(action), \"%r (%s) invalid \" % (\n",
        "                action,\n",
        "                type(action),\n",
        "            )\n",
        "\n",
        "        # Engines\n",
        "        tip = (math.sin(self.lander.angle), math.cos(self.lander.angle))\n",
        "        side = (-tip[1], tip[0])\n",
        "        dispersion = [self.np_random.uniform(-1.0, +1.0) / SCALE for _ in range(2)]\n",
        "\n",
        "        m_power = 0.0\n",
        "        if (self.continuous and action[0] > 0.0) or (\n",
        "            not self.continuous and action == 2\n",
        "        ):\n",
        "            # Main engine\n",
        "            if self.continuous:\n",
        "                m_power = (np.clip(action[0], 0.0, 1.0) + 1.0) * 0.5  # 0.5..1.0\n",
        "                assert m_power >= 0.5 and m_power <= 1.0\n",
        "            else:\n",
        "                m_power = 1.0\n",
        "            ox = (\n",
        "                tip[0] * (4 / SCALE + 2 * dispersion[0]) + side[0] * dispersion[1]\n",
        "            )  # 4 is move a bit downwards, +-2 for randomness\n",
        "            oy = -tip[1] * (4 / SCALE + 2 * dispersion[0]) - side[1] * dispersion[1]\n",
        "            impulse_pos = (self.lander.position[0] + ox, self.lander.position[1] + oy)\n",
        "            p = self._create_particle(\n",
        "                3.5,  # 3.5 is here to make particle speed adequate\n",
        "                impulse_pos[0],\n",
        "                impulse_pos[1],\n",
        "                m_power,\n",
        "            )  # particles are just a decoration\n",
        "            p.ApplyLinearImpulse(\n",
        "                (ox * MAIN_ENGINE_POWER * m_power, oy * MAIN_ENGINE_POWER * m_power),\n",
        "                impulse_pos,\n",
        "                True,\n",
        "            )\n",
        "            self.lander.ApplyLinearImpulse(\n",
        "                (-ox * MAIN_ENGINE_POWER * m_power, -oy * MAIN_ENGINE_POWER * m_power),\n",
        "                impulse_pos,\n",
        "                True,\n",
        "            )\n",
        "\n",
        "        s_power = 0.0\n",
        "        if (self.continuous and np.abs(action[1]) > 0.5) or (\n",
        "            not self.continuous and action in [1, 3]\n",
        "        ):\n",
        "            # Orientation engines\n",
        "            if self.continuous:\n",
        "                direction = np.sign(action[1])\n",
        "                s_power = np.clip(np.abs(action[1]), 0.5, 1.0)\n",
        "                assert s_power >= 0.5 and s_power <= 1.0\n",
        "            else:\n",
        "                direction = action - 2\n",
        "                s_power = 1.0\n",
        "            ox = tip[0] * dispersion[0] + side[0] * (\n",
        "                3 * dispersion[1] + direction * SIDE_ENGINE_AWAY / SCALE\n",
        "            )\n",
        "            oy = -tip[1] * dispersion[0] - side[1] * (\n",
        "                3 * dispersion[1] + direction * SIDE_ENGINE_AWAY / SCALE\n",
        "            )\n",
        "            impulse_pos = (\n",
        "                self.lander.position[0] + ox - tip[0] * 17 / SCALE,\n",
        "                self.lander.position[1] + oy + tip[1] * SIDE_ENGINE_HEIGHT / SCALE,\n",
        "            )\n",
        "            p = self._create_particle(0.7, impulse_pos[0], impulse_pos[1], s_power)\n",
        "            p.ApplyLinearImpulse(\n",
        "                (ox * SIDE_ENGINE_POWER * s_power, oy * SIDE_ENGINE_POWER * s_power),\n",
        "                impulse_pos,\n",
        "                True,\n",
        "            )\n",
        "            self.lander.ApplyLinearImpulse(\n",
        "                (-ox * SIDE_ENGINE_POWER * s_power, -oy * SIDE_ENGINE_POWER * s_power),\n",
        "                impulse_pos,\n",
        "                True,\n",
        "            )\n",
        "\n",
        "        self.world.Step(1.0 / FPS, 6 * 30, 2 * 30)\n",
        "\n",
        "        pos = self.lander.position\n",
        "        vel = self.lander.linearVelocity\n",
        "        state = [\n",
        "            (pos.x - VIEWPORT_W / SCALE / 2) / (VIEWPORT_W / SCALE / 2), # 0: x position\n",
        "            (pos.y - (self.helipad_y + LEG_DOWN / SCALE)) / (VIEWPORT_H / SCALE / 2), # 1: y position\n",
        "            vel.x * (VIEWPORT_W / SCALE / 2) / FPS, # 2\n",
        "            vel.y * (VIEWPORT_H / SCALE / 2) / FPS, # 3\n",
        "            self.lander.angle, # 4\n",
        "            20.0 * self.lander.angularVelocity / FPS, # 5\n",
        "            1.0 if self.legs[0].ground_contact else 0.0, # 6\n",
        "            1.0 if self.legs[1].ground_contact else 0.0, # 7\n",
        "        ]\n",
        "        assert len(state) == 8\n",
        "\n",
        "        # ----------------------------------------------------------------\n",
        "        # reward\n",
        "        reward = 0\n",
        "        shaping = (\n",
        "            # If the lander moves away from the landing pad, it loses reward\n",
        "            -100 * np.sqrt(state[0] * state[0] + state[1] * state[1]) # Euclidean distance\n",
        "            - 100 * np.sqrt(state[2] * state[2] + state[3] * state[3])\n",
        "\n",
        "            - 100 * abs(state[4])\n",
        "            # Each leg with ground contact is +10 points.\n",
        "            + 10 * state[6]\n",
        "            + 10 * state[7]\n",
        "        )  # And ten points for legs contact, the idea is if you\n",
        "        # lose contact again after landing, you get negative reward\n",
        "        if self.prev_shaping is not None:\n",
        "            reward = shaping - self.prev_shaping\n",
        "        self.prev_shaping = shaping\n",
        "\n",
        "        # Firing the main engine is -0.3 points each frame. \n",
        "        reward -= (\n",
        "            m_power * 0.30\n",
        "        )  # less fuel spent is better, about -30 for heuristic landing\n",
        "        # Firing the side engine is -0.03 points each frame.\n",
        "        reward -= s_power * 0.03\n",
        "\n",
        "        done = False\n",
        "        if self.game_over or abs(state[0]) >= 1.0: # crashed?\n",
        "            done = True\n",
        "            reward = -100\n",
        "        if not self.lander.awake and (np.sqrt(state[0] * state[0] + state[1] * state[1]) == 0) and (np.sqrt(state[2] * state[2] + state[3] * state[3])==0): # rest\n",
        "            done = True\n",
        "            reward = +200\n",
        "        return np.array(state, dtype=np.float32), reward, done, {}\n",
        "        # ----------------------------------------------------------------\n",
        "\n",
        "\n",
        "\n",
        "    \n",
        "  # def reset(self):\n",
        "  #     pass  # reward, done, info can't be included\n",
        "\n",
        "  # def render(self, mode='human'):\n",
        "  #     pass\n",
        "\n",
        "  # def close(self):\n",
        "  #     pass"
      ],
      "metadata": {
        "id": "0DW6wn84SBWf"
      },
      "execution_count": 9,
      "outputs": []
    },
    {
      "cell_type": "markdown",
      "source": [
        "##### noisy observations"
      ],
      "metadata": {
        "id": "UboymNjfCt9q"
      }
    },
    {
      "cell_type": "code",
      "source": [
        "from itertools import zip_longest\n",
        "from typing import Dict, List, Tuple, Type, Union\n",
        "\n",
        "import torch as th\n",
        "from torch import nn\n",
        "\n",
        "from stable_baselines3.common.preprocessing import get_flattened_obs_dim, is_image_space\n",
        "from stable_baselines3.common.type_aliases import TensorDict\n",
        "from stable_baselines3.common.utils import get_device\n",
        "\n",
        "\n",
        "class BaseFeaturesExtractor(nn.Module):\n",
        "    \"\"\"\n",
        "    Base class that represents a features extractor.\n",
        "    :param observation_space:\n",
        "    :param features_dim: Number of features extracted.\n",
        "    \"\"\"\n",
        "\n",
        "    def __init__(self, observation_space: gym.Space, features_dim: int = 0):\n",
        "        super().__init__()\n",
        "        assert features_dim > 0\n",
        "        self._observation_space = observation_space\n",
        "        self._features_dim = features_dim\n",
        "\n",
        "    @property\n",
        "    def features_dim(self) -> int:\n",
        "        return self._features_dim\n",
        "\n",
        "    def forward(self, observations: th.Tensor) -> th.Tensor:\n",
        "        raise NotImplementedError()\n",
        "\n",
        "\n",
        "class NoisyLunarLander(BaseFeaturesExtractor):\n",
        "    \"\"\"\n",
        "    Feature extract that adds noise to the input.\n",
        "    :param observation_space:\n",
        "    \"\"\"\n",
        "\n",
        "    def __init__(self, observation_space: gym.Space):\n",
        "        super().__init__(observation_space, get_flattened_obs_dim(observation_space))\n",
        "        self.flatten = nn.Flatten()\n",
        "\n",
        "    def forward(self, observations: th.Tensor) -> th.Tensor:\n",
        "        # add noise to observations (excluding leg contact)\n",
        "        #print('Adding input noise:')      \n",
        "        input_noise = torch.zeros(size=observations.shape, device='cuda')\n",
        "        input_noise[:,:6]= torch.normal(mean=0.0, std=0.005, size=(1,6), device='cuda')\n",
        "        #print(input_noise)\n",
        "        #print(input_noise.shape)\n",
        "        #print('Observations:')\n",
        "        #print(self.flatten(observations))\n",
        "        return_array = self.flatten(observations)  + input_noise\n",
        "        #print(\"Check noise added:\")\n",
        "        #print(return_array-self.flatten(observations))\n",
        "\n",
        "        return return_array\n"
      ],
      "metadata": {
        "id": "KRFgQSPYC3Xy"
      },
      "execution_count": 10,
      "outputs": []
    },
    {
      "cell_type": "markdown",
      "source": [
        "##### with obstacle and new reward"
      ],
      "metadata": {
        "id": "hU5fazVEArJ4"
      }
    },
    {
      "cell_type": "code",
      "source": [
        "class ContactDetector(contactListener):\n",
        "    def __init__(self, env):\n",
        "        contactListener.__init__(self)\n",
        "        self.env = env\n",
        "\n",
        "    def BeginContact(self, contact):\n",
        "        if (\n",
        "                self.env.lander == contact.fixtureA.body\n",
        "                or self.env.lander == contact.fixtureB.body\n",
        "        ):\n",
        "            self.env.game_over = True\n",
        "        for i in range(2):\n",
        "            if self.env.legs[i] in [contact.fixtureA.body, contact.fixtureB.body]:\n",
        "                self.env.legs[i].ground_contact = True\n",
        "\n",
        "    def EndContact(self, contact):\n",
        "        for i in range(2):\n",
        "            if self.env.legs[i] in [contact.fixtureA.body, contact.fixtureB.body]:\n",
        "                self.env.legs[i].ground_contact = False\n",
        "\n",
        "class Custom_LunarLander_obs(LunarLander):\n",
        "    metadata = {\"render.modes\": [\"human\", \"rgb_array\"], \"video.frames_per_second\": FPS}\n",
        "    continuous = False\n",
        "\n",
        "    def __init__(\n",
        "        self,\n",
        "        enable_wind: bool = False,\n",
        "        wind_power: float = 15.0,\n",
        "        obs_coords = [10, 10],\n",
        "        enable_obstacle: bool = True\n",
        "    ):\n",
        "        LunarLander.__init__(self)\n",
        "\n",
        "        self.enable_wind = enable_wind\n",
        "\n",
        "        self.obs_coords = obs_coords\n",
        "        self.enable_obstacle = enable_obstacle\n",
        "        self.wind_power = wind_power\n",
        "\n",
        "        self.wind_idx = np.random.randint(-9999, 9999)\n",
        "\n",
        "        # defining the polygon obstacle here:\n",
        "        vertices_poly = [(5, 5), (5, 2), (2, 2), (2, 5)]  # may need to change later\n",
        "        # self.obstacle = self.world.CreateStaticBody(\n",
        "        #\n",
        "        #     # shapes=polygonShape(centroid=(self.obs_coords[0] + VIEWPORT_W / 2 / SCALE,\n",
        "        #     #                         self.obs_coords[1] + (self.helipad_y + LEG_DOWN / SCALE)),\n",
        "        #     #                    vertices= [(x / SCALE, y / SCALE) for x, y in vertices_poly]),\n",
        "        #     shapes=circleShape(pos=(self.obs_coords[0] + VIEWPORT_W / 2 / SCALE,\n",
        "        #                             self.obs_coords[1] + (self.helipad_y + LEG_DOWN / SCALE)),\n",
        "        #                        radius=2),\n",
        "        #                         categoryBits=0x1000,\n",
        "        #\n",
        "        # )\n",
        "        self.obstacle = self.world.CreateStaticBody(\n",
        "            position=(self.obs_coords[0], self.obs_coords[1]),\n",
        "            # (self.obs_coords[0] + VIEWPORT_W / 2 / SCALE,\n",
        "            # self.obs_coords[1] + (self.helipad_y + LEG_DOWN / SCALE))\n",
        "            angle=0.0,\n",
        "            fixtures=fixtureDef(\n",
        "                #circleShape(radius=2 / SCALE, pos=(0, 0)),\n",
        "                shape=circleShape(radius=20 / SCALE, \n",
        "                                  pos=(self.obs_coords[0],\n",
        "                                       self.obs_coords[1])),\n",
        "                # density=5.0,\n",
        "                # friction=0.1,\n",
        "                # categoryBits=0x0010,\n",
        "                # # maskBits=0x001,  # collide only with ground\n",
        "                # restitution=0.0,\n",
        "            ),  # 0.99 bouncy\n",
        "        )\n",
        "\n",
        "        self.obstacle.color1 = (0.5, 0.4, 0.9)\n",
        "        self.obstacle.color2 = (1, 1, 1)\n",
        "        # self.obstacle.alpha = 0.8  \n",
        "\n",
        "        self.observation_space = spaces.Box(\n",
        "            -np.inf, np.inf, shape=(8,), dtype=np.float32\n",
        "        )   \n",
        "\n",
        "    def reset(self):\n",
        "        self._destroy()\n",
        "        self.world.contactListener_keepref = ContactDetector(self)\n",
        "        self.world.contactListener = self.world.contactListener_keepref\n",
        "        self.game_over = False\n",
        "        self.prev_shaping = None\n",
        "\n",
        "        W = VIEWPORT_W / SCALE\n",
        "        H = VIEWPORT_H / SCALE\n",
        "\n",
        "        # terrain\n",
        "        CHUNKS = 11\n",
        "        height = self.np_random.uniform(0, H / 2, size=(CHUNKS + 1,))\n",
        "        chunk_x = [W / (CHUNKS - 1) * i for i in range(CHUNKS)]\n",
        "        self.helipad_x1 = chunk_x[CHUNKS // 2 - 1]\n",
        "        self.helipad_x2 = chunk_x[CHUNKS // 2 + 1]\n",
        "        self.helipad_y = H / 4\n",
        "        height[CHUNKS // 2 - 2] = self.helipad_y\n",
        "        height[CHUNKS // 2 - 1] = self.helipad_y\n",
        "        height[CHUNKS // 2 + 0] = self.helipad_y\n",
        "        height[CHUNKS // 2 + 1] = self.helipad_y\n",
        "        height[CHUNKS // 2 + 2] = self.helipad_y\n",
        "        smooth_y = [\n",
        "            0.33 * (height[i - 1] + height[i + 0] + height[i + 1])\n",
        "            for i in range(CHUNKS)\n",
        "        ]\n",
        "\n",
        "        self.moon = self.world.CreateStaticBody(\n",
        "            shapes=edgeShape(vertices=[(0, 0), (W, 0)])\n",
        "        )\n",
        "\n",
        "        # defining the polygon obstacle here----------------------------------\n",
        "        vertices_poly = [(5, 5), (5, 2), (2, 2), (2, 5)]  # may need to change later\n",
        "        # self.obstacle = self.world.CreateStaticBody(\n",
        "        #\n",
        "        #     # shapes=polygonShape(centroid=(self.obs_coords[0] + VIEWPORT_W / 2 / SCALE,\n",
        "        #     #                         self.obs_coords[1] + (self.helipad_y + LEG_DOWN / SCALE)),\n",
        "        #     #                    vertices= [(x / SCALE, y / SCALE) for x, y in vertices_poly]),\n",
        "        #     shapes=circleShape(pos=(self.obs_coords[0] + VIEWPORT_W / 2 / SCALE,\n",
        "        #                             self.obs_coords[1] + (self.helipad_y + LEG_DOWN / SCALE)),\n",
        "        #                        radius=2),\n",
        "        #                         categoryBits=0x1000,\n",
        "        #\n",
        "        # )\n",
        "        self.obstacle = self.world.CreateStaticBody(\n",
        "            position=(self.obs_coords[0], self.obs_coords[1]),\n",
        "            # (self.obs_coords[0] + VIEWPORT_W / 2 / SCALE,\n",
        "            # self.obs_coords[1] + (self.helipad_y + LEG_DOWN / SCALE))\n",
        "            angle=0.0,\n",
        "            fixtures=fixtureDef(\n",
        "                #circleShape(radius=2 / SCALE, pos=(0, 0)),\n",
        "                shape=circleShape(radius=20 / SCALE, \n",
        "                                  pos=(self.obs_coords[0],\n",
        "                                       self.obs_coords[1])),\n",
        "                # density=5.0,\n",
        "                # friction=0.1,\n",
        "                # categoryBits=0x0010,\n",
        "                # # maskBits=0x001,  # collide only with ground\n",
        "                # restitution=0.0,\n",
        "            ),  # 0.99 bouncy\n",
        "        )\n",
        "\n",
        "        self.obstacle.color1 = (0.5, 0.4, 0.9)\n",
        "        self.obstacle.color2 = (1, 1, 1)\n",
        "        # self.obstacle.alpha = 0.8\n",
        "        # ----------------------------------------------------------------\n",
        "\n",
        "        self.sky_polys = []\n",
        "        for i in range(CHUNKS - 1):\n",
        "            p1 = (chunk_x[i], smooth_y[i])\n",
        "            p2 = (chunk_x[i + 1], smooth_y[i + 1])\n",
        "            self.moon.CreateEdgeFixture(vertices=[p1, p2], density=0, friction=0.1)\n",
        "            self.sky_polys.append([p1, p2, (p2[0], H), (p1[0], H)])\n",
        "\n",
        "        self.moon.color1 = (0.0, 0.0, 0.0)\n",
        "        self.moon.color2 = (0.0, 0.0, 0.0)\n",
        "\n",
        "        initial_y = VIEWPORT_H / SCALE\n",
        "        self.lander = self.world.CreateDynamicBody(\n",
        "            position=(VIEWPORT_W / SCALE / 2, initial_y),\n",
        "            angle=0.0,\n",
        "            fixtures=fixtureDef(\n",
        "                shape=polygonShape(\n",
        "                    vertices=[(x / SCALE, y / SCALE) for x, y in LANDER_POLY]\n",
        "                ),\n",
        "                density=5.0,\n",
        "                friction=0.1,\n",
        "                categoryBits=0x0010,\n",
        "                maskBits=0x001,  # collide only with ground\n",
        "                restitution=0.0,\n",
        "            ),  # 0.99 bouncy\n",
        "        )\n",
        "        self.lander.color1 = (0.5, 0.4, 0.9)\n",
        "        self.lander.color2 = (0.3, 0.3, 0.5)\n",
        "        self.lander.ApplyForceToCenter(\n",
        "            (\n",
        "                self.np_random.uniform(-INITIAL_RANDOM, INITIAL_RANDOM),\n",
        "                self.np_random.uniform(-INITIAL_RANDOM, INITIAL_RANDOM),\n",
        "            ),\n",
        "            True,\n",
        "        )\n",
        "\n",
        "        self.legs = []\n",
        "        for i in [-1, +1]:\n",
        "            leg = self.world.CreateDynamicBody(\n",
        "                position=(VIEWPORT_W / SCALE / 2 - i * LEG_AWAY / SCALE, initial_y),\n",
        "                angle=(i * 0.05),\n",
        "                fixtures=fixtureDef(\n",
        "                    shape=polygonShape(box=(LEG_W / SCALE, LEG_H / SCALE)),\n",
        "                    density=1.0,\n",
        "                    restitution=0.0,\n",
        "                    categoryBits=0x0020,\n",
        "                    maskBits=0x001,\n",
        "                ),\n",
        "            )\n",
        "            leg.ground_contact = False\n",
        "            leg.color1 = (0.5, 0.4, 0.9)\n",
        "            leg.color2 = (0.3, 0.3, 0.5)\n",
        "            rjd = revoluteJointDef(\n",
        "                bodyA=self.lander,\n",
        "                bodyB=leg,\n",
        "                localAnchorA=(0, 0),\n",
        "                localAnchorB=(i * LEG_AWAY / SCALE, LEG_DOWN / SCALE),\n",
        "                enableMotor=True,\n",
        "                enableLimit=True,\n",
        "                maxMotorTorque=LEG_SPRING_TORQUE,\n",
        "                motorSpeed=+0.3 * i,  # low enough not to jump back into the sky\n",
        "            )\n",
        "            if i == -1:\n",
        "                rjd.lowerAngle = (\n",
        "                        +0.9 - 0.5\n",
        "                )  # The most esoteric numbers here, angled legs have freedom to travel within\n",
        "                rjd.upperAngle = +0.9\n",
        "            else:\n",
        "                rjd.lowerAngle = -0.9\n",
        "                rjd.upperAngle = -0.9 + 0.5\n",
        "            leg.joint = self.world.CreateJoint(rjd)\n",
        "            self.legs.append(leg)\n",
        "\n",
        "        self.drawlist = [self.lander] + self.legs\n",
        "        \n",
        "\n",
        "        return self.step(np.array([0, 0]) if self.continuous else 0)[0]\n",
        "\n",
        "    def step(self, action):\n",
        "        if self.continuous:\n",
        "            action = np.clip(action, -1, +1).astype(np.float32)\n",
        "        else:\n",
        "            assert self.action_space.contains(action), \"%r (%s) invalid \" % (\n",
        "                action,\n",
        "                type(action),\n",
        "            )\n",
        "\n",
        "        # Engines\n",
        "        tip = (math.sin(self.lander.angle), math.cos(self.lander.angle))\n",
        "        side = (-tip[1], tip[0])\n",
        "        dispersion = [self.np_random.uniform(-1.0, +1.0) / SCALE for _ in range(2)]\n",
        "\n",
        "        m_power = 0.0\n",
        "        if (self.continuous and action[0] > 0.0) or (\n",
        "            not self.continuous and action == 2\n",
        "        ):\n",
        "            # Main engine\n",
        "            if self.continuous:\n",
        "                m_power = (np.clip(action[0], 0.0, 1.0) + 1.0) * 0.5  # 0.5..1.0\n",
        "                assert m_power >= 0.5 and m_power <= 1.0\n",
        "            else:\n",
        "                m_power = 1.0\n",
        "            ox = (\n",
        "                tip[0] * (4 / SCALE + 2 * dispersion[0]) + side[0] * dispersion[1]\n",
        "            )  # 4 is move a bit downwards, +-2 for randomness\n",
        "            oy = -tip[1] * (4 / SCALE + 2 * dispersion[0]) - side[1] * dispersion[1]\n",
        "            impulse_pos = (self.lander.position[0] + ox, self.lander.position[1] + oy)\n",
        "            p = self._create_particle(\n",
        "                3.5,  # 3.5 is here to make particle speed adequate\n",
        "                impulse_pos[0],\n",
        "                impulse_pos[1],\n",
        "                m_power,\n",
        "            )  # particles are just a decoration\n",
        "            p.ApplyLinearImpulse(\n",
        "                (ox * MAIN_ENGINE_POWER * m_power, oy * MAIN_ENGINE_POWER * m_power),\n",
        "                impulse_pos,\n",
        "                True,\n",
        "            )\n",
        "            self.lander.ApplyLinearImpulse(\n",
        "                (-ox * MAIN_ENGINE_POWER * m_power, -oy * MAIN_ENGINE_POWER * m_power),\n",
        "                impulse_pos,\n",
        "                True,\n",
        "            )\n",
        "\n",
        "        s_power = 0.0\n",
        "        if (self.continuous and np.abs(action[1]) > 0.5) or (\n",
        "            not self.continuous and action in [1, 3]\n",
        "        ):\n",
        "            # Orientation engines\n",
        "            if self.continuous:\n",
        "                direction = np.sign(action[1])\n",
        "                s_power = np.clip(np.abs(action[1]), 0.5, 1.0)\n",
        "                assert s_power >= 0.5 and s_power <= 1.0\n",
        "            else:\n",
        "                direction = action - 2\n",
        "                s_power = 1.0\n",
        "            ox = tip[0] * dispersion[0] + side[0] * (\n",
        "                3 * dispersion[1] + direction * SIDE_ENGINE_AWAY / SCALE\n",
        "            )\n",
        "            oy = -tip[1] * dispersion[0] - side[1] * (\n",
        "                3 * dispersion[1] + direction * SIDE_ENGINE_AWAY / SCALE\n",
        "            )\n",
        "            impulse_pos = (\n",
        "                self.lander.position[0] + ox - tip[0] * 17 / SCALE,\n",
        "                self.lander.position[1] + oy + tip[1] * SIDE_ENGINE_HEIGHT / SCALE,\n",
        "            )\n",
        "            p = self._create_particle(0.7, impulse_pos[0], impulse_pos[1], s_power)\n",
        "            p.ApplyLinearImpulse(\n",
        "                (ox * SIDE_ENGINE_POWER * s_power, oy * SIDE_ENGINE_POWER * s_power),\n",
        "                impulse_pos,\n",
        "                True,\n",
        "            )\n",
        "            self.lander.ApplyLinearImpulse(\n",
        "                (-ox * SIDE_ENGINE_POWER * s_power, -oy * SIDE_ENGINE_POWER * s_power),\n",
        "                impulse_pos,\n",
        "                True,\n",
        "            )\n",
        "\n",
        "        self.world.Step(1.0 / FPS, 6 * 30, 2 * 30)\n",
        "\n",
        "        pos = self.lander.position\n",
        "        # print([pos.x,pos.y])\n",
        "        vel = self.lander.linearVelocity\n",
        "        # print([vel.x,vel.y])\n",
        "        state = [\n",
        "            (pos.x - VIEWPORT_W / SCALE / 2) / (VIEWPORT_W / SCALE / 2), # 0: x position\n",
        "            (pos.y - (self.helipad_y + LEG_DOWN / SCALE)) / (VIEWPORT_H / SCALE / 2), # 1: y position\n",
        "            vel.x * (VIEWPORT_W / SCALE / 2) / FPS, # 2\n",
        "            vel.y * (VIEWPORT_H / SCALE / 2) / FPS, # 3\n",
        "            self.lander.angle, # 4\n",
        "            20.0 * self.lander.angularVelocity / FPS, # 5\n",
        "            1.0 if self.legs[0].ground_contact else 0.0, # 6\n",
        "            1.0 if self.legs[1].ground_contact else 0.0, # 7\n",
        "        ]\n",
        "        assert len(state) == 8\n",
        "\n",
        "        state_8 = (pos.x - self.obs_coords[0] / SCALE) / (VIEWPORT_W / SCALE / 2) # 8: x position\n",
        "        state_9 = (pos.y - self.obs_coords[1] / SCALE) / (VIEWPORT_H / SCALE / 2) # 9: y position\n",
        "        # ----------------------------------------------------------------\n",
        "        # reward\n",
        "        # distance_to_obstacle = np.sqrt((pos.x - (self.obs_coords[0] +\n",
        "        #                                     VIEWPORT_W / SCALE / 2)) ** 2 +\n",
        "        #                         (pos.y - (self.obs_coords[1] +\n",
        "\n",
        "        #                                   (self.helipad_y + LEG_DOWN / SCALE))) ** 2)\n",
        "        distance_to_obstacle = np.sqrt(state_8 * state_8 + state_9 * state_9)\n",
        "        # print((distance_to_obstacle <= (20 / SCALE)))\n",
        "        # if (distance_to_obstacle <= (1)):\n",
        "        #     print('dangerously close to obstacle!')\n",
        "\n",
        "        reward = 0\n",
        "        shaping = (\n",
        "            # If the lander moves away from the landing pad, it loses reward\n",
        "            - 125 * np.sqrt(state[0] * state[0] + state[1] * state[1]) # Euclidean distance\n",
        "            - -75 * np.sqrt(state[2] * state[2] + state[3] * state[3])\n",
        "\n",
        "            - 100 * abs(state[4])\n",
        "            # Each leg with ground contact is +10 points.\n",
        "            + 10 * state[6]\n",
        "            + 10 * state[7]\n",
        "            - 75 * (distance_to_obstacle <= (20 / SCALE)) # obstacles \n",
        "        )  # And ten points for legs contact, the idea is if you\n",
        "        # lose contact again after landing, you get negative reward\n",
        "        if self.prev_shaping is not None:\n",
        "            reward = shaping - self.prev_shaping\n",
        "        self.prev_shaping = shaping\n",
        "\n",
        "        # Firing the main engine is -0.3 points each frame. \n",
        "        reward -= (\n",
        "            m_power * 0.30\n",
        "        )  # less fuel spent is better, about -30 for heuristic landing\n",
        "        # Firing the side engine is -0.03 points each frame.\n",
        "        reward -= s_power * 0.03\n",
        "\n",
        "        done = False\n",
        "        if self.game_over or abs(state[0]) >= 1.0: # crashed?\n",
        "            done = True\n",
        "            reward = -100\n",
        "        if not self.lander.awake and (np.sqrt(state[0] * state[0] + state[1] * state[1]) == 0) and (np.sqrt(state[2] * state[2] + state[3] * state[3])==0): # rest\n",
        "            done = True\n",
        "            reward = +200\n",
        "\n",
        "        return np.array(state, dtype=np.float32), reward, done, {}\n",
        "        # ----------------------------------------------------------------\n",
        "\n",
        "\n",
        "    def render(self, mode=\"human\"):\n",
        "        from gym.envs.classic_control import rendering\n",
        "\n",
        "        if self.viewer is None:\n",
        "            self.viewer = rendering.Viewer(VIEWPORT_W, VIEWPORT_H)\n",
        "            self.viewer.set_bounds(0, VIEWPORT_W / SCALE, 0, VIEWPORT_H / SCALE)\n",
        "\n",
        "        for obj in self.particles:\n",
        "            obj.ttl -= 0.15\n",
        "            obj.color1 = (\n",
        "                max(0.2, 0.2 + obj.ttl),\n",
        "                max(0.2, 0.5 * obj.ttl),\n",
        "                max(0.2, 0.5 * obj.ttl),\n",
        "            )\n",
        "            obj.color2 = (\n",
        "                max(0.2, 0.2 + obj.ttl),\n",
        "                max(0.2, 0.5 * obj.ttl),\n",
        "                max(0.2, 0.5 * obj.ttl),\n",
        "            )\n",
        "\n",
        "        self._clean_particles(False)\n",
        "        # print('drawlist')\n",
        "        # print(self.drawlist)\n",
        "        for p in self.sky_polys:\n",
        "            self.viewer.draw_polygon(p, color=(0, 0, 0))\n",
        "        # editing below line to draw obstacle\n",
        "        for obj in self.particles + self.drawlist:\n",
        "            for f in obj.fixtures:\n",
        "                trans = f.body.transform\n",
        "                if type(f.shape) is circleShape:\n",
        "                    t = rendering.Transform(translation=trans * f.shape.pos)\n",
        "                    self.viewer.draw_circle(\n",
        "                        f.shape.radius, 20, color=obj.color1, filled=True\n",
        "                    ).add_attr(t)\n",
        "                    self.viewer.draw_circle(\n",
        "                        f.shape.radius, 20, color=obj.color2, filled=False, linewidth=2\n",
        "                    ).add_attr(t)\n",
        "                    # t = rendering.Transform((100, 100))  # Position\n",
        "                    # self.viewer.draw_circle(20).add_attr(t)  # Add transform for position\n",
        "                    # self.viewer.render()\n",
        "                else:\n",
        "                    path = [trans * v for v in f.shape.vertices]\n",
        "                    # print('poly shape in object fixtures')\n",
        "                    # print(f)\n",
        "                    self.viewer.draw_polygon(path, color=obj.color1)\n",
        "                    path.append(path[0])\n",
        "                    self.viewer.draw_polyline(path, color=obj.color2, linewidth=2)\n",
        "\n",
        "        for obj2 in [self.obstacle]:\n",
        "            # print('rendering obstacle')\n",
        "            # print(obj2)\n",
        "            for f in obj2.fixtures:\n",
        "                trans = f.body.transform\n",
        "                if type(f.shape) is circleShape:\n",
        "                    # print('printing circle of radius')\n",
        "                    #t = rendering.Transform(translation=trans * f.shape.pos)\n",
        "                    t = rendering.Transform((self.obs_coords[0], self.obs_coords[1]))\n",
        "                    # print(f.shape.radius)\n",
        "                    self.viewer.draw_circle(\n",
        "                        f.shape.radius, 20, color=obj2.color1, filled=True\n",
        "                    ).add_attr(t)\n",
        "                    self.viewer.draw_circle(\n",
        "                        f.shape.radius, 20, color=obj2.color2, filled=False, linewidth=2\n",
        "                    ).add_attr(t)\n",
        "                    # t = rendering.Transform((10, 10))  # Position\n",
        "                    # self.viewer.draw_circle(2).add_attr(t)  # Add transform for position\n",
        "                    # self.viewer.render()\n",
        "                else:\n",
        "                    path = [trans * v for v in f.shape.vertices]\n",
        "                    # print('poly shape in object fixtures')\n",
        "                    # print(f)\n",
        "                    self.viewer.draw_polygon(path, color=obj2.color1)\n",
        "                    path.append(path[0])\n",
        "                    self.viewer.draw_polyline(path, color=obj2.color2, linewidth=2)\n",
        "\n",
        "        for x in [self.helipad_x1, self.helipad_x2]:\n",
        "            flagy1 = self.helipad_y\n",
        "            flagy2 = flagy1 + 50 / SCALE\n",
        "            self.viewer.draw_polyline([(x, flagy1), (x, flagy2)], color=(1, 1, 1))\n",
        "            self.viewer.draw_polygon(\n",
        "                [\n",
        "                    (x, flagy2),\n",
        "                    (x, flagy2 - 10 / SCALE),\n",
        "                    (x + 25 / SCALE, flagy2 - 5 / SCALE),\n",
        "                ],\n",
        "                color=(0.8, 0.8, 0),\n",
        "            )\n",
        "\n",
        "        return self.viewer.render(return_rgb_array=mode == \"rgb_array\")\n",
        "\n",
        "\n",
        "    \n",
        "  # def reset(self):\n",
        "  #     pass  # reward, done, info can't be included\n",
        "\n",
        "  # def render(self, mode='human'):\n",
        "  #     pass\n",
        "\n",
        "  # def close(self):\n",
        "  #     pass"
      ],
      "metadata": {
        "id": "7Nxu5rsZ4MH1"
      },
      "execution_count": 11,
      "outputs": []
    },
    {
      "cell_type": "markdown",
      "source": [
        "#### register environment"
      ],
      "metadata": {
        "id": "DzZ83S3UzBYc"
      }
    },
    {
      "cell_type": "markdown",
      "source": [
        "###### register baseline anv"
      ],
      "metadata": {
        "id": "8SD7DX6hoX7P"
      }
    },
    {
      "cell_type": "code",
      "source": [
        "new_env = Custom_LunarLander_reward()\n",
        "new_env"
      ],
      "metadata": {
        "colab": {
          "base_uri": "https://localhost:8080/"
        },
        "outputId": "fe708bbd-b610-43f3-a14d-21ac39558b59",
        "id": "mAGafux6oX7P"
      },
      "execution_count": 12,
      "outputs": [
        {
          "output_type": "execute_result",
          "data": {
            "text/plain": [
              "<__main__.Custom_LunarLander_reward at 0x7f2802522150>"
            ]
          },
          "metadata": {},
          "execution_count": 12
        }
      ]
    },
    {
      "cell_type": "code",
      "source": [
        "from stable_baselines3.common.env_checker import check_env\n",
        "check_env(new_env)"
      ],
      "metadata": {
        "id": "PkBL7IZQoX7P"
      },
      "execution_count": 13,
      "outputs": []
    },
    {
      "cell_type": "code",
      "source": [
        "from gym.envs.registration import register\n",
        "# Example for the CartPole environment\n",
        "register(\n",
        "    # unique identifier for the env `name-version`\n",
        "    id=\"LunarLander-v3\",\n",
        "    # path to the class for creating the env\n",
        "    # Note: entry_point also accept a class as input (and not only a string)\n",
        "    entry_point= Custom_LunarLander_reward,\n",
        "    # Max number of steps per episode, using a `TimeLimitWrapper`\n",
        "    max_episode_steps=1500,\n",
        ")"
      ],
      "metadata": {
        "id": "WvFoF2FdoX7P"
      },
      "execution_count": 14,
      "outputs": []
    },
    {
      "cell_type": "markdown",
      "source": [
        "###### register obstacle anv"
      ],
      "metadata": {
        "id": "YJkdBNEHiLle"
      }
    },
    {
      "cell_type": "markdown",
      "source": [
        "check environment"
      ],
      "metadata": {
        "id": "xGf0_9im0Y3R"
      }
    },
    {
      "cell_type": "code",
      "source": [
        "new_env = Custom_LunarLander_obs()\n",
        "new_env"
      ],
      "metadata": {
        "colab": {
          "base_uri": "https://localhost:8080/"
        },
        "id": "GdKLT2SiGCiV",
        "outputId": "55514d81-651f-4069-cde8-d7bf2c9251d5"
      },
      "execution_count": 15,
      "outputs": [
        {
          "output_type": "execute_result",
          "data": {
            "text/plain": [
              "<__main__.Custom_LunarLander_obs at 0x7f2802499690>"
            ]
          },
          "metadata": {},
          "execution_count": 15
        }
      ]
    },
    {
      "cell_type": "code",
      "source": [
        "check_env(new_env)"
      ],
      "metadata": {
        "id": "kG6IM6zW2IPm"
      },
      "execution_count": 16,
      "outputs": []
    },
    {
      "cell_type": "code",
      "source": [
        "from gym.envs.registration import register\n",
        "# Example for the CartPole environment\n",
        "register(\n",
        "    # unique identifier for the env `name-version`\n",
        "    id=\"LunarLander_obs-v1\",\n",
        "    # path to the class for creating the env\n",
        "    # Note: entry_point also accept a class as input (and not only a string)\n",
        "    entry_point = Custom_LunarLander_obs,\n",
        "    # Max number of steps per episode, using a `TimeLimitWrapper`\n",
        "    max_episode_steps=1500,\n",
        ")"
      ],
      "metadata": {
        "id": "C1cIXPTaJsQG"
      },
      "execution_count": 17,
      "outputs": []
    },
    {
      "cell_type": "markdown",
      "source": [
        "#### define and train model in new env"
      ],
      "metadata": {
        "id": "KdG01o1IzxGG"
      }
    },
    {
      "cell_type": "code",
      "source": [
        "TIMESTEPS = 100000\n",
        "\n",
        "nn_layers = [256,256] #This is the configuration of your neural network. Currently, we have two layers, each consisting of 64 neurons.\n",
        "                    #If you want three layers with 64 neurons each, set the value to [64,64,64] and so on.\n",
        "\n",
        "learning_rate = 0.00064 #This is the step-size with which the gradient descent is carried out.\n",
        "                      #Tip: Use smaller step-sizes for larger networks."
      ],
      "metadata": {
        "id": "PT_TwXozq-GU"
      },
      "execution_count": 18,
      "outputs": []
    },
    {
      "cell_type": "markdown",
      "source": [
        "##### model for baseline env"
      ],
      "metadata": {
        "id": "0EfzaHwhoxTb"
      }
    },
    {
      "cell_type": "code",
      "execution_count": 19,
      "metadata": {
        "execution": {},
        "id": "5J0MmqyPzq9q"
      },
      "outputs": [],
      "source": [
        "log_dir1 = drive_path+\"baseline/\" #\"models\"\n",
        "\n",
        "\n",
        "model_log_dir = log_dir1+'dqn_{}'.format(0)+'/'\n",
        "os.makedirs(model_log_dir,exist_ok=True) \n",
        "  # Create environment\n",
        "env = gym.make('LunarLander-v2')\n",
        "env = stable_baselines3.common.monitor.Monitor(env, filename= model_log_dir)\n",
        "callback = EvalCallback(env,log_path = model_log_dir, deterministic=True) #For evaluating the performance of the agent periodically and logging the results.\n",
        "\n",
        "\n",
        "policy_kwargs = dict(activation_fn=torch.nn.ReLU,\n",
        "                     net_arch=nn_layers)\n",
        "model1 = DQN(\"MlpPolicy\", env,policy_kwargs = policy_kwargs,\n",
        "            learning_rate=learning_rate,\n",
        "            batch_size=128,  #for simplicity, we are not doing batch update.\n",
        "            buffer_size=50000, #size of experience of replay buffer. Set to 1 as batch update is not done\n",
        "            learning_starts=0, #learning starts immediately!\n",
        "            gamma=0.99, #discount facto. range is between 0 and 1.\n",
        "            tau = 1,  #the soft update coefficient for updating the target network\n",
        "            target_update_interval=250, #update the target network immediately.\n",
        "            train_freq=4, #train the network at every step.\n",
        "            max_grad_norm = 10, #the maximum value for the gradient clipping\n",
        "            exploration_initial_eps = 1, #initial value of random action probability\n",
        "            exploration_fraction = 0.12, #fraction of entire training period over which the exploration rate is reduced\n",
        "            gradient_steps = -1, #number of gradient steps\n",
        "            seed = 1, #seed for the pseudo random generators\n",
        "            verbose=0) #Set verbose to 1 to observe training logs. We encourage you to set the verbose to 1."
      ]
    },
    {
      "cell_type": "code",
      "source": [
        "test_env = wrap_env(gym.make(\"LunarLander-v2\"))\n",
        "observation = test_env.reset()\n",
        "total_reward = 0\n",
        "while True:\n",
        "  test_env.render()\n",
        "  action, states = model1.predict(observation, deterministic=True)\n",
        "  observation, reward, done, info = test_env.step(action)\n",
        "  total_reward += reward\n",
        "  if done:\n",
        "    break;\n",
        "\n",
        "# print(total_reward)\n",
        "test_env.close()\n",
        "show_video()"
      ],
      "metadata": {
        "colab": {
          "base_uri": "https://localhost:8080/",
          "height": 422
        },
        "id": "kZMHmi-oCKLX",
        "outputId": "c4fa0307-3b90-4adf-b851-deb848f2330f"
      },
      "execution_count": 20,
      "outputs": [
        {
          "output_type": "display_data",
          "data": {
            "text/plain": [
              "<IPython.core.display.HTML object>"
            ],
            "text/html": [
              "<video alt=\"test\" autoplay\n",
              "                loop controls style=\"height: 400px;\">\n",
              "                <source src=\"data:video/mp4;base64,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\" type=\"video/mp4\" />\n",
              "             </video>"
            ]
          },
          "metadata": {}
        }
      ]
    },
    {
      "cell_type": "code",
      "source": [
        "model1.learn(total_timesteps=TIMESTEPS, log_interval=10, callback=callback)\n",
        "model1.save(model_log_dir +'dqn_{}.zip'.format(0)) \n",
        "model_path1 = log_dir1+'dqn_'+str(0)+'/'"
      ],
      "metadata": {
        "colab": {
          "base_uri": "https://localhost:8080/"
        },
        "id": "DH9vwkovCQaf",
        "outputId": "3b964520-21a8-4ae5-d152-b8c37c315dc6"
      },
      "execution_count": 21,
      "outputs": [
        {
          "output_type": "stream",
          "name": "stdout",
          "text": [
            "Eval num_timesteps=10000, episode_reward=104.92 +/- 72.65\n",
            "Episode length: 748.60 +/- 268.95\n",
            "New best mean reward!\n",
            "Eval num_timesteps=20000, episode_reward=-0.49 +/- 26.27\n",
            "Episode length: 1000.00 +/- 0.00\n",
            "Eval num_timesteps=40000, episode_reward=107.32 +/- 100.99\n",
            "Episode length: 579.20 +/- 347.66\n",
            "Eval num_timesteps=50000, episode_reward=182.23 +/- 62.68\n",
            "Episode length: 640.00 +/- 350.93\n",
            "Eval num_timesteps=60000, episode_reward=230.61 +/- 57.87\n",
            "Episode length: 580.20 +/- 295.65\n",
            "New best mean reward!\n",
            "Eval num_timesteps=70000, episode_reward=147.55 +/- 102.98\n",
            "Episode length: 730.00 +/- 295.80\n",
            "Eval num_timesteps=80000, episode_reward=223.69 +/- 97.71\n",
            "Episode length: 414.80 +/- 280.85\n",
            "Eval num_timesteps=90000, episode_reward=161.55 +/- 122.66\n",
            "Episode length: 174.40 +/- 31.05\n",
            "Eval num_timesteps=100000, episode_reward=138.81 +/- 79.18\n",
            "Episode length: 696.00 +/- 377.04\n"
          ]
        }
      ]
    },
    {
      "cell_type": "code",
      "source": [
        "new_env = wrap_env(gym.make(\"LunarLander-v2\"))\n",
        "observation = new_env.reset()\n",
        "total_reward = 0\n",
        "\n",
        "while True:\n",
        "  new_env.render()\n",
        "  action, states = model1.predict(observation, deterministic=True)\n",
        "  observation, reward, done, info = new_env.step(action)\n",
        "  total_reward += reward\n",
        "  if done:\n",
        "    break;\n",
        "\n",
        "# print(total_reward)\n",
        "new_env.close()\n",
        "show_video()"
      ],
      "metadata": {
        "colab": {
          "base_uri": "https://localhost:8080/",
          "height": 422
        },
        "id": "M63a8xiTJHJl",
        "outputId": "98794a96-e245-4550-ab26-0552b5864cbe"
      },
      "execution_count": 22,
      "outputs": [
        {
          "output_type": "display_data",
          "data": {
            "text/plain": [
              "<IPython.core.display.HTML object>"
            ],
            "text/html": [
              "<video alt=\"test\" autoplay\n",
              "                loop controls style=\"height: 400px;\">\n",
              "                <source src=\"data:video/mp4;base64,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\" type=\"video/mp4\" />\n",
              "             </video>"
            ]
          },
          "metadata": {}
        }
      ]
    },
    {
      "cell_type": "code",
      "source": [
        "x, y = ts2xy(load_results(model_path1), 'timesteps')  # Organising the logged results in to a clean format for plotting. timesteps episodes\n",
        "plt.plot(x,y)\n",
        "plt.ylim([-300, 300])\n",
        "plt.xlabel('Timesteps')\n",
        "plt.ylabel('Episode Rewards')\n",
        "plt.savefig(model_path1+'reward.png',dpi=600)"
      ],
      "metadata": {
        "colab": {
          "base_uri": "https://localhost:8080/",
          "height": 283
        },
        "id": "W_NWJn78Je_2",
        "outputId": "f139efa0-e07e-4743-cc02-d371d10e30d5"
      },
      "execution_count": 23,
      "outputs": [
        {
          "output_type": "display_data",
          "data": {
            "text/plain": [
              "<Figure size 432x288 with 1 Axes>"
            ],
            "image/png": "[encoded data removed]"
          },
          "metadata": {
            "needs_background": "light"
          }
        }
      ]
    },
    {
      "cell_type": "markdown",
      "source": [
        "##### model for noisy environment env"
      ],
      "metadata": {
        "id": "O7w0kpmGDK6Q"
      }
    }
  ],
  "metadata": {
    "accelerator": "GPU",
    "colab": {
      "collapsed_sections": [],
      "name": "sumy10000_steps100000_newreward_train",
      "provenance": [],
      "machine_shape": "hm",
      "toc_visible": true
    },
    "gpuClass": "standard",
    "kernel": {
      "display_name": "Python 3",
      "language": "python",
      "name": "python3"
    },
    "kernelspec": {
      "display_name": "Python 3",
      "name": "python3"
    },
    "language_info": {
      "name": "python"
    }
  },
  "nbformat": 4,
  "nbformat_minor": 0
}